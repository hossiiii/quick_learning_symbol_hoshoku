{
 "cells": [
  {
   "attachments": {},
   "cell_type": "markdown",
   "metadata": {
    "dotnet_interactive": {
     "language": "csharp"
    },
    "polyglot_notebook": {
     "kernelName": "csharp"
    }
   },
   "source": [
    "# 2.環境構築\n",
    "\n",
    "本書の読み進め方について解説します。\n",
    "\n",
    "## 2.1 使用言語\n",
    "\n",
    "JavaScriptを使用します。\n",
    "\n",
    "### SDK\n",
    "symbol-sdk-typescript-javascript v2.0.3  \n",
    "https://github.com/symbol/symbol-sdk-typescript-javascript\n",
    "\n",
    "上記SDKをbrowserify化したものをブラウザの開発者コンソールに読み込ませて使用します。  \n",
    "https://github.com/xembook/nem2-browserify\n",
    "\n",
    "##### 注意\n",
    "現在 symbol-sdk v3.0.0がアルファ版としてリリースされており、v 2.0.3はdeprecatedです。  \n",
    "v3ではrxjsに依存した多くの機能が削除されるため、REST APIへの直接アクセスが推奨されます。  \n",
    " \n",
    "### リファレンス\n",
    "Symbol SDK for TypeScript and JavaScript  \n",
    "https://symbol.github.io/symbol-sdk-typescript-javascript/1.0.3/\n",
    "\n",
    "Catapult REST Endpoints (1.0.3)  \n",
    "https://symbol.github.io/symbol-openapi/v1.0.3/\n",
    "\n",
    "## 2.2 サンプルソースコード\n",
    "\n",
    "### 変数宣言\n",
    "console上で何度も書き直して動作検証をして欲しいため、あえてconst宣言を行いません。  \n",
    "アプリケーション開発時はconst宣言するなどしてセキュリティを確保してください。\n",
    "\n",
    "### 出力値確認\n",
    "console.log()を変数の内容を出力します。好みに応じた出力関数に読み替えてお試しください。  \n",
    "出力内容は `>` 以下に記述しています。サンプルを実行する場合はこの部分を含まずに試してください。\n",
    "\n",
    "### 同期・非同期\n",
    "他言語に慣れた開発者の方には非同期処理の書き方に抵抗がある人もいると思うので、特に問題が無い限り非同期処理を使わずに解説します。\n",
    "\n",
    "\n",
    "### アカウント\n",
    "#### Alice\n",
    "本書では主にAliceアカウントを中心として解説します。  \n",
    "3章で作成したAliceをその後の章でも引き続き使いますので、十分なXYMを送信した状態でお読みください。\n",
    "\n",
    "#### Bob\n",
    "Aliceとの送受信用のアカウントとして各章で必要に応じて作成します。その他、マルチシグの章などでCarolなどを使用します。\n",
    "\n",
    "### 手数料\n",
    "本書で紹介するトランザクションの手数料乗数は100でトランザクションを作成します。\n",
    "\n",
    "\n",
    "## 2.3 事前準備\n",
    "ノード一覧より任意のノードのページをChromeブラウザなどで開きます。本書ではテストネットを前提として解説しています。\n",
    "\n",
    "- テストネット\n",
    "    - https://symbolnodes.org/nodes_testnet/\n",
    "- メインネット\n",
    "    - https://symbolnodes.org/nodes/\n",
    "\n",
    "F12キーを押して開発者コンソールを開き、以下のスクリプトを入力します。\n",
    "\n",
    "```js\n",
    "(script = document.createElement('script')).src = 'https://xembook.github.io/nem2-browserify/symbol-sdk-pack-2.0.3.js';\n",
    "document.getElementsByTagName('head')[0].appendChild(script);\n",
    "```\n",
    "\n",
    "続いて、ほぼすべての章で利用する共通ロジック部分を実行しておきます。\n",
    "\n",
    "```js\n",
    "NODE = window.origin; //現在開いているページのURLがここに入ります ※この部分は特定のノードURLに書き換えて実行します\n",
    "sym = require(\"/node_modules/symbol-sdk\");\n",
    "repo = new sym.RepositoryFactoryHttp(NODE);\n",
    "txRepo = repo.createTransactionRepository();\n",
    "(async() =>{\n",
    "    networkType = await repo.getNetworkType().toPromise();\n",
    "    generationHash = await repo.getGenerationHash().toPromise();\n",
    "    epochAdjustment = await repo.getEpochAdjustment().toPromise();\n",
    "})();\n",
    "\n",
    "function clog(signedTx){\n",
    "    console.log(NODE + \"/transactionStatus/\" + signedTx.hash);\n",
    "    console.log(NODE + \"/transactions/confirmed/\" + signedTx.hash);\n",
    "    console.log(\"https://symbol.fyi/transactions/\" + signedTx.hash);\n",
    "    console.log(\"https://testnet.symbol.fyi/transactions/\" + signedTx.hash);\n",
    "}\n",
    "```\n",
    "\n",
    "これで準備完了です。  \n",
    "\n",
    "本ドキュメントの内容が少し分かりにくい場合はQiita等の記事もご参考ください。\n",
    "\n",
    "[Symbolブロックチェーンのテストネットで送金を体験する](https://qiita.com/nem_takanobu/items/e2b1f0aafe7a2df0fe1b)"
   ]
  },
  {
   "attachments": {},
   "cell_type": "markdown",
   "metadata": {
    "dotnet_interactive": {
     "language": "csharp"
    },
    "polyglot_notebook": {
     "kernelName": "csharp"
    }
   },
   "source": [
    "<span style=\"color:red\">\n",
    "\n",
    "# 補足\n",
    "</span>\n",
    "\n",
    "<img width=\"800\" alt=\"スクリーンショット 2023-01-21 1 39 39\" src=\"https://user-images.githubusercontent.com/47712051/232591397-0253da66-e0a7-40ef-ac95-67c34a0880cc.png\">"
   ]
  },
  {
   "cell_type": "markdown",
   "metadata": {
    "dotnet_interactive": {
     "language": "csharp"
    },
    "polyglot_notebook": {
     "kernelName": "csharp"
    }
   },
   "source": []
  }
 ],
 "metadata": {
  "kernelspec": {
   "display_name": ".NET (C#)",
   "language": "C#",
   "name": ".net-csharp"
  },
  "polyglot_notebook": {
   "kernelInfo": {
    "defaultKernelName": "csharp",
    "items": [
     {
      "aliases": [
       "c#",
       "C#"
      ],
      "languageName": "C#",
      "name": "csharp"
     },
     {
      "aliases": [
       "frontend"
      ],
      "name": "vscode"
     },
     {
      "aliases": [],
      "name": ".NET"
     },
     {
      "aliases": [
       "f#",
       "F#"
      ],
      "languageName": "F#",
      "name": "fsharp"
     },
     {
      "aliases": [],
      "languageName": "HTML",
      "name": "html"
     },
     {
      "aliases": [
       "js"
      ],
      "languageName": "JavaScript",
      "name": "javascript"
     },
     {
      "aliases": [],
      "languageName": "KQL",
      "name": "kql"
     },
     {
      "aliases": [],
      "languageName": "Mermaid",
      "name": "mermaid"
     },
     {
      "aliases": [
       "powershell"
      ],
      "languageName": "PowerShell",
      "name": "pwsh"
     },
     {
      "aliases": [],
      "languageName": "SQL",
      "name": "sql"
     },
     {
      "aliases": [],
      "name": "value"
     },
     {
      "aliases": [],
      "name": "webview"
     }
    ]
   }
  }
 },
 "nbformat": 4,
 "nbformat_minor": 2
}
