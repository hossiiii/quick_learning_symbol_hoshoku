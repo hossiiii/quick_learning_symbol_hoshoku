{
 "cells": [
  {
   "attachments": {},
   "cell_type": "markdown",
   "metadata": {
    "dotnet_interactive": {
     "language": "javascript"
    },
    "polyglot_notebook": {
     "kernelName": "javascript"
    }
   },
   "source": [
    "<hr />\n",
    "\n",
    "### NoteBookの見方\n",
    "コード以外の情報 \n",
    "<span >白/黒での記載は速習Symbol</span>  \n",
    "<span style=\"color:red\">赤色での記載は補足情報</span>  \n",
    "<span >コード内で🌟マークがある場所は自分の情報に書き換えが必要</span>\n",
    "\n",
    "<hr />"
   ]
  },
  {
   "attachments": {},
   "cell_type": "markdown",
   "metadata": {
    "dotnet_interactive": {
     "language": "javascript"
    },
    "polyglot_notebook": {
     "kernelName": "javascript"
    }
   },
   "source": [
    "<span style=\"color:red\">\n",
    "\n",
    "# 環境構築\n",
    "</span>\n",
    "<span style=\"color:red\">\n",
    "\n",
    "## 1.Symbol SDKの読み込み </span>"
   ]
  },
  {
   "cell_type": "code",
   "execution_count": 1,
   "metadata": {
    "dotnet_interactive": {
     "language": "javascript"
    },
    "polyglot_notebook": {
     "kernelName": "javascript"
    },
    "vscode": {
     "languageId": "polyglot-notebook"
    }
   },
   "outputs": [],
   "source": [
    "(script = document.createElement(\"script\")).src = \"https://xembook.github.io/nem2-browserify/symbol-sdk-pack-2.0.3.js\";\n",
    "document.getElementsByTagName(\"head\")[0].appendChild(script);"
   ]
  },
  {
   "attachments": {},
   "cell_type": "markdown",
   "metadata": {
    "dotnet_interactive": {
     "language": "javascript"
    },
    "polyglot_notebook": {
     "kernelName": "javascript"
    }
   },
   "source": [
    "<span style=\"color:red\">\n",
    "\n",
    "## 2.Symbol用の共通設定 </span>"
   ]
  },
  {
   "cell_type": "code",
   "execution_count": 2,
   "metadata": {
    "dotnet_interactive": {
     "language": "javascript"
    },
    "polyglot_notebook": {
     "kernelName": "javascript"
    },
    "vscode": {
     "languageId": "polyglot-notebook"
    }
   },
   "outputs": [],
   "source": [
    "NODE = 'https://sym-test-03.opening-line.jp:3001';\n",
    "sym = require(\"/node_modules/symbol-sdk\");\n",
    "repo = new sym.RepositoryFactoryHttp(NODE);\n",
    "txRepo = repo.createTransactionRepository();\n",
    "mosaicRepo = repo.createMosaicRepository();\n",
    "accountRepo = repo.createAccountRepository();\n",
    "(async () => {\n",
    "  networkType = await repo.getNetworkType().toPromise();\n",
    "  generationHash = await repo.getGenerationHash().toPromise();\n",
    "  epochAdjustment = await repo.getEpochAdjustment().toPromise();\n",
    "})();\n",
    "\n",
    "function clog(signedTx){\n",
    "    console.log(NODE + \"/transactionStatus/\" + signedTx.hash);\n",
    "    console.log(NODE + \"/transactions/confirmed/\" + signedTx.hash);\n",
    "    console.log(\"https://symbol.fyi/transactions/\" + signedTx.hash);\n",
    "    console.log(\"https://testnet.symbol.fyi/transactions/\" + signedTx.hash);\n",
    "}"
   ]
  },
  {
   "attachments": {},
   "cell_type": "markdown",
   "metadata": {
    "dotnet_interactive": {
     "language": "javascript"
    },
    "polyglot_notebook": {
     "kernelName": "javascript"
    }
   },
   "source": [
    "<span style=\"color:red\">\n",
    "\n",
    "## 3.aliceアカウントのリストア </span>"
   ]
  },
  {
   "cell_type": "code",
   "execution_count": 3,
   "metadata": {
    "dotnet_interactive": {
     "language": "javascript"
    },
    "polyglot_notebook": {
     "kernelName": "javascript"
    },
    "vscode": {
     "languageId": "polyglot-notebook"
    }
   },
   "outputs": [],
   "source": [
    "alice = sym.Account.createFromPrivateKey(\n",
    "    \"1E9139CC1580B4AED6A1FE110085281D4982ED0D89CE07F3380EB83069B1****\", //🌟ここに3章で作成した秘密鍵を入力\n",
    "    networkType\n",
    ");"
   ]
  },
  {
   "attachments": {},
   "cell_type": "markdown",
   "metadata": {
    "dotnet_interactive": {
     "language": "javascript"
    },
    "polyglot_notebook": {
     "kernelName": "javascript"
    }
   },
   "source": [
    "<img width=\"800\" alt=\"スクリーンショット 2023-01-21 1 39 39\" src=\"https://user-images.githubusercontent.com/47712051/216161992-74ce64aa-8129-4820-9cf8-637008106da5.png\">\n",
    "<img width=\"800\" alt=\"スクリーンショット 2023-01-21 1 39 39\" src=\"https://user-images.githubusercontent.com/47712051/216161999-b456af21-eae2-46e3-800f-903516fbfdbc.png\">\n",
    "<img width=\"800\" alt=\"スクリーンショット 2023-01-21 1 39 39\" src=\"https://user-images.githubusercontent.com/47712051/216162002-212ff545-30a3-4ac4-b3dc-52673d1c498e.png\">\n",
    "<img width=\"800\" alt=\"スクリーンショット 2023-01-21 1 39 39\" src=\"https://user-images.githubusercontent.com/47712051/216162007-bbd4405a-645f-4e14-a6db-a982e3df73b6.png\">\n",
    "<img width=\"800\" alt=\"スクリーンショット 2023-01-21 1 39 39\" src=\"https://user-images.githubusercontent.com/47712051/216162012-a2ae1750-68e1-415b-9d32-a9a813df9a46.png\">\n",
    "<img width=\"800\" alt=\"スクリーンショット 2023-01-21 1 39 39\" src=\"https://user-images.githubusercontent.com/47712051/216162014-b85a106c-730d-464c-806b-d3e0595b358d.png\">"
   ]
  },
  {
   "attachments": {},
   "cell_type": "markdown",
   "metadata": {
    "dotnet_interactive": {
     "language": "javascript"
    },
    "polyglot_notebook": {
     "kernelName": "javascript"
    }
   },
   "source": [
    "# 9.マルチシグ化\n",
    "アカウントのマルチシグ化について説明します。\n",
    "\n",
    "\n",
    "### 注意事項\n",
    "\n",
    "一つのマルチシグアカウントに登録できる連署者の数は25個です。\n",
    "一つのアカウントは最大25個のマルチシグの連署者になれます。\n",
    "マルチシグは最大3階層まで構成できます。\n",
    "本書では1階層のマルチシグのみ解説します。\n",
    "\n",
    "## 9.0 アカウントの準備\n",
    "この章のサンプルソースコードで使用するアカウントを作成し、それぞれの秘密鍵を出力しておきます。\n",
    "本章でマルチシグ化したアカウントBobは、Carolの秘密鍵を紛失すると使えなくなってしまうのでご注意ください。\n"
   ]
  },
  {
   "cell_type": "code",
   "execution_count": 4,
   "metadata": {
    "dotnet_interactive": {
     "language": "javascript"
    },
    "polyglot_notebook": {
     "kernelName": "javascript"
    },
    "vscode": {
     "languageId": "polyglot-notebook"
    }
   },
   "outputs": [
    {
     "data": {
      "text/plain": [
       "93C85C4BDD2813D38389C8317CAA98FC8419F72F21DE8A9234610D0CE84A0B20"
      ]
     },
     "metadata": {},
     "output_type": "display_data"
    },
    {
     "data": {
      "text/plain": [
       "164D31510976C5695DFAD3017F0AE5138A1E08ECA105125F33A89FECA1B5DB68"
      ]
     },
     "metadata": {},
     "output_type": "display_data"
    },
    {
     "data": {
      "text/plain": [
       "9080E9581E2ADE4FAFDB4DC00B35151282B02DDC30B9B5D83B908E34FB155BC4"
      ]
     },
     "metadata": {},
     "output_type": "display_data"
    },
    {
     "data": {
      "text/plain": [
       "35C5D7817C9489FC2C828B8710802C0D061F4486F282128FDDCCF708BAF83570"
      ]
     },
     "metadata": {},
     "output_type": "display_data"
    },
    {
     "data": {
      "text/plain": [
       "69011672F973851C1096A04E5C0B0A6011A90A2AB1F1DC38300E68D2572FA8E8"
      ]
     },
     "metadata": {},
     "output_type": "display_data"
    },
    {
     "data": {
      "text/plain": [
       "0ED8968C0C03EC300E0A2860A975066B3CD3FFD086B5124F67F3418E7B96FD05"
      ]
     },
     "metadata": {},
     "output_type": "display_data"
    }
   ],
   "source": [
    "bob = sym.Account.generateNewAccount(networkType);\n",
    "carol1 = sym.Account.generateNewAccount(networkType);\n",
    "carol2 = sym.Account.generateNewAccount(networkType);\n",
    "carol3 = sym.Account.generateNewAccount(networkType);\n",
    "carol4 = sym.Account.generateNewAccount(networkType);\n",
    "carol5 = sym.Account.generateNewAccount(networkType);\n",
    "console.log(bob.privateKey);\n",
    "console.log(carol1.privateKey);\n",
    "console.log(carol2.privateKey);\n",
    "console.log(carol3.privateKey);\n",
    "console.log(carol4.privateKey);\n",
    "console.log(carol5.privateKey);"
   ]
  },
  {
   "attachments": {},
   "cell_type": "markdown",
   "metadata": {
    "dotnet_interactive": {
     "language": "javascript"
    },
    "polyglot_notebook": {
     "kernelName": "javascript"
    }
   },
   "source": [
    "テストネットの場合はFAUCETでネットワーク手数料分をbobとcarol1に補給しておきます。\n",
    "\n",
    "- Faucet\n",
    "    - https://testnet.symbol.tools/\n",
    "\n",
    "##### URL出力\n"
   ]
  },
  {
   "cell_type": "code",
   "execution_count": 7,
   "metadata": {
    "dotnet_interactive": {
     "language": "javascript"
    },
    "polyglot_notebook": {
     "kernelName": "javascript"
    },
    "vscode": {
     "languageId": "polyglot-notebook"
    }
   },
   "outputs": [
    {
     "data": {
      "text/plain": [
       "https://testnet.symbol.tools/?recipient=TBOFFUAFWUA5EEDDTZPL6ML6VU7JL3ELDPPSH3Q&amount=20"
      ]
     },
     "metadata": {},
     "output_type": "display_data"
    },
    {
     "data": {
      "text/plain": [
       "https://testnet.symbol.tools/?recipient=TB7HB6XBP3QJI3N6ONR6M7TGEIWWH3Y5NIGMGGA&amount=20"
      ]
     },
     "metadata": {},
     "output_type": "display_data"
    }
   ],
   "source": [
    "console.log(\"https://testnet.symbol.tools/?recipient=\" + bob.address.plain() +\"&amount=20\");\n",
    "console.log(\"https://testnet.symbol.tools/?recipient=\" + carol1.address.plain() +\"&amount=20\");\n"
   ]
  },
  {
   "attachments": {},
   "cell_type": "markdown",
   "metadata": {
    "dotnet_interactive": {
     "language": "javascript"
    },
    "polyglot_notebook": {
     "kernelName": "javascript"
    }
   },
   "source": [
    "## 9.1 マルチシグの登録\n",
    "\n",
    "Symbolではマルチシグアカウントを新規に作成するのではなく、既存アカウントについて連署者を指定してマルチシグ化します。\n",
    "マルチシグ化には連署者に指定されたアカウントの承諾署名(オプトイン)が必要なため、アグリゲートトランザクションを使用します。\n"
   ]
  },
  {
   "cell_type": "code",
   "execution_count": 8,
   "metadata": {
    "dotnet_interactive": {
     "language": "javascript"
    },
    "polyglot_notebook": {
     "kernelName": "javascript"
    },
    "vscode": {
     "languageId": "polyglot-notebook"
    }
   },
   "outputs": [],
   "source": [
    "multisigTx = sym.MultisigAccountModificationTransaction.create(\n",
    "    undefined, \n",
    "    3, //minApproval:承認のために必要な最小署名者数増分\n",
    "    3, //minRemoval:除名のために必要な最小署名者数増分\n",
    "    [\n",
    "        carol1.address,carol2.address,carol3.address,carol4.address\n",
    "    ], //追加対象アドレスリスト\n",
    "    [],//除名対象アドレスリスト\n",
    "    networkType\n",
    ");\n",
    "aggregateTx = sym.AggregateTransaction.createComplete(\n",
    "    sym.Deadline.create(epochAdjustment),\n",
    "    [//マルチシグ化したいアカウントの公開鍵を指定\n",
    "      multisigTx.toAggregate(bob.publicAccount),\n",
    "    ],\n",
    "    networkType,[]\n",
    ").setMaxFeeForAggregate(100, 4); // 第二引数に連署者の数:4\n",
    "signedTx =  aggregateTx.signTransactionWithCosignatories(\n",
    "    bob, //マルチシグ化したいアカウント\n",
    "    [carol1,carol2,carol3,carol4], //追加・除外対象として指定したアカウント\n",
    "    generationHash,\n",
    ");\n",
    "await txRepo.announce(signedTx).toPromise();"
   ]
  },
  {
   "cell_type": "code",
   "execution_count": 9,
   "metadata": {
    "dotnet_interactive": {
     "language": "javascript"
    },
    "polyglot_notebook": {
     "kernelName": "javascript"
    },
    "vscode": {
     "languageId": "polyglot-notebook"
    }
   },
   "outputs": [
    {
     "data": {
      "application/json": {
       "code": "Success",
       "deadline": {
        "adjustedValue": 14774753991
       },
       "group": "confirmed",
       "hash": "D80D846EF23935EAA874740EB94F5D7A3274BFF1CACF24268CE5EC795D444BEE",
       "height": {
        "higher": 0,
        "lower": 396891
       }
      }
     },
     "metadata": {},
     "output_type": "display_data"
    },
    {
     "data": {
      "application/json": {
       "transaction": {
        "cosignatures": [
         {
          "signature": "F285E9485A8BF71C6E9CA405E761EBB6D7989E07C6ED9ECA72ECB2E42EAEC56B10E04C6C5BAAB0DE8162B1585EE1F9C166BF0D443678BAD4FD856FAE2F95620B",
          "signerPublicKey": {
           "address": {
            "address": "TB7HB6XBP3QJI3N6ONR6M7TGEIWWH3Y5NIGMGGA",
            "networkType": 152
           },
           "publicKey": "EC89C77A367C64C12E771B560506C19856FE1646A2D12564B8C6D2E7DC4509BF"
          },
          "version": [
           0,
           0
          ]
         },
         {
          "signature": "A40746939CC79238F5FEAD7DBE1E1C1ACD194349ECE8A4D3FE53ACA954B096853B452B2075F2A3F1979B1CC6AC0225E4C5EF015A84BC45510E7129BA45981003",
          "signerPublicKey": {
           "address": {
            "address": "TB5RUHQATC4OAOBV3IFUJXKRDFJDBMZ4CSTVVHY",
            "networkType": 152
           },
           "publicKey": "4D78D99720924952F5A9FE4C58AEEAB03D1611E2AD2887990A848CDA3CE1F29E"
          },
          "version": [
           0,
           0
          ]
         },
         {
          "signature": "37BE0C69CD88BD2A0A5E78A59A77EF43523106D39527BB390AE085E6DA4E2E289899B135574387F4695EF018AEA0172D659089AAECACE344774F26C0A546BC0D",
          "signerPublicKey": {
           "address": {
            "address": "TC54XWPTLBJDK4UDP4V2CDUNDIWP23BJDCSFM3A",
            "networkType": 152
           },
           "publicKey": "ADF892B723796B12AAAACF5CB446967D4C1EF766B0C9BFF946A06619FEA4CEBC"
          },
          "version": [
           0,
           0
          ]
         },
         {
          "signature": "9DA08CDD56DB4819833735E6999E48FA86022AD469C8E19D5A870A4B0CB2E0823596C2DBEDED707E8308316B3973D3E0DD10707BE4C38909806C24933D7BCB08",
          "signerPublicKey": {
           "address": {
            "address": "TBEDRQMP4LHXNUKO7QTVTJYBGH2XK62W4UREWGA",
            "networkType": 152
           },
           "publicKey": "3E7E92C08ACFAF8984EAFAD7FAF5362652B7F4F898347B023AB1F99FB7C5CF5E"
          },
          "version": [
           0,
           0
          ]
         }
        ],
        "deadline": "14774753991",
        "maxFee": "73600",
        "network": 152,
        "signature": "5782B86700D24413E872E9ED56C95BBCD83D2AB52CA9E6308B19726A61586D0272884D77C1A892B7A36A10F0197E44666BA6158879A61841A6BE5479560E3103",
        "signerPublicKey": "025DCCEB76B9296CEFD07DF651566BA66F688AD3BF09883CD6C5D897D21045B2",
        "transactions": [
         {
          "transaction": {
           "addressAdditions": [
            {
             "address": "TB7HB6XBP3QJI3N6ONR6M7TGEIWWH3Y5NIGMGGA",
             "networkType": 152
            },
            {
             "address": "TB5RUHQATC4OAOBV3IFUJXKRDFJDBMZ4CSTVVHY",
             "networkType": 152
            },
            {
             "address": "TC54XWPTLBJDK4UDP4V2CDUNDIWP23BJDCSFM3A",
             "networkType": 152
            },
            {
             "address": "TBEDRQMP4LHXNUKO7QTVTJYBGH2XK62W4UREWGA",
             "networkType": 152
            }
           ],
           "addressDeletions": [],
           "deadline": "14774753991",
           "maxFee": "73600",
           "minApprovalDelta": 3,
           "minRemovalDelta": 3,
           "network": 152,
           "signature": "5782B86700D24413E872E9ED56C95BBCD83D2AB52CA9E6308B19726A61586D0272884D77C1A892B7A36A10F0197E44666BA6158879A61841A6BE5479560E3103",
           "signerPublicKey": "025DCCEB76B9296CEFD07DF651566BA66F688AD3BF09883CD6C5D897D21045B2",
           "type": 16725,
           "version": 1
          }
         }
        ],
        "type": 16705,
        "version": 2
       }
      }
     },
     "metadata": {},
     "output_type": "display_data"
    },
    {
     "data": {
      "text/plain": [
       "https://testnet.symbol.fyi/transactions/D80D846EF23935EAA874740EB94F5D7A3274BFF1CACF24268CE5EC795D444BEE"
      ]
     },
     "metadata": {},
     "output_type": "display_data"
    }
   ],
   "source": [
    "hash = signedTx.hash;\n",
    "tsRepo = repo.createTransactionStatusRepository();\n",
    "transactionStatus = await tsRepo.getTransactionStatus(hash).toPromise();\n",
    "console.log(transactionStatus);\n",
    "txInfo = await txRepo.getTransaction(hash,sym.TransactionGroup.Confirmed).toPromise();\n",
    "console.log(txInfo);\n",
    "console.log(`https://testnet.symbol.fyi/transactions/${hash}`) //ブラウザで確認を追加"
   ]
  },
  {
   "attachments": {},
   "cell_type": "markdown",
   "metadata": {
    "dotnet_interactive": {
     "language": "javascript"
    },
    "polyglot_notebook": {
     "kernelName": "javascript"
    }
   },
   "source": [
    "## 9.2 確認\n",
    "\n",
    "### マルチシグ化したアカウントの確認\n"
   ]
  },
  {
   "cell_type": "code",
   "execution_count": 11,
   "metadata": {
    "dotnet_interactive": {
     "language": "javascript"
    },
    "polyglot_notebook": {
     "kernelName": "javascript"
    },
    "vscode": {
     "languageId": "polyglot-notebook"
    }
   },
   "outputs": [
    {
     "data": {
      "text/plain": [
       "{\n",
       "  \"version\": 1,\n",
       "  \"accountAddress\": {\n",
       "    \"address\": \"TBOFFUAFWUA5EEDDTZPL6ML6VU7JL3ELDPPSH3Q\",\n",
       "    \"networkType\": 152\n",
       "  },\n",
       "  \"minApproval\": 3,\n",
       "  \"minRemoval\": 3,\n",
       "  \"cosignatoryAddresses\": [\n",
       "    {\n",
       "      \"address\": \"TBEDRQMP4LHXNUKO7QTVTJYBGH2XK62W4UREWGA\",\n",
       "      \"networkType\": 152\n",
       "    },\n",
       "    {\n",
       "      \"address\": \"TB5RUHQATC4OAOBV3IFUJXKRDFJDBMZ4CSTVVHY\",\n",
       "      \"networkType\": 152\n",
       "    },\n",
       "    {\n",
       "      \"address\": \"TB7HB6XBP3QJI3N6ONR6M7TGEIWWH3Y5NIGMGGA\",\n",
       "      \"networkType\": 152\n",
       "    },\n",
       "    {\n",
       "      \"address\": \"TC54XWPTLBJDK4UDP4V2CDUNDIWP23BJDCSFM3A\",\n",
       "      \"networkType\": 152\n",
       "    }\n",
       "  ],\n",
       "  \"multisigAddresses\": []\n",
       "}"
      ]
     },
     "metadata": {},
     "output_type": "display_data"
    }
   ],
   "source": [
    "msigRepo = repo.createMultisigRepository();\n",
    "multisigInfo = await msigRepo.getMultisigAccountInfo(bob.address).toPromise();\n",
    "console.log(JSON.stringify(multisigInfo,null,2));\n"
   ]
  },
  {
   "attachments": {},
   "cell_type": "markdown",
   "metadata": {
    "dotnet_interactive": {
     "language": "javascript"
    },
    "polyglot_notebook": {
     "kernelName": "javascript"
    }
   },
   "source": [
    "###### 出力例\n",
    "```js\n",
    "> MultisigAccountInfo \n",
    "    accountAddress: Address {address: 'TCOMA5VG67TZH4X55HGZOXOFP7S232CYEQMOS7Q', networkType: 152}\n",
    "  > cosignatoryAddresses: Array(4)\n",
    "        0: Address {address: 'TBAFGZOCB7OHZCCYYV64F2IFZL7SOOXNDHFS5NY', networkType: 152}\n",
    "        1: Address {address: 'TB3XP4GQK6XH2SSA2E2U6UWCESNACK566DS4COY', networkType: 152}\n",
    "        2: Address {address: 'TCV67BMTD2JMDQOJUDQHBFJHQPG4DAKVKST3YJI', networkType: 152}\n",
    "\t3: Address {address: 'TDWGG6ZWCGS5AHFTF5FDB347HIMII57PK46AIDA', networkType: 152}\n",
    "    minApproval: 3\n",
    "    minRemoval: 3\n",
    "    multisigAddresses: []\n",
    "```\n",
    "\n",
    "cosignatoryAddressesが連署者として登録されていることがわかります。\n",
    "また、minApproval:3 によりトランザクションが成立するために必要な署名数3\n",
    "minRemoval: 3により連署者を取り外すために必要な署名者数は3であることがわかります。\n",
    "\n",
    "### 連署者アカウントの確認\n"
   ]
  },
  {
   "cell_type": "code",
   "execution_count": 13,
   "metadata": {
    "dotnet_interactive": {
     "language": "javascript"
    },
    "polyglot_notebook": {
     "kernelName": "javascript"
    },
    "vscode": {
     "languageId": "polyglot-notebook"
    }
   },
   "outputs": [
    {
     "data": {
      "text/plain": [
       "{\n",
       "  \"version\": 1,\n",
       "  \"accountAddress\": {\n",
       "    \"address\": \"TB7HB6XBP3QJI3N6ONR6M7TGEIWWH3Y5NIGMGGA\",\n",
       "    \"networkType\": 152\n",
       "  },\n",
       "  \"minApproval\": 0,\n",
       "  \"minRemoval\": 0,\n",
       "  \"cosignatoryAddresses\": [],\n",
       "  \"multisigAddresses\": [\n",
       "    {\n",
       "      \"address\": \"TBOFFUAFWUA5EEDDTZPL6ML6VU7JL3ELDPPSH3Q\",\n",
       "      \"networkType\": 152\n",
       "    }\n",
       "  ]\n",
       "}"
      ]
     },
     "metadata": {},
     "output_type": "display_data"
    }
   ],
   "source": [
    "msigRepo = repo.createMultisigRepository();\n",
    "multisigInfo = await msigRepo.getMultisigAccountInfo(carol1.address).toPromise();\n",
    "console.log(JSON.stringify(multisigInfo,null,2));"
   ]
  },
  {
   "attachments": {},
   "cell_type": "markdown",
   "metadata": {
    "dotnet_interactive": {
     "language": "javascript"
    },
    "polyglot_notebook": {
     "kernelName": "javascript"
    }
   },
   "source": [
    "###### 出力例\n",
    "```\n",
    "> MultisigAccountInfo\n",
    "    accountAddress: Address {address: 'TCV67BMTD2JMDQOJUDQHBFJHQPG4DAKVKST3YJI', networkType: 152}\n",
    "    cosignatoryAddresses: []\n",
    "    minApproval: 0\n",
    "    minRemoval: 0\n",
    "  > multisigAddresses: Array(1)\n",
    "        0: Address {address: 'TCOMA5VG67TZH4X55HGZOXOFP7S232CYEQMOS7Q', networkType: 152}\n",
    "```\n",
    "\n",
    "multisigAddresses に対して連署する権利を持っていることが分かります。\n",
    "\n",
    "## 9.3 マルチシグ署名\n",
    "\n",
    "マルチシグ化したアカウントからモザイクを送信します。\n",
    "\n",
    "### アグリゲートコンプリートトランザクションで送信\n",
    "\n",
    "アグリゲートコンプリートトランザクションの場合、ノードにアナウンスする前に連署者の署名を全て集めてからトランザクションを作成します。\n"
   ]
  },
  {
   "cell_type": "code",
   "execution_count": 14,
   "metadata": {
    "dotnet_interactive": {
     "language": "javascript"
    },
    "polyglot_notebook": {
     "kernelName": "javascript"
    },
    "vscode": {
     "languageId": "polyglot-notebook"
    }
   },
   "outputs": [],
   "source": [
    "tx = sym.TransferTransaction.create(\n",
    "    undefined,\n",
    "    alice.address, \n",
    "    [new sym.Mosaic(new sym.NamespaceId(\"symbol.xym\"),sym.UInt64.fromUint(1000000))],\n",
    "    sym.PlainMessage.create('test'),\n",
    "    networkType\n",
    ");\n",
    "aggregateTx = sym.AggregateTransaction.createComplete(\n",
    "    sym.Deadline.create(epochAdjustment),\n",
    "     [//マルチシグ化したアカウントの公開鍵を指定\n",
    "       tx.toAggregate(bob.publicAccount)\n",
    "     ],\n",
    "    networkType,[],\n",
    ").setMaxFeeForAggregate(100, 2); // 第二引数に連署者の数:2\n",
    "signedTx =  aggregateTx.signTransactionWithCosignatories(\n",
    "    carol1, //起案者\n",
    "    [carol2,carol3],　//連署者\n",
    "    generationHash,\n",
    ");\n",
    "await txRepo.announce(signedTx).toPromise();"
   ]
  },
  {
   "cell_type": "code",
   "execution_count": 16,
   "metadata": {
    "dotnet_interactive": {
     "language": "javascript"
    },
    "polyglot_notebook": {
     "kernelName": "javascript"
    },
    "vscode": {
     "languageId": "polyglot-notebook"
    }
   },
   "outputs": [
    {
     "data": {
      "application/json": {
       "code": "Success",
       "deadline": {
        "adjustedValue": 14774980772
       },
       "group": "confirmed",
       "hash": "71935354AE82FB7702CBACC0A83CAFDAA4B1099B5D79B6E263DD782BD105CA4D",
       "height": {
        "higher": 0,
        "lower": 396897
       }
      }
     },
     "metadata": {},
     "output_type": "display_data"
    },
    {
     "data": {
      "application/json": {
       "transaction": {
        "cosignatures": [
         {
          "signature": "EB2260D49D0CA50EB942428EA2E962BF4E8FCAAE57F29A62B8495ADFE9A9AE4389FBABDDCAE235368E886E00DF836C9A3BB9051842A0F70AB1F09045C6242707",
          "signerPublicKey": {
           "address": {
            "address": "TB5RUHQATC4OAOBV3IFUJXKRDFJDBMZ4CSTVVHY",
            "networkType": 152
           },
           "publicKey": "4D78D99720924952F5A9FE4C58AEEAB03D1611E2AD2887990A848CDA3CE1F29E"
          },
          "version": [
           0,
           0
          ]
         },
         {
          "signature": "E6A7846E0C9000823C0AABB9D1FA14B3F3CAAB04F75C4AB1EF660A86FC638E8607B225AD6F1C3489BD5335770120066E2BB5B2171F8254C3E30A097D58E17005",
          "signerPublicKey": {
           "address": {
            "address": "TC54XWPTLBJDK4UDP4V2CDUNDIWP23BJDCSFM3A",
            "networkType": 152
           },
           "publicKey": "ADF892B723796B12AAAACF5CB446967D4C1EF766B0C9BFF946A06619FEA4CEBC"
          },
          "version": [
           0,
           0
          ]
         }
        ],
        "deadline": "14774980772",
        "maxFee": "48000",
        "network": 152,
        "signature": "B97712C9BC1C0CCEF1B97FA1F34AB58433B8F7D17E83546E2A4BA354DB92686CBD1B9420A5F48BA84EBAF3591BB5E91B892361C81FDBD6756B94DB1195169E06",
        "signerPublicKey": "EC89C77A367C64C12E771B560506C19856FE1646A2D12564B8C6D2E7DC4509BF",
        "transactions": [
         {
          "transaction": {
           "deadline": "14774980772",
           "maxFee": "48000",
           "message": "0074657374",
           "mosaics": [
            {
             "amount": "1000000",
             "id": "E74B99BA41F4AFEE"
            }
           ],
           "network": 152,
           "recipientAddress": {
            "address": "TAOP6YRVWUH6VMBAZASNLYHL2SEU7DLALXJN7EY",
            "networkType": 152
           },
           "signature": "B97712C9BC1C0CCEF1B97FA1F34AB58433B8F7D17E83546E2A4BA354DB92686CBD1B9420A5F48BA84EBAF3591BB5E91B892361C81FDBD6756B94DB1195169E06",
           "signerPublicKey": "025DCCEB76B9296CEFD07DF651566BA66F688AD3BF09883CD6C5D897D21045B2",
           "type": 16724,
           "version": 1
          }
         }
        ],
        "type": 16705,
        "version": 2
       }
      }
     },
     "metadata": {},
     "output_type": "display_data"
    },
    {
     "data": {
      "text/plain": [
       "https://testnet.symbol.fyi/transactions/71935354AE82FB7702CBACC0A83CAFDAA4B1099B5D79B6E263DD782BD105CA4D"
      ]
     },
     "metadata": {},
     "output_type": "display_data"
    }
   ],
   "source": [
    "hash = signedTx.hash;\n",
    "tsRepo = repo.createTransactionStatusRepository();\n",
    "transactionStatus = await tsRepo.getTransactionStatus(hash).toPromise();\n",
    "console.log(transactionStatus);\n",
    "txInfo = await txRepo.getTransaction(hash,sym.TransactionGroup.Confirmed).toPromise();\n",
    "console.log(txInfo);\n",
    "console.log(`https://testnet.symbol.fyi/transactions/${hash}`) //ブラウザで確認を追加"
   ]
  },
  {
   "attachments": {},
   "cell_type": "markdown",
   "metadata": {
    "dotnet_interactive": {
     "language": "javascript"
    },
    "polyglot_notebook": {
     "kernelName": "javascript"
    }
   },
   "source": [
    "### アグリゲートボンデッドトランザクションで送信\n",
    "\n",
    "アグリゲートボンデッドトランザクションの場合は連署者を指定せずにアナウンスできます。\n",
    "事前にハッシュロックでトランザクションを留め置きしておくことを宣言しておき、連署者がネットワーク上に留め置きされたトランザクションに追加署名することで完成となります。\n"
   ]
  },
  {
   "cell_type": "code",
   "execution_count": 17,
   "metadata": {
    "dotnet_interactive": {
     "language": "javascript"
    },
    "polyglot_notebook": {
     "kernelName": "javascript"
    },
    "vscode": {
     "languageId": "polyglot-notebook"
    }
   },
   "outputs": [],
   "source": [
    "tx = sym.TransferTransaction.create(\n",
    "    undefined,\n",
    "    alice.address, //Aliceへの送信\n",
    "    [new sym.Mosaic(new sym.NamespaceId(\"symbol.xym\"),sym.UInt64.fromUint(1000000))], //1XYM\n",
    "    sym.PlainMessage.create('test'),\n",
    "    networkType\n",
    ");\n",
    "aggregateTx = sym.AggregateTransaction.createBonded(\n",
    "    sym.Deadline.create(epochAdjustment),\n",
    "     [ //マルチシグ化したアカウントの公開鍵を指定\n",
    "       tx.toAggregate(bob.publicAccount)\n",
    "     ],\n",
    "    networkType,[],\n",
    ").setMaxFeeForAggregate(100, 2); // 第二引数に連署者の数:2\n",
    "signedAggregateTx = carol1.sign(aggregateTx, generationHash);\n",
    "hashLockTx = sym.HashLockTransaction.create(\n",
    "  sym.Deadline.create(epochAdjustment),\n",
    "\tnew sym.Mosaic(new sym.NamespaceId(\"symbol.xym\"),sym.UInt64.fromUint(10 * 1000000)), //固定値:10XYM\n",
    "\tsym.UInt64.fromUint(480),\n",
    "\tsignedAggregateTx,\n",
    "\tnetworkType\n",
    ").setMaxFee(100);\n",
    "signedLockTx = carol1.sign(hashLockTx, generationHash);\n",
    "//ハッシュロックTXをアナウンス\n",
    "await txRepo.announce(signedLockTx).toPromise();"
   ]
  },
  {
   "cell_type": "code",
   "execution_count": 23,
   "metadata": {
    "dotnet_interactive": {
     "language": "javascript"
    },
    "polyglot_notebook": {
     "kernelName": "javascript"
    },
    "vscode": {
     "languageId": "polyglot-notebook"
    }
   },
   "outputs": [
    {
     "data": {
      "application/json": {
       "code": "Success",
       "deadline": {
        "adjustedValue": 14775090042
       },
       "group": "confirmed",
       "hash": "3AE47A912380EF39B80B73A8EB85EB1CC07BA910D1BBD4536FEDF2131E4A0BB7",
       "height": {
        "higher": 0,
        "lower": 396901
       }
      }
     },
     "metadata": {},
     "output_type": "display_data"
    },
    {
     "data": {
      "application/json": {
       "transaction": {
        "amount": "10000000",
        "deadline": "14775090042",
        "duration": "480",
        "hash": "862FD6EAFEA2CDFBCDA6439AECEECC3DEB119B100D2EDE8882B09A23324B0151",
        "maxFee": "18400",
        "mosaicId": "E74B99BA41F4AFEE",
        "network": 152,
        "signature": "DB356C4AE376138EE8B6BFD80526FA1F0E00CE7267655629C9B940EE1A3EEBAD9AF210E10F044B77F78ECC85D24FEA2AAF3600BCF276DA7A30097BEB95A18206",
        "signerPublicKey": "EC89C77A367C64C12E771B560506C19856FE1646A2D12564B8C6D2E7DC4509BF",
        "type": 16712,
        "version": 1
       }
      }
     },
     "metadata": {},
     "output_type": "display_data"
    },
    {
     "data": {
      "text/plain": [
       "https://testnet.symbol.fyi/transactions/3AE47A912380EF39B80B73A8EB85EB1CC07BA910D1BBD4536FEDF2131E4A0BB7"
      ]
     },
     "metadata": {},
     "output_type": "display_data"
    }
   ],
   "source": [
    "hash = signedLockTx.hash;\n",
    "tsRepo = repo.createTransactionStatusRepository();\n",
    "transactionStatus = await tsRepo.getTransactionStatus(hash).toPromise();\n",
    "console.log(transactionStatus);\n",
    "txInfo = await txRepo.getTransaction(hash,sym.TransactionGroup.Confirmed).toPromise();\n",
    "console.log(txInfo);\n",
    "console.log(`https://testnet.symbol.fyi/transactions/${hash}`) //ブラウザで確認を追加"
   ]
  },
  {
   "cell_type": "code",
   "execution_count": 24,
   "metadata": {
    "dotnet_interactive": {
     "language": "javascript"
    },
    "polyglot_notebook": {
     "kernelName": "javascript"
    },
    "vscode": {
     "languageId": "polyglot-notebook"
    }
   },
   "outputs": [],
   "source": [
    "//ハッシュロックの承認を確認した後、ボンデッドTXをアナウンス\n",
    "await txRepo.announceAggregateBonded(signedAggregateTx).toPromise();"
   ]
  },
  {
   "cell_type": "code",
   "execution_count": 25,
   "metadata": {
    "dotnet_interactive": {
     "language": "javascript"
    },
    "polyglot_notebook": {
     "kernelName": "javascript"
    },
    "vscode": {
     "languageId": "polyglot-notebook"
    }
   },
   "outputs": [
    {
     "data": {
      "application/json": {
       "code": "Success",
       "deadline": {
        "adjustedValue": 14775090029
       },
       "group": "partial",
       "hash": "862FD6EAFEA2CDFBCDA6439AECEECC3DEB119B100D2EDE8882B09A23324B0151",
       "height": {
        "higher": 0,
        "lower": 0
       }
      }
     },
     "metadata": {},
     "output_type": "display_data"
    },
    {
     "data": {
      "application/json": {
       "transaction": {
        "cosignatures": [],
        "deadline": "14775090029",
        "maxFee": "48000",
        "network": 152,
        "signature": "BC313EF14DEA0BF1CB026249728B41D33D0A180A2771C02FB0F1A371165163D1AA13C6C717E48A80E29FE5BE82D8975B430FBCD4523457C8A341A12F41DFB705",
        "signerPublicKey": "EC89C77A367C64C12E771B560506C19856FE1646A2D12564B8C6D2E7DC4509BF",
        "transactions": [
         {
          "transaction": {
           "deadline": "14775090029",
           "maxFee": "48000",
           "message": "0074657374",
           "mosaics": [
            {
             "amount": "1000000",
             "id": "E74B99BA41F4AFEE"
            }
           ],
           "network": 152,
           "recipientAddress": {
            "address": "TAOP6YRVWUH6VMBAZASNLYHL2SEU7DLALXJN7EY",
            "networkType": 152
           },
           "signature": "BC313EF14DEA0BF1CB026249728B41D33D0A180A2771C02FB0F1A371165163D1AA13C6C717E48A80E29FE5BE82D8975B430FBCD4523457C8A341A12F41DFB705",
           "signerPublicKey": "025DCCEB76B9296CEFD07DF651566BA66F688AD3BF09883CD6C5D897D21045B2",
           "type": 16724,
           "version": 1
          }
         }
        ],
        "type": 16961,
        "version": 2
       }
      }
     },
     "metadata": {},
     "output_type": "display_data"
    },
    {
     "data": {
      "text/plain": [
       "https://testnet.symbol.fyi/transactions/862FD6EAFEA2CDFBCDA6439AECEECC3DEB119B100D2EDE8882B09A23324B0151"
      ]
     },
     "metadata": {},
     "output_type": "display_data"
    }
   ],
   "source": [
    "hash = signedAggregateTx.hash;\n",
    "tsRepo = repo.createTransactionStatusRepository();\n",
    "transactionStatus = await tsRepo.getTransactionStatus(hash).toPromise();\n",
    "console.log(transactionStatus);\n",
    "txInfo = await txRepo.getTransaction(hash,sym.TransactionGroup.Partial).toPromise();\n",
    "console.log(txInfo);\n",
    "console.log(`https://testnet.symbol.fyi/transactions/${hash}`) //ブラウザで確認を追加"
   ]
  },
  {
   "attachments": {},
   "cell_type": "markdown",
   "metadata": {
    "dotnet_interactive": {
     "language": "javascript"
    },
    "polyglot_notebook": {
     "kernelName": "javascript"
    }
   },
   "source": [
    "ボンデッドトランザクションがノードに取り込まれるとパーシャル署名状態となるので、8.ロックで紹介した連署を使用して、マルチシグアカウントで連署します。\n",
    "連署をサポートするウォレットで承認することもできます。"
   ]
  },
  {
   "attachments": {},
   "cell_type": "markdown",
   "metadata": {
    "dotnet_interactive": {
     "language": "javascript"
    },
    "polyglot_notebook": {
     "kernelName": "javascript"
    }
   },
   "source": [
    "<span style=\"color:red\">Carol2での連署</span>  "
   ]
  },
  {
   "cell_type": "code",
   "execution_count": 26,
   "metadata": {
    "dotnet_interactive": {
     "language": "javascript"
    },
    "polyglot_notebook": {
     "kernelName": "javascript"
    },
    "vscode": {
     "languageId": "polyglot-notebook"
    }
   },
   "outputs": [],
   "source": [
    "targetHash = hash; //本来は自分宛のPartialトランザクションを確認して、その上でハッシュ値を確認し指定するが、今回は変数からハッシュ値を取り出している\n",
    "txInfo = await txRepo.getTransaction(targetHash,sym.TransactionGroup.Partial).toPromise(); //ハッシュ値でトランザクションを検索\n",
    "cosignatureTx = sym.CosignatureTransaction.create(txInfo); //連署用のトランザクションを作成\n",
    "signedCosTx = carol2.signCosignatureTransaction(cosignatureTx);\n",
    "await txRepo.announceAggregateBondedCosignature(signedCosTx).toPromise(); //ブロックチェーンにアナウンス"
   ]
  },
  {
   "cell_type": "code",
   "execution_count": 27,
   "metadata": {
    "dotnet_interactive": {
     "language": "javascript"
    },
    "polyglot_notebook": {
     "kernelName": "javascript"
    },
    "vscode": {
     "languageId": "polyglot-notebook"
    }
   },
   "outputs": [
    {
     "data": {
      "application/json": {
       "code": "Success",
       "deadline": {
        "adjustedValue": 14775090029
       },
       "group": "partial",
       "hash": "862FD6EAFEA2CDFBCDA6439AECEECC3DEB119B100D2EDE8882B09A23324B0151",
       "height": {
        "higher": 0,
        "lower": 0
       }
      }
     },
     "metadata": {},
     "output_type": "display_data"
    },
    {
     "data": {
      "application/json": {
       "transaction": {
        "cosignatures": [
         {
          "signature": "CEA8A6815AF448B457FBE500049ED955BFD9E9273460EAD489AFCE09E7CBB3BC87C64BEEBA4C22B013A03A62BA4DF9A29D5651D35A2DA5AD105DF4BF1F35DA0F",
          "signerPublicKey": {
           "address": {
            "address": "TB5RUHQATC4OAOBV3IFUJXKRDFJDBMZ4CSTVVHY",
            "networkType": 152
           },
           "publicKey": "4D78D99720924952F5A9FE4C58AEEAB03D1611E2AD2887990A848CDA3CE1F29E"
          },
          "version": [
           0,
           0
          ]
         }
        ],
        "deadline": "14775090029",
        "maxFee": "48000",
        "network": 152,
        "signature": "BC313EF14DEA0BF1CB026249728B41D33D0A180A2771C02FB0F1A371165163D1AA13C6C717E48A80E29FE5BE82D8975B430FBCD4523457C8A341A12F41DFB705",
        "signerPublicKey": "EC89C77A367C64C12E771B560506C19856FE1646A2D12564B8C6D2E7DC4509BF",
        "transactions": [
         {
          "transaction": {
           "deadline": "14775090029",
           "maxFee": "48000",
           "message": "0074657374",
           "mosaics": [
            {
             "amount": "1000000",
             "id": "E74B99BA41F4AFEE"
            }
           ],
           "network": 152,
           "recipientAddress": {
            "address": "TAOP6YRVWUH6VMBAZASNLYHL2SEU7DLALXJN7EY",
            "networkType": 152
           },
           "signature": "BC313EF14DEA0BF1CB026249728B41D33D0A180A2771C02FB0F1A371165163D1AA13C6C717E48A80E29FE5BE82D8975B430FBCD4523457C8A341A12F41DFB705",
           "signerPublicKey": "025DCCEB76B9296CEFD07DF651566BA66F688AD3BF09883CD6C5D897D21045B2",
           "type": 16724,
           "version": 1
          }
         }
        ],
        "type": 16961,
        "version": 2
       }
      }
     },
     "metadata": {},
     "output_type": "display_data"
    },
    {
     "data": {
      "text/plain": [
       "https://testnet.symbol.fyi/transactions/862FD6EAFEA2CDFBCDA6439AECEECC3DEB119B100D2EDE8882B09A23324B0151"
      ]
     },
     "metadata": {},
     "output_type": "display_data"
    }
   ],
   "source": [
    "hash = signedAggregateTx.hash;\n",
    "tsRepo = repo.createTransactionStatusRepository();\n",
    "transactionStatus = await tsRepo.getTransactionStatus(hash).toPromise();\n",
    "console.log(transactionStatus);\n",
    "txInfo = await txRepo.getTransaction(hash,sym.TransactionGroup.Partial).toPromise();\n",
    "console.log(txInfo);\n",
    "console.log(`https://testnet.symbol.fyi/transactions/${hash}`) //ブラウザで確認を追加"
   ]
  },
  {
   "attachments": {},
   "cell_type": "markdown",
   "metadata": {
    "dotnet_interactive": {
     "language": "javascript"
    },
    "polyglot_notebook": {
     "kernelName": "javascript"
    }
   },
   "source": [
    "<span style=\"color:red\">Carol3での連署</span>  "
   ]
  },
  {
   "cell_type": "code",
   "execution_count": 29,
   "metadata": {
    "dotnet_interactive": {
     "language": "javascript"
    },
    "polyglot_notebook": {
     "kernelName": "javascript"
    },
    "vscode": {
     "languageId": "polyglot-notebook"
    }
   },
   "outputs": [],
   "source": [
    "targetHash = hash; //本来は自分宛のPartialトランザクションを確認して、その上でハッシュ値を確認し指定するが、今回は変数からハッシュ値を取り出している\n",
    "txInfo = await txRepo.getTransaction(targetHash,sym.TransactionGroup.Partial).toPromise(); //ハッシュ値でトランザクションを検索\n",
    "cosignatureTx = sym.CosignatureTransaction.create(txInfo); //連署用のトランザクションを作成\n",
    "signedCosTx = carol3.signCosignatureTransaction(cosignatureTx);\n",
    "await txRepo.announceAggregateBondedCosignature(signedCosTx).toPromise(); //ブロックチェーンにアナウンス"
   ]
  },
  {
   "cell_type": "code",
   "execution_count": 33,
   "metadata": {
    "dotnet_interactive": {
     "language": "javascript"
    },
    "polyglot_notebook": {
     "kernelName": "javascript"
    },
    "vscode": {
     "languageId": "polyglot-notebook"
    }
   },
   "outputs": [
    {
     "data": {
      "application/json": {
       "code": "Success",
       "deadline": {
        "adjustedValue": 14775090029
       },
       "group": "confirmed",
       "hash": "862FD6EAFEA2CDFBCDA6439AECEECC3DEB119B100D2EDE8882B09A23324B0151",
       "height": {
        "higher": 0,
        "lower": 396920
       }
      }
     },
     "metadata": {},
     "output_type": "display_data"
    },
    {
     "data": {
      "application/json": {
       "transaction": {
        "cosignatures": [
         {
          "signature": "CEA8A6815AF448B457FBE500049ED955BFD9E9273460EAD489AFCE09E7CBB3BC87C64BEEBA4C22B013A03A62BA4DF9A29D5651D35A2DA5AD105DF4BF1F35DA0F",
          "signerPublicKey": {
           "address": {
            "address": "TB5RUHQATC4OAOBV3IFUJXKRDFJDBMZ4CSTVVHY",
            "networkType": 152
           },
           "publicKey": "4D78D99720924952F5A9FE4C58AEEAB03D1611E2AD2887990A848CDA3CE1F29E"
          },
          "version": [
           0,
           0
          ]
         },
         {
          "signature": "76B5F3AB2C2472D27C4E6A9CE2903E0CB6F1BE8D521C8517B0FD78D8F5BCB62C6F917D4CD5BD61F627A97B5411F7E60FBF0360FF0964A9D880FD55A7DD53340B",
          "signerPublicKey": {
           "address": {
            "address": "TC54XWPTLBJDK4UDP4V2CDUNDIWP23BJDCSFM3A",
            "networkType": 152
           },
           "publicKey": "ADF892B723796B12AAAACF5CB446967D4C1EF766B0C9BFF946A06619FEA4CEBC"
          },
          "version": [
           0,
           0
          ]
         }
        ],
        "deadline": "14775090029",
        "maxFee": "48000",
        "network": 152,
        "signature": "BC313EF14DEA0BF1CB026249728B41D33D0A180A2771C02FB0F1A371165163D1AA13C6C717E48A80E29FE5BE82D8975B430FBCD4523457C8A341A12F41DFB705",
        "signerPublicKey": "EC89C77A367C64C12E771B560506C19856FE1646A2D12564B8C6D2E7DC4509BF",
        "transactions": [
         {
          "transaction": {
           "deadline": "14775090029",
           "maxFee": "48000",
           "message": "0074657374",
           "mosaics": [
            {
             "amount": "1000000",
             "id": "E74B99BA41F4AFEE"
            }
           ],
           "network": 152,
           "recipientAddress": {
            "address": "TAOP6YRVWUH6VMBAZASNLYHL2SEU7DLALXJN7EY",
            "networkType": 152
           },
           "signature": "BC313EF14DEA0BF1CB026249728B41D33D0A180A2771C02FB0F1A371165163D1AA13C6C717E48A80E29FE5BE82D8975B430FBCD4523457C8A341A12F41DFB705",
           "signerPublicKey": "025DCCEB76B9296CEFD07DF651566BA66F688AD3BF09883CD6C5D897D21045B2",
           "type": 16724,
           "version": 1
          }
         }
        ],
        "type": 16961,
        "version": 2
       }
      }
     },
     "metadata": {},
     "output_type": "display_data"
    },
    {
     "data": {
      "text/plain": [
       "https://testnet.symbol.fyi/transactions/862FD6EAFEA2CDFBCDA6439AECEECC3DEB119B100D2EDE8882B09A23324B0151"
      ]
     },
     "metadata": {},
     "output_type": "display_data"
    }
   ],
   "source": [
    "hash = signedAggregateTx.hash;\n",
    "tsRepo = repo.createTransactionStatusRepository();\n",
    "transactionStatus = await tsRepo.getTransactionStatus(hash).toPromise();\n",
    "console.log(transactionStatus);\n",
    "txInfo = await txRepo.getTransaction(hash,sym.TransactionGroup.Confirmed).toPromise(); //ここをConfirmedに変更\n",
    "console.log(txInfo);\n",
    "console.log(`https://testnet.symbol.fyi/transactions/${hash}`) //ブラウザで確認を追加"
   ]
  },
  {
   "attachments": {},
   "cell_type": "markdown",
   "metadata": {
    "dotnet_interactive": {
     "language": "javascript"
    },
    "polyglot_notebook": {
     "kernelName": "javascript"
    }
   },
   "source": [
    "## 9.4 マルチシグ送信の確認\n",
    "\n",
    "マルチシグで行った送信トランザクションの結果を確認してみます。"
   ]
  },
  {
   "cell_type": "code",
   "execution_count": 39,
   "metadata": {
    "dotnet_interactive": {
     "language": "javascript"
    },
    "polyglot_notebook": {
     "kernelName": "javascript"
    },
    "vscode": {
     "languageId": "polyglot-notebook"
    }
   },
   "outputs": [
    {
     "data": {
      "text/plain": [
       "{\n",
       "  \"transaction\": {\n",
       "    \"type\": 16705,\n",
       "    \"network\": 152,\n",
       "    \"version\": 2,\n",
       "    \"maxFee\": \"48000\",\n",
       "    \"deadline\": \"14774980772\",\n",
       "    \"signature\": \"B97712C9BC1C0CCEF1B97FA1F34AB58433B8F7D17E83546E2A4BA354DB92686CBD1B9420A5F48BA84EBAF3591BB5E91B892361C81FDBD6756B94DB1195169E06\",\n",
       "    \"signerPublicKey\": \"EC89C77A367C64C12E771B560506C19856FE1646A2D12564B8C6D2E7DC4509BF\",\n",
       "    \"transactions\": [\n",
       "      {\n",
       "        \"transaction\": {\n",
       "          \"type\": 16724,\n",
       "          \"network\": 152,\n",
       "          \"version\": 1,\n",
       "          \"maxFee\": \"48000\",\n",
       "          \"deadline\": \"14774980772\",\n",
       "          \"signature\": \"B97712C9BC1C0CCEF1B97FA1F34AB58433B8F7D17E83546E2A4BA354DB92686CBD1B9420A5F48BA84EBAF3591BB5E91B892361C81FDBD6756B94DB1195169E06\",\n",
       "          \"signerPublicKey\": \"025DCCEB76B9296CEFD07DF651566BA66F688AD3BF09883CD6C5D897D21045B2\",\n",
       "          \"recipientAddress\": {\n",
       "            \"address\": \"TAOP6YRVWUH6VMBAZASNLYHL2SEU7DLALXJN7EY\",\n",
       "            \"networkType\": 152\n",
       "          },\n",
       "          \"mosaics\": [\n",
       "            {\n",
       "              \"amount\": \"1000000\",\n",
       "              \"id\": \"E74B99BA41F4AFEE\"\n",
       "            }\n",
       "          ],\n",
       "          \"message\": \"0074657374\"\n",
       "        }\n",
       "      }\n",
       "    ],\n",
       "    \"cosignatures\": [\n",
       "      {\n",
       "        \"version\": [\n",
       "          0,\n",
       "          0\n",
       "        ],\n",
       "        \"signature\": \"EB2260D49D0CA50EB942428EA2E962BF4E8FCAAE57F29A62B8495ADFE9A9AE4389FBABDDCAE235368E886E00DF836C9A3BB9051842A0F70AB1F09045C6242707\",\n",
       "        \"signerPublicKey\": {\n",
       "          \"publicKey\": \"4D78D99720924952F5A9FE4C58AEEAB03D1611E2AD2887990A848CDA3CE1F29E\",\n",
       "          \"address\": {\n",
       "            \"address\": \"TB5RUHQATC4OAOBV3IFUJXKRDFJDBMZ4CSTVVHY\",\n",
       "            \"networkType\": 152\n",
       "          }\n",
       "        }\n",
       "      },\n",
       "      {\n",
       "        \"version\": [\n",
       "          0,\n",
       "          0\n",
       "        ],\n",
       "        \"signature\": \"E6A7846E0C9000823C0AABB9D1FA14B3F3CAAB04F75C4AB1EF660A86FC638E8607B225AD6F1C3489BD5335770120066E2BB5B2171F8254C3E30A097D58E17005\",\n",
       "        \"signerPublicKey\": {\n",
       "          \"publicKey\": \"ADF892B723796B12AAAACF5CB446967D4C1EF766B0C9BFF946A06619FEA4CEBC\",\n",
       "          \"address\": {\n",
       "            \"address\": \"TC54XWPTLBJDK4UDP4V2CDUNDIWP23BJDCSFM3A\",\n",
       "            \"networkType\": 152\n",
       "          }\n",
       "        }\n",
       "      }\n",
       "    ]\n",
       "  }\n",
       "}"
      ]
     },
     "metadata": {},
     "output_type": "display_data"
    }
   ],
   "source": [
    "txInfo = await txRepo.getTransaction(signedTx.hash,sym.TransactionGroup.Confirmed).toPromise();\n",
    "console.log(JSON.stringify(txInfo,null,2));"
   ]
  },
  {
   "attachments": {},
   "cell_type": "markdown",
   "metadata": {
    "dotnet_interactive": {
     "language": "javascript"
    },
    "polyglot_notebook": {
     "kernelName": "javascript"
    }
   },
   "source": [
    "###### 出力例\n",
    "```js\n",
    "> AggregateTransaction\n",
    "  > cosignatures: Array(2)\n",
    "        0: AggregateTransactionCosignature\n",
    "            signature: \"554F3C7017C32FD4FE67C1E5E35DD21D395D44742B43BD1EF99BC8E9576845CDC087B923C69DB2D86680279253F2C8A450F97CC7D3BCD6E86FE4E70135D44B06\"\n",
    "            signer: PublicAccount\n",
    "                address: Address {address: 'TB3XP4GQK6XH2SSA2E2U6UWCESNACK566DS4COY', networkType: 152}\n",
    "                publicKey: \"A1BA266B56B21DC997D637BCC539CCFFA563ABCB34EAA52CF90005429F5CB39C\"\n",
    "        1: AggregateTransactionCosignature\n",
    "            signature: \"AD753E23D3D3A4150092C13A410D5AB373B871CA74D1A723798332D70AD4598EC656F580CB281DB3EB5B9A7A1826BAAA6E060EEA3CC5F93644136E9B52006C05\"\n",
    "            signer: PublicAccount\n",
    "                address: Address {address: 'TBAFGZOCB7OHZCCYYV64F2IFZL7SOOXNDHFS5NY', networkType: 152}\n",
    "                publicKey: \"B00721EDD76B24E3DDCA13555F86FC4BDA89D413625465B1BD7F347F74B82FF0\"\n",
    "    deadline: Deadline {adjustedValue: 12619660047}\n",
    "  > innerTransactions: Array(1)\n",
    "      > 0: TransferTransaction\n",
    "            deadline: Deadline {adjustedValue: 12619660047}\n",
    "            maxFee: UInt64 {lower: 48000, higher: 0}\n",
    "            message: PlainMessage {type: 0, payload: 'test'}\n",
    "            mosaics: [Mosaic]\n",
    "            networkType: 152\n",
    "            payloadSize: undefined\n",
    "            recipientAddress: Address {address: 'TBXUTAX6O6EUVPB6X7OBNX6UUXBMPPAFX7KE5TQ', networkType: 152}\n",
    "            signature: \"670EA8CFA4E35604DEE20877A6FC95C2786D748A8449CE7EEA7CB941FE5EC181175B0D6A08AF9E99955640C872DAD0AA68A37065C866EE1B651C3CE28BA95404\"\n",
    "            signer: PublicAccount\n",
    "                address: Address {address: 'TCOMA5VG67TZH4X55HGZOXOFP7S232CYEQMOS7Q', networkType: 152}\n",
    "                publicKey: \"4667BC99B68B6CA0878CD499CE89CDEB7AAE2EE8EB96E0E8656386DECF0AD657\"\n",
    "            transactionInfo: AggregateTransactionInfo {height: UInt64, index: 0, id: '62600A8C0A21EB5CD28679A4', hash: undefined, merkleComponentHash: undefined, …}\n",
    "            type: 16724\n",
    "    maxFee: UInt64 {lower: 48000, higher: 0}\n",
    "    networkType: 152\n",
    "    payloadSize: 480\n",
    "    signature: \"670EA8CFA4E35604DEE20877A6FC95C2786D748A8449CE7EEA7CB941FE5EC181175B0D6A08AF9E99955640C872DAD0AA68A37065C866EE1B651C3CE28BA95404\"\n",
    "  > signer: PublicAccount\n",
    "        address: Address {address: 'TCV67BMTD2JMDQOJUDQHBFJHQPG4DAKVKST3YJI', networkType: 152}\n",
    "        publicKey: \"FF9595FDCD983F46FF9AE0F7D86D94E9B164E385BD125202CF16528F53298656\"\n",
    "  > transactionInfo: \n",
    "        hash: \"AA99F8F4000F989E6F135228829DB66AEB3B3C4B1F06BA77D373D042EAA4C8DA\"\n",
    "        height: UInt64 {lower: 322376, higher: 0}\n",
    "        id: \"62600A8C0A21EB5CD28679A3\"\n",
    "        merkleComponentHash: \"1FD6340BCFEEA138CC6305137566B0B1E98DEDE70E79CC933665FE93E10E0E3E\"\n",
    "    type: 16705\n",
    "```\n",
    "\n",
    "- マルチシグアカウント\n",
    "    - Bob\n",
    "        - AggregateTransaction.innerTransactions[0].signer.address\n",
    "            - TCOMA5VG67TZH4X55HGZOXOFP7S232CYEQMOS7Q\n",
    "- 起案者アカウント\n",
    "    - Carol1\n",
    "        - AggregateTransaction.signer.address\n",
    "            - TCV67BMTD2JMDQOJUDQHBFJHQPG4DAKVKST3YJI\n",
    "- 連署者アカウント\n",
    "    - Carol2\n",
    "        - AggregateTransaction.cosignatures[0].signer.address\n",
    "            - TB3XP4GQK6XH2SSA2E2U6UWCESNACK566DS4COY\n",
    "    - Carol3\n",
    "        - AggregateTransaction.cosignatures[1].signer.address\n",
    "            - TBAFGZOCB7OHZCCYYV64F2IFZL7SOOXNDHFS5NY\n",
    "\n",
    "## 9.5 マルチシグ構成変更\n",
    "\n",
    "### マルチシグ構成の縮小\n",
    "\n",
    "連署者を減らすには除名対象アドレスに指定するとともに最小署名者数を連署者数が超えてしまわないように調整してトランザクションをアナウンスします。\n",
    "除名対象者を連署者に含む必要はありません。\n"
   ]
  },
  {
   "cell_type": "code",
   "execution_count": 40,
   "metadata": {
    "dotnet_interactive": {
     "language": "javascript"
    },
    "polyglot_notebook": {
     "kernelName": "javascript"
    },
    "vscode": {
     "languageId": "polyglot-notebook"
    }
   },
   "outputs": [],
   "source": [
    "multisigTx = sym.MultisigAccountModificationTransaction.create(\n",
    "    undefined, \n",
    "    -1, //承認のために必要な最小署名者数増分\n",
    "    -1, //除名のために必要な最小署名者数増分\n",
    "    [], //追加対象アドレス\n",
    "    [carol3.address],//除名対象アドレス\n",
    "    networkType\n",
    ");\n",
    "aggregateTx = sym.AggregateTransaction.createComplete(\n",
    "    sym.Deadline.create(epochAdjustment),\n",
    "    [ //構成変更したいマルチシグアカウントの公開鍵を指定\n",
    "      multisigTx.toAggregate(bob.publicAccount),\n",
    "    ],\n",
    "    networkType,[]    \n",
    ").setMaxFeeForAggregate(100, 2); // 第二引数に連署者の数:2\n",
    "signedTx =  aggregateTx.signTransactionWithCosignatories(\n",
    "    carol1,\n",
    "    [carol2,carol4],\n",
    "    generationHash,\n",
    ");\n",
    "await txRepo.announce(signedTx).toPromise();\n"
   ]
  },
  {
   "cell_type": "code",
   "execution_count": 41,
   "metadata": {
    "dotnet_interactive": {
     "language": "javascript"
    },
    "polyglot_notebook": {
     "kernelName": "javascript"
    },
    "vscode": {
     "languageId": "polyglot-notebook"
    }
   },
   "outputs": [
    {
     "data": {
      "application/json": {
       "code": "Success",
       "deadline": {
        "adjustedValue": 14776345258
       },
       "group": "confirmed",
       "hash": "EA77FB094B0059ACE99F384C3E32DE35AEF19687BFF63175548940B02F3926F0",
       "height": {
        "higher": 0,
        "lower": 396941
       }
      }
     },
     "metadata": {},
     "output_type": "display_data"
    },
    {
     "data": {
      "application/json": {
       "transaction": {
        "cosignatures": [
         {
          "signature": "A84CCDF3EA9ABEB9031D13AD974B292078B6A10A3CA7CBD9623BEACF759AF93DC870C7E3AC96B5B912C756DEA581846D683C1D21BD578903DBBEE7FF057A1C01",
          "signerPublicKey": {
           "address": {
            "address": "TB5RUHQATC4OAOBV3IFUJXKRDFJDBMZ4CSTVVHY",
            "networkType": 152
           },
           "publicKey": "4D78D99720924952F5A9FE4C58AEEAB03D1611E2AD2887990A848CDA3CE1F29E"
          },
          "version": [
           0,
           0
          ]
         },
         {
          "signature": "03633E70FC0358E5B34CB6BD5DFE96F31B28962AAF2C97266A2692086BA6C435EB8EB0E08549383506B34F0664090B0F4351807C65A0B09AF96DE60E477FC203",
          "signerPublicKey": {
           "address": {
            "address": "TBEDRQMP4LHXNUKO7QTVTJYBGH2XK62W4UREWGA",
            "networkType": 152
           },
           "publicKey": "3E7E92C08ACFAF8984EAFAD7FAF5362652B7F4F898347B023AB1F99FB7C5CF5E"
          },
          "version": [
           0,
           0
          ]
         }
        ],
        "deadline": "14776345258",
        "maxFee": "45600",
        "network": 152,
        "signature": "D0F4D02822A413D42E3C3549AB0C280517A7AB047DD9C34D75A0ED56E2DF1717B6C31E8047D1625488A198CC7CC4F4ADA1EEF233D5713FFADB3564E212B26502",
        "signerPublicKey": "EC89C77A367C64C12E771B560506C19856FE1646A2D12564B8C6D2E7DC4509BF",
        "transactions": [
         {
          "transaction": {
           "addressAdditions": [],
           "addressDeletions": [
            {
             "address": "TC54XWPTLBJDK4UDP4V2CDUNDIWP23BJDCSFM3A",
             "networkType": 152
            }
           ],
           "deadline": "14776345258",
           "maxFee": "45600",
           "minApprovalDelta": -1,
           "minRemovalDelta": -1,
           "network": 152,
           "signature": "D0F4D02822A413D42E3C3549AB0C280517A7AB047DD9C34D75A0ED56E2DF1717B6C31E8047D1625488A198CC7CC4F4ADA1EEF233D5713FFADB3564E212B26502",
           "signerPublicKey": "025DCCEB76B9296CEFD07DF651566BA66F688AD3BF09883CD6C5D897D21045B2",
           "type": 16725,
           "version": 1
          }
         }
        ],
        "type": 16705,
        "version": 2
       }
      }
     },
     "metadata": {},
     "output_type": "display_data"
    },
    {
     "data": {
      "text/plain": [
       "https://testnet.symbol.fyi/transactions/EA77FB094B0059ACE99F384C3E32DE35AEF19687BFF63175548940B02F3926F0"
      ]
     },
     "metadata": {},
     "output_type": "display_data"
    }
   ],
   "source": [
    "hash = signedTx.hash;\n",
    "tsRepo = repo.createTransactionStatusRepository();\n",
    "transactionStatus = await tsRepo.getTransactionStatus(hash).toPromise();\n",
    "console.log(transactionStatus);\n",
    "txInfo = await txRepo.getTransaction(hash,sym.TransactionGroup.Confirmed).toPromise();\n",
    "console.log(txInfo);\n",
    "console.log(`https://testnet.symbol.fyi/transactions/${hash}`) //ブラウザで確認を追加"
   ]
  },
  {
   "attachments": {},
   "cell_type": "markdown",
   "metadata": {
    "dotnet_interactive": {
     "language": "javascript"
    },
    "polyglot_notebook": {
     "kernelName": "javascript"
    }
   },
   "source": [
    "### 連署者構成の差替え\n",
    "\n",
    "連署者を差し替えるには、追加対象アドレスと除名対象アドレスを指定します。\n",
    "新たに追加指定するアカウントの連署は必ず必要です。"
   ]
  },
  {
   "cell_type": "code",
   "execution_count": 42,
   "metadata": {
    "dotnet_interactive": {
     "language": "javascript"
    },
    "polyglot_notebook": {
     "kernelName": "javascript"
    },
    "vscode": {
     "languageId": "polyglot-notebook"
    }
   },
   "outputs": [],
   "source": [
    "multisigTx = sym.MultisigAccountModificationTransaction.create(\n",
    "    undefined, \n",
    "    0, //承認のために必要な最小署名者数増分\n",
    "    0, //除名のために必要な最小署名者数増分\n",
    "    [carol5.address], //追加対象アドレス\n",
    "    [carol4.address], //除名対象アドレス\n",
    "    networkType\n",
    ");\n",
    "aggregateTx = sym.AggregateTransaction.createComplete(\n",
    "    sym.Deadline.create(epochAdjustment),\n",
    "    [ //構成変更したいマルチシグアカウントの公開鍵を指定\n",
    "      multisigTx.toAggregate(bob.publicAccount),\n",
    "    ],\n",
    "    networkType,[]    \n",
    ").setMaxFeeForAggregate(100, 2); // 第二引数に連署者の数:2\n",
    "signedTx =  aggregateTx.signTransactionWithCosignatories(\n",
    "    carol1, //起案者\n",
    "    [carol2,carol5], //連署者+承諾アカウント\n",
    "    generationHash,\n",
    ");\n",
    "await txRepo.announce(signedTx).toPromise();"
   ]
  },
  {
   "cell_type": "code",
   "execution_count": 51,
   "metadata": {
    "dotnet_interactive": {
     "language": "javascript"
    },
    "polyglot_notebook": {
     "kernelName": "javascript"
    },
    "vscode": {
     "languageId": "polyglot-notebook"
    }
   },
   "outputs": [
    {
     "data": {
      "application/json": {
       "code": "Success",
       "deadline": {
        "adjustedValue": 14776438220
       },
       "group": "confirmed",
       "hash": "51136D6932565441ECB2F189B67408D31CE2FC54E3DA8E0FDD796F656B53BB00",
       "height": {
        "higher": 0,
        "lower": 396944
       }
      }
     },
     "metadata": {},
     "output_type": "display_data"
    },
    {
     "data": {
      "application/json": {
       "transaction": {
        "cosignatures": [
         {
          "signature": "944317AA2181C36B58FCDCF59529B3DC925E260DE47A0A76FBBF47A005F1196CAF32CDBE9481B7E6A3EABA8879B72750B02513BF05D1D8735B0A96B10836D409",
          "signerPublicKey": {
           "address": {
            "address": "TB5RUHQATC4OAOBV3IFUJXKRDFJDBMZ4CSTVVHY",
            "networkType": 152
           },
           "publicKey": "4D78D99720924952F5A9FE4C58AEEAB03D1611E2AD2887990A848CDA3CE1F29E"
          },
          "version": [
           0,
           0
          ]
         },
         {
          "signature": "36F12EEF9D3E1A08B2CFF59CE2CE9560AF7864428CDC98588ECB1DCF28C603AB23D9D4ECAC0D5ECEECB5BD6D1127EFA46693957C2A26110633CC8796F7ADFE05",
          "signerPublicKey": {
           "address": {
            "address": "TDEPEPK22YQWMOFUVPUT67MUZJ67WJICF4F5PUA",
            "networkType": 152
           },
           "publicKey": "BB6F03318F66D2AAD2CE3C2B820B3B60B152BC4D942849213ADC317318BAD328"
          },
          "version": [
           0,
           0
          ]
         }
        ],
        "deadline": "14776438220",
        "maxFee": "48000",
        "network": 152,
        "signature": "8713C6660350801F590806B1EA38F43DF7133ACFEDE71053EB99DDB35894A005A5140980C123D05FE0F0816F0B2F0A37CB27B3AFF9B93312EFB6BC79A3528A0E",
        "signerPublicKey": "EC89C77A367C64C12E771B560506C19856FE1646A2D12564B8C6D2E7DC4509BF",
        "transactions": [
         {
          "transaction": {
           "addressAdditions": [
            {
             "address": "TDEPEPK22YQWMOFUVPUT67MUZJ67WJICF4F5PUA",
             "networkType": 152
            }
           ],
           "addressDeletions": [
            {
             "address": "TBEDRQMP4LHXNUKO7QTVTJYBGH2XK62W4UREWGA",
             "networkType": 152
            }
           ],
           "deadline": "14776438220",
           "maxFee": "48000",
           "minApprovalDelta": 0,
           "minRemovalDelta": 0,
           "network": 152,
           "signature": "8713C6660350801F590806B1EA38F43DF7133ACFEDE71053EB99DDB35894A005A5140980C123D05FE0F0816F0B2F0A37CB27B3AFF9B93312EFB6BC79A3528A0E",
           "signerPublicKey": "025DCCEB76B9296CEFD07DF651566BA66F688AD3BF09883CD6C5D897D21045B2",
           "type": 16725,
           "version": 1
          }
         }
        ],
        "type": 16705,
        "version": 2
       }
      }
     },
     "metadata": {},
     "output_type": "display_data"
    },
    {
     "data": {
      "text/plain": [
       "https://testnet.symbol.fyi/transactions/51136D6932565441ECB2F189B67408D31CE2FC54E3DA8E0FDD796F656B53BB00"
      ]
     },
     "metadata": {},
     "output_type": "display_data"
    }
   ],
   "source": [
    "hash = signedTx.hash;\n",
    "tsRepo = repo.createTransactionStatusRepository();\n",
    "transactionStatus = await tsRepo.getTransactionStatus(hash).toPromise();\n",
    "console.log(transactionStatus);\n",
    "txInfo = await txRepo.getTransaction(hash,sym.TransactionGroup.Confirmed).toPromise();\n",
    "console.log(txInfo);\n",
    "console.log(`https://testnet.symbol.fyi/transactions/${hash}`) //ブラウザで確認を追加"
   ]
  },
  {
   "attachments": {},
   "cell_type": "markdown",
   "metadata": {
    "dotnet_interactive": {
     "language": "javascript"
    },
    "polyglot_notebook": {
     "kernelName": "javascript"
    }
   },
   "source": [
    "## 9.6 現場で使えるヒント\n",
    "\n",
    "### 多要素認証\n",
    "\n",
    "秘密鍵の管理を複数の端末に分散させることができます。\n",
    "セキュリティ用の鍵を用意しておけば、紛失・漏洩時にも安全に回復することができます。\n",
    "また、マルチシグの安全運用については盗難時と紛失時の2パターンを検討しておく必要があるのでご注意ください。\n",
    "- 盗難時：ほかにも秘密鍵を使える人がいる。\n",
    "- 紛失時：だれもその秘密鍵を使えなくなる。\n",
    "\n",
    "\n",
    "### アカウントの所有\n",
    "\n",
    "マルチシグ化したアカウントの秘密鍵は無効化し、マルチシグを解除しない限りたとえ秘密鍵を知っていたとしても\n",
    "モザイク送信などはできなくなります。\n",
    "モザイクの章で説明した通り、所有を「自分の意思で手放すことができる状態」だとすると、\n",
    "マルチシグ化したアカウントがもつモザイク等の所有者は連署者になります。\n",
    "また、Symbolではマルチシグの構成変更が可能ですのでアカウントの所有を他の連署者に安全に移転することができます。\n",
    "\n",
    "### ワークフロー\n",
    "\n",
    "Symbolではマルチシグを3階層まで構成することができます(マルチレベルマルチシグ)。\n",
    "マルチレベルマルチシグを用いることで、バックアップ鍵を不正に持ち出して連署を完成させたり、承認者と監査役だけで署名を完成させるといったことを防ぐことができます。\n",
    "これによって、ブロックチェーン上にトランザクションが存在することが現実社会のワークフローなどの条件を満たした証拠として提示することができます。\n"
   ]
  },
  {
   "attachments": {},
   "cell_type": "markdown",
   "metadata": {
    "dotnet_interactive": {
     "language": "javascript"
    },
    "polyglot_notebook": {
     "kernelName": "javascript"
    }
   },
   "source": [
    "<span style=\"color:red\">\n",
    "\n",
    "## 参考情報</span>"
   ]
  },
  {
   "attachments": {},
   "cell_type": "markdown",
   "metadata": {
    "dotnet_interactive": {
     "language": "javascript"
    },
    "polyglot_notebook": {
     "kernelName": "javascript"
    }
   },
   "source": [
    "今回は実施しませんが、マルチシグのワークフロー（多数決）を使って人狼ゲームを開催しました。 \n",
    "\n",
    "また実施してみたいなと思います  \n",
    "\n",
    "\n",
    "<img width=\"800\" alt=\"スクリーンショット 2023-04-21 4 52 14\" src=\"https://user-images.githubusercontent.com/47712051/233473397-4770f90b-9bdb-4877-9b1a-fcae44d87101.png\">"
   ]
  },
  {
   "cell_type": "markdown",
   "metadata": {
    "dotnet_interactive": {
     "language": "javascript"
    },
    "polyglot_notebook": {
     "kernelName": "javascript"
    }
   },
   "source": []
  }
 ],
 "metadata": {
  "kernelspec": {
   "display_name": ".NET (C#)",
   "language": "C#",
   "name": ".net-csharp"
  },
  "polyglot_notebook": {
   "kernelInfo": {
    "defaultKernelName": "javascript",
    "items": [
     {
      "aliases": [
       "js"
      ],
      "languageName": null,
      "name": "javascript"
     },
     {
      "aliases": [
       "frontend"
      ],
      "languageName": null,
      "name": "vscode"
     },
     {
      "aliases": [],
      "languageName": null,
      "name": ".NET"
     },
     {
      "aliases": [
       "c#",
       "C#"
      ],
      "languageName": null,
      "name": "csharp"
     },
     {
      "aliases": [
       "f#",
       "F#"
      ],
      "languageName": null,
      "name": "fsharp"
     },
     {
      "aliases": [],
      "languageName": null,
      "name": "html"
     },
     {
      "aliases": [],
      "languageName": null,
      "name": "kql"
     },
     {
      "aliases": [],
      "languageName": null,
      "name": "mermaid"
     },
     {
      "aliases": [
       "powershell"
      ],
      "languageName": null,
      "name": "pwsh"
     },
     {
      "aliases": [],
      "languageName": null,
      "name": "sql"
     },
     {
      "aliases": [],
      "languageName": null,
      "name": "value"
     },
     {
      "aliases": [],
      "languageName": null,
      "name": "webview"
     }
    ]
   }
  }
 },
 "nbformat": 4,
 "nbformat_minor": 2
}
