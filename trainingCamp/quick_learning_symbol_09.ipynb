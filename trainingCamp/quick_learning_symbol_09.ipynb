{
 "cells": [
  {
   "attachments": {},
   "cell_type": "markdown",
   "metadata": {
    "dotnet_interactive": {
     "language": "javascript"
    },
    "polyglot_notebook": {
     "kernelName": "javascript"
    }
   },
   "source": [
    "<hr />\n",
    "\n",
    "### NoteBookの見方\n",
    "コード以外の情報 \n",
    "<span >白/黒での記載は速習Symbol</span>  \n",
    "<span style=\"color:red\">赤色での記載は補足情報</span>  \n",
    "<span >コード内で🌟マークがある場所は自分の情報に書き換えが必要</span>\n",
    "\n",
    "<hr />"
   ]
  },
  {
   "attachments": {},
   "cell_type": "markdown",
   "metadata": {
    "dotnet_interactive": {
     "language": "javascript"
    },
    "polyglot_notebook": {
     "kernelName": "javascript"
    }
   },
   "source": [
    "<span style=\"color:red\">\n",
    "\n",
    "# 環境構築\n",
    "</span>\n",
    "<span style=\"color:red\">\n",
    "\n",
    "## 1.Symbol SDKの読み込み </span>"
   ]
  },
  {
   "cell_type": "code",
   "execution_count": null,
   "metadata": {
    "dotnet_interactive": {
     "language": "javascript"
    },
    "polyglot_notebook": {
     "kernelName": "javascript"
    },
    "vscode": {
     "languageId": "polyglot-notebook"
    }
   },
   "outputs": [],
   "source": [
    "(script = document.createElement(\"script\")).src = \"https://xembook.github.io/nem2-browserify/symbol-sdk-pack-2.0.3.js\";\n",
    "document.getElementsByTagName(\"head\")[0].appendChild(script);"
   ]
  },
  {
   "attachments": {},
   "cell_type": "markdown",
   "metadata": {
    "dotnet_interactive": {
     "language": "javascript"
    },
    "polyglot_notebook": {
     "kernelName": "javascript"
    }
   },
   "source": [
    "<span style=\"color:red\">\n",
    "\n",
    "## 2.Symbol用の共通設定 </span>"
   ]
  },
  {
   "cell_type": "code",
   "execution_count": null,
   "metadata": {
    "dotnet_interactive": {
     "language": "javascript"
    },
    "polyglot_notebook": {
     "kernelName": "javascript"
    },
    "vscode": {
     "languageId": "polyglot-notebook"
    }
   },
   "outputs": [],
   "source": [
    "NODE = 'https://sym-test-03.opening-line.jp:3001';\n",
    "sym = require(\"/node_modules/symbol-sdk\");\n",
    "repo = new sym.RepositoryFactoryHttp(NODE);\n",
    "txRepo = repo.createTransactionRepository();\n",
    "mosaicRepo = repo.createMosaicRepository();\n",
    "accountRepo = repo.createAccountRepository();\n",
    "(async () => {\n",
    "  networkType = await repo.getNetworkType().toPromise();\n",
    "  generationHash = await repo.getGenerationHash().toPromise();\n",
    "  epochAdjustment = await repo.getEpochAdjustment().toPromise();\n",
    "})();\n",
    "\n",
    "function clog(signedTx){\n",
    "    console.log(NODE + \"/transactionStatus/\" + signedTx.hash);\n",
    "    console.log(NODE + \"/transactions/confirmed/\" + signedTx.hash);\n",
    "    console.log(\"https://symbol.fyi/transactions/\" + signedTx.hash);\n",
    "    console.log(\"https://testnet.symbol.fyi/transactions/\" + signedTx.hash);\n",
    "}"
   ]
  },
  {
   "attachments": {},
   "cell_type": "markdown",
   "metadata": {
    "dotnet_interactive": {
     "language": "javascript"
    },
    "polyglot_notebook": {
     "kernelName": "javascript"
    }
   },
   "source": [
    "<span style=\"color:red\">\n",
    "\n",
    "## 3.aliceアカウントのリストア </span>"
   ]
  },
  {
   "cell_type": "code",
   "execution_count": null,
   "metadata": {
    "dotnet_interactive": {
     "language": "javascript"
    },
    "polyglot_notebook": {
     "kernelName": "javascript"
    },
    "vscode": {
     "languageId": "polyglot-notebook"
    }
   },
   "outputs": [],
   "source": [
    "alice = sym.Account.createFromPrivateKey(\n",
    "    \"1E9139CC1580B4AED6A1FE110085281D4982ED0D89CE07F3380EB83069B1****\", //🌟ここに3章で作成した秘密鍵を入力\n",
    "    networkType\n",
    ");"
   ]
  },
  {
   "attachments": {},
   "cell_type": "markdown",
   "metadata": {
    "dotnet_interactive": {
     "language": "javascript"
    },
    "polyglot_notebook": {
     "kernelName": "javascript"
    }
   },
   "source": [
    "<img width=\"800\" alt=\"スクリーンショット 2023-01-21 1 39 39\" src=\"https://user-images.githubusercontent.com/47712051/216161992-74ce64aa-8129-4820-9cf8-637008106da5.png\">\n",
    "<img width=\"800\" alt=\"スクリーンショット 2023-01-21 1 39 39\" src=\"https://user-images.githubusercontent.com/47712051/216161999-b456af21-eae2-46e3-800f-903516fbfdbc.png\">\n",
    "<img width=\"800\" alt=\"スクリーンショット 2023-01-21 1 39 39\" src=\"https://user-images.githubusercontent.com/47712051/216162002-212ff545-30a3-4ac4-b3dc-52673d1c498e.png\">\n",
    "<img width=\"800\" alt=\"スクリーンショット 2023-01-21 1 39 39\" src=\"https://user-images.githubusercontent.com/47712051/216162007-bbd4405a-645f-4e14-a6db-a982e3df73b6.png\">\n",
    "<img width=\"800\" alt=\"スクリーンショット 2023-01-21 1 39 39\" src=\"https://user-images.githubusercontent.com/47712051/216162012-a2ae1750-68e1-415b-9d32-a9a813df9a46.png\">\n",
    "<img width=\"800\" alt=\"スクリーンショット 2023-01-21 1 39 39\" src=\"https://user-images.githubusercontent.com/47712051/216162014-b85a106c-730d-464c-806b-d3e0595b358d.png\">"
   ]
  },
  {
   "attachments": {},
   "cell_type": "markdown",
   "metadata": {
    "dotnet_interactive": {
     "language": "javascript"
    },
    "polyglot_notebook": {
     "kernelName": "javascript"
    }
   },
   "source": [
    "<hr />"
   ]
  },
  {
   "attachments": {},
   "cell_type": "markdown",
   "metadata": {
    "dotnet_interactive": {
     "language": "javascript"
    },
    "polyglot_notebook": {
     "kernelName": "javascript"
    }
   },
   "source": [
    "# 9.マルチシグ化\n",
    "アカウントのマルチシグ化について説明します。\n",
    "\n",
    "\n",
    "### 注意事項\n",
    "\n",
    "一つのマルチシグアカウントに登録できる連署者の数は25個です。\n",
    "一つのアカウントは最大25個のマルチシグの連署者になれます。\n",
    "マルチシグは最大3階層まで構成できます。\n",
    "本書では1階層のマルチシグのみ解説します。\n",
    "\n",
    "## 9.0 アカウントの準備\n",
    "この章のサンプルソースコードで使用するアカウントを作成し、それぞれの秘密鍵を出力しておきます。\n",
    "本章でマルチシグ化したアカウントBobは、Carolの秘密鍵を紛失すると使えなくなってしまうのでご注意ください。\n"
   ]
  },
  {
   "cell_type": "code",
   "execution_count": null,
   "metadata": {
    "dotnet_interactive": {
     "language": "javascript"
    },
    "polyglot_notebook": {
     "kernelName": "javascript"
    },
    "vscode": {
     "languageId": "polyglot-notebook"
    }
   },
   "outputs": [],
   "source": [
    "bob = sym.Account.generateNewAccount(networkType);\n",
    "carol1 = sym.Account.generateNewAccount(networkType);\n",
    "carol2 = sym.Account.generateNewAccount(networkType);\n",
    "carol3 = sym.Account.generateNewAccount(networkType);\n",
    "carol4 = sym.Account.generateNewAccount(networkType);\n",
    "carol5 = sym.Account.generateNewAccount(networkType);\n",
    "console.log(bob.privateKey);\n",
    "console.log(carol1.privateKey);\n",
    "console.log(carol2.privateKey);\n",
    "console.log(carol3.privateKey);\n",
    "console.log(carol4.privateKey);\n",
    "console.log(carol5.privateKey);"
   ]
  },
  {
   "attachments": {},
   "cell_type": "markdown",
   "metadata": {
    "dotnet_interactive": {
     "language": "javascript"
    },
    "polyglot_notebook": {
     "kernelName": "javascript"
    }
   },
   "source": [
    "テストネットの場合はFAUCETでネットワーク手数料分をbobとcarol1に補給しておきます。\n",
    "\n",
    "- Faucet\n",
    "    - https://testnet.symbol.tools/\n",
    "\n",
    "##### URL出力\n"
   ]
  },
  {
   "cell_type": "code",
   "execution_count": null,
   "metadata": {
    "dotnet_interactive": {
     "language": "javascript"
    },
    "polyglot_notebook": {
     "kernelName": "javascript"
    },
    "vscode": {
     "languageId": "polyglot-notebook"
    }
   },
   "outputs": [],
   "source": [
    "console.log(\"https://testnet.symbol.tools/?recipient=\" + bob.address.plain() +\"&amount=20\");\n",
    "console.log(\"https://testnet.symbol.tools/?recipient=\" + carol1.address.plain() +\"&amount=20\");\n"
   ]
  },
  {
   "attachments": {},
   "cell_type": "markdown",
   "metadata": {
    "dotnet_interactive": {
     "language": "javascript"
    },
    "polyglot_notebook": {
     "kernelName": "javascript"
    }
   },
   "source": [
    "## 9.1 マルチシグの登録\n",
    "\n",
    "Symbolではマルチシグアカウントを新規に作成するのではなく、既存アカウントについて連署者を指定してマルチシグ化します。\n",
    "マルチシグ化には連署者に指定されたアカウントの承諾署名(オプトイン)が必要なため、アグリゲートトランザクションを使用します。\n"
   ]
  },
  {
   "cell_type": "code",
   "execution_count": null,
   "metadata": {
    "dotnet_interactive": {
     "language": "javascript"
    },
    "polyglot_notebook": {
     "kernelName": "javascript"
    },
    "vscode": {
     "languageId": "polyglot-notebook"
    }
   },
   "outputs": [],
   "source": [
    "multisigTx = sym.MultisigAccountModificationTransaction.create(\n",
    "    undefined, \n",
    "    3, //minApproval:承認のために必要な最小署名者数増分\n",
    "    3, //minRemoval:除名のために必要な最小署名者数増分\n",
    "    [\n",
    "        carol1.address,carol2.address,carol3.address,carol4.address\n",
    "    ], //追加対象アドレスリスト\n",
    "    [],//除名対象アドレスリスト\n",
    "    networkType\n",
    ");\n",
    "aggregateTx = sym.AggregateTransaction.createComplete(\n",
    "    sym.Deadline.create(epochAdjustment),\n",
    "    [//マルチシグ化したいアカウントの公開鍵を指定\n",
    "      multisigTx.toAggregate(bob.publicAccount),\n",
    "    ],\n",
    "    networkType,[]\n",
    ").setMaxFeeForAggregate(100, 4); // 第二引数に連署者の数:4\n",
    "signedTx =  aggregateTx.signTransactionWithCosignatories(\n",
    "    bob, //マルチシグ化したいアカウント\n",
    "    [carol1,carol2,carol3,carol4], //追加・除外対象として指定したアカウント\n",
    "    generationHash,\n",
    ");\n",
    "await txRepo.announce(signedTx).toPromise();"
   ]
  },
  {
   "cell_type": "code",
   "execution_count": null,
   "metadata": {
    "dotnet_interactive": {
     "language": "javascript"
    },
    "polyglot_notebook": {
     "kernelName": "javascript"
    },
    "vscode": {
     "languageId": "polyglot-notebook"
    }
   },
   "outputs": [],
   "source": [
    "hash = signedTx.hash;\n",
    "tsRepo = repo.createTransactionStatusRepository();\n",
    "transactionStatus = await tsRepo.getTransactionStatus(hash).toPromise();\n",
    "console.log(transactionStatus);\n",
    "txInfo = await txRepo.getTransaction(hash,sym.TransactionGroup.Confirmed).toPromise();\n",
    "console.log(txInfo);\n",
    "console.log(`https://testnet.symbol.fyi/transactions/${hash}`) //ブラウザで確認を追加"
   ]
  },
  {
   "attachments": {},
   "cell_type": "markdown",
   "metadata": {
    "dotnet_interactive": {
     "language": "javascript"
    },
    "polyglot_notebook": {
     "kernelName": "javascript"
    }
   },
   "source": [
    "## 9.2 確認\n",
    "\n",
    "### マルチシグ化したアカウントの確認\n"
   ]
  },
  {
   "cell_type": "code",
   "execution_count": null,
   "metadata": {
    "dotnet_interactive": {
     "language": "javascript"
    },
    "polyglot_notebook": {
     "kernelName": "javascript"
    },
    "vscode": {
     "languageId": "polyglot-notebook"
    }
   },
   "outputs": [],
   "source": [
    "msigRepo = repo.createMultisigRepository();\n",
    "multisigInfo = await msigRepo.getMultisigAccountInfo(bob.address).toPromise();\n",
    "console.log(JSON.stringify(multisigInfo,null,2));\n"
   ]
  },
  {
   "attachments": {},
   "cell_type": "markdown",
   "metadata": {
    "dotnet_interactive": {
     "language": "javascript"
    },
    "polyglot_notebook": {
     "kernelName": "javascript"
    }
   },
   "source": [
    "###### 出力例\n",
    "```js\n",
    "> MultisigAccountInfo \n",
    "    accountAddress: Address {address: 'TCOMA5VG67TZH4X55HGZOXOFP7S232CYEQMOS7Q', networkType: 152}\n",
    "  > cosignatoryAddresses: Array(4)\n",
    "        0: Address {address: 'TBAFGZOCB7OHZCCYYV64F2IFZL7SOOXNDHFS5NY', networkType: 152}\n",
    "        1: Address {address: 'TB3XP4GQK6XH2SSA2E2U6UWCESNACK566DS4COY', networkType: 152}\n",
    "        2: Address {address: 'TCV67BMTD2JMDQOJUDQHBFJHQPG4DAKVKST3YJI', networkType: 152}\n",
    "\t3: Address {address: 'TDWGG6ZWCGS5AHFTF5FDB347HIMII57PK46AIDA', networkType: 152}\n",
    "    minApproval: 3\n",
    "    minRemoval: 3\n",
    "    multisigAddresses: []\n",
    "```\n",
    "\n",
    "cosignatoryAddressesが連署者として登録されていることがわかります。\n",
    "また、minApproval:3 によりトランザクションが成立するために必要な署名数3\n",
    "minRemoval: 3により連署者を取り外すために必要な署名者数は3であることがわかります。\n",
    "\n",
    "### 連署者アカウントの確認\n"
   ]
  },
  {
   "cell_type": "code",
   "execution_count": null,
   "metadata": {
    "dotnet_interactive": {
     "language": "javascript"
    },
    "polyglot_notebook": {
     "kernelName": "javascript"
    },
    "vscode": {
     "languageId": "polyglot-notebook"
    }
   },
   "outputs": [],
   "source": [
    "msigRepo = repo.createMultisigRepository();\n",
    "multisigInfo = await msigRepo.getMultisigAccountInfo(carol1.address).toPromise();\n",
    "console.log(JSON.stringify(multisigInfo,null,2));"
   ]
  },
  {
   "attachments": {},
   "cell_type": "markdown",
   "metadata": {
    "dotnet_interactive": {
     "language": "javascript"
    },
    "polyglot_notebook": {
     "kernelName": "javascript"
    }
   },
   "source": [
    "###### 出力例\n",
    "```\n",
    "> MultisigAccountInfo\n",
    "    accountAddress: Address {address: 'TCV67BMTD2JMDQOJUDQHBFJHQPG4DAKVKST3YJI', networkType: 152}\n",
    "    cosignatoryAddresses: []\n",
    "    minApproval: 0\n",
    "    minRemoval: 0\n",
    "  > multisigAddresses: Array(1)\n",
    "        0: Address {address: 'TCOMA5VG67TZH4X55HGZOXOFP7S232CYEQMOS7Q', networkType: 152}\n",
    "```\n",
    "\n",
    "multisigAddresses に対して連署する権利を持っていることが分かります。\n",
    "\n",
    "## 9.3 マルチシグ署名\n",
    "\n",
    "マルチシグ化したアカウントからモザイクを送信します。\n",
    "\n",
    "### アグリゲートコンプリートトランザクションで送信\n",
    "\n",
    "アグリゲートコンプリートトランザクションの場合、ノードにアナウンスする前に連署者の署名を全て集めてからトランザクションを作成します。\n"
   ]
  },
  {
   "cell_type": "code",
   "execution_count": null,
   "metadata": {
    "dotnet_interactive": {
     "language": "javascript"
    },
    "polyglot_notebook": {
     "kernelName": "javascript"
    },
    "vscode": {
     "languageId": "polyglot-notebook"
    }
   },
   "outputs": [],
   "source": [
    "tx = sym.TransferTransaction.create(\n",
    "    undefined,\n",
    "    alice.address, \n",
    "    [new sym.Mosaic(new sym.NamespaceId(\"symbol.xym\"),sym.UInt64.fromUint(1000000))],\n",
    "    sym.PlainMessage.create('test'),\n",
    "    networkType\n",
    ");\n",
    "aggregateTx = sym.AggregateTransaction.createComplete(\n",
    "    sym.Deadline.create(epochAdjustment),\n",
    "     [//マルチシグ化したアカウントの公開鍵を指定\n",
    "       tx.toAggregate(bob.publicAccount)\n",
    "     ],\n",
    "    networkType,[],\n",
    ").setMaxFeeForAggregate(100, 2); // 第二引数に連署者の数:2\n",
    "signedTx =  aggregateTx.signTransactionWithCosignatories(\n",
    "    carol1, //起案者\n",
    "    [carol2,carol3],　//連署者\n",
    "    generationHash,\n",
    ");\n",
    "await txRepo.announce(signedTx).toPromise();"
   ]
  },
  {
   "cell_type": "code",
   "execution_count": null,
   "metadata": {
    "dotnet_interactive": {
     "language": "javascript"
    },
    "polyglot_notebook": {
     "kernelName": "javascript"
    },
    "vscode": {
     "languageId": "polyglot-notebook"
    }
   },
   "outputs": [],
   "source": [
    "hash = signedTx.hash;\n",
    "tsRepo = repo.createTransactionStatusRepository();\n",
    "transactionStatus = await tsRepo.getTransactionStatus(hash).toPromise();\n",
    "console.log(transactionStatus);\n",
    "txInfo = await txRepo.getTransaction(hash,sym.TransactionGroup.Confirmed).toPromise();\n",
    "console.log(txInfo);\n",
    "console.log(`https://testnet.symbol.fyi/transactions/${hash}`) //ブラウザで確認を追加"
   ]
  },
  {
   "attachments": {},
   "cell_type": "markdown",
   "metadata": {
    "dotnet_interactive": {
     "language": "javascript"
    },
    "polyglot_notebook": {
     "kernelName": "javascript"
    }
   },
   "source": [
    "### アグリゲートボンデッドトランザクションで送信\n",
    "\n",
    "アグリゲートボンデッドトランザクションの場合は連署者を指定せずにアナウンスできます。\n",
    "事前にハッシュロックでトランザクションを留め置きしておくことを宣言しておき、連署者がネットワーク上に留め置きされたトランザクションに追加署名することで完成となります。\n"
   ]
  },
  {
   "cell_type": "code",
   "execution_count": null,
   "metadata": {
    "dotnet_interactive": {
     "language": "javascript"
    },
    "polyglot_notebook": {
     "kernelName": "javascript"
    },
    "vscode": {
     "languageId": "polyglot-notebook"
    }
   },
   "outputs": [],
   "source": [
    "tx = sym.TransferTransaction.create(\n",
    "    undefined,\n",
    "    alice.address, //Aliceへの送信\n",
    "    [new sym.Mosaic(new sym.NamespaceId(\"symbol.xym\"),sym.UInt64.fromUint(1000000))], //1XYM\n",
    "    sym.PlainMessage.create('test'),\n",
    "    networkType\n",
    ");\n",
    "aggregateTx = sym.AggregateTransaction.createBonded(\n",
    "    sym.Deadline.create(epochAdjustment),\n",
    "     [ //マルチシグ化したアカウントの公開鍵を指定\n",
    "       tx.toAggregate(bob.publicAccount)\n",
    "     ],\n",
    "    networkType,[],\n",
    ").setMaxFeeForAggregate(100, 2); // 第二引数に連署者の数:2\n",
    "signedAggregateTx = carol1.sign(aggregateTx, generationHash);\n",
    "hashLockTx = sym.HashLockTransaction.create(\n",
    "  sym.Deadline.create(epochAdjustment),\n",
    "\tnew sym.Mosaic(new sym.NamespaceId(\"symbol.xym\"),sym.UInt64.fromUint(10 * 1000000)), //固定値:10XYM\n",
    "\tsym.UInt64.fromUint(480),\n",
    "\tsignedAggregateTx,\n",
    "\tnetworkType\n",
    ").setMaxFee(100);\n",
    "signedLockTx = carol1.sign(hashLockTx, generationHash);\n",
    "//ハッシュロックTXをアナウンス\n",
    "await txRepo.announce(signedLockTx).toPromise();"
   ]
  },
  {
   "cell_type": "code",
   "execution_count": null,
   "metadata": {
    "dotnet_interactive": {
     "language": "javascript"
    },
    "polyglot_notebook": {
     "kernelName": "javascript"
    },
    "vscode": {
     "languageId": "polyglot-notebook"
    }
   },
   "outputs": [],
   "source": [
    "hash = signedLockTx.hash;\n",
    "tsRepo = repo.createTransactionStatusRepository();\n",
    "transactionStatus = await tsRepo.getTransactionStatus(hash).toPromise();\n",
    "console.log(transactionStatus);\n",
    "txInfo = await txRepo.getTransaction(hash,sym.TransactionGroup.Confirmed).toPromise();\n",
    "console.log(txInfo);\n",
    "console.log(`https://testnet.symbol.fyi/transactions/${hash}`) //ブラウザで確認を追加"
   ]
  },
  {
   "cell_type": "code",
   "execution_count": null,
   "metadata": {
    "dotnet_interactive": {
     "language": "javascript"
    },
    "polyglot_notebook": {
     "kernelName": "javascript"
    },
    "vscode": {
     "languageId": "polyglot-notebook"
    }
   },
   "outputs": [],
   "source": [
    "//ハッシュロックの承認を確認した後、ボンデッドTXをアナウンス\n",
    "await txRepo.announceAggregateBonded(signedAggregateTx).toPromise();"
   ]
  },
  {
   "cell_type": "code",
   "execution_count": null,
   "metadata": {
    "dotnet_interactive": {
     "language": "javascript"
    },
    "polyglot_notebook": {
     "kernelName": "javascript"
    },
    "vscode": {
     "languageId": "polyglot-notebook"
    }
   },
   "outputs": [],
   "source": [
    "hash = signedAggregateTx.hash;\n",
    "tsRepo = repo.createTransactionStatusRepository();\n",
    "transactionStatus = await tsRepo.getTransactionStatus(hash).toPromise();\n",
    "console.log(transactionStatus);\n",
    "txInfo = await txRepo.getTransaction(hash,sym.TransactionGroup.Partial).toPromise();\n",
    "console.log(txInfo);\n",
    "console.log(`https://testnet.symbol.fyi/transactions/${hash}`) //ブラウザで確認を追加"
   ]
  },
  {
   "attachments": {},
   "cell_type": "markdown",
   "metadata": {
    "dotnet_interactive": {
     "language": "javascript"
    },
    "polyglot_notebook": {
     "kernelName": "javascript"
    }
   },
   "source": [
    "ボンデッドトランザクションがノードに取り込まれるとパーシャル署名状態となるので、8.ロックで紹介した連署を使用して、マルチシグアカウントで連署します。\n",
    "連署をサポートするウォレットで承認することもできます。"
   ]
  },
  {
   "attachments": {},
   "cell_type": "markdown",
   "metadata": {
    "dotnet_interactive": {
     "language": "javascript"
    },
    "polyglot_notebook": {
     "kernelName": "javascript"
    }
   },
   "source": [
    "<span style=\"color:red\">Carol2での連署</span>  "
   ]
  },
  {
   "cell_type": "code",
   "execution_count": null,
   "metadata": {
    "dotnet_interactive": {
     "language": "javascript"
    },
    "polyglot_notebook": {
     "kernelName": "javascript"
    },
    "vscode": {
     "languageId": "polyglot-notebook"
    }
   },
   "outputs": [],
   "source": [
    "targetHash = hash; //本来は自分宛のPartialトランザクションを確認して、その上でハッシュ値を確認し指定するが、今回は変数からハッシュ値を取り出している\n",
    "txInfo = await txRepo.getTransaction(targetHash,sym.TransactionGroup.Partial).toPromise(); //ハッシュ値でトランザクションを検索\n",
    "cosignatureTx = sym.CosignatureTransaction.create(txInfo); //連署用のトランザクションを作成\n",
    "signedCosTx = carol2.signCosignatureTransaction(cosignatureTx);\n",
    "await txRepo.announceAggregateBondedCosignature(signedCosTx).toPromise(); //ブロックチェーンにアナウンス"
   ]
  },
  {
   "cell_type": "code",
   "execution_count": null,
   "metadata": {
    "dotnet_interactive": {
     "language": "javascript"
    },
    "polyglot_notebook": {
     "kernelName": "javascript"
    },
    "vscode": {
     "languageId": "polyglot-notebook"
    }
   },
   "outputs": [],
   "source": [
    "hash = signedAggregateTx.hash;\n",
    "tsRepo = repo.createTransactionStatusRepository();\n",
    "transactionStatus = await tsRepo.getTransactionStatus(hash).toPromise();\n",
    "console.log(transactionStatus);\n",
    "txInfo = await txRepo.getTransaction(hash,sym.TransactionGroup.Partial).toPromise();\n",
    "console.log(txInfo);\n",
    "console.log(`https://testnet.symbol.fyi/transactions/${hash}`) //ブラウザで確認を追加"
   ]
  },
  {
   "attachments": {},
   "cell_type": "markdown",
   "metadata": {
    "dotnet_interactive": {
     "language": "javascript"
    },
    "polyglot_notebook": {
     "kernelName": "javascript"
    }
   },
   "source": [
    "<span style=\"color:red\">Carol3での連署</span>  "
   ]
  },
  {
   "cell_type": "code",
   "execution_count": null,
   "metadata": {
    "dotnet_interactive": {
     "language": "javascript"
    },
    "polyglot_notebook": {
     "kernelName": "javascript"
    },
    "vscode": {
     "languageId": "polyglot-notebook"
    }
   },
   "outputs": [],
   "source": [
    "targetHash = hash; //本来は自分宛のPartialトランザクションを確認して、その上でハッシュ値を確認し指定するが、今回は変数からハッシュ値を取り出している\n",
    "txInfo = await txRepo.getTransaction(targetHash,sym.TransactionGroup.Partial).toPromise(); //ハッシュ値でトランザクションを検索\n",
    "cosignatureTx = sym.CosignatureTransaction.create(txInfo); //連署用のトランザクションを作成\n",
    "signedCosTx = carol3.signCosignatureTransaction(cosignatureTx);\n",
    "await txRepo.announceAggregateBondedCosignature(signedCosTx).toPromise(); //ブロックチェーンにアナウンス"
   ]
  },
  {
   "cell_type": "code",
   "execution_count": null,
   "metadata": {
    "dotnet_interactive": {
     "language": "javascript"
    },
    "polyglot_notebook": {
     "kernelName": "javascript"
    },
    "vscode": {
     "languageId": "polyglot-notebook"
    }
   },
   "outputs": [],
   "source": [
    "hash = signedAggregateTx.hash;\n",
    "tsRepo = repo.createTransactionStatusRepository();\n",
    "transactionStatus = await tsRepo.getTransactionStatus(hash).toPromise();\n",
    "console.log(transactionStatus);\n",
    "txInfo = await txRepo.getTransaction(hash,sym.TransactionGroup.Confirmed).toPromise(); //ここをConfirmedに変更\n",
    "console.log(txInfo);\n",
    "console.log(`https://testnet.symbol.fyi/transactions/${hash}`) //ブラウザで確認を追加"
   ]
  },
  {
   "attachments": {},
   "cell_type": "markdown",
   "metadata": {
    "dotnet_interactive": {
     "language": "javascript"
    },
    "polyglot_notebook": {
     "kernelName": "javascript"
    }
   },
   "source": [
    "## 9.4 マルチシグ送信の確認\n",
    "\n",
    "マルチシグで行った送信トランザクションの結果を確認してみます。"
   ]
  },
  {
   "cell_type": "code",
   "execution_count": null,
   "metadata": {
    "dotnet_interactive": {
     "language": "javascript"
    },
    "polyglot_notebook": {
     "kernelName": "javascript"
    },
    "vscode": {
     "languageId": "polyglot-notebook"
    }
   },
   "outputs": [],
   "source": [
    "txInfo = await txRepo.getTransaction(signedTx.hash,sym.TransactionGroup.Confirmed).toPromise();\n",
    "console.log(JSON.stringify(txInfo,null,2));"
   ]
  },
  {
   "attachments": {},
   "cell_type": "markdown",
   "metadata": {
    "dotnet_interactive": {
     "language": "javascript"
    },
    "polyglot_notebook": {
     "kernelName": "javascript"
    }
   },
   "source": [
    "###### 出力例\n",
    "```js\n",
    "> AggregateTransaction\n",
    "  > cosignatures: Array(2)\n",
    "        0: AggregateTransactionCosignature\n",
    "            signature: \"554F3C7017C32FD4FE67C1E5E35DD21D395D44742B43BD1EF99BC8E9576845CDC087B923C69DB2D86680279253F2C8A450F97CC7D3BCD6E86FE4E70135D44B06\"\n",
    "            signer: PublicAccount\n",
    "                address: Address {address: 'TB3XP4GQK6XH2SSA2E2U6UWCESNACK566DS4COY', networkType: 152}\n",
    "                publicKey: \"A1BA266B56B21DC997D637BCC539CCFFA563ABCB34EAA52CF90005429F5CB39C\"\n",
    "        1: AggregateTransactionCosignature\n",
    "            signature: \"AD753E23D3D3A4150092C13A410D5AB373B871CA74D1A723798332D70AD4598EC656F580CB281DB3EB5B9A7A1826BAAA6E060EEA3CC5F93644136E9B52006C05\"\n",
    "            signer: PublicAccount\n",
    "                address: Address {address: 'TBAFGZOCB7OHZCCYYV64F2IFZL7SOOXNDHFS5NY', networkType: 152}\n",
    "                publicKey: \"B00721EDD76B24E3DDCA13555F86FC4BDA89D413625465B1BD7F347F74B82FF0\"\n",
    "    deadline: Deadline {adjustedValue: 12619660047}\n",
    "  > innerTransactions: Array(1)\n",
    "      > 0: TransferTransaction\n",
    "            deadline: Deadline {adjustedValue: 12619660047}\n",
    "            maxFee: UInt64 {lower: 48000, higher: 0}\n",
    "            message: PlainMessage {type: 0, payload: 'test'}\n",
    "            mosaics: [Mosaic]\n",
    "            networkType: 152\n",
    "            payloadSize: undefined\n",
    "            recipientAddress: Address {address: 'TBXUTAX6O6EUVPB6X7OBNX6UUXBMPPAFX7KE5TQ', networkType: 152}\n",
    "            signature: \"670EA8CFA4E35604DEE20877A6FC95C2786D748A8449CE7EEA7CB941FE5EC181175B0D6A08AF9E99955640C872DAD0AA68A37065C866EE1B651C3CE28BA95404\"\n",
    "            signer: PublicAccount\n",
    "                address: Address {address: 'TCOMA5VG67TZH4X55HGZOXOFP7S232CYEQMOS7Q', networkType: 152}\n",
    "                publicKey: \"4667BC99B68B6CA0878CD499CE89CDEB7AAE2EE8EB96E0E8656386DECF0AD657\"\n",
    "            transactionInfo: AggregateTransactionInfo {height: UInt64, index: 0, id: '62600A8C0A21EB5CD28679A4', hash: undefined, merkleComponentHash: undefined, …}\n",
    "            type: 16724\n",
    "    maxFee: UInt64 {lower: 48000, higher: 0}\n",
    "    networkType: 152\n",
    "    payloadSize: 480\n",
    "    signature: \"670EA8CFA4E35604DEE20877A6FC95C2786D748A8449CE7EEA7CB941FE5EC181175B0D6A08AF9E99955640C872DAD0AA68A37065C866EE1B651C3CE28BA95404\"\n",
    "  > signer: PublicAccount\n",
    "        address: Address {address: 'TCV67BMTD2JMDQOJUDQHBFJHQPG4DAKVKST3YJI', networkType: 152}\n",
    "        publicKey: \"FF9595FDCD983F46FF9AE0F7D86D94E9B164E385BD125202CF16528F53298656\"\n",
    "  > transactionInfo: \n",
    "        hash: \"AA99F8F4000F989E6F135228829DB66AEB3B3C4B1F06BA77D373D042EAA4C8DA\"\n",
    "        height: UInt64 {lower: 322376, higher: 0}\n",
    "        id: \"62600A8C0A21EB5CD28679A3\"\n",
    "        merkleComponentHash: \"1FD6340BCFEEA138CC6305137566B0B1E98DEDE70E79CC933665FE93E10E0E3E\"\n",
    "    type: 16705\n",
    "```\n",
    "\n",
    "- マルチシグアカウント\n",
    "    - Bob\n",
    "        - AggregateTransaction.innerTransactions[0].signer.address\n",
    "            - TCOMA5VG67TZH4X55HGZOXOFP7S232CYEQMOS7Q\n",
    "- 起案者アカウント\n",
    "    - Carol1\n",
    "        - AggregateTransaction.signer.address\n",
    "            - TCV67BMTD2JMDQOJUDQHBFJHQPG4DAKVKST3YJI\n",
    "- 連署者アカウント\n",
    "    - Carol2\n",
    "        - AggregateTransaction.cosignatures[0].signer.address\n",
    "            - TB3XP4GQK6XH2SSA2E2U6UWCESNACK566DS4COY\n",
    "    - Carol3\n",
    "        - AggregateTransaction.cosignatures[1].signer.address\n",
    "            - TBAFGZOCB7OHZCCYYV64F2IFZL7SOOXNDHFS5NY\n",
    "\n",
    "## 9.5 マルチシグ構成変更\n",
    "\n",
    "### マルチシグ構成の縮小\n",
    "\n",
    "連署者を減らすには除名対象アドレスに指定するとともに最小署名者数を連署者数が超えてしまわないように調整してトランザクションをアナウンスします。\n",
    "除名対象者を連署者に含む必要はありません。\n"
   ]
  },
  {
   "cell_type": "code",
   "execution_count": null,
   "metadata": {
    "dotnet_interactive": {
     "language": "javascript"
    },
    "polyglot_notebook": {
     "kernelName": "javascript"
    },
    "vscode": {
     "languageId": "polyglot-notebook"
    }
   },
   "outputs": [],
   "source": [
    "multisigTx = sym.MultisigAccountModificationTransaction.create(\n",
    "    undefined, \n",
    "    -1, //承認のために必要な最小署名者数増分\n",
    "    -1, //除名のために必要な最小署名者数増分\n",
    "    [], //追加対象アドレス\n",
    "    [carol3.address],//除名対象アドレス\n",
    "    networkType\n",
    ");\n",
    "aggregateTx = sym.AggregateTransaction.createComplete(\n",
    "    sym.Deadline.create(epochAdjustment),\n",
    "    [ //構成変更したいマルチシグアカウントの公開鍵を指定\n",
    "      multisigTx.toAggregate(bob.publicAccount),\n",
    "    ],\n",
    "    networkType,[]    \n",
    ").setMaxFeeForAggregate(100, 2); // 第二引数に連署者の数:2\n",
    "signedTx =  aggregateTx.signTransactionWithCosignatories(\n",
    "    carol1,\n",
    "    [carol2,carol4],\n",
    "    generationHash,\n",
    ");\n",
    "await txRepo.announce(signedTx).toPromise();\n"
   ]
  },
  {
   "cell_type": "code",
   "execution_count": null,
   "metadata": {
    "dotnet_interactive": {
     "language": "javascript"
    },
    "polyglot_notebook": {
     "kernelName": "javascript"
    },
    "vscode": {
     "languageId": "polyglot-notebook"
    }
   },
   "outputs": [],
   "source": [
    "hash = signedTx.hash;\n",
    "tsRepo = repo.createTransactionStatusRepository();\n",
    "transactionStatus = await tsRepo.getTransactionStatus(hash).toPromise();\n",
    "console.log(transactionStatus);\n",
    "txInfo = await txRepo.getTransaction(hash,sym.TransactionGroup.Confirmed).toPromise();\n",
    "console.log(txInfo);\n",
    "console.log(`https://testnet.symbol.fyi/transactions/${hash}`) //ブラウザで確認を追加"
   ]
  },
  {
   "attachments": {},
   "cell_type": "markdown",
   "metadata": {
    "dotnet_interactive": {
     "language": "javascript"
    },
    "polyglot_notebook": {
     "kernelName": "javascript"
    }
   },
   "source": [
    "### 連署者構成の差替え\n",
    "\n",
    "連署者を差し替えるには、追加対象アドレスと除名対象アドレスを指定します。\n",
    "新たに追加指定するアカウントの連署は必ず必要です。"
   ]
  },
  {
   "cell_type": "code",
   "execution_count": null,
   "metadata": {
    "dotnet_interactive": {
     "language": "javascript"
    },
    "polyglot_notebook": {
     "kernelName": "javascript"
    },
    "vscode": {
     "languageId": "polyglot-notebook"
    }
   },
   "outputs": [],
   "source": [
    "multisigTx = sym.MultisigAccountModificationTransaction.create(\n",
    "    undefined, \n",
    "    0, //承認のために必要な最小署名者数増分\n",
    "    0, //除名のために必要な最小署名者数増分\n",
    "    [carol5.address], //追加対象アドレス\n",
    "    [carol4.address], //除名対象アドレス\n",
    "    networkType\n",
    ");\n",
    "aggregateTx = sym.AggregateTransaction.createComplete(\n",
    "    sym.Deadline.create(epochAdjustment),\n",
    "    [ //構成変更したいマルチシグアカウントの公開鍵を指定\n",
    "      multisigTx.toAggregate(bob.publicAccount),\n",
    "    ],\n",
    "    networkType,[]    \n",
    ").setMaxFeeForAggregate(100, 2); // 第二引数に連署者の数:2\n",
    "signedTx =  aggregateTx.signTransactionWithCosignatories(\n",
    "    carol1, //起案者\n",
    "    [carol2,carol5], //連署者+承諾アカウント\n",
    "    generationHash,\n",
    ");\n",
    "await txRepo.announce(signedTx).toPromise();"
   ]
  },
  {
   "cell_type": "code",
   "execution_count": null,
   "metadata": {
    "dotnet_interactive": {
     "language": "javascript"
    },
    "polyglot_notebook": {
     "kernelName": "javascript"
    },
    "vscode": {
     "languageId": "polyglot-notebook"
    }
   },
   "outputs": [],
   "source": [
    "hash = signedTx.hash;\n",
    "tsRepo = repo.createTransactionStatusRepository();\n",
    "transactionStatus = await tsRepo.getTransactionStatus(hash).toPromise();\n",
    "console.log(transactionStatus);\n",
    "txInfo = await txRepo.getTransaction(hash,sym.TransactionGroup.Confirmed).toPromise();\n",
    "console.log(txInfo);\n",
    "console.log(`https://testnet.symbol.fyi/transactions/${hash}`) //ブラウザで確認を追加"
   ]
  },
  {
   "attachments": {},
   "cell_type": "markdown",
   "metadata": {
    "dotnet_interactive": {
     "language": "javascript"
    },
    "polyglot_notebook": {
     "kernelName": "javascript"
    }
   },
   "source": [
    "## 9.6 現場で使えるヒント\n",
    "\n",
    "### 多要素認証\n",
    "\n",
    "秘密鍵の管理を複数の端末に分散させることができます。\n",
    "セキュリティ用の鍵を用意しておけば、紛失・漏洩時にも安全に回復することができます。\n",
    "また、マルチシグの安全運用については盗難時と紛失時の2パターンを検討しておく必要があるのでご注意ください。\n",
    "- 盗難時：ほかにも秘密鍵を使える人がいる。\n",
    "- 紛失時：だれもその秘密鍵を使えなくなる。\n",
    "\n",
    "\n",
    "### アカウントの所有\n",
    "\n",
    "マルチシグ化したアカウントの秘密鍵は無効化し、マルチシグを解除しない限りたとえ秘密鍵を知っていたとしても\n",
    "モザイク送信などはできなくなります。\n",
    "モザイクの章で説明した通り、所有を「自分の意思で手放すことができる状態」だとすると、\n",
    "マルチシグ化したアカウントがもつモザイク等の所有者は連署者になります。\n",
    "また、Symbolではマルチシグの構成変更が可能ですのでアカウントの所有を他の連署者に安全に移転することができます。\n",
    "\n",
    "### ワークフロー\n",
    "\n",
    "Symbolではマルチシグを3階層まで構成することができます(マルチレベルマルチシグ)。\n",
    "マルチレベルマルチシグを用いることで、バックアップ鍵を不正に持ち出して連署を完成させたり、承認者と監査役だけで署名を完成させるといったことを防ぐことができます。\n",
    "これによって、ブロックチェーン上にトランザクションが存在することが現実社会のワークフローなどの条件を満たした証拠として提示することができます。\n"
   ]
  },
  {
   "attachments": {},
   "cell_type": "markdown",
   "metadata": {
    "dotnet_interactive": {
     "language": "javascript"
    },
    "polyglot_notebook": {
     "kernelName": "javascript"
    }
   },
   "source": [
    "<span style=\"color:red\">\n",
    "\n",
    "## 参考情報</span>"
   ]
  },
  {
   "attachments": {},
   "cell_type": "markdown",
   "metadata": {
    "dotnet_interactive": {
     "language": "javascript"
    },
    "polyglot_notebook": {
     "kernelName": "javascript"
    }
   },
   "source": [
    "今回は実施しませんが、マルチシグのワークフロー（多数決）を使って人狼ゲームを開催しました。 \n",
    "\n",
    "また実施してみたいなと思います  \n",
    "\n",
    "\n",
    "<img width=\"800\" alt=\"スクリーンショット 2023-04-21 4 52 14\" src=\"https://user-images.githubusercontent.com/47712051/233473397-4770f90b-9bdb-4877-9b1a-fcae44d87101.png\">"
   ]
  },
  {
   "cell_type": "markdown",
   "metadata": {
    "dotnet_interactive": {
     "language": "javascript"
    },
    "polyglot_notebook": {
     "kernelName": "javascript"
    }
   },
   "source": []
  }
 ],
 "metadata": {
  "kernelspec": {
   "display_name": ".NET (C#)",
   "language": "C#",
   "name": ".net-csharp"
  },
  "polyglot_notebook": {
   "kernelInfo": {
    "defaultKernelName": "javascript",
    "items": [
     {
      "aliases": [
       "js"
      ],
      "languageName": null,
      "name": "javascript"
     },
     {
      "aliases": [
       "frontend"
      ],
      "languageName": null,
      "name": "vscode"
     },
     {
      "aliases": [],
      "languageName": null,
      "name": ".NET"
     },
     {
      "aliases": [
       "c#",
       "C#"
      ],
      "languageName": null,
      "name": "csharp"
     },
     {
      "aliases": [
       "f#",
       "F#"
      ],
      "languageName": null,
      "name": "fsharp"
     },
     {
      "aliases": [],
      "languageName": null,
      "name": "html"
     },
     {
      "aliases": [],
      "languageName": null,
      "name": "kql"
     },
     {
      "aliases": [],
      "languageName": null,
      "name": "mermaid"
     },
     {
      "aliases": [
       "powershell"
      ],
      "languageName": null,
      "name": "pwsh"
     },
     {
      "aliases": [],
      "languageName": null,
      "name": "sql"
     },
     {
      "aliases": [],
      "languageName": null,
      "name": "value"
     },
     {
      "aliases": [],
      "languageName": null,
      "name": "webview"
     }
    ]
   }
  }
 },
 "nbformat": 4,
 "nbformat_minor": 2
}
