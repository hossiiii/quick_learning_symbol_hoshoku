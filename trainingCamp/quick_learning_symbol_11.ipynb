{
 "cells": [
  {
   "attachments": {},
   "cell_type": "markdown",
   "metadata": {
    "dotnet_interactive": {
     "language": "javascript"
    },
    "polyglot_notebook": {
     "kernelName": "javascript"
    }
   },
   "source": [
    "<hr />\n",
    "\n",
    "### NoteBookの見方\n",
    "コード以外の情報 \n",
    "<span >白/黒での記載は速習Symbol</span>  \n",
    "<span style=\"color:red\">赤色での記載は補足情報</span>  \n",
    "<span >コード内で🌟マークがある場所は自分の情報に書き換えが必要</span>\n",
    "\n",
    "<hr />"
   ]
  },
  {
   "attachments": {},
   "cell_type": "markdown",
   "metadata": {
    "dotnet_interactive": {
     "language": "javascript"
    },
    "polyglot_notebook": {
     "kernelName": "javascript"
    }
   },
   "source": [
    "<span style=\"color:red\">\n",
    "\n",
    "# 環境構築\n",
    "</span>\n",
    "<span style=\"color:red\">\n",
    "\n",
    "## 1.Symbol SDKの読み込み </span>"
   ]
  },
  {
   "cell_type": "code",
   "execution_count": null,
   "metadata": {
    "dotnet_interactive": {
     "language": "javascript"
    },
    "polyglot_notebook": {
     "kernelName": "javascript"
    },
    "vscode": {
     "languageId": "polyglot-notebook"
    }
   },
   "outputs": [],
   "source": [
    "(script = document.createElement(\"script\")).src = \"https://xembook.github.io/nem2-browserify/symbol-sdk-pack-2.0.3.js\";\n",
    "document.getElementsByTagName(\"head\")[0].appendChild(script);"
   ]
  },
  {
   "attachments": {},
   "cell_type": "markdown",
   "metadata": {
    "dotnet_interactive": {
     "language": "javascript"
    },
    "polyglot_notebook": {
     "kernelName": "javascript"
    }
   },
   "source": [
    "<span style=\"color:red\">\n",
    "\n",
    "## 2.Symbol用の共通設定 </span>"
   ]
  },
  {
   "cell_type": "code",
   "execution_count": null,
   "metadata": {
    "dotnet_interactive": {
     "language": "javascript"
    },
    "polyglot_notebook": {
     "kernelName": "javascript"
    },
    "vscode": {
     "languageId": "polyglot-notebook"
    }
   },
   "outputs": [],
   "source": [
    "NODE = 'https://sym-test-03.opening-line.jp:3001';\n",
    "sym = require(\"/node_modules/symbol-sdk\");\n",
    "repo = new sym.RepositoryFactoryHttp(NODE);\n",
    "txRepo = repo.createTransactionRepository();\n",
    "mosaicRepo = repo.createMosaicRepository();\n",
    "accountRepo = repo.createAccountRepository();\n",
    "(async () => {\n",
    "  networkType = await repo.getNetworkType().toPromise();\n",
    "  generationHash = await repo.getGenerationHash().toPromise();\n",
    "  epochAdjustment = await repo.getEpochAdjustment().toPromise();\n",
    "})();\n",
    "\n",
    "function clog(signedTx){\n",
    "    console.log(NODE + \"/transactionStatus/\" + signedTx.hash);\n",
    "    console.log(NODE + \"/transactions/confirmed/\" + signedTx.hash);\n",
    "    console.log(\"https://symbol.fyi/transactions/\" + signedTx.hash);\n",
    "    console.log(\"https://testnet.symbol.fyi/transactions/\" + signedTx.hash);\n",
    "}"
   ]
  },
  {
   "attachments": {},
   "cell_type": "markdown",
   "metadata": {
    "dotnet_interactive": {
     "language": "javascript"
    },
    "polyglot_notebook": {
     "kernelName": "javascript"
    }
   },
   "source": [
    "<span style=\"color:red\">\n",
    "\n",
    "## 3.aliceアカウントのリストア </span>"
   ]
  },
  {
   "cell_type": "code",
   "execution_count": null,
   "metadata": {
    "dotnet_interactive": {
     "language": "javascript"
    },
    "polyglot_notebook": {
     "kernelName": "javascript"
    },
    "vscode": {
     "languageId": "polyglot-notebook"
    }
   },
   "outputs": [],
   "source": [
    "alice = sym.Account.createFromPrivateKey(\n",
    "    \"1E9139CC1580B4AED6A1FE110085281D4982ED0D89CE07F3380EB83069B1****\", //🌟ここに3章で作成した秘密鍵を入力\n",
    "    networkType\n",
    ");"
   ]
  },
  {
   "attachments": {},
   "cell_type": "markdown",
   "metadata": {
    "dotnet_interactive": {
     "language": "javascript"
    },
    "polyglot_notebook": {
     "kernelName": "javascript"
    }
   },
   "source": [
    "<img width=\"800\" alt=\"スクリーンショット 2023-04-21 4 52 14\" src=\"https://user-images.githubusercontent.com/47712051/229624965-eaf6ae6e-7a61-4cf4-9ca9-1bdfad5cafbf.png\">\n",
    "\n",
    "<img width=\"800\" alt=\"スクリーンショット 2023-04-21 4 52 14\" src=\"https://user-images.githubusercontent.com/47712051/233480494-04999ba0-766d-437f-8657-d28933e90918.png\">\n",
    "\n",
    "<img width=\"800\" alt=\"スクリーンショット 2023-04-21 4 52 14\" src=\"https://user-images.githubusercontent.com/47712051/229624993-7527cdd1-7919-44b9-9c6f-1f5b3e4d1310.png\">\n",
    "\n",
    "<img width=\"800\" alt=\"スクリーンショット 2023-04-21 4 52 14\" src=\"https://user-images.githubusercontent.com/47712051/229625002-455e6099-9b95-431d-8686-d09f91b9a16d.png\">\n",
    "\n",
    "<img width=\"800\" alt=\"スクリーンショット 2023-04-21 4 52 14\" src=\"https://user-images.githubusercontent.com/47712051/233480526-8aff16da-8962-47d0-beb1-9f50852497c0.png\">\n",
    "\n",
    "<img width=\"800\" alt=\"スクリーンショット 2023-04-21 4 52 14\" src=\"https://user-images.githubusercontent.com/47712051/229625022-c67dc00f-d002-4120-8a14-fe885a95f670.png\">"
   ]
  },
  {
   "attachments": {},
   "cell_type": "markdown",
   "metadata": {
    "dotnet_interactive": {
     "language": "javascript"
    },
    "polyglot_notebook": {
     "kernelName": "javascript"
    }
   },
   "source": [
    "<hr />"
   ]
  },
  {
   "attachments": {},
   "cell_type": "markdown",
   "metadata": {
    "dotnet_interactive": {
     "language": "javascript"
    },
    "polyglot_notebook": {
     "kernelName": "javascript"
    }
   },
   "source": [
    "# 11.制限\n",
    "\n",
    "アカウントに対する制限とモザイクのグローバル制限についての方法を紹介します。\n",
    "本章では、既存アカウントの権限を制限してしまうので、使い捨てのアカウントを新規に作成してお試しください。"
   ]
  },
  {
   "cell_type": "code",
   "execution_count": null,
   "metadata": {
    "dotnet_interactive": {
     "language": "javascript"
    },
    "polyglot_notebook": {
     "kernelName": "javascript"
    },
    "vscode": {
     "languageId": "polyglot-notebook"
    }
   },
   "outputs": [],
   "source": [
    "//使い捨てアカウントCarolの生成\n",
    "carol = sym.Account.generateNewAccount(networkType);\n",
    "console.log(carol.address);\n",
    "//FAUCET URL出力\n",
    "console.log(\"https://testnet.symbol.tools/?recipient=\" + carol.address.plain() +\"&amount=100\");"
   ]
  },
  {
   "attachments": {},
   "cell_type": "markdown",
   "metadata": {
    "dotnet_interactive": {
     "language": "javascript"
    },
    "polyglot_notebook": {
     "kernelName": "javascript"
    }
   },
   "source": [
    "## 11.1 アカウント制限\n",
    "\n",
    "### 指定アドレスからの受信制限・指定アドレスへの送信制限"
   ]
  },
  {
   "cell_type": "code",
   "execution_count": null,
   "metadata": {
    "dotnet_interactive": {
     "language": "javascript"
    },
    "polyglot_notebook": {
     "kernelName": "javascript"
    },
    "vscode": {
     "languageId": "polyglot-notebook"
    }
   },
   "outputs": [],
   "source": [
    "bob = sym.Account.generateNewAccount(networkType);\n",
    "tx = sym.AccountRestrictionTransaction.createAddressRestrictionModificationTransaction(\n",
    "  sym.Deadline.create(epochAdjustment),\n",
    "  sym.AddressRestrictionFlag.BlockOutgoingAddress, //アドレス制限フラグ　速習SymbolではBlockIncomingAddressだが勉強会の都合上BlockOutgoingAddressに変更\n",
    "  [bob.address],//設定アドレス\n",
    "  [],　　　　　　//解除アドレス\n",
    "  networkType\n",
    ").setMaxFee(100);\n",
    "signedTx = carol.sign(tx,generationHash);\n",
    "await txRepo.announce(signedTx).toPromise();"
   ]
  },
  {
   "cell_type": "code",
   "execution_count": null,
   "metadata": {
    "dotnet_interactive": {
     "language": "javascript"
    },
    "polyglot_notebook": {
     "kernelName": "javascript"
    },
    "vscode": {
     "languageId": "polyglot-notebook"
    }
   },
   "outputs": [],
   "source": [
    "hash = signedTx.hash;\n",
    "tsRepo = repo.createTransactionStatusRepository();\n",
    "transactionStatus = await tsRepo.getTransactionStatus(hash).toPromise();\n",
    "console.log(transactionStatus);\n",
    "txInfo = await txRepo.getTransaction(hash,sym.TransactionGroup.Confirmed).toPromise();\n",
    "console.log(txInfo);\n",
    "console.log(`https://testnet.symbol.fyi/transactions/${hash}`) //ブラウザで確認を追加"
   ]
  },
  {
   "attachments": {},
   "cell_type": "markdown",
   "metadata": {
    "dotnet_interactive": {
     "language": "javascript"
    },
    "polyglot_notebook": {
     "kernelName": "javascript"
    }
   },
   "source": [
    "AddressRestrictionFlagについては以下の通りです。\n",
    "```js\n",
    "{1: 'AllowIncomingAddress', 16385: 'AllowOutgoingAddress', 32769: 'BlockIncomingAddress', 49153: 'BlockOutgoingAddress'}\n",
    "```\n",
    "\n",
    "AddressRestrictionFlagにはBlockIncomingAddressのほか、上記のようなフラグが使用できます。\n",
    "- AllowIncomingAddress：指定アドレスからのみ受信許可\n",
    "- AllowOutgoingAddress：指定アドレス宛のみ送信許可\n",
    "- BlockIncomingAddress：指定アドレスからの受信受拒否\n",
    "- BlockOutgoingAddress：指定アドレス宛への送信禁止"
   ]
  },
  {
   "attachments": {},
   "cell_type": "markdown",
   "metadata": {
    "dotnet_interactive": {
     "language": "javascript"
    },
    "polyglot_notebook": {
     "kernelName": "javascript"
    }
   },
   "source": [
    "<span style=\"color:red\">carolからbobへのトランザクション（失敗することの確認）</span>  "
   ]
  },
  {
   "cell_type": "code",
   "execution_count": null,
   "metadata": {
    "dotnet_interactive": {
     "language": "javascript"
    },
    "polyglot_notebook": {
     "kernelName": "javascript"
    },
    "vscode": {
     "languageId": "polyglot-notebook"
    }
   },
   "outputs": [],
   "source": [
    "trTx = sym.TransferTransaction.create(\n",
    "    sym.Deadline.create(epochAdjustment),\n",
    "    bob.address, \n",
    "    [new sym.Mosaic(new sym.MosaicId(\"72C0212E67A08BCE\"), sym.UInt64.fromUint(1))],\n",
    "    sym.PlainMessage.create(\"\"),\n",
    "    networkType\n",
    "  ).setMaxFee(100);\n",
    "signedTx = carol.sign(trTx,generationHash);\n",
    "await txRepo.announce(signedTx).toPromise();"
   ]
  },
  {
   "cell_type": "code",
   "execution_count": null,
   "metadata": {
    "dotnet_interactive": {
     "language": "javascript"
    },
    "polyglot_notebook": {
     "kernelName": "javascript"
    },
    "vscode": {
     "languageId": "polyglot-notebook"
    }
   },
   "outputs": [],
   "source": [
    "hash = signedTx.hash;\n",
    "tsRepo = repo.createTransactionStatusRepository();\n",
    "transactionStatus = await tsRepo.getTransactionStatus(hash).toPromise();\n",
    "console.log(transactionStatus);\n",
    "txInfo = await txRepo.getTransaction(hash,sym.TransactionGroup.Confirmed).toPromise();\n",
    "console.log(txInfo);\n",
    "console.log(`https://testnet.symbol.fyi/transactions/${hash}`) //ブラウザで確認を追加"
   ]
  },
  {
   "attachments": {},
   "cell_type": "markdown",
   "metadata": {
    "dotnet_interactive": {
     "language": "javascript"
    },
    "polyglot_notebook": {
     "kernelName": "javascript"
    }
   },
   "source": [
    "<span style=\"color:red\">carolからaliceへのトランザクション（成功することの確認）</span>  "
   ]
  },
  {
   "cell_type": "code",
   "execution_count": null,
   "metadata": {
    "dotnet_interactive": {
     "language": "javascript"
    },
    "polyglot_notebook": {
     "kernelName": "javascript"
    },
    "vscode": {
     "languageId": "polyglot-notebook"
    }
   },
   "outputs": [],
   "source": [
    "trTx = sym.TransferTransaction.create(\n",
    "    sym.Deadline.create(epochAdjustment),\n",
    "    alice.address, \n",
    "    [new sym.Mosaic(new sym.MosaicId(\"72C0212E67A08BCE\"), sym.UInt64.fromUint(1))],\n",
    "    sym.PlainMessage.create(\"\"),\n",
    "    networkType\n",
    "  ).setMaxFee(100);\n",
    "signedTx = carol.sign(trTx,generationHash);\n",
    "await txRepo.announce(signedTx).toPromise();"
   ]
  },
  {
   "cell_type": "code",
   "execution_count": null,
   "metadata": {
    "dotnet_interactive": {
     "language": "javascript"
    },
    "polyglot_notebook": {
     "kernelName": "javascript"
    },
    "vscode": {
     "languageId": "polyglot-notebook"
    }
   },
   "outputs": [],
   "source": [
    "hash = signedTx.hash;\n",
    "tsRepo = repo.createTransactionStatusRepository();\n",
    "transactionStatus = await tsRepo.getTransactionStatus(hash).toPromise();\n",
    "console.log(transactionStatus);\n",
    "txInfo = await txRepo.getTransaction(hash,sym.TransactionGroup.Confirmed).toPromise();\n",
    "console.log(txInfo);\n",
    "console.log(`https://testnet.symbol.fyi/transactions/${hash}`) //ブラウザで確認を追加"
   ]
  },
  {
   "attachments": {},
   "cell_type": "markdown",
   "metadata": {
    "dotnet_interactive": {
     "language": "javascript"
    },
    "polyglot_notebook": {
     "kernelName": "javascript"
    }
   },
   "source": [
    "<span style=\"color:red\">bobへの送信制限を解除</span>  "
   ]
  },
  {
   "cell_type": "code",
   "execution_count": null,
   "metadata": {
    "dotnet_interactive": {
     "language": "javascript"
    },
    "polyglot_notebook": {
     "kernelName": "javascript"
    },
    "vscode": {
     "languageId": "polyglot-notebook"
    }
   },
   "outputs": [],
   "source": [
    "tx = sym.AccountRestrictionTransaction.createAddressRestrictionModificationTransaction(\n",
    "    sym.Deadline.create(epochAdjustment),\n",
    "    sym.AddressRestrictionFlag.BlockOutgoingAddress, //アドレス制限フラグ　速習SymbolではBlockIncomingAddressだが勉強会の都合上BlockOutgoingAddressに変更\n",
    "    [],//設定アドレス\n",
    "    [bob.address],//解除アドレス\n",
    "    networkType\n",
    "  ).setMaxFee(100);\n",
    "  signedTx = carol.sign(tx,generationHash);\n",
    "  await txRepo.announce(signedTx).toPromise();"
   ]
  },
  {
   "cell_type": "code",
   "execution_count": null,
   "metadata": {
    "dotnet_interactive": {
     "language": "javascript"
    },
    "polyglot_notebook": {
     "kernelName": "javascript"
    },
    "vscode": {
     "languageId": "polyglot-notebook"
    }
   },
   "outputs": [],
   "source": [
    "hash = signedTx.hash;\n",
    "tsRepo = repo.createTransactionStatusRepository();\n",
    "transactionStatus = await tsRepo.getTransactionStatus(hash).toPromise();\n",
    "console.log(transactionStatus);\n",
    "txInfo = await txRepo.getTransaction(hash,sym.TransactionGroup.Confirmed).toPromise();\n",
    "console.log(txInfo);\n",
    "console.log(`https://testnet.symbol.fyi/transactions/${hash}`) //ブラウザで確認を追加"
   ]
  },
  {
   "attachments": {},
   "cell_type": "markdown",
   "metadata": {
    "dotnet_interactive": {
     "language": "javascript"
    },
    "polyglot_notebook": {
     "kernelName": "javascript"
    }
   },
   "source": [
    "<span style=\"color:red\">再度carolからbobへのトランザクション（制限がなくなり成功することの確認）</span>  "
   ]
  },
  {
   "cell_type": "code",
   "execution_count": null,
   "metadata": {
    "dotnet_interactive": {
     "language": "javascript"
    },
    "polyglot_notebook": {
     "kernelName": "javascript"
    },
    "vscode": {
     "languageId": "polyglot-notebook"
    }
   },
   "outputs": [],
   "source": [
    "trTx = sym.TransferTransaction.create(\n",
    "    sym.Deadline.create(epochAdjustment),\n",
    "    bob.address, \n",
    "    [new sym.Mosaic(new sym.MosaicId(\"72C0212E67A08BCE\"), sym.UInt64.fromUint(1))],\n",
    "    sym.PlainMessage.create(\"\"),\n",
    "    networkType\n",
    "  ).setMaxFee(100);\n",
    "signedTx = carol.sign(trTx,generationHash);\n",
    "await txRepo.announce(signedTx).toPromise();"
   ]
  },
  {
   "cell_type": "code",
   "execution_count": null,
   "metadata": {
    "dotnet_interactive": {
     "language": "javascript"
    },
    "polyglot_notebook": {
     "kernelName": "javascript"
    },
    "vscode": {
     "languageId": "polyglot-notebook"
    }
   },
   "outputs": [],
   "source": [
    "hash = signedTx.hash;\n",
    "tsRepo = repo.createTransactionStatusRepository();\n",
    "transactionStatus = await tsRepo.getTransactionStatus(hash).toPromise();\n",
    "console.log(transactionStatus);\n",
    "txInfo = await txRepo.getTransaction(hash,sym.TransactionGroup.Confirmed).toPromise();\n",
    "console.log(txInfo);\n",
    "console.log(`https://testnet.symbol.fyi/transactions/${hash}`) //ブラウザで確認を追加"
   ]
  },
  {
   "attachments": {},
   "cell_type": "markdown",
   "metadata": {
    "dotnet_interactive": {
     "language": "javascript"
    },
    "polyglot_notebook": {
     "kernelName": "javascript"
    }
   },
   "source": [
    "### 指定モザイクの受信制限"
   ]
  },
  {
   "cell_type": "code",
   "execution_count": null,
   "metadata": {
    "dotnet_interactive": {
     "language": "javascript"
    },
    "polyglot_notebook": {
     "kernelName": "javascript"
    },
    "vscode": {
     "languageId": "polyglot-notebook"
    }
   },
   "outputs": [],
   "source": [
    "mosaicId = new sym.MosaicId(\"72C0212E67A08BCE\"); //テストネット XYM\n",
    "tx = sym.AccountRestrictionTransaction.createMosaicRestrictionModificationTransaction(\n",
    "  sym.Deadline.create(epochAdjustment),\n",
    "  sym.MosaicRestrictionFlag.AllowMosaic, //モザイク制限フラグ 　速習SymbolではBlockMosaicだが勉強会の都合上AllowMosaicに変更\n",
    "  [mosaicId],//設定モザイク\n",
    "  [],//解除モザイク\n",
    "  networkType\n",
    ").setMaxFee(100);\n",
    "signedTx = carol.sign(tx,generationHash);\n",
    "await txRepo.announce(signedTx).toPromise();"
   ]
  },
  {
   "cell_type": "code",
   "execution_count": null,
   "metadata": {
    "dotnet_interactive": {
     "language": "javascript"
    },
    "polyglot_notebook": {
     "kernelName": "javascript"
    },
    "vscode": {
     "languageId": "polyglot-notebook"
    }
   },
   "outputs": [],
   "source": [
    "hash = signedTx.hash;\n",
    "tsRepo = repo.createTransactionStatusRepository();\n",
    "transactionStatus = await tsRepo.getTransactionStatus(hash).toPromise();\n",
    "console.log(transactionStatus);\n",
    "txInfo = await txRepo.getTransaction(hash,sym.TransactionGroup.Confirmed).toPromise();\n",
    "console.log(txInfo);\n",
    "console.log(`https://testnet.symbol.fyi/transactions/${hash}`) //ブラウザで確認を追加"
   ]
  },
  {
   "attachments": {},
   "cell_type": "markdown",
   "metadata": {
    "dotnet_interactive": {
     "language": "javascript"
    },
    "polyglot_notebook": {
     "kernelName": "javascript"
    }
   },
   "source": [
    "MosaicRestrictionFlagについては以下の通りです。\n",
    "```js\n",
    "{2: 'AllowMosaic', 32770: 'BlockMosaic'}\n",
    "```\n",
    "\n",
    "- AllowMosaic：指定モザイクを含むトランザクションのみ受信許可\n",
    "- BlockMosaic：指定モザイクを含むトランザクションを受信拒否\n",
    "\n",
    "モザイク送信の制限機能はありません。\n",
    "また、後述するモザイクのふるまいを制限するグローバルモザイク制限と混同しないようにご注意ください。"
   ]
  },
  {
   "attachments": {},
   "cell_type": "markdown",
   "metadata": {
    "dotnet_interactive": {
     "language": "javascript"
    },
    "polyglot_notebook": {
     "kernelName": "javascript"
    }
   },
   "source": [
    "<span style=\"color:red\">aliceからcarolへのXYMの送信（成功することの確認）</span>  "
   ]
  },
  {
   "cell_type": "code",
   "execution_count": null,
   "metadata": {
    "dotnet_interactive": {
     "language": "javascript"
    },
    "polyglot_notebook": {
     "kernelName": "javascript"
    },
    "vscode": {
     "languageId": "polyglot-notebook"
    }
   },
   "outputs": [],
   "source": [
    "trTx = sym.TransferTransaction.create(\n",
    "    sym.Deadline.create(epochAdjustment),\n",
    "    carol.address, \n",
    "    [new sym.Mosaic(new sym.MosaicId(\"72C0212E67A08BCE\"), sym.UInt64.fromUint(1))],\n",
    "    sym.PlainMessage.create(\"\"),\n",
    "    networkType\n",
    "  ).setMaxFee(100);\n",
    "signedTx = alice.sign(trTx,generationHash);\n",
    "await txRepo.announce(signedTx).toPromise();"
   ]
  },
  {
   "cell_type": "code",
   "execution_count": null,
   "metadata": {
    "dotnet_interactive": {
     "language": "javascript"
    },
    "polyglot_notebook": {
     "kernelName": "javascript"
    },
    "vscode": {
     "languageId": "polyglot-notebook"
    }
   },
   "outputs": [],
   "source": [
    "hash = signedTx.hash;\n",
    "tsRepo = repo.createTransactionStatusRepository();\n",
    "transactionStatus = await tsRepo.getTransactionStatus(hash).toPromise();\n",
    "console.log(transactionStatus);\n",
    "txInfo = await txRepo.getTransaction(hash,sym.TransactionGroup.Confirmed).toPromise();\n",
    "console.log(txInfo);\n",
    "console.log(`https://testnet.symbol.fyi/transactions/${hash}`) //ブラウザで確認を追加"
   ]
  },
  {
   "attachments": {},
   "cell_type": "markdown",
   "metadata": {
    "dotnet_interactive": {
     "language": "javascript"
    },
    "polyglot_notebook": {
     "kernelName": "javascript"
    }
   },
   "source": [
    "<span style=\"color:red\">aliceからcarolへのhossiiii.tomatoの送信（失敗することの確認）</span>  "
   ]
  },
  {
   "cell_type": "code",
   "execution_count": null,
   "metadata": {
    "dotnet_interactive": {
     "language": "javascript"
    },
    "polyglot_notebook": {
     "kernelName": "javascript"
    },
    "vscode": {
     "languageId": "polyglot-notebook"
    }
   },
   "outputs": [],
   "source": [
    "trTx = sym.TransferTransaction.create(\n",
    "    sym.Deadline.create(epochAdjustment),\n",
    "    carol.address, \n",
    "    [new sym.Mosaic(new sym.MosaicId(\"41BE3897B2568D17\"), sym.UInt64.fromUint(1))], //hossiiii.tomato\n",
    "    sym.PlainMessage.create(\"\"),\n",
    "    networkType\n",
    "  ).setMaxFee(100);\n",
    "signedTx = alice.sign(trTx,generationHash);\n",
    "await txRepo.announce(signedTx).toPromise();"
   ]
  },
  {
   "cell_type": "code",
   "execution_count": null,
   "metadata": {
    "dotnet_interactive": {
     "language": "javascript"
    },
    "polyglot_notebook": {
     "kernelName": "javascript"
    },
    "vscode": {
     "languageId": "polyglot-notebook"
    }
   },
   "outputs": [],
   "source": [
    "hash = signedTx.hash;\n",
    "tsRepo = repo.createTransactionStatusRepository();\n",
    "transactionStatus = await tsRepo.getTransactionStatus(hash).toPromise();\n",
    "console.log(transactionStatus);\n",
    "txInfo = await txRepo.getTransaction(hash,sym.TransactionGroup.Confirmed).toPromise();\n",
    "console.log(txInfo);\n",
    "console.log(`https://testnet.symbol.fyi/transactions/${hash}`) //ブラウザで確認を追加"
   ]
  },
  {
   "attachments": {},
   "cell_type": "markdown",
   "metadata": {
    "dotnet_interactive": {
     "language": "javascript"
    },
    "polyglot_notebook": {
     "kernelName": "javascript"
    }
   },
   "source": [
    "<span style=\"color:red\">XYM以外の受信制限を解除</span>  "
   ]
  },
  {
   "cell_type": "code",
   "execution_count": null,
   "metadata": {
    "dotnet_interactive": {
     "language": "javascript"
    },
    "polyglot_notebook": {
     "kernelName": "javascript"
    },
    "vscode": {
     "languageId": "polyglot-notebook"
    }
   },
   "outputs": [],
   "source": [
    "mosaicId = new sym.MosaicId(\"72C0212E67A08BCE\"); //テストネット XYM\n",
    "tx = sym.AccountRestrictionTransaction.createMosaicRestrictionModificationTransaction(\n",
    "  sym.Deadline.create(epochAdjustment),\n",
    "  sym.MosaicRestrictionFlag.AllowMosaic, //モザイク制限フラグ 　速習SymbolではBlockMosaicだが勉強会の都合上AllowMosaicに変更\n",
    "  [],//設定モザイク\n",
    "  [mosaicId],//解除モザイク\n",
    "  networkType\n",
    ").setMaxFee(100);\n",
    "signedTx = carol.sign(tx,generationHash);\n",
    "await txRepo.announce(signedTx).toPromise();"
   ]
  },
  {
   "cell_type": "code",
   "execution_count": null,
   "metadata": {
    "dotnet_interactive": {
     "language": "javascript"
    },
    "polyglot_notebook": {
     "kernelName": "javascript"
    },
    "vscode": {
     "languageId": "polyglot-notebook"
    }
   },
   "outputs": [],
   "source": [
    "hash = signedTx.hash;\n",
    "tsRepo = repo.createTransactionStatusRepository();\n",
    "transactionStatus = await tsRepo.getTransactionStatus(hash).toPromise();\n",
    "console.log(transactionStatus);\n",
    "txInfo = await txRepo.getTransaction(hash,sym.TransactionGroup.Confirmed).toPromise();\n",
    "console.log(txInfo);\n",
    "console.log(`https://testnet.symbol.fyi/transactions/${hash}`) //ブラウザで確認を追加"
   ]
  },
  {
   "attachments": {},
   "cell_type": "markdown",
   "metadata": {
    "dotnet_interactive": {
     "language": "javascript"
    },
    "polyglot_notebook": {
     "kernelName": "javascript"
    }
   },
   "source": [
    "<span style=\"color:red\">再度aliceからcarolへのhossiiii.tomatoの送信（制限が解除され成功することの確認）</span>  "
   ]
  },
  {
   "cell_type": "code",
   "execution_count": null,
   "metadata": {
    "dotnet_interactive": {
     "language": "javascript"
    },
    "polyglot_notebook": {
     "kernelName": "javascript"
    },
    "vscode": {
     "languageId": "polyglot-notebook"
    }
   },
   "outputs": [],
   "source": [
    "trTx = sym.TransferTransaction.create(\n",
    "    sym.Deadline.create(epochAdjustment),\n",
    "    carol.address, \n",
    "    [new sym.Mosaic(new sym.MosaicId(\"41BE3897B2568D17\"), sym.UInt64.fromUint(1))], //hossiiii.tomato\n",
    "    sym.PlainMessage.create(\"\"),\n",
    "    networkType\n",
    "  ).setMaxFee(100);\n",
    "signedTx = alice.sign(trTx,generationHash);\n",
    "await txRepo.announce(signedTx).toPromise();"
   ]
  },
  {
   "cell_type": "code",
   "execution_count": null,
   "metadata": {
    "dotnet_interactive": {
     "language": "javascript"
    },
    "polyglot_notebook": {
     "kernelName": "javascript"
    },
    "vscode": {
     "languageId": "polyglot-notebook"
    }
   },
   "outputs": [],
   "source": [
    "hash = signedTx.hash;\n",
    "tsRepo = repo.createTransactionStatusRepository();\n",
    "transactionStatus = await tsRepo.getTransactionStatus(hash).toPromise();\n",
    "console.log(transactionStatus);\n",
    "txInfo = await txRepo.getTransaction(hash,sym.TransactionGroup.Confirmed).toPromise();\n",
    "console.log(txInfo);\n",
    "console.log(`https://testnet.symbol.fyi/transactions/${hash}`) //ブラウザで確認を追加"
   ]
  },
  {
   "attachments": {},
   "cell_type": "markdown",
   "metadata": {
    "dotnet_interactive": {
     "language": "javascript"
    },
    "polyglot_notebook": {
     "kernelName": "javascript"
    }
   },
   "source": [
    "### 指定トランザクションの送信制限\n"
   ]
  },
  {
   "cell_type": "code",
   "execution_count": null,
   "metadata": {
    "dotnet_interactive": {
     "language": "javascript"
    },
    "polyglot_notebook": {
     "kernelName": "javascript"
    },
    "vscode": {
     "languageId": "polyglot-notebook"
    }
   },
   "outputs": [],
   "source": [
    "tx = sym.AccountRestrictionTransaction.createOperationRestrictionModificationTransaction(\n",
    "    sym.Deadline.create(epochAdjustment),\n",
    "    sym.OperationRestrictionFlag.BlockOutgoingTransactionType, //速習SymbolではAllowOutgoingTransactionTypeだが勉強会の都合上BlockOutgoingTransactionTypeに変更\n",
    "    [sym.TransactionType.AGGREGATE_COMPLETE],//AGGREGATEトランザクションを禁止\n",
    "    [],//解除トランザクション\n",
    "    networkType\n",
    "  ).setMaxFee(100);\n",
    "  signedTx = carol.sign(tx,generationHash);\n",
    "  await txRepo.announce(signedTx).toPromise();  "
   ]
  },
  {
   "cell_type": "code",
   "execution_count": null,
   "metadata": {
    "dotnet_interactive": {
     "language": "javascript"
    },
    "polyglot_notebook": {
     "kernelName": "javascript"
    },
    "vscode": {
     "languageId": "polyglot-notebook"
    }
   },
   "outputs": [],
   "source": [
    "hash = signedTx.hash;\n",
    "tsRepo = repo.createTransactionStatusRepository();\n",
    "transactionStatus = await tsRepo.getTransactionStatus(hash).toPromise();\n",
    "console.log(transactionStatus);\n",
    "txInfo = await txRepo.getTransaction(hash,sym.TransactionGroup.Confirmed).toPromise();\n",
    "console.log(txInfo);\n",
    "console.log(`https://testnet.symbol.fyi/transactions/${hash}`) //ブラウザで確認を追加"
   ]
  },
  {
   "attachments": {},
   "cell_type": "markdown",
   "metadata": {
    "dotnet_interactive": {
     "language": "javascript"
    },
    "polyglot_notebook": {
     "kernelName": "javascript"
    }
   },
   "source": [
    "OperationRestrictionFlagについては以下の通りです。\n",
    "```js\n",
    "{16388: 'AllowOutgoingTransactionType', 49156: 'BlockOutgoingTransactionType'}\n",
    "```\n",
    "\n",
    "- AllowOutgoingTransactionType：指定トランザクションの送信のみ許可\n",
    "- BlockOutgoingTransactionType：指定トランザクションの送信を禁止\n",
    "\n",
    "トランザクション受信の制限機能はありません。指定できるオペレーションは以下の通りです。\n",
    "\n",
    "TransactionTypeについては以下の通りです。\n",
    "```js\n",
    "{16705: 'AGGREGATE_COMPLETE', 16707: 'VOTING_KEY_LINK', 16708: 'ACCOUNT_METADATA', 16712: 'HASH_LOCK', 16716: 'ACCOUNT_KEY_LINK', 16717: 'MOSAIC_DEFINITION', 16718: 'NAMESPACE_REGISTRATION', 16720: 'ACCOUNT_ADDRESS_RESTRICTION', 16721: 'MOSAIC_GLOBAL_RESTRICTION', 16722: 'SECRET_LOCK', 16724: 'TRANSFER', 16725: 'MULTISIG_ACCOUNT_MODIFICATION', 16961: 'AGGREGATE_BONDED', 16963: 'VRF_KEY_LINK', 16964: 'MOSAIC_METADATA', 16972: 'NODE_KEY_LINK', 16973: 'MOSAIC_SUPPLY_CHANGE', 16974: 'ADDRESS_ALIAS', 16976: 'ACCOUNT_MOSAIC_RESTRICTION', 16977: 'MOSAIC_ADDRESS_RESTRICTION', 16978: 'SECRET_PROOF', 17220: 'NAMESPACE_METADATA', 17229: 'MOSAIC_SUPPLY_REVOCATION', 17230: 'MOSAIC_ALIAS'}\n",
    "```\n",
    "\n",
    "##### 注意事項\n",
    "17232: 'ACCOUNT_OPERATION_RESTRICTION' の制限は許可されていません。\n",
    "つまり、AllowOutgoingTransactionTypeを指定する場合は、ACCOUNT_OPERATION_RESTRICTIONを必ず含める必要があり、\n",
    "BlockOutgoingTransactionTypeを指定する場合は、ACCOUNT_OPERATION_RESTRICTIONを含めることはできません。\n",
    "\n",
    "### 確認\n",
    "\n",
    "設定した制限情報を確認します\n"
   ]
  },
  {
   "cell_type": "code",
   "execution_count": null,
   "metadata": {
    "dotnet_interactive": {
     "language": "javascript"
    },
    "polyglot_notebook": {
     "kernelName": "javascript"
    },
    "vscode": {
     "languageId": "polyglot-notebook"
    }
   },
   "outputs": [],
   "source": [
    "resAccountRepo = repo.createRestrictionAccountRepository();\n",
    "res = await resAccountRepo.getAccountRestrictions(carol.address).toPromise();\n",
    "console.log(res);"
   ]
  },
  {
   "attachments": {},
   "cell_type": "markdown",
   "metadata": {
    "dotnet_interactive": {
     "language": "javascript"
    },
    "polyglot_notebook": {
     "kernelName": "javascript"
    }
   },
   "source": [
    "<span style=\"color:red\">carolからbobにトランスファーTxを送ってみる（成功することの確認）</span>  "
   ]
  },
  {
   "cell_type": "code",
   "execution_count": null,
   "metadata": {
    "dotnet_interactive": {
     "language": "javascript"
    },
    "polyglot_notebook": {
     "kernelName": "javascript"
    },
    "vscode": {
     "languageId": "polyglot-notebook"
    }
   },
   "outputs": [],
   "source": [
    "trTx = sym.TransferTransaction.create(\n",
    "    sym.Deadline.create(epochAdjustment),\n",
    "    bob.address, \n",
    "    [new sym.Mosaic(new sym.MosaicId(\"72C0212E67A08BCE\"), sym.UInt64.fromUint(1))],\n",
    "    sym.PlainMessage.create(\"\"),\n",
    "    networkType\n",
    "  ).setMaxFee(100);\n",
    "signedTx = carol.sign(trTx,generationHash);\n",
    "await txRepo.announce(signedTx).toPromise();"
   ]
  },
  {
   "cell_type": "code",
   "execution_count": null,
   "metadata": {
    "dotnet_interactive": {
     "language": "javascript"
    },
    "polyglot_notebook": {
     "kernelName": "javascript"
    },
    "vscode": {
     "languageId": "polyglot-notebook"
    }
   },
   "outputs": [],
   "source": [
    "hash = signedTx.hash;\n",
    "tsRepo = repo.createTransactionStatusRepository();\n",
    "transactionStatus = await tsRepo.getTransactionStatus(hash).toPromise();\n",
    "console.log(transactionStatus);\n",
    "txInfo = await txRepo.getTransaction(hash,sym.TransactionGroup.Confirmed).toPromise();\n",
    "console.log(txInfo);\n",
    "console.log(`https://testnet.symbol.fyi/transactions/${hash}`) //ブラウザで確認を追加"
   ]
  },
  {
   "attachments": {},
   "cell_type": "markdown",
   "metadata": {
    "dotnet_interactive": {
     "language": "javascript"
    },
    "polyglot_notebook": {
     "kernelName": "javascript"
    }
   },
   "source": [
    "<span style=\"color:red\">carolからbobにアグリゲートTxを送ってみる（失敗することの確認）</span>  "
   ]
  },
  {
   "cell_type": "code",
   "execution_count": null,
   "metadata": {
    "dotnet_interactive": {
     "language": "javascript"
    },
    "polyglot_notebook": {
     "kernelName": "javascript"
    },
    "vscode": {
     "languageId": "polyglot-notebook"
    }
   },
   "outputs": [],
   "source": [
    "trTx = sym.TransferTransaction.create(\n",
    "    sym.Deadline.create(epochAdjustment),\n",
    "    bob.address, \n",
    "    [new sym.Mosaic(new sym.MosaicId(\"72C0212E67A08BCE\"), sym.UInt64.fromUint(1))],\n",
    "    sym.PlainMessage.create(\"\"),\n",
    "    networkType\n",
    "  );\n",
    "aggregateArray = [\n",
    "trTx.toAggregate(carol.publicAccount),\n",
    "]\n",
    "aggregateTx = sym.AggregateTransaction.createComplete(\n",
    "sym.Deadline.create(epochAdjustment),\n",
    "aggregateArray,\n",
    "networkType,[]\n",
    ").setMaxFeeForAggregate(100, 1);\n",
    "signedTx = carol.sign(aggregateTx,generationHash);\n",
    "await txRepo.announce(signedTx).toPromise();"
   ]
  },
  {
   "cell_type": "code",
   "execution_count": null,
   "metadata": {
    "dotnet_interactive": {
     "language": "javascript"
    },
    "polyglot_notebook": {
     "kernelName": "javascript"
    },
    "vscode": {
     "languageId": "polyglot-notebook"
    }
   },
   "outputs": [],
   "source": [
    "hash = signedTx.hash;\n",
    "tsRepo = repo.createTransactionStatusRepository();\n",
    "transactionStatus = await tsRepo.getTransactionStatus(hash).toPromise();\n",
    "console.log(transactionStatus);\n",
    "txInfo = await txRepo.getTransaction(hash,sym.TransactionGroup.Confirmed).toPromise();\n",
    "console.log(txInfo);\n",
    "console.log(`https://testnet.symbol.fyi/transactions/${hash}`) //ブラウザで確認を追加"
   ]
  },
  {
   "attachments": {},
   "cell_type": "markdown",
   "metadata": {
    "dotnet_interactive": {
     "language": "javascript"
    },
    "polyglot_notebook": {
     "kernelName": "javascript"
    }
   },
   "source": [
    "<span style=\"color:red\">carolのアグリゲートTxの制限を解除する</span>  "
   ]
  },
  {
   "cell_type": "code",
   "execution_count": null,
   "metadata": {
    "dotnet_interactive": {
     "language": "javascript"
    },
    "polyglot_notebook": {
     "kernelName": "javascript"
    },
    "vscode": {
     "languageId": "polyglot-notebook"
    }
   },
   "outputs": [],
   "source": [
    "tx = sym.AccountRestrictionTransaction.createOperationRestrictionModificationTransaction(\n",
    "  sym.Deadline.create(epochAdjustment),\n",
    "  sym.OperationRestrictionFlag.BlockOutgoingTransactionType, //速習SymbolではAllowOutgoingTransactionTypeだが勉強会の都合上BlockOutgoingTransactionTypeに変更\n",
    "  [],\n",
    "  [sym.TransactionType.AGGREGATE_COMPLETE],//AGGREGATEトランザクションを禁止を解除\n",
    "  networkType\n",
    ").setMaxFee(100);\n",
    "signedTx = carol.sign(tx,generationHash);\n",
    "await txRepo.announce(signedTx).toPromise();  "
   ]
  },
  {
   "cell_type": "code",
   "execution_count": null,
   "metadata": {
    "dotnet_interactive": {
     "language": "javascript"
    },
    "polyglot_notebook": {
     "kernelName": "javascript"
    },
    "vscode": {
     "languageId": "polyglot-notebook"
    }
   },
   "outputs": [],
   "source": [
    "hash = signedTx.hash;\n",
    "tsRepo = repo.createTransactionStatusRepository();\n",
    "transactionStatus = await tsRepo.getTransactionStatus(hash).toPromise();\n",
    "console.log(transactionStatus);\n",
    "txInfo = await txRepo.getTransaction(hash,sym.TransactionGroup.Confirmed).toPromise();\n",
    "console.log(txInfo);\n",
    "console.log(`https://testnet.symbol.fyi/transactions/${hash}`) //ブラウザで確認を追加"
   ]
  },
  {
   "attachments": {},
   "cell_type": "markdown",
   "metadata": {
    "dotnet_interactive": {
     "language": "javascript"
    },
    "polyglot_notebook": {
     "kernelName": "javascript"
    }
   },
   "source": [
    "<span style=\"color:red\">再度carolからbobにアグリゲートTxを送ってみる（今度は成功することの確認）</span>  "
   ]
  },
  {
   "cell_type": "code",
   "execution_count": null,
   "metadata": {
    "dotnet_interactive": {
     "language": "javascript"
    },
    "polyglot_notebook": {
     "kernelName": "javascript"
    },
    "vscode": {
     "languageId": "polyglot-notebook"
    }
   },
   "outputs": [],
   "source": [
    "trTx = sym.TransferTransaction.create(\n",
    "    sym.Deadline.create(epochAdjustment),\n",
    "    bob.address, \n",
    "    [new sym.Mosaic(new sym.MosaicId(\"72C0212E67A08BCE\"), sym.UInt64.fromUint(1))],\n",
    "    sym.PlainMessage.create(\"\"),\n",
    "    networkType\n",
    "  );\n",
    "aggregateArray = [\n",
    "trTx.toAggregate(carol.publicAccount),\n",
    "]\n",
    "aggregateTx = sym.AggregateTransaction.createComplete(\n",
    "sym.Deadline.create(epochAdjustment),\n",
    "aggregateArray,\n",
    "networkType,[]\n",
    ").setMaxFeeForAggregate(100, 1);\n",
    "signedTx = carol.sign(aggregateTx,generationHash);\n",
    "await txRepo.announce(signedTx).toPromise();"
   ]
  },
  {
   "cell_type": "code",
   "execution_count": null,
   "metadata": {
    "dotnet_interactive": {
     "language": "javascript"
    },
    "polyglot_notebook": {
     "kernelName": "javascript"
    },
    "vscode": {
     "languageId": "polyglot-notebook"
    }
   },
   "outputs": [],
   "source": [
    "hash = signedTx.hash;\n",
    "tsRepo = repo.createTransactionStatusRepository();\n",
    "transactionStatus = await tsRepo.getTransactionStatus(hash).toPromise();\n",
    "console.log(transactionStatus);\n",
    "txInfo = await txRepo.getTransaction(hash,sym.TransactionGroup.Confirmed).toPromise();\n",
    "console.log(txInfo);\n",
    "console.log(`https://testnet.symbol.fyi/transactions/${hash}`) //ブラウザで確認を追加"
   ]
  },
  {
   "attachments": {},
   "cell_type": "markdown",
   "metadata": {
    "dotnet_interactive": {
     "language": "javascript"
    },
    "polyglot_notebook": {
     "kernelName": "javascript"
    }
   },
   "source": [
    "## 11.2 グローバルモザイク制限\n",
    "\n",
    "グローバルモザイク制限はモザイクに対して送信可能な条件を設定します。  \n",
    "その後、各アカウントに対してグローバルモザイク制限専用の数値メタデータを付与します。  \n",
    "送信アカウント・受信アカウントの両方が条件を満たした場合のみ、該当モザイクを送信することができます。  \n",
    "\n",
    "\n",
    "<img width=\"800\" alt=\"スクリーンショット 2023-04-21 4 52 14\" src=\"https://user-images.githubusercontent.com/47712051/229625035-d3408a69-bb9a-40cc-b405-70fdf68ccbd2.png\">\n",
    "\n",
    "<img width=\"800\" alt=\"スクリーンショット 2023-04-21 4 52 14\" src=\"https://user-images.githubusercontent.com/47712051/229625053-4a91f670-e1e1-4d20-a32f-cabb082c5915.png\">\n",
    "\n",
    "<img width=\"800\" alt=\"スクリーンショット 2023-04-21 4 52 14\" src=\"https://user-images.githubusercontent.com/47712051/229625065-d561e4cd-aaf2-4701-a10e-cd4f7c063cb0.png\">\n",
    "\n",
    "<img width=\"800\" alt=\"スクリーンショット 2023-04-21 4 52 14\" src=\"https://user-images.githubusercontent.com/47712051/229625087-5411527e-004d-45d6-ba0f-52ccb3c650f7.png\">\n",
    "\n",
    "\n",
    "最初に必要ライブラリの設定を行います。"
   ]
  },
  {
   "cell_type": "code",
   "execution_count": null,
   "metadata": {
    "dotnet_interactive": {
     "language": "javascript"
    },
    "polyglot_notebook": {
     "kernelName": "javascript"
    },
    "vscode": {
     "languageId": "polyglot-notebook"
    }
   },
   "outputs": [],
   "source": [
    "nsRepo = repo.createNamespaceRepository();\n",
    "resMosaicRepo = repo.createRestrictionMosaicRepository();\n",
    "mosaicResService = new sym.MosaicRestrictionTransactionService(resMosaicRepo,nsRepo);"
   ]
  },
  {
   "attachments": {},
   "cell_type": "markdown",
   "metadata": {
    "dotnet_interactive": {
     "language": "javascript"
    },
    "polyglot_notebook": {
     "kernelName": "javascript"
    }
   },
   "source": [
    "### グローバル制限機能つきモザイクの作成\n",
    "restrictableをtrueにしてCarolでモザイクを作成します。"
   ]
  },
  {
   "cell_type": "code",
   "execution_count": null,
   "metadata": {
    "dotnet_interactive": {
     "language": "javascript"
    },
    "polyglot_notebook": {
     "kernelName": "javascript"
    },
    "vscode": {
     "languageId": "polyglot-notebook"
    }
   },
   "outputs": [],
   "source": [
    "supplyMutable = true; //供給量変更の可否\n",
    "transferable = true; //第三者への譲渡可否\n",
    "restrictable = true; //グローバル制限設定の可否\n",
    "revokable = true; //発行者からの還収可否\n",
    "nonce = sym.MosaicNonce.createRandom();\n",
    "mosaicDefTx = sym.MosaicDefinitionTransaction.create(\n",
    "    undefined,\n",
    "    nonce,\n",
    "    sym.MosaicId.createFromNonce(nonce, carol.address),\n",
    "    sym.MosaicFlags.create(supplyMutable, transferable, restrictable, revokable),\n",
    "    0,//divisibility\n",
    "    sym.UInt64.fromUint(0), //duration\n",
    "    networkType\n",
    ");\n",
    "//モザイク変更\n",
    "mosaicChangeTx = sym.MosaicSupplyChangeTransaction.create(\n",
    "    undefined,\n",
    "    mosaicDefTx.mosaicId,\n",
    "    sym.MosaicSupplyChangeAction.Increase,\n",
    "    sym.UInt64.fromUint(1000000),\n",
    "    networkType\n",
    ");\n",
    "//グローバルモザイク制限\n",
    "key = sym.KeyGenerator.generateUInt64Key(\"KYC\") // restrictionKey \n",
    "mosaicGlobalResTx = await mosaicResService.createMosaicGlobalRestrictionTransaction(\n",
    "    undefined,\n",
    "    networkType,\n",
    "    mosaicDefTx.mosaicId,\n",
    "    key,\n",
    "    '1',\n",
    "    sym.MosaicRestrictionType.EQ,\n",
    ").toPromise();\n",
    "aggregateTx = sym.AggregateTransaction.createComplete(\n",
    "    sym.Deadline.create(epochAdjustment),\n",
    "    [\n",
    "      mosaicDefTx.toAggregate(carol.publicAccount),\n",
    "      mosaicChangeTx.toAggregate(carol.publicAccount),\n",
    "      mosaicGlobalResTx.toAggregate(carol.publicAccount)\n",
    "    ],\n",
    "    networkType,[],\n",
    ").setMaxFeeForAggregate(100, 0);\n",
    "signedTx = carol.sign(aggregateTx,generationHash);\n",
    "await txRepo.announce(signedTx).toPromise();"
   ]
  },
  {
   "cell_type": "code",
   "execution_count": null,
   "metadata": {
    "dotnet_interactive": {
     "language": "javascript"
    },
    "polyglot_notebook": {
     "kernelName": "javascript"
    },
    "vscode": {
     "languageId": "polyglot-notebook"
    }
   },
   "outputs": [],
   "source": [
    "hash = signedTx.hash;\n",
    "tsRepo = repo.createTransactionStatusRepository();\n",
    "transactionStatus = await tsRepo.getTransactionStatus(hash).toPromise();\n",
    "console.log(transactionStatus);\n",
    "txInfo = await txRepo.getTransaction(hash,sym.TransactionGroup.Confirmed).toPromise();\n",
    "console.log(txInfo);\n",
    "console.log(`https://testnet.symbol.fyi/transactions/${hash}`) //ブラウザで確認を追加"
   ]
  },
  {
   "attachments": {},
   "cell_type": "markdown",
   "metadata": {
    "dotnet_interactive": {
     "language": "javascript"
    },
    "polyglot_notebook": {
     "kernelName": "javascript"
    }
   },
   "source": [
    "MosaicRestrictionTypeについては以下の通りです。\n",
    "\n",
    "```js\n",
    "{0: 'NONE', 1: 'EQ', 2: 'NE', 3: 'LT', 4: 'LE', 5: 'GT', 6: 'GE'}\n",
    "```\n",
    "\n",
    "| 演算子  | 略称  | 英語  |\n",
    "|---|---|---|\n",
    "| =  | EQ  | equal to  |\n",
    "| !=  | NE  | not equal to  |\n",
    "| <  | LT  | less than  |\n",
    "| <=  | LE  | less than or equal to  |\n",
    "| >  | GT  | greater than  |\n",
    "| <=  | GE  | greater than or equal to  |\n",
    "\n",
    "\n",
    "### アカウントへのモザイク制限適用\n",
    "\n",
    "Carol,Bobに対してグローバル制限モザイクに対しての適格情報を追加します。  \n",
    "送信・受信についてかかる制限なので、すでに所有しているモザイクについての制限はありません。  \n",
    "送信を成功させるためには、送信者・受信者双方が条件をクリアしている必要があります。  \n",
    "モザイク作成者の秘密鍵があればどのアカウントに対しても承諾の署名を必要とせずに制限をつけることができます。  \n"
   ]
  },
  {
   "cell_type": "code",
   "execution_count": null,
   "metadata": {
    "dotnet_interactive": {
     "language": "javascript"
    },
    "polyglot_notebook": {
     "kernelName": "javascript"
    },
    "vscode": {
     "languageId": "polyglot-notebook"
    }
   },
   "outputs": [],
   "source": [
    "//Carolに適用\n",
    "carolMosaicAddressResTx =  sym.MosaicAddressRestrictionTransaction.create(\n",
    "    sym.Deadline.create(epochAdjustment),\n",
    "    mosaicDefTx.mosaicId, // mosaicId\n",
    "    sym.KeyGenerator.generateUInt64Key(\"KYC\"), // restrictionKey\n",
    "    carol.address, // address\n",
    "    sym.UInt64.fromUint(1), // newRestrictionValue\n",
    "    networkType,\n",
    "    sym.UInt64.fromHex('FFFFFFFFFFFFFFFF') //previousRestrictionValue\n",
    ").setMaxFee(100);\n",
    "signedTx = carol.sign(carolMosaicAddressResTx,generationHash);\n",
    "await txRepo.announce(signedTx).toPromise();"
   ]
  },
  {
   "cell_type": "code",
   "execution_count": null,
   "metadata": {
    "dotnet_interactive": {
     "language": "javascript"
    },
    "polyglot_notebook": {
     "kernelName": "javascript"
    },
    "vscode": {
     "languageId": "polyglot-notebook"
    }
   },
   "outputs": [],
   "source": [
    "hash = signedTx.hash;\n",
    "tsRepo = repo.createTransactionStatusRepository();\n",
    "transactionStatus = await tsRepo.getTransactionStatus(hash).toPromise();\n",
    "console.log(transactionStatus);\n",
    "txInfo = await txRepo.getTransaction(hash,sym.TransactionGroup.Confirmed).toPromise();\n",
    "console.log(txInfo);\n",
    "console.log(`https://testnet.symbol.fyi/transactions/${hash}`) //ブラウザで確認を追加"
   ]
  },
  {
   "cell_type": "code",
   "execution_count": null,
   "metadata": {
    "dotnet_interactive": {
     "language": "javascript"
    },
    "polyglot_notebook": {
     "kernelName": "javascript"
    },
    "vscode": {
     "languageId": "polyglot-notebook"
    }
   },
   "outputs": [],
   "source": [
    "//Bobに適用\n",
    "bob = sym.Account.generateNewAccount(networkType);\n",
    "bobMosaicAddressResTx =  sym.MosaicAddressRestrictionTransaction.create(\n",
    "    sym.Deadline.create(epochAdjustment),\n",
    "    mosaicDefTx.mosaicId, // mosaicId\n",
    "    sym.KeyGenerator.generateUInt64Key(\"KYC\"), // restrictionKey\n",
    "    bob.address, // address\n",
    "    sym.UInt64.fromUint(1), // newRestrictionValue\n",
    "    networkType,\n",
    "    sym.UInt64.fromHex('FFFFFFFFFFFFFFFF') //previousRestrictionValue\n",
    ").setMaxFee(100);\n",
    "signedTx = carol.sign(bobMosaicAddressResTx,generationHash);\n",
    "await txRepo.announce(signedTx).toPromise();"
   ]
  },
  {
   "cell_type": "code",
   "execution_count": null,
   "metadata": {
    "dotnet_interactive": {
     "language": "javascript"
    },
    "polyglot_notebook": {
     "kernelName": "javascript"
    },
    "vscode": {
     "languageId": "polyglot-notebook"
    }
   },
   "outputs": [],
   "source": [
    "hash = signedTx.hash;\n",
    "tsRepo = repo.createTransactionStatusRepository();\n",
    "transactionStatus = await tsRepo.getTransactionStatus(hash).toPromise();\n",
    "console.log(transactionStatus);\n",
    "txInfo = await txRepo.getTransaction(hash,sym.TransactionGroup.Confirmed).toPromise();\n",
    "console.log(txInfo);\n",
    "console.log(`https://testnet.symbol.fyi/transactions/${hash}`) //ブラウザで確認を追加"
   ]
  },
  {
   "attachments": {},
   "cell_type": "markdown",
   "metadata": {
    "dotnet_interactive": {
     "language": "javascript"
    },
    "polyglot_notebook": {
     "kernelName": "javascript"
    }
   },
   "source": [
    "### 制限状態確認\n",
    "\n",
    "ノードに問い合わせて制限状態を確認します。"
   ]
  },
  {
   "cell_type": "code",
   "execution_count": null,
   "metadata": {
    "dotnet_interactive": {
     "language": "javascript"
    },
    "polyglot_notebook": {
     "kernelName": "javascript"
    },
    "vscode": {
     "languageId": "polyglot-notebook"
    }
   },
   "outputs": [],
   "source": [
    "res = await resMosaicRepo.search({mosaicId:mosaicDefTx.mosaicId}).toPromise();\n",
    "console.log(res);"
   ]
  },
  {
   "attachments": {},
   "cell_type": "markdown",
   "metadata": {
    "dotnet_interactive": {
     "language": "javascript"
    },
    "polyglot_notebook": {
     "kernelName": "javascript"
    }
   },
   "source": [
    "###### 出力例\n",
    "```js\n",
    "> data\n",
    "    > 0: MosaicGlobalRestriction\n",
    "      compositeHash: \"68FBADBAFBD098C157D42A61A7D82E8AF730D3B8C3937B1088456432CDDB8373\"\n",
    "      entryType: 1\n",
    "    > mosaicId: MosaicId\n",
    "        id: Id {lower: 2467167064, higher: 973862467}\n",
    "    > restrictions: Array(1)\n",
    "        0: MosaicGlobalRestrictionItem\n",
    "          key: UInt64 {lower: 2424036727, higher: 2165465980}\n",
    "          restrictionType: 1\n",
    "          restrictionValue: UInt64 {lower: 1, higher: 0}\n",
    "    > 1: MosaicAddressRestriction\n",
    "      compositeHash: \"920BFD041B6D30C0799E06585EC5F3916489E2DDF47FF6C30C569B102DB39F4E\"\n",
    "      entryType: 0\n",
    "    > mosaicId: MosaicId\n",
    "        id: Id {lower: 2467167064, higher: 973862467}\n",
    "    > restrictions: Array(1)\n",
    "        0: MosaicAddressRestrictionItem\n",
    "          key: UInt64 {lower: 2424036727, higher: 2165465980}\n",
    "          restrictionValue: UInt64 {lower: 1, higher: 0}\n",
    "          targetAddress: Address {address: 'TAZCST2RBXDSD3227Y4A6ZP3QHFUB2P7JQVRYEI', networkType: 152}\n",
    "  > 2: MosaicAddressRestriction\n",
    "  ...\n",
    "```\n",
    "\n",
    "### 送信確認\n",
    "\n",
    "実際にモザイクを送信してみて、制限状態を確認します。"
   ]
  },
  {
   "cell_type": "code",
   "execution_count": null,
   "metadata": {
    "dotnet_interactive": {
     "language": "javascript"
    },
    "polyglot_notebook": {
     "kernelName": "javascript"
    },
    "vscode": {
     "languageId": "polyglot-notebook"
    }
   },
   "outputs": [],
   "source": [
    "//成功（CarolからBobに送信）\n",
    "trTx = sym.TransferTransaction.create(\n",
    "        sym.Deadline.create(epochAdjustment),\n",
    "        bob.address, \n",
    "        [new sym.Mosaic(mosaicDefTx.mosaicId, sym.UInt64.fromUint(1))],\n",
    "        sym.PlainMessage.create(\"\"),\n",
    "        networkType\n",
    "      ).setMaxFee(100);\n",
    "signedTx = carol.sign(trTx,generationHash);\n",
    "await txRepo.announce(signedTx).toPromise();\n"
   ]
  },
  {
   "cell_type": "code",
   "execution_count": null,
   "metadata": {
    "dotnet_interactive": {
     "language": "javascript"
    },
    "polyglot_notebook": {
     "kernelName": "javascript"
    },
    "vscode": {
     "languageId": "polyglot-notebook"
    }
   },
   "outputs": [],
   "source": [
    "hash = signedTx.hash;\n",
    "tsRepo = repo.createTransactionStatusRepository();\n",
    "transactionStatus = await tsRepo.getTransactionStatus(hash).toPromise();\n",
    "console.log(transactionStatus);\n",
    "txInfo = await txRepo.getTransaction(hash,sym.TransactionGroup.Confirmed).toPromise();\n",
    "console.log(txInfo);\n",
    "console.log(`https://testnet.symbol.fyi/transactions/${hash}`) //ブラウザで確認を追加"
   ]
  },
  {
   "cell_type": "code",
   "execution_count": null,
   "metadata": {
    "dotnet_interactive": {
     "language": "javascript"
    },
    "polyglot_notebook": {
     "kernelName": "javascript"
    },
    "vscode": {
     "languageId": "polyglot-notebook"
    }
   },
   "outputs": [],
   "source": [
    "//失敗（CarolからDaveに送信）\n",
    "dave = sym.Account.generateNewAccount(networkType);\n",
    "trTx = sym.TransferTransaction.create(\n",
    "        sym.Deadline.create(epochAdjustment),\n",
    "        dave.address, \n",
    "        [new sym.Mosaic(mosaicDefTx.mosaicId, sym.UInt64.fromUint(1))],\n",
    "        sym.PlainMessage.create(\"\"),\n",
    "        networkType\n",
    "      ).setMaxFee(100);\n",
    "signedTx = carol.sign(trTx,generationHash);\n",
    "await txRepo.announce(signedTx).toPromise();"
   ]
  },
  {
   "cell_type": "code",
   "execution_count": null,
   "metadata": {
    "dotnet_interactive": {
     "language": "javascript"
    },
    "polyglot_notebook": {
     "kernelName": "javascript"
    },
    "vscode": {
     "languageId": "polyglot-notebook"
    }
   },
   "outputs": [],
   "source": [
    "hash = signedTx.hash;\n",
    "tsRepo = repo.createTransactionStatusRepository();\n",
    "transactionStatus = await tsRepo.getTransactionStatus(hash).toPromise();\n",
    "console.log(transactionStatus);\n",
    "txInfo = await txRepo.getTransaction(hash,sym.TransactionGroup.Confirmed).toPromise();\n",
    "console.log(txInfo);\n",
    "console.log(`https://testnet.symbol.fyi/transactions/${hash}`) //ブラウザで確認を追加"
   ]
  },
  {
   "attachments": {},
   "cell_type": "markdown",
   "metadata": {
    "dotnet_interactive": {
     "language": "javascript"
    },
    "polyglot_notebook": {
     "kernelName": "javascript"
    }
   },
   "source": [
    "失敗した場合以下のようなエラーステータスになります。\n",
    "\n",
    "```js\n",
    "{\"hash\":\"E3402FB7AE21A6A64838DDD0722420EC67E61206C148A73B0DFD7F8C098062FA\",\"code\":\"Failure_RestrictionMosaic_Account_Unauthorized\",\"deadline\":\"12371602742\",\"group\":\"failed\"}\n",
    "```\n",
    "\n",
    "## 11.3 現場で使えるヒント\n",
    "\n",
    "ブロックチェーンの社会実装などを考えたときに、法律や信頼性の見地から\n",
    "一つの役割のみを持たせたいアカウント、関係ないアカウントを巻き込みたくないと思うことがあります。\n",
    "そんな場合にアカウント制限とグローバルモザイク制限を使いこなすことで、\n",
    "モザイクのふるまいを柔軟にコントロールすることができます。\n",
    "\n",
    "### アカウントバーン\n",
    "\n",
    "AllowIncomingAddressによって指定アドレスからのみ受信可能にしておいて、  \n",
    "XYMを全量送信すると、秘密鍵を持っていても自力では操作困難なアカウントを明示的に作成することができます。  \n",
    "（最小手数料を0に設定したノードによって承認されることもあり、その可能性はゼロではありません）  \n",
    "\n",
    "### モザイクロック\n",
    "譲渡不可設定のモザイクを配布し、配布者側のアカウントで受け取り拒否を行うとモザイクをロックさせることができます。\n",
    "\n",
    "### 所属証明\n",
    "モザイクの章で所有の証明について説明しました。グローバルモザイク制限を活用することで、\n",
    "KYCが済んだアカウント間でのみ所有・流通させることが可能なモザイクを作り、所有者のみが所属できる独自経済圏を構築することが可能です。"
   ]
  }
 ],
 "metadata": {
  "kernelspec": {
   "display_name": ".NET (C#)",
   "language": "C#",
   "name": ".net-csharp"
  },
  "polyglot_notebook": {
   "kernelInfo": {
    "defaultKernelName": "javascript",
    "items": [
     {
      "aliases": [
       "js"
      ],
      "languageName": null,
      "name": "javascript"
     },
     {
      "aliases": [
       "frontend"
      ],
      "languageName": null,
      "name": "vscode"
     },
     {
      "aliases": [],
      "languageName": null,
      "name": ".NET"
     },
     {
      "aliases": [
       "c#",
       "C#"
      ],
      "languageName": null,
      "name": "csharp"
     },
     {
      "aliases": [
       "f#",
       "F#"
      ],
      "languageName": null,
      "name": "fsharp"
     },
     {
      "aliases": [],
      "languageName": null,
      "name": "html"
     },
     {
      "aliases": [],
      "languageName": null,
      "name": "kql"
     },
     {
      "aliases": [],
      "languageName": null,
      "name": "mermaid"
     },
     {
      "aliases": [
       "powershell"
      ],
      "languageName": null,
      "name": "pwsh"
     },
     {
      "aliases": [],
      "languageName": null,
      "name": "sql"
     },
     {
      "aliases": [],
      "languageName": null,
      "name": "value"
     },
     {
      "aliases": [],
      "languageName": null,
      "name": "webview"
     }
    ]
   }
  }
 },
 "nbformat": 4,
 "nbformat_minor": 2
}
