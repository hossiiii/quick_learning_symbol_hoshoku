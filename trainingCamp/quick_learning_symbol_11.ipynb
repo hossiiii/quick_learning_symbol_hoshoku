{
 "cells": [
  {
   "attachments": {},
   "cell_type": "markdown",
   "metadata": {
    "dotnet_interactive": {
     "language": "javascript"
    },
    "polyglot_notebook": {
     "kernelName": "javascript"
    }
   },
   "source": [
    "<hr />\n",
    "\n",
    "### NoteBookの見方\n",
    "コード以外の情報 \n",
    "<span >白/黒での記載は速習Symbol</span>  \n",
    "<span style=\"color:red\">赤色での記載は補足情報</span>  \n",
    "<span >コード内で🌟マークがある場所は自分の情報に書き換えが必要</span>\n",
    "\n",
    "<hr />"
   ]
  },
  {
   "attachments": {},
   "cell_type": "markdown",
   "metadata": {
    "dotnet_interactive": {
     "language": "javascript"
    },
    "polyglot_notebook": {
     "kernelName": "javascript"
    }
   },
   "source": [
    "<span style=\"color:red\">\n",
    "\n",
    "# 環境構築\n",
    "</span>\n",
    "<span style=\"color:red\">\n",
    "\n",
    "## 1.Symbol SDKの読み込み </span>"
   ]
  },
  {
   "cell_type": "code",
   "execution_count": 1,
   "metadata": {
    "dotnet_interactive": {
     "language": "javascript"
    },
    "polyglot_notebook": {
     "kernelName": "javascript"
    },
    "vscode": {
     "languageId": "polyglot-notebook"
    }
   },
   "outputs": [],
   "source": [
    "(script = document.createElement(\"script\")).src = \"https://xembook.github.io/nem2-browserify/symbol-sdk-pack-2.0.3.js\";\n",
    "document.getElementsByTagName(\"head\")[0].appendChild(script);"
   ]
  },
  {
   "attachments": {},
   "cell_type": "markdown",
   "metadata": {
    "dotnet_interactive": {
     "language": "javascript"
    },
    "polyglot_notebook": {
     "kernelName": "javascript"
    }
   },
   "source": [
    "<span style=\"color:red\">\n",
    "\n",
    "## 2.Symbol用の共通設定 </span>"
   ]
  },
  {
   "cell_type": "code",
   "execution_count": 2,
   "metadata": {
    "dotnet_interactive": {
     "language": "javascript"
    },
    "polyglot_notebook": {
     "kernelName": "javascript"
    },
    "vscode": {
     "languageId": "polyglot-notebook"
    }
   },
   "outputs": [],
   "source": [
    "NODE = 'https://sym-test-03.opening-line.jp:3001';\n",
    "sym = require(\"/node_modules/symbol-sdk\");\n",
    "repo = new sym.RepositoryFactoryHttp(NODE);\n",
    "txRepo = repo.createTransactionRepository();\n",
    "mosaicRepo = repo.createMosaicRepository();\n",
    "accountRepo = repo.createAccountRepository();\n",
    "(async () => {\n",
    "  networkType = await repo.getNetworkType().toPromise();\n",
    "  generationHash = await repo.getGenerationHash().toPromise();\n",
    "  epochAdjustment = await repo.getEpochAdjustment().toPromise();\n",
    "})();\n",
    "\n",
    "function clog(signedTx){\n",
    "    console.log(NODE + \"/transactionStatus/\" + signedTx.hash);\n",
    "    console.log(NODE + \"/transactions/confirmed/\" + signedTx.hash);\n",
    "    console.log(\"https://symbol.fyi/transactions/\" + signedTx.hash);\n",
    "    console.log(\"https://testnet.symbol.fyi/transactions/\" + signedTx.hash);\n",
    "}"
   ]
  },
  {
   "attachments": {},
   "cell_type": "markdown",
   "metadata": {
    "dotnet_interactive": {
     "language": "javascript"
    },
    "polyglot_notebook": {
     "kernelName": "javascript"
    }
   },
   "source": [
    "<span style=\"color:red\">\n",
    "\n",
    "## 3.aliceアカウントのリストア </span>"
   ]
  },
  {
   "cell_type": "code",
   "execution_count": 3,
   "metadata": {
    "dotnet_interactive": {
     "language": "javascript"
    },
    "polyglot_notebook": {
     "kernelName": "javascript"
    },
    "vscode": {
     "languageId": "polyglot-notebook"
    }
   },
   "outputs": [],
   "source": [
    "alice = sym.Account.createFromPrivateKey(\n",
    "    \"1E9139CC1580B4AED6A1FE110085281D4982ED0D89CE07F3380EB83069B1****\", //🌟ここに3章で作成した秘密鍵を入力\n",
    "    networkType\n",
    ");"
   ]
  },
  {
   "attachments": {},
   "cell_type": "markdown",
   "metadata": {
    "dotnet_interactive": {
     "language": "javascript"
    },
    "polyglot_notebook": {
     "kernelName": "javascript"
    }
   },
   "source": [
    "<img width=\"800\" alt=\"スクリーンショット 2023-04-21 4 52 14\" src=\"https://user-images.githubusercontent.com/47712051/229624965-eaf6ae6e-7a61-4cf4-9ca9-1bdfad5cafbf.png\">\n",
    "\n",
    "<img width=\"800\" alt=\"スクリーンショット 2023-04-21 4 52 14\" src=\"https://user-images.githubusercontent.com/47712051/229624979-b306ee0b-c83e-4b86-8376-91f031af7856.png\">\n",
    "\n",
    "<img width=\"800\" alt=\"スクリーンショット 2023-04-21 4 52 14\" src=\"https://user-images.githubusercontent.com/47712051/229624993-7527cdd1-7919-44b9-9c6f-1f5b3e4d1310.png\">\n",
    "\n",
    "<img width=\"800\" alt=\"スクリーンショット 2023-04-21 4 52 14\" src=\"https://user-images.githubusercontent.com/47712051/229625002-455e6099-9b95-431d-8686-d09f91b9a16d.png\">\n",
    "\n",
    "<img width=\"800\" alt=\"スクリーンショット 2023-04-21 4 52 14\" src=\"https://user-images.githubusercontent.com/47712051/229625011-449e35b6-8510-49c6-9f45-e07bce0295dd.png\">\n",
    "\n",
    "<img width=\"800\" alt=\"スクリーンショット 2023-04-21 4 52 14\" src=\"https://user-images.githubusercontent.com/47712051/229625022-c67dc00f-d002-4120-8a14-fe885a95f670.png\">\n",
    "\n",
    "<img width=\"800\" alt=\"スクリーンショット 2023-04-21 4 52 14\" src=\"https://user-images.githubusercontent.com/47712051/229625035-d3408a69-bb9a-40cc-b405-70fdf68ccbd2.png\">\n",
    "\n",
    "<img width=\"800\" alt=\"スクリーンショット 2023-04-21 4 52 14\" src=\"https://user-images.githubusercontent.com/47712051/229625053-4a91f670-e1e1-4d20-a32f-cabb082c5915.png\">\n",
    "\n",
    "<img width=\"800\" alt=\"スクリーンショット 2023-04-21 4 52 14\" src=\"https://user-images.githubusercontent.com/47712051/229625065-d561e4cd-aaf2-4701-a10e-cd4f7c063cb0.png\">\n",
    "\n",
    "<img width=\"800\" alt=\"スクリーンショット 2023-04-21 4 52 14\" src=\"https://user-images.githubusercontent.com/47712051/229625087-5411527e-004d-45d6-ba0f-52ccb3c650f7.png\">"
   ]
  },
  {
   "attachments": {},
   "cell_type": "markdown",
   "metadata": {
    "dotnet_interactive": {
     "language": "javascript"
    },
    "polyglot_notebook": {
     "kernelName": "javascript"
    }
   },
   "source": [
    "# 11.制限\n",
    "\n",
    "アカウントに対する制限とモザイクのグローバル制限についての方法を紹介します。\n",
    "本章では、既存アカウントの権限を制限してしまうので、使い捨てのアカウントを新規に作成してお試しください。"
   ]
  },
  {
   "cell_type": "code",
   "execution_count": 4,
   "metadata": {
    "dotnet_interactive": {
     "language": "javascript"
    },
    "polyglot_notebook": {
     "kernelName": "javascript"
    },
    "vscode": {
     "languageId": "polyglot-notebook"
    }
   },
   "outputs": [
    {
     "data": {
      "application/json": {
       "address": "TCWNIRYSAWSKV4K6KFDK3RIZOW67LG4V2QI6WTQ",
       "networkType": 152
      }
     },
     "metadata": {},
     "output_type": "display_data"
    },
    {
     "data": {
      "application/json": {
       "address": "TCWNIRYSAWSKV4K6KFDK3RIZOW67LG4V2QI6WTQ",
       "networkType": 152
      }
     },
     "metadata": {},
     "output_type": "display_data"
    },
    {
     "data": {
      "text/plain": [
       "https://testnet.symbol.tools/?recipient=TCWNIRYSAWSKV4K6KFDK3RIZOW67LG4V2QI6WTQ&amount=100"
      ]
     },
     "metadata": {},
     "output_type": "display_data"
    },
    {
     "data": {
      "text/plain": [
       "https://testnet.symbol.tools/?recipient=TCWNIRYSAWSKV4K6KFDK3RIZOW67LG4V2QI6WTQ&amount=100"
      ]
     },
     "metadata": {},
     "output_type": "display_data"
    }
   ],
   "source": [
    "//使い捨てアカウントCarolの生成\n",
    "carol = sym.Account.generateNewAccount(networkType);\n",
    "console.log(carol.address);\n",
    "//FAUCET URL出力\n",
    "console.log(\"https://testnet.symbol.tools/?recipient=\" + carol.address.plain() +\"&amount=100\");"
   ]
  },
  {
   "attachments": {},
   "cell_type": "markdown",
   "metadata": {
    "dotnet_interactive": {
     "language": "javascript"
    },
    "polyglot_notebook": {
     "kernelName": "javascript"
    }
   },
   "source": []
  },
  {
   "cell_type": "markdown",
   "metadata": {
    "dotnet_interactive": {
     "language": "javascript"
    },
    "polyglot_notebook": {
     "kernelName": "javascript"
    }
   },
   "source": []
  }
 ],
 "metadata": {
  "kernelspec": {
   "display_name": ".NET (C#)",
   "language": "C#",
   "name": ".net-csharp"
  },
  "polyglot_notebook": {
   "kernelInfo": {
    "defaultKernelName": "javascript",
    "items": [
     {
      "aliases": [
       "js"
      ],
      "languageName": "JavaScript",
      "name": "javascript"
     },
     {
      "aliases": [
       "frontend"
      ],
      "name": "vscode"
     },
     {
      "aliases": [],
      "name": ".NET"
     },
     {
      "aliases": [
       "c#",
       "C#"
      ],
      "languageName": "C#",
      "name": "csharp"
     },
     {
      "aliases": [
       "f#",
       "F#"
      ],
      "languageName": "F#",
      "name": "fsharp"
     },
     {
      "aliases": [],
      "languageName": "HTML",
      "name": "html"
     },
     {
      "aliases": [],
      "languageName": "KQL",
      "name": "kql"
     },
     {
      "aliases": [],
      "languageName": "Mermaid",
      "name": "mermaid"
     },
     {
      "aliases": [
       "powershell"
      ],
      "languageName": "PowerShell",
      "name": "pwsh"
     },
     {
      "aliases": [],
      "languageName": "SQL",
      "name": "sql"
     },
     {
      "aliases": [],
      "name": "value"
     },
     {
      "aliases": [],
      "name": "webview"
     }
    ]
   }
  }
 },
 "nbformat": 4,
 "nbformat_minor": 2
}
