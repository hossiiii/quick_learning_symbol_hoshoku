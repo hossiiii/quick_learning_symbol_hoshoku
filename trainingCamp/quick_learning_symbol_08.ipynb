{
 "cells": [
  {
   "attachments": {},
   "cell_type": "markdown",
   "metadata": {
    "dotnet_interactive": {
     "language": "javascript"
    },
    "polyglot_notebook": {
     "kernelName": "javascript"
    }
   },
   "source": [
    "<hr />\n",
    "\n",
    "### NoteBookの見方\n",
    "コード以外の情報 \n",
    "<span >白/黒での記載は速習Symbol</span>  \n",
    "<span style=\"color:red\">赤色での記載は補足情報</span>  \n",
    "<span >コード内で🌟マークがある場所は自分の情報に書き換えが必要</span>\n",
    "\n",
    "<hr />"
   ]
  },
  {
   "attachments": {},
   "cell_type": "markdown",
   "metadata": {
    "dotnet_interactive": {
     "language": "javascript"
    },
    "polyglot_notebook": {
     "kernelName": "javascript"
    }
   },
   "source": [
    "<span style=\"color:red\">\n",
    "\n",
    "# 環境構築\n",
    "</span>\n",
    "<span style=\"color:red\">\n",
    "\n",
    "## 1.Symbol SDKの読み込み </span>"
   ]
  },
  {
   "cell_type": "code",
   "execution_count": 2,
   "metadata": {
    "dotnet_interactive": {
     "language": "javascript"
    },
    "polyglot_notebook": {
     "kernelName": "javascript"
    },
    "vscode": {
     "languageId": "polyglot-notebook"
    }
   },
   "outputs": [],
   "source": [
    "(script = document.createElement(\"script\")).src = \"https://xembook.github.io/nem2-browserify/symbol-sdk-pack-2.0.3.js\";\n",
    "document.getElementsByTagName(\"head\")[0].appendChild(script);"
   ]
  },
  {
   "attachments": {},
   "cell_type": "markdown",
   "metadata": {
    "dotnet_interactive": {
     "language": "javascript"
    },
    "polyglot_notebook": {
     "kernelName": "javascript"
    }
   },
   "source": [
    "<span style=\"color:red\">\n",
    "\n",
    "## 2.Symbol用の共通設定 </span>"
   ]
  },
  {
   "cell_type": "code",
   "execution_count": 3,
   "metadata": {
    "dotnet_interactive": {
     "language": "javascript"
    },
    "polyglot_notebook": {
     "kernelName": "javascript"
    },
    "vscode": {
     "languageId": "polyglot-notebook"
    }
   },
   "outputs": [],
   "source": [
    "NODE = 'https://sym-test-03.opening-line.jp:3001';\n",
    "sym = require(\"/node_modules/symbol-sdk\");\n",
    "repo = new sym.RepositoryFactoryHttp(NODE);\n",
    "txRepo = repo.createTransactionRepository();\n",
    "mosaicRepo = repo.createMosaicRepository();\n",
    "accountRepo = repo.createAccountRepository();\n",
    "(async () => {\n",
    "  networkType = await repo.getNetworkType().toPromise();\n",
    "  generationHash = await repo.getGenerationHash().toPromise();\n",
    "  epochAdjustment = await repo.getEpochAdjustment().toPromise();\n",
    "})();\n",
    "\n",
    "function clog(signedTx){\n",
    "    console.log(NODE + \"/transactionStatus/\" + signedTx.hash);\n",
    "    console.log(NODE + \"/transactions/confirmed/\" + signedTx.hash);\n",
    "    console.log(\"https://symbol.fyi/transactions/\" + signedTx.hash);\n",
    "    console.log(\"https://testnet.symbol.fyi/transactions/\" + signedTx.hash);\n",
    "}"
   ]
  },
  {
   "attachments": {},
   "cell_type": "markdown",
   "metadata": {
    "dotnet_interactive": {
     "language": "javascript"
    },
    "polyglot_notebook": {
     "kernelName": "javascript"
    }
   },
   "source": [
    "<span style=\"color:red\">\n",
    "\n",
    "## 3.aliceアカウントのリストア </span>"
   ]
  },
  {
   "cell_type": "code",
   "execution_count": 4,
   "metadata": {
    "dotnet_interactive": {
     "language": "javascript"
    },
    "polyglot_notebook": {
     "kernelName": "javascript"
    },
    "vscode": {
     "languageId": "polyglot-notebook"
    }
   },
   "outputs": [],
   "source": [
    "alice = sym.Account.createFromPrivateKey(\n",
    "    \"1E9139CC1580B4AED6A1FE110085281D4982ED0D89CE07F3380EB83069B1****\", //🌟ここに3章で作成した秘密鍵を入力\n",
    "    networkType\n",
    ");"
   ]
  },
  {
   "attachments": {},
   "cell_type": "markdown",
   "metadata": {
    "dotnet_interactive": {
     "language": "javascript"
    },
    "polyglot_notebook": {
     "kernelName": "javascript"
    }
   },
   "source": [
    "<img width=\"800\" alt=\"スクリーンショット 2023-01-21 1 39 39\" src=\"https://user-images.githubusercontent.com/47712051/213754095-3cc6bce7-0041-4019-a746-0e18ae5ff684.png\">\n",
    "\n",
    "<img width=\"800\" alt=\"スクリーンショット 2023-01-21 2 09 33\" src=\"https://user-images.githubusercontent.com/47712051/213761532-f87e074e-9ef4-437c-8b12-d6073351c410.png\">\n",
    "\n",
    "<img width=\"800\" alt=\"スクリーンショット 2023-01-21 2 09 50\" src=\"https://user-images.githubusercontent.com/47712051/213761554-d9ea8b24-0b86-41c0-bcea-aa076b144fd0.png\">\n",
    "\n",
    "<img width=\"800\" alt=\"スクリーンショット 2023-01-21 2 10 05\" src=\"https://user-images.githubusercontent.com/47712051/213761569-db5054cb-6bbb-4d83-9fa7-359383d24be3.png\">\n",
    "\n",
    "<img width=\"800\" alt=\"スクリーンショット 2023-01-21 2 10 19\" src=\"https://user-images.githubusercontent.com/47712051/213761582-dea5cd80-9c09-4d7d-9c9e-42a44b100c96.png\">\n",
    "\n",
    "<img width=\"800\" alt=\"スクリーンショット 2023-01-21 2 10 34\" src=\"https://user-images.githubusercontent.com/47712051/213761600-00ee6a13-e643-4a94-9361-091869deadb3.png\">\n"
   ]
  },
  {
   "attachments": {},
   "cell_type": "markdown",
   "metadata": {
    "dotnet_interactive": {
     "language": "javascript"
    },
    "polyglot_notebook": {
     "kernelName": "javascript"
    }
   },
   "source": [
    "# 8.ロック\n",
    "\n",
    "Symbolブロックチェーンにはハッシュロックとシークレットロックの２種類のロック機構があります。  \n",
    "\n",
    "## 8.1 ハッシュロック\n",
    "\n",
    "ハッシュロックは後でアナウンスされる予定のトランザクションを事前にハッシュ値で登録しておくことで、\n",
    "該当トランザクションがアナウンスされた場合に、そのトランザクションをAPIノード上で処理せずにロックさせて、署名が集まってから処理を行うことができます。\n",
    "アカウントが所有するモザイクを操作できないようにロックするわけではなく、ロックされるのはハッシュ値の対象となるトランザクションとなります。\n",
    "ハッシュロックにかかる費用は10XYM、有効期限は最大約48時間です。ロックしたトランザクションが承認されれば10XYMは返却されます。\n",
    "\n",
    "### アグリゲートボンデッドトランザクションの作成\n"
   ]
  },
  {
   "cell_type": "code",
   "execution_count": 5,
   "metadata": {
    "dotnet_interactive": {
     "language": "javascript"
    },
    "polyglot_notebook": {
     "kernelName": "javascript"
    },
    "vscode": {
     "languageId": "polyglot-notebook"
    }
   },
   "outputs": [],
   "source": [
    "bob = sym.Account.generateNewAccount(networkType);\n",
    "tx1 = sym.TransferTransaction.create(\n",
    "    undefined,\n",
    "    bob.address,  //Bobへの送信\n",
    "    [ //1XYM\n",
    "      new sym.Mosaic(\n",
    "        new sym.NamespaceId(\"symbol.xym\"),\n",
    "        sym.UInt64.fromUint(1000000)\n",
    "      )\n",
    "    ],\n",
    "    sym.EmptyMessage, //メッセージ無し\n",
    "    networkType\n",
    ");\n",
    "tx2 = sym.TransferTransaction.create(\n",
    "    undefined,\n",
    "    alice.address,  // Aliceへの送信\n",
    "    [],\n",
    "    sym.PlainMessage.create('thank you!'), //メッセージ\n",
    "    networkType\n",
    ");\n",
    "aggregateArray = [\n",
    "    tx1.toAggregate(alice.publicAccount), //Aliceからの送信\n",
    "    tx2.toAggregate(bob.publicAccount), // Bobからの送信\n",
    "]\n",
    "//アグリゲートボンデッドトランザクション\n",
    "aggregateTx = sym.AggregateTransaction.createBonded(\n",
    "    sym.Deadline.create(epochAdjustment),\n",
    "    aggregateArray,\n",
    "    networkType,\n",
    "    [],\n",
    ").setMaxFeeForAggregate(100, 1);\n",
    "//署名\n",
    "signedAggregateTx = alice.sign(aggregateTx, generationHash);"
   ]
  },
  {
   "attachments": {},
   "cell_type": "markdown",
   "metadata": {
    "dotnet_interactive": {
     "language": "javascript"
    },
    "polyglot_notebook": {
     "kernelName": "javascript"
    }
   },
   "source": [
    "tx1,tx2の2つのトランザクションをaggregateArrayで配列にする時に、送信元アカウントの公開鍵を指定します。\n",
    "公開鍵はアカウントの章を参考に事前にAPIで取得しておきましょう。\n",
    "配列化されたトランザクションはブロック承認時にその順序で整合性を検証されます。\n",
    "例えば、tx1でNFTをAliceからBobへ送信した後、tx2でBobからCarolへ同じNFTを送信することは可能ですが、tx2,tx1の順序でアグリゲートトランザクションを通知するとエラーになります。\n",
    "また、アグリゲートトランザクションの中に1つでも整合性の合わないトランザクションが存在していると、アグリゲートトランザクション全体がエラーとなってチェーンに承認されることはありません。\n",
    "\n",
    "### ハッシュロックトランザクションの作成と署名、アナウンス"
   ]
  },
  {
   "cell_type": "code",
   "execution_count": 8,
   "metadata": {
    "dotnet_interactive": {
     "language": "javascript"
    },
    "polyglot_notebook": {
     "kernelName": "javascript"
    },
    "vscode": {
     "languageId": "polyglot-notebook"
    }
   },
   "outputs": [],
   "source": [
    "//ハッシュロックTX作成\n",
    "hashLockTx = sym.HashLockTransaction.create(\n",
    "  sym.Deadline.create(epochAdjustment),\n",
    "    new sym.Mosaic(new sym.NamespaceId(\"symbol.xym\"),sym.UInt64.fromUint(10 * 1000000)), //10xym固定値\n",
    "    sym.UInt64.fromUint(480), // ロック有効期限\n",
    "    signedAggregateTx,// このハッシュ値を登録\n",
    "    networkType\n",
    ").setMaxFee(100);\n",
    "//署名\n",
    "signedLockTx = alice.sign(hashLockTx, generationHash);\n",
    "//ハッシュロックTXをアナウンス\n",
    "await txRepo.announce(signedLockTx).toPromise();\n"
   ]
  },
  {
   "cell_type": "code",
   "execution_count": 9,
   "metadata": {
    "dotnet_interactive": {
     "language": "javascript"
    },
    "polyglot_notebook": {
     "kernelName": "javascript"
    },
    "vscode": {
     "languageId": "polyglot-notebook"
    }
   },
   "outputs": [
    {
     "data": {
      "application/json": {
       "code": "Success",
       "deadline": {
        "adjustedValue": 14696152092
       },
       "group": "confirmed",
       "hash": "6B9BDD05C1CAFFB7BDBDE77B376C3235B293F71D30A71A550AF4574BB8AD9AF6",
       "height": {
        "higher": 0,
        "lower": 394368
       }
      }
     },
     "metadata": {},
     "output_type": "display_data"
    },
    {
     "data": {
      "application/json": {
       "transaction": {
        "amount": "10000000",
        "deadline": "14696152092",
        "duration": "480",
        "hash": "23148BB803CA3914F623F187C0C78664FF4EC3F9531BFE0A0507F2B7FE23A8DA",
        "maxFee": "18400",
        "mosaicId": "E74B99BA41F4AFEE",
        "network": 152,
        "signature": "0C7BDB71157C2C4B847487B355E51C0728B8C3FC6DC93BE2C1FA7168270D50AB4700E34877FF07CF93A37E7383561CA522C5970A905B3D3F45B7E0B205260803",
        "signerPublicKey": "70B0C6BDB2C291F1F30D9DA6CF7D1C6DBF54588285B040ADD762EACD853EE4E9",
        "type": 16712,
        "version": 1
       }
      }
     },
     "metadata": {},
     "output_type": "display_data"
    },
    {
     "data": {
      "text/plain": [
       "https://testnet.symbol.fyi/transactions/6B9BDD05C1CAFFB7BDBDE77B376C3235B293F71D30A71A550AF4574BB8AD9AF6"
      ]
     },
     "metadata": {},
     "output_type": "display_data"
    }
   ],
   "source": [
    "hash = signedLockTx.hash;\n",
    "tsRepo = repo.createTransactionStatusRepository();\n",
    "transactionStatus = await tsRepo.getTransactionStatus(hash).toPromise();\n",
    "console.log(transactionStatus);\n",
    "txInfo = await txRepo.getTransaction(hash,sym.TransactionGroup.Confirmed).toPromise();\n",
    "console.log(txInfo);\n",
    "console.log(`https://testnet.symbol.fyi/transactions/${hash}`) //ブラウザで確認を追加"
   ]
  },
  {
   "attachments": {},
   "cell_type": "markdown",
   "metadata": {
    "dotnet_interactive": {
     "language": "javascript"
    },
    "polyglot_notebook": {
     "kernelName": "javascript"
    }
   },
   "source": [
    "### アグリゲートボンデッドトランザクションのアナウンス\n",
    "\n",
    "エクスプローラーなどで確認した後、ボンデッドトランザクションをネットワークにアナウンスします。\n"
   ]
  },
  {
   "cell_type": "code",
   "execution_count": 10,
   "metadata": {
    "dotnet_interactive": {
     "language": "javascript"
    },
    "polyglot_notebook": {
     "kernelName": "javascript"
    },
    "vscode": {
     "languageId": "polyglot-notebook"
    }
   },
   "outputs": [],
   "source": [
    "await txRepo.announceAggregateBonded(signedAggregateTx).toPromise();\n"
   ]
  },
  {
   "cell_type": "code",
   "execution_count": 12,
   "metadata": {
    "dotnet_interactive": {
     "language": "javascript"
    },
    "polyglot_notebook": {
     "kernelName": "javascript"
    },
    "vscode": {
     "languageId": "polyglot-notebook"
    }
   },
   "outputs": [
    {
     "data": {
      "application/json": {
       "code": "Success",
       "deadline": {
        "adjustedValue": 14696080679
       },
       "group": "partial",
       "hash": "23148BB803CA3914F623F187C0C78664FF4EC3F9531BFE0A0507F2B7FE23A8DA",
       "height": {
        "higher": 0,
        "lower": 0
       }
      }
     },
     "metadata": {},
     "output_type": "display_data"
    },
    {
     "data": {
      "application/json": {
       "transaction": {
        "cosignatures": [],
        "deadline": "14696080679",
        "maxFee": "46400",
        "network": 152,
        "signature": "9C8988566D1D8FC403FD46EF9777769805C15F4321E1459A8BAC03924A43860DC1FBC178797C76E0D569056C8C1A9F09A9B2AE79E800BEC4A389DEB141B2B100",
        "signerPublicKey": "70B0C6BDB2C291F1F30D9DA6CF7D1C6DBF54588285B040ADD762EACD853EE4E9",
        "transactions": [
         {
          "transaction": {
           "deadline": "14696080679",
           "maxFee": "46400",
           "mosaics": [
            {
             "amount": "1000000",
             "id": "E74B99BA41F4AFEE"
            }
           ],
           "network": 152,
           "recipientAddress": {
            "address": "TDHXXVJ5ONYBHEWQNRAHNVXADYIADVSKP22BRBQ",
            "networkType": 152
           },
           "signature": "9C8988566D1D8FC403FD46EF9777769805C15F4321E1459A8BAC03924A43860DC1FBC178797C76E0D569056C8C1A9F09A9B2AE79E800BEC4A389DEB141B2B100",
           "signerPublicKey": "70B0C6BDB2C291F1F30D9DA6CF7D1C6DBF54588285B040ADD762EACD853EE4E9",
           "type": 16724,
           "version": 1
          }
         },
         {
          "transaction": {
           "deadline": "14696080679",
           "maxFee": "46400",
           "message": "007468616E6B20796F7521",
           "mosaics": [],
           "network": 152,
           "recipientAddress": {
            "address": "TAOP6YRVWUH6VMBAZASNLYHL2SEU7DLALXJN7EY",
            "networkType": 152
           },
           "signature": "9C8988566D1D8FC403FD46EF9777769805C15F4321E1459A8BAC03924A43860DC1FBC178797C76E0D569056C8C1A9F09A9B2AE79E800BEC4A389DEB141B2B100",
           "signerPublicKey": "B3F560EBF75A2D4461C6A829C4C7A5204811FD4B302ED2724301AB0B16CA23E5",
           "type": 16724,
           "version": 1
          }
         }
        ],
        "type": 16961,
        "version": 2
       }
      }
     },
     "metadata": {},
     "output_type": "display_data"
    },
    {
     "data": {
      "text/plain": [
       "https://testnet.symbol.fyi/transactions/23148BB803CA3914F623F187C0C78664FF4EC3F9531BFE0A0507F2B7FE23A8DA"
      ]
     },
     "metadata": {},
     "output_type": "display_data"
    }
   ],
   "source": [
    "hash = signedAggregateTx.hash;\n",
    "tsRepo = repo.createTransactionStatusRepository();\n",
    "transactionStatus = await tsRepo.getTransactionStatus(hash).toPromise();\n",
    "console.log(transactionStatus);\n",
    "txInfo = await txRepo.getTransaction(hash,sym.TransactionGroup.Partial).toPromise(); //Partialに変更\n",
    "console.log(txInfo);\n",
    "console.log(`https://testnet.symbol.fyi/transactions/${hash}`) //ブラウザで確認を追加"
   ]
  },
  {
   "attachments": {},
   "cell_type": "markdown",
   "metadata": {
    "dotnet_interactive": {
     "language": "javascript"
    },
    "polyglot_notebook": {
     "kernelName": "javascript"
    }
   },
   "source": [
    "### 連署\n",
    "ロックされたトランザクションを指定されたアカウント(Bob)で連署します。"
   ]
  },
  {
   "cell_type": "code",
   "execution_count": 13,
   "metadata": {
    "dotnet_interactive": {
     "language": "javascript"
    },
    "polyglot_notebook": {
     "kernelName": "javascript"
    },
    "vscode": {
     "languageId": "polyglot-notebook"
    }
   },
   "outputs": [],
   "source": [
    "txInfo = await txRepo.getTransaction(signedAggregateTx.hash,sym.TransactionGroup.Partial).toPromise();\n",
    "cosignatureTx = sym.CosignatureTransaction.create(txInfo);\n",
    "signedCosTx = bob.signCosignatureTransaction(cosignatureTx);\n",
    "await txRepo.announceAggregateBondedCosignature(signedCosTx).toPromise();"
   ]
  },
  {
   "cell_type": "code",
   "execution_count": 15,
   "metadata": {
    "dotnet_interactive": {
     "language": "javascript"
    },
    "polyglot_notebook": {
     "kernelName": "javascript"
    },
    "vscode": {
     "languageId": "polyglot-notebook"
    }
   },
   "outputs": [
    {
     "data": {
      "application/json": {
       "code": "Success",
       "deadline": {
        "adjustedValue": 14696080679
       },
       "group": "confirmed",
       "hash": "23148BB803CA3914F623F187C0C78664FF4EC3F9531BFE0A0507F2B7FE23A8DA",
       "height": {
        "higher": 0,
        "lower": 394378
       }
      }
     },
     "metadata": {},
     "output_type": "display_data"
    },
    {
     "data": {
      "application/json": {
       "transaction": {
        "cosignatures": [
         {
          "signature": "6C1269B614562DE256A057906C3C45C606C2D4036CA65C3140B4B10337F0A03FB1B1CBC134253A905C6C5DBB122E3464C494F25EA25F9779DF1C0775F0DAF906",
          "signerPublicKey": {
           "address": {
            "address": "TDHXXVJ5ONYBHEWQNRAHNVXADYIADVSKP22BRBQ",
            "networkType": 152
           },
           "publicKey": "B3F560EBF75A2D4461C6A829C4C7A5204811FD4B302ED2724301AB0B16CA23E5"
          },
          "version": [
           0,
           0
          ]
         }
        ],
        "deadline": "14696080679",
        "maxFee": "46400",
        "network": 152,
        "signature": "9C8988566D1D8FC403FD46EF9777769805C15F4321E1459A8BAC03924A43860DC1FBC178797C76E0D569056C8C1A9F09A9B2AE79E800BEC4A389DEB141B2B100",
        "signerPublicKey": "70B0C6BDB2C291F1F30D9DA6CF7D1C6DBF54588285B040ADD762EACD853EE4E9",
        "transactions": [
         {
          "transaction": {
           "deadline": "14696080679",
           "maxFee": "46400",
           "mosaics": [
            {
             "amount": "1000000",
             "id": "E74B99BA41F4AFEE"
            }
           ],
           "network": 152,
           "recipientAddress": {
            "address": "TDHXXVJ5ONYBHEWQNRAHNVXADYIADVSKP22BRBQ",
            "networkType": 152
           },
           "signature": "9C8988566D1D8FC403FD46EF9777769805C15F4321E1459A8BAC03924A43860DC1FBC178797C76E0D569056C8C1A9F09A9B2AE79E800BEC4A389DEB141B2B100",
           "signerPublicKey": "70B0C6BDB2C291F1F30D9DA6CF7D1C6DBF54588285B040ADD762EACD853EE4E9",
           "type": 16724,
           "version": 1
          }
         },
         {
          "transaction": {
           "deadline": "14696080679",
           "maxFee": "46400",
           "message": "007468616E6B20796F7521",
           "mosaics": [],
           "network": 152,
           "recipientAddress": {
            "address": "TAOP6YRVWUH6VMBAZASNLYHL2SEU7DLALXJN7EY",
            "networkType": 152
           },
           "signature": "9C8988566D1D8FC403FD46EF9777769805C15F4321E1459A8BAC03924A43860DC1FBC178797C76E0D569056C8C1A9F09A9B2AE79E800BEC4A389DEB141B2B100",
           "signerPublicKey": "B3F560EBF75A2D4461C6A829C4C7A5204811FD4B302ED2724301AB0B16CA23E5",
           "type": 16724,
           "version": 1
          }
         }
        ],
        "type": 16961,
        "version": 2
       }
      }
     },
     "metadata": {},
     "output_type": "display_data"
    },
    {
     "data": {
      "text/plain": [
       "https://testnet.symbol.fyi/transactions/23148BB803CA3914F623F187C0C78664FF4EC3F9531BFE0A0507F2B7FE23A8DA"
      ]
     },
     "metadata": {},
     "output_type": "display_data"
    }
   ],
   "source": [
    "hash = signedAggregateTx.hash;\n",
    "tsRepo = repo.createTransactionStatusRepository();\n",
    "transactionStatus = await tsRepo.getTransactionStatus(hash).toPromise();\n",
    "console.log(transactionStatus);\n",
    "txInfo = await txRepo.getTransaction(hash,sym.TransactionGroup.Confirmed).toPromise(); //Confirmedに変更\n",
    "console.log(txInfo);\n",
    "console.log(`https://testnet.symbol.fyi/transactions/${hash}`) //ブラウザで確認を追加"
   ]
  },
  {
   "attachments": {},
   "cell_type": "markdown",
   "metadata": {
    "dotnet_interactive": {
     "language": "javascript"
    },
    "polyglot_notebook": {
     "kernelName": "javascript"
    }
   },
   "source": [
    "### 注意点\n",
    "ハッシュロックトランザクションは起案者(トランザクションを作成し最初に署名するアカウント)に限らず、誰が作成してアナウンスしても大丈夫ですが、\n",
    "アグリゲートトランザクションにそのアカウントがsignerとなるトランザクションを含めるようにしてください。\n",
    "モザイク送信無し＆メッセージ無しのダミートランザクションでも問題ありません（パフォーマンスに影響が出るための仕様とのことです）\n",
    "\n",
    "\n",
    "## 8.2 シークレットロック・シークレットプルーフ\n",
    "\n",
    "シークレットロックは事前に共通パスワードを作成しておき、指定モザイクをロックします。\n",
    "受信者が有効期限内にパスワードの所有を証明することができればロックされたモザイクを受け取ることができる仕組みです。\n",
    "\n",
    "ここではAliceが1XYMをロックしてBobが解除することで受信する方法を説明します。\n",
    "\n",
    "まずはAliceとやり取りするBobアカウントを作成します。\n",
    "ロック解除にBob側からトランザクションをアナウンスする必要があるのでFAUCETで10XYMほど受信しておきます。\n"
   ]
  },
  {
   "cell_type": "code",
   "execution_count": 16,
   "metadata": {
    "dotnet_interactive": {
     "language": "javascript"
    },
    "polyglot_notebook": {
     "kernelName": "javascript"
    },
    "vscode": {
     "languageId": "polyglot-notebook"
    }
   },
   "outputs": [
    {
     "data": {
      "application/json": {
       "address": "TCRWNU37ESP7QB6WBJFVN6A74AIL6O5L5E5MEYI",
       "networkType": 152
      }
     },
     "metadata": {},
     "output_type": "display_data"
    },
    {
     "data": {
      "text/plain": [
       "https://testnet.symbol.tools/?recipient=TCRWNU37ESP7QB6WBJFVN6A74AIL6O5L5E5MEYI&amount=10"
      ]
     },
     "metadata": {},
     "output_type": "display_data"
    }
   ],
   "source": [
    "bob = sym.Account.generateNewAccount(networkType);\n",
    "console.log(bob.address);\n",
    "//FAUCET URL出力\n",
    "console.log(\"https://testnet.symbol.tools/?recipient=\" + bob.address.plain() +\"&amount=10\");"
   ]
  },
  {
   "attachments": {},
   "cell_type": "markdown",
   "metadata": {
    "dotnet_interactive": {
     "language": "javascript"
    },
    "polyglot_notebook": {
     "kernelName": "javascript"
    }
   },
   "source": [
    "### シークレットロック\n",
    "\n",
    "ロック・解除にかかわる共通暗号を作成します。\n"
   ]
  },
  {
   "cell_type": "code",
   "execution_count": 17,
   "metadata": {
    "dotnet_interactive": {
     "language": "javascript"
    },
    "polyglot_notebook": {
     "kernelName": "javascript"
    },
    "vscode": {
     "languageId": "polyglot-notebook"
    }
   },
   "outputs": [
    {
     "data": {
      "text/plain": [
       "secret:c4759ab1fa4e05a046bfdfa46bf040c879defd1206e50842fbcfdbb0f3c511df"
      ]
     },
     "metadata": {},
     "output_type": "display_data"
    },
    {
     "data": {
      "text/plain": [
       "proof:f6ca3efafa161806792be3fb10fb8521022f7dca"
      ]
     },
     "metadata": {},
     "output_type": "display_data"
    }
   ],
   "source": [
    "sha3_256 = require('/node_modules/js-sha3').sha3_256;\n",
    "random = sym.Crypto.randomBytes(20);\n",
    "hash = sha3_256.create();\n",
    "secret = hash.update(random).hex(); //ロック用キーワード\n",
    "proof = random.toString('hex'); //解除用キーワード\n",
    "console.log(\"secret:\" + secret);\n",
    "console.log(\"proof:\" + proof);"
   ]
  },
  {
   "attachments": {},
   "cell_type": "markdown",
   "metadata": {
    "dotnet_interactive": {
     "language": "javascript"
    },
    "polyglot_notebook": {
     "kernelName": "javascript"
    }
   },
   "source": [
    "###### 出力例\n",
    "```js\n",
    "> secret:f260bfb53478f163ee61ee3e5fb7cfcaf7f0b663bc9dd4c537b958d4ce00e240\n",
    "  proof:7944496ac0f572173c2549baf9ac18f893aab6d0\n",
    "```\n",
    "\n",
    "トランザクションを作成・署名・アナウンスします\n"
   ]
  },
  {
   "cell_type": "code",
   "execution_count": 18,
   "metadata": {
    "dotnet_interactive": {
     "language": "javascript"
    },
    "polyglot_notebook": {
     "kernelName": "javascript"
    },
    "vscode": {
     "languageId": "polyglot-notebook"
    }
   },
   "outputs": [],
   "source": [
    "lockTx = sym.SecretLockTransaction.create(\n",
    "    sym.Deadline.create(epochAdjustment),\n",
    "    new sym.Mosaic(\n",
    "      new sym.NamespaceId(\"symbol.xym\"),\n",
    "      sym.UInt64.fromUint(1000000) //1XYM\n",
    "    ), //ロックするモザイク\n",
    "    sym.UInt64.fromUint(480), //ロック期間(ブロック数)\n",
    "    sym.LockHashAlgorithm.Op_Sha3_256, //ロックキーワード生成に使用したアルゴリズム\n",
    "    secret, //ロック用キーワード\n",
    "    bob.address, //解除時の転送先:Bob\n",
    "    networkType\n",
    ").setMaxFee(100);\n",
    "signedLockTx = alice.sign(lockTx,generationHash);\n",
    "await txRepo.announce(signedLockTx).toPromise();\n"
   ]
  },
  {
   "cell_type": "code",
   "execution_count": 19,
   "metadata": {
    "dotnet_interactive": {
     "language": "javascript"
    },
    "polyglot_notebook": {
     "kernelName": "javascript"
    },
    "vscode": {
     "languageId": "polyglot-notebook"
    }
   },
   "outputs": [
    {
     "data": {
      "application/json": {
       "code": "Success",
       "deadline": {
        "adjustedValue": 14696754359
       },
       "group": "confirmed",
       "hash": "FAB97E2E7179109130198C304A99FCC841DC89D0B08107DC4A92F3CE5466C97D",
       "height": {
        "higher": 0,
        "lower": 394388
       }
      }
     },
     "metadata": {},
     "output_type": "display_data"
    },
    {
     "data": {
      "application/json": {
       "transaction": {
        "amount": "1000000",
        "deadline": "14696754359",
        "duration": "480",
        "hashAlgorithm": 0,
        "maxFee": "20900",
        "mosaicId": "E74B99BA41F4AFEE",
        "network": 152,
        "recipientAddress": {
         "address": "TCRWNU37ESP7QB6WBJFVN6A74AIL6O5L5E5MEYI",
         "networkType": 152
        },
        "secret": "C4759AB1FA4E05A046BFDFA46BF040C879DEFD1206E50842FBCFDBB0F3C511DF",
        "signature": "5BC4141DFB219D7834A55B83E8F13B28B6F97408296B27F6F54D08193DBC8C0FE84FD02771FEAAA52D585F8AC45CB29B9F933D10D66117DDF45404E08CA5330D",
        "signerPublicKey": "70B0C6BDB2C291F1F30D9DA6CF7D1C6DBF54588285B040ADD762EACD853EE4E9",
        "type": 16722,
        "version": 1
       }
      }
     },
     "metadata": {},
     "output_type": "display_data"
    },
    {
     "data": {
      "text/plain": [
       "https://testnet.symbol.fyi/transactions/FAB97E2E7179109130198C304A99FCC841DC89D0B08107DC4A92F3CE5466C97D"
      ]
     },
     "metadata": {},
     "output_type": "display_data"
    }
   ],
   "source": [
    "hash = signedLockTx.hash;\n",
    "tsRepo = repo.createTransactionStatusRepository();\n",
    "transactionStatus = await tsRepo.getTransactionStatus(hash).toPromise();\n",
    "console.log(transactionStatus);\n",
    "txInfo = await txRepo.getTransaction(hash,sym.TransactionGroup.Confirmed).toPromise(); //Confirmedに変更\n",
    "console.log(txInfo);\n",
    "console.log(`https://testnet.symbol.fyi/transactions/${hash}`) //ブラウザで確認を追加"
   ]
  },
  {
   "attachments": {},
   "cell_type": "markdown",
   "metadata": {
    "dotnet_interactive": {
     "language": "javascript"
    },
    "polyglot_notebook": {
     "kernelName": "javascript"
    }
   },
   "source": [
    "LockHashAlgorithmは以下の通りです。\n",
    "```js\n",
    "{0: 'Op_Sha3_256', 1: 'Op_Hash_160', 2: 'Op_Hash_256'}\n",
    "```\n",
    "\n",
    "ロック時に解除先を指定するのでBob以外のアカウントが解除しても転送先（Bob）を変更することはできません。\n",
    "ロック期間は最長で365日(ブロック数を日換算)までです。\n",
    "\n",
    "承認されたトランザクションを確認します。\n"
   ]
  },
  {
   "cell_type": "code",
   "execution_count": 20,
   "metadata": {
    "dotnet_interactive": {
     "language": "javascript"
    },
    "polyglot_notebook": {
     "kernelName": "javascript"
    },
    "vscode": {
     "languageId": "polyglot-notebook"
    }
   },
   "outputs": [
    {
     "data": {
      "application/json": {
       "amount": {
        "higher": 0,
        "lower": 1000000
       },
       "compositeHash": "D997EAF8EC73062686671E8E77D94AFABADAE7EC1224437971CC3E1F1FF9AC37",
       "endHeight": {
        "higher": 0,
        "lower": 394868
       },
       "hashAlgorithm": 0,
       "mosaicId": {
        "id": {
         "higher": 1925194030,
         "lower": 1738574798
        }
       },
       "ownerAddress": {
        "address": "TAOP6YRVWUH6VMBAZASNLYHL2SEU7DLALXJN7EY",
        "networkType": 152
       },
       "recipientAddress": {
        "address": "TCRWNU37ESP7QB6WBJFVN6A74AIL6O5L5E5MEYI",
        "networkType": 152
       },
       "recordId": "64405E38CE723EBFE37762DB",
       "secret": "C4759AB1FA4E05A046BFDFA46BF040C879DEFD1206E50842FBCFDBB0F3C511DF",
       "status": 0,
       "version": 1
      }
     },
     "metadata": {},
     "output_type": "display_data"
    }
   ],
   "source": [
    "slRepo = repo.createSecretLockRepository();\n",
    "res = await slRepo.search({secret:secret}).toPromise();\n",
    "console.log(res.data[0]);"
   ]
  },
  {
   "attachments": {},
   "cell_type": "markdown",
   "metadata": {
    "dotnet_interactive": {
     "language": "javascript"
    },
    "polyglot_notebook": {
     "kernelName": "javascript"
    }
   },
   "source": [
    "###### 出力例\n",
    "```js\n",
    "> SecretLockInfo\n",
    "    amount: UInt64 {lower: 1000000, higher: 0}\n",
    "    compositeHash: \"770F65CB0CC0CA17370DE961B2AA5B48B8D86D6DB422171AB00DF34D19DEE2F1\"\n",
    "    endHeight: UInt64 {lower: 323495, higher: 0}\n",
    "    hashAlgorithm: 0\n",
    "    mosaicId: MosaicId {id: Id}\n",
    "    ownerAddress: Address {address: 'TBXUTAX6O6EUVPB6X7OBNX6UUXBMPPAFX7KE5TQ', networkType: 152}\n",
    "    recipientAddress: Address {address: 'TBTWKXCNROT65CJHEBPL7F6DRHX7UKSUPD7EUGA', networkType: 152}\n",
    "    recordId: \"6260A1D3205E94BEA3D9E3E9\"\n",
    "    secret: \"F260BFB53478F163EE61EE3E5FB7CFCAF7F0B663BC9DD4C537B958D4CE00E240\"\n",
    "    status: 0\n",
    "    version: 1\n",
    "```\n",
    "ロックしたAliceがownerAddress、受信予定のBobがrecipientAddressに記録されています。\n",
    "secret情報が公開されていて、これに対応するproofをBobがネットワークに通知します。\n",
    "\n",
    "\n",
    "### シークレットプルーフ\n",
    "\n",
    "解除用キーワードを使用してロック解除します。\n",
    "Bobは事前に解除用キーワードを入手しておく必要があります。\n",
    "\n"
   ]
  },
  {
   "cell_type": "code",
   "execution_count": 21,
   "metadata": {
    "dotnet_interactive": {
     "language": "javascript"
    },
    "polyglot_notebook": {
     "kernelName": "javascript"
    },
    "vscode": {
     "languageId": "polyglot-notebook"
    }
   },
   "outputs": [],
   "source": [
    "proofTx = sym.SecretProofTransaction.create(\n",
    "    sym.Deadline.create(epochAdjustment),\n",
    "    sym.LockHashAlgorithm.Op_Sha3_256, //ロック作成に使用したアルゴリズム\n",
    "    secret, //ロックキーワード\n",
    "    bob.address, //解除アカウント（受信アカウント）\n",
    "    proof, //解除用キーワード\n",
    "    networkType\n",
    ").setMaxFee(100);\n",
    "signedProofTx = bob.sign(proofTx,generationHash);\n",
    "await txRepo.announce(signedProofTx).toPromise();"
   ]
  },
  {
   "cell_type": "code",
   "execution_count": 25,
   "metadata": {
    "dotnet_interactive": {
     "language": "javascript"
    },
    "polyglot_notebook": {
     "kernelName": "javascript"
    },
    "vscode": {
     "languageId": "polyglot-notebook"
    }
   },
   "outputs": [
    {
     "data": {
      "application/json": {
       "code": "Success",
       "deadline": {
        "adjustedValue": 14697036437
       },
       "group": "confirmed",
       "hash": "7C93FF8B3FF438DE6C9D97099CE71987071EA0800E803968FCE6A7D2373B9240",
       "height": {
        "higher": 0,
        "lower": 394400
       }
      }
     },
     "metadata": {},
     "output_type": "display_data"
    },
    {
     "data": {
      "application/json": {
       "transaction": {
        "deadline": "14697036437",
        "hashAlgorithm": 0,
        "maxFee": "20700",
        "network": 152,
        "proof": "F6CA3EFAFA161806792BE3FB10FB8521022F7DCA",
        "recipientAddress": {
         "address": "TCRWNU37ESP7QB6WBJFVN6A74AIL6O5L5E5MEYI",
         "networkType": 152
        },
        "secret": "C4759AB1FA4E05A046BFDFA46BF040C879DEFD1206E50842FBCFDBB0F3C511DF",
        "signature": "3AD9B23C13EA169F837AB1A41D150317FA2D618BE1E378BAA2A3F194B964D6024176F1A49F97332F23EE0BB3602B00E88E72C83B394839C7DFBBA79F8405810B",
        "signerPublicKey": "041F0E37AA1B12B9705D96A1E9266AED8EB27D3B9B5CC27F2F9855C432DBE1C0",
        "type": 16978,
        "version": 1
       }
      }
     },
     "metadata": {},
     "output_type": "display_data"
    },
    {
     "data": {
      "text/plain": [
       "https://testnet.symbol.fyi/transactions/7C93FF8B3FF438DE6C9D97099CE71987071EA0800E803968FCE6A7D2373B9240"
      ]
     },
     "metadata": {},
     "output_type": "display_data"
    }
   ],
   "source": [
    "hash = signedProofTx.hash;\n",
    "tsRepo = repo.createTransactionStatusRepository();\n",
    "transactionStatus = await tsRepo.getTransactionStatus(hash).toPromise();\n",
    "console.log(transactionStatus);\n",
    "txInfo = await txRepo.getTransaction(hash,sym.TransactionGroup.Confirmed).toPromise(); //Confirmedに変更\n",
    "console.log(txInfo);\n",
    "console.log(`https://testnet.symbol.fyi/transactions/${hash}`) //ブラウザで確認を追加"
   ]
  },
  {
   "attachments": {},
   "cell_type": "markdown",
   "metadata": {
    "dotnet_interactive": {
     "language": "javascript"
    },
    "polyglot_notebook": {
     "kernelName": "javascript"
    }
   },
   "source": [
    "SecretProofTransactionにはモザイクの受信量の情報は含まれていません。\n",
    "ブロック生成時に作成されるレシートで受信量を確認します。\n",
    "レシートタイプ:LockSecret_Completed でBob宛のレシートを検索してみます。\n"
   ]
  },
  {
   "cell_type": "code",
   "execution_count": 27,
   "metadata": {
    "dotnet_interactive": {
     "language": "javascript"
    },
    "polyglot_notebook": {
     "kernelName": "javascript"
    },
    "vscode": {
     "languageId": "polyglot-notebook"
    }
   },
   "outputs": [
    {
     "data": {
      "application/json": ""
     },
     "metadata": {},
     "output_type": "display_data"
    }
   ],
   "source": [
    "receiptRepo = repo.createReceiptRepository();\n",
    "receiptInfo = await receiptRepo.searchReceipts({\n",
    "    receiptType:sym.LockSecret_Completed,\n",
    "    targetAddress:bob.address\n",
    "}).toPromise();\n",
    "console.log(receiptInfo.data);\n"
   ]
  },
  {
   "attachments": {},
   "cell_type": "markdown",
   "metadata": {
    "dotnet_interactive": {
     "language": "javascript"
    },
    "polyglot_notebook": {
     "kernelName": "javascript"
    }
   },
   "source": [
    "###### 出力例\n",
    "```js\n",
    "> data: Array(1)\n",
    "  >  0: TransactionStatement\n",
    "        height: UInt64 {lower: 323805, higher: 0}\n",
    "     >  receipts: Array(1)\n",
    "          > 0: BalanceChangeReceipt\n",
    "                amount: UInt64 {lower: 1000000, higher: 0}\n",
    "            > mosaicId: MosaicId\n",
    "                  id: Id {lower: 760461000, higher: 981735131}\n",
    "              targetAddress: Address {address: 'TBTWKXCNROT65CJHEBPL7F6DRHX7UKSUPD7EUGA', networkType: 152}\n",
    "              type: 8786\n",
    "```\n",
    "\n",
    "ReceiptTypeは以下の通りです。\n",
    "\n",
    "```js\n",
    "{4685: 'Mosaic_Rental_Fee', 4942: 'Namespace_Rental_Fee', 8515: 'Harvest_Fee', 8776: 'LockHash_Completed', 8786: 'LockSecret_Completed', 9032: 'LockHash_Expired', 9042: 'LockSecret_Expired', 12616: 'LockHash_Created', 12626: 'LockSecret_Created', 16717: 'Mosaic_Expired', 16718: 'Namespace_Expired', 16974: 'Namespace_Deleted', 20803: 'Inflation', 57667: 'Transaction_Group', 61763: 'Address_Alias_Resolution', 62019: 'Mosaic_Alias_Resolution'}\n",
    "8786: 'LockSecret_Completed' :ロック解除完了\n",
    "9042: 'LockSecret_Expired'　：ロック期限切れ\n",
    "```\n"
   ]
  },
  {
   "attachments": {},
   "cell_type": "markdown",
   "metadata": {
    "dotnet_interactive": {
     "language": "javascript"
    },
    "polyglot_notebook": {
     "kernelName": "javascript"
    }
   },
   "source": [
    "<span style=\"color:red\">\n",
    "\n",
    "## 補足</span>"
   ]
  },
  {
   "attachments": {},
   "cell_type": "markdown",
   "metadata": {
    "dotnet_interactive": {
     "language": "javascript"
    },
    "polyglot_notebook": {
     "kernelName": "javascript"
    }
   },
   "source": [
    "講師に対して\n",
    "\n",
    "・わずかなxym\n",
    "\n",
    "・一言メッセージ\n",
    "\n",
    "を送り代わりにtomatoモザイクをもらう取引を行います。\n",
    "\n",
    "### アグリゲートボンデッドトランザクションの作成"
   ]
  },
  {
   "cell_type": "code",
   "execution_count": 1,
   "metadata": {
    "dotnet_interactive": {
     "language": "javascript"
    },
    "polyglot_notebook": {
     "kernelName": "javascript"
    },
    "vscode": {
     "languageId": "polyglot-notebook"
    }
   },
   "outputs": [],
   "source": [
    "target = \"TAOP6YRVWUH6VMBAZASNLYHL2SEU7DLALXJN7EY\" //講師のアドレス\n",
    "targetAddress = sym.Address.createFromRawAddress(target)\n",
    "accountInfo = await accountRepo.getAccountInfo(targetAddress).toPromise();\n",
    "targetPublicAccount = sym.PublicAccount.createFromPublicKey(\n",
    "  accountInfo.publicKey,\n",
    "  networkType\n",
    ");\n",
    "tx1 = sym.TransferTransaction.create(\n",
    "    undefined,\n",
    "    targetAddress,  //講師へ\n",
    "    [\n",
    "      new sym.Mosaic(\n",
    "        new sym.NamespaceId(\"symbol.xym\"), //XYM\n",
    "        sym.UInt64.fromUint(1) //数量\n",
    "      )\n",
    "    ],\n",
    "    sym.PlainMessage.create('何か一言'), //🌟一言メッセージ\n",
    "    networkType\n",
    ");\n",
    "tx2 = sym.TransferTransaction.create(\n",
    "    undefined,\n",
    "    alice.address,  //自分へ\n",
    "    [\n",
    "      new sym.Mosaic(\n",
    "        new sym.NamespaceId(\"hossiiii.tomato\"), //tomato\n",
    "        sym.UInt64.fromUint(1) //数量\n",
    "      )\n",
    "    ],\n",
    "    sym.PlainMessage.create('おやつにどうぞ！'),\n",
    "    networkType\n",
    ");\n",
    "aggregateArray = [\n",
    "    tx1.toAggregate(alice.publicAccount), //自分からtx1を送る\n",
    "    tx2.toAggregate(targetPublicAccount), // ターゲットからtx2を送る\n",
    "]\n",
    "//アグリゲートボンデッドトランザクション\n",
    "aggregateTx = sym.AggregateTransaction.createBonded(\n",
    "    sym.Deadline.create(epochAdjustment),\n",
    "    aggregateArray,\n",
    "    networkType,\n",
    "    [],\n",
    ").setMaxFeeForAggregate(100, 1);\n",
    "//署名\n",
    "signedAggregateTx = alice.sign(aggregateTx, generationHash);"
   ]
  },
  {
   "attachments": {},
   "cell_type": "markdown",
   "metadata": {
    "dotnet_interactive": {
     "language": "javascript"
    },
    "polyglot_notebook": {
     "kernelName": "javascript"
    }
   },
   "source": [
    "### ハッシュロックトランザクションの作成と署名、アナウンス"
   ]
  },
  {
   "cell_type": "code",
   "execution_count": 2,
   "metadata": {
    "dotnet_interactive": {
     "language": "javascript"
    },
    "polyglot_notebook": {
     "kernelName": "javascript"
    },
    "vscode": {
     "languageId": "polyglot-notebook"
    }
   },
   "outputs": [],
   "source": [
    "//ハッシュロックTX作成\n",
    "hashLockTx = sym.HashLockTransaction.create(\n",
    "  sym.Deadline.create(epochAdjustment),\n",
    "    new sym.Mosaic(new sym.NamespaceId(\"symbol.xym\"),sym.UInt64.fromUint(10 * 1000000)), //10xym固定値\n",
    "    sym.UInt64.fromUint(480), // ロック有効期限\n",
    "    signedAggregateTx,// このハッシュ値を登録\n",
    "    networkType\n",
    ").setMaxFee(100);\n",
    "//署名\n",
    "signedLockTx = alice.sign(hashLockTx, generationHash);\n",
    "//ハッシュロックTXをアナウンス\n",
    "await txRepo.announce(signedLockTx).toPromise();"
   ]
  },
  {
   "cell_type": "code",
   "execution_count": 3,
   "metadata": {
    "dotnet_interactive": {
     "language": "javascript"
    },
    "polyglot_notebook": {
     "kernelName": "javascript"
    },
    "vscode": {
     "languageId": "polyglot-notebook"
    }
   },
   "outputs": [
    {
     "data": {
      "application/json": {
       "code": "Success",
       "deadline": {
        "adjustedValue": 14773017097
       },
       "group": "confirmed",
       "hash": "A85A2DE6FC09A0EB3D77D4336A5EA9FBEAFA1219C9E401F9890B215A1492D91B",
       "height": {
        "higher": 0,
        "lower": 396836
       }
      }
     },
     "metadata": {},
     "output_type": "display_data"
    },
    {
     "data": {
      "application/json": {
       "transaction": {
        "amount": "10000000",
        "deadline": "14773017097",
        "duration": "480",
        "hash": "31D8DC80392D2663D9BFBF9BDA898EA0ADFA18E90DABF7DE937F9A21B43FE8E8",
        "maxFee": "18400",
        "mosaicId": "E74B99BA41F4AFEE",
        "network": 152,
        "signature": "87DF7E0D0C16A30234B38864226AD95489C07B1F895AE43679C9DD39DB3B842F2A36C235F2CF8C7B56AFFD2B385175F55570D94B29385E16C41C61C455DB8107",
        "signerPublicKey": "70B0C6BDB2C291F1F30D9DA6CF7D1C6DBF54588285B040ADD762EACD853EE4E9",
        "type": 16712,
        "version": 1
       }
      }
     },
     "metadata": {},
     "output_type": "display_data"
    },
    {
     "data": {
      "text/plain": [
       "https://testnet.symbol.fyi/transactions/A85A2DE6FC09A0EB3D77D4336A5EA9FBEAFA1219C9E401F9890B215A1492D91B"
      ]
     },
     "metadata": {},
     "output_type": "display_data"
    }
   ],
   "source": [
    "hash = signedLockTx.hash;\n",
    "tsRepo = repo.createTransactionStatusRepository();\n",
    "transactionStatus = await tsRepo.getTransactionStatus(hash).toPromise();\n",
    "console.log(transactionStatus);\n",
    "txInfo = await txRepo.getTransaction(hash,sym.TransactionGroup.Confirmed).toPromise(); //Confirmedに変更\n",
    "console.log(txInfo);\n",
    "console.log(`https://testnet.symbol.fyi/transactions/${hash}`) //ブラウザで確認を追加"
   ]
  },
  {
   "attachments": {},
   "cell_type": "markdown",
   "metadata": {
    "dotnet_interactive": {
     "language": "javascript"
    },
    "polyglot_notebook": {
     "kernelName": "javascript"
    }
   },
   "source": [
    "### アグリゲートボンデッドトランザクションのアナウンス"
   ]
  },
  {
   "cell_type": "code",
   "execution_count": 4,
   "metadata": {
    "dotnet_interactive": {
     "language": "javascript"
    },
    "polyglot_notebook": {
     "kernelName": "javascript"
    },
    "vscode": {
     "languageId": "polyglot-notebook"
    }
   },
   "outputs": [],
   "source": [
    "await txRepo.announceAggregateBonded(signedAggregateTx).toPromise();"
   ]
  },
  {
   "cell_type": "code",
   "execution_count": 8,
   "metadata": {
    "dotnet_interactive": {
     "language": "javascript"
    },
    "polyglot_notebook": {
     "kernelName": "javascript"
    },
    "vscode": {
     "languageId": "polyglot-notebook"
    }
   },
   "outputs": [
    {
     "data": {
      "application/json": {
       "code": "Success",
       "deadline": {
        "adjustedValue": 14772937223
       },
       "group": "confirmed",
       "hash": "31D8DC80392D2663D9BFBF9BDA898EA0ADFA18E90DABF7DE937F9A21B43FE8E8",
       "height": {
        "higher": 0,
        "lower": 396839
       }
      }
     },
     "metadata": {},
     "output_type": "display_data"
    },
    {
     "ename": "Error",
     "evalue": "{\"statusCode\":404,\"statusMessage\":\"Unknown Error\",\"body\":\"{\\\"code\\\":\\\"ResourceNotFound\\\",\\\"message\\\":\\\"no resource exists with id '31D8DC80392D2663D9BFBF9BDA898EA0ADFA18E90DABF7DE937F9A21B43FE8E8'\\\"}\"}",
     "output_type": "error",
     "traceback": [
      "{\"statusCode\":404,\"statusMessage\":\"Unknown Error\",\"body\":\"{\\\"code\\\":\\\"ResourceNotFound\\\",\\\"message\\\":\\\"no resource exists with id '31D8DC80392D2663D9BFBF9BDA898EA0ADFA18E90DABF7DE937F9A21B43FE8E8'\\\"}\"}"
     ]
    }
   ],
   "source": [
    "hash = signedAggregateTx.hash;\n",
    "tsRepo = repo.createTransactionStatusRepository();\n",
    "transactionStatus = await tsRepo.getTransactionStatus(hash).toPromise();\n",
    "console.log(transactionStatus);\n",
    "txInfo = await txRepo.getTransaction(hash,sym.TransactionGroup.Partial).toPromise(); //Partialに変更\n",
    "console.log(txInfo);\n",
    "console.log(`https://testnet.symbol.fyi/transactions/${hash}`) //ブラウザで確認を追加"
   ]
  },
  {
   "attachments": {},
   "cell_type": "markdown",
   "metadata": {
    "dotnet_interactive": {
     "language": "javascript"
    },
    "polyglot_notebook": {
     "kernelName": "javascript"
    }
   },
   "source": [
    "講師側がpartial状態のトランザクションを確認し、連署を行うことで Unconfirmed => Confirmed状態に遷移し二つの取引が同時に実行されます。"
   ]
  },
  {
   "attachments": {},
   "cell_type": "markdown",
   "metadata": {
    "dotnet_interactive": {
     "language": "javascript"
    },
    "polyglot_notebook": {
     "kernelName": "javascript"
    }
   },
   "source": [
    "## 8.3 現場で使えるヒント\n",
    "\n",
    "\n",
    "### 手数料代払い\n",
    "\n",
    "一般的にブロックチェーンはトランザクション送信に手数料を必要とします。\n",
    "そのため、ブロックチェーンを利用しようとするユーザは事前に手数料を取引所から入手しておく必要があります。\n",
    "このユーザが企業である場合はその管理方法も加えてさらにハードルの高い問題となります。\n",
    "アグリゲートトランザクションを使用することでハッシュロック費用とネットワーク手数料をサービス提供者が代理で負担することができます。\n",
    "\n",
    "### タイマー送信\n",
    "\n",
    "シークレットロックは指定ブロック数を経過すると元のアカウントへ払い戻されます。\n",
    "この原理を利用して、シークレットロックしたアカウントにたいしてロック分の費用をサービス提供者が充足しておけば、\n",
    "期限が過ぎた後ユーザ側がロック分のトークン所有量が増加することになります。\n",
    "一方で、期限が過ぎる前にシークレット証明トランザクションをアナウンスすると、送信が完了し、サービス提供者に充当戻るためキャンセル扱いとなります。\n",
    "\n",
    "### アトミックスワップ\n",
    "シークレットロックを使用して、他のチェーンとのトークン・モザイクの交換を行うことができます。\n",
    "他のチェーンではハッシュタイムロックコントラクト(HTLC)と呼ばれているためハッシュロックと間違えないようにご注意ください。\n"
   ]
  },
  {
   "attachments": {},
   "cell_type": "markdown",
   "metadata": {
    "dotnet_interactive": {
     "language": "javascript"
    },
    "polyglot_notebook": {
     "kernelName": "javascript"
    }
   },
   "source": [
    "<span style=\"color:red\">\n",
    "\n",
    "## 参考情報</span>"
   ]
  },
  {
   "attachments": {},
   "cell_type": "markdown",
   "metadata": {
    "dotnet_interactive": {
     "language": "javascript"
    },
    "polyglot_notebook": {
     "kernelName": "javascript"
    }
   },
   "source": [
    "今回は実施しませんが、ハッシュロックを使った個人間取引を活用し、メタバース上でカイジのエスポワールじゃんけん大会を実施しました。  \n",
    "また実施してみたいなと思います。  \n",
    "\n",
    "<img width=\"800\" alt=\"スクリーンショット 2023-04-21 4 51 10\" src=\"https://user-images.githubusercontent.com/47712051/233473378-1faf0c71-1b40-4aba-bbc3-1aae99848605.png\">\n"
   ]
  },
  {
   "cell_type": "markdown",
   "metadata": {
    "dotnet_interactive": {
     "language": "javascript"
    },
    "polyglot_notebook": {
     "kernelName": "javascript"
    }
   },
   "source": []
  }
 ],
 "metadata": {
  "kernelspec": {
   "display_name": ".NET (C#)",
   "language": "C#",
   "name": ".net-csharp"
  },
  "polyglot_notebook": {
   "kernelInfo": {
    "defaultKernelName": "javascript",
    "items": [
     {
      "aliases": [
       "js"
      ],
      "languageName": null,
      "name": "javascript"
     },
     {
      "aliases": [
       "frontend"
      ],
      "languageName": null,
      "name": "vscode"
     },
     {
      "aliases": [],
      "languageName": null,
      "name": ".NET"
     },
     {
      "aliases": [
       "c#",
       "C#"
      ],
      "languageName": null,
      "name": "csharp"
     },
     {
      "aliases": [
       "f#",
       "F#"
      ],
      "languageName": null,
      "name": "fsharp"
     },
     {
      "aliases": [],
      "languageName": null,
      "name": "html"
     },
     {
      "aliases": [],
      "languageName": null,
      "name": "kql"
     },
     {
      "aliases": [],
      "languageName": null,
      "name": "mermaid"
     },
     {
      "aliases": [
       "powershell"
      ],
      "languageName": null,
      "name": "pwsh"
     },
     {
      "aliases": [],
      "languageName": null,
      "name": "sql"
     },
     {
      "aliases": [],
      "languageName": null,
      "name": "value"
     },
     {
      "aliases": [],
      "languageName": null,
      "name": "webview"
     }
    ]
   }
  }
 },
 "nbformat": 4,
 "nbformat_minor": 2
}
