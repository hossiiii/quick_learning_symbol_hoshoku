{
 "cells": [
  {
   "attachments": {},
   "cell_type": "markdown",
   "metadata": {
    "dotnet_interactive": {
     "language": "javascript"
    },
    "polyglot_notebook": {
     "kernelName": "javascript"
    }
   },
   "source": [
    "<hr />\n",
    "\n",
    "### NoteBookの見方\n",
    "コード以外の情報 \n",
    "<span >白/黒での記載は速習Symbol</span>  \n",
    "<span style=\"color:red\">赤色での記載は補足情報</span>  \n",
    "<span >コード内で🌟マークがある場所は自分の情報に書き換えが必要</span>\n",
    "\n",
    "<hr />"
   ]
  },
  {
   "attachments": {},
   "cell_type": "markdown",
   "metadata": {
    "dotnet_interactive": {
     "language": "javascript"
    },
    "polyglot_notebook": {
     "kernelName": "javascript"
    }
   },
   "source": [
    "<span style=\"color:red\">\n",
    "\n",
    "# 環境構築\n",
    "</span>\n",
    "<span style=\"color:red\">\n",
    "\n",
    "## 1.Symbol SDKの読み込み </span>"
   ]
  },
  {
   "cell_type": "code",
   "execution_count": null,
   "metadata": {
    "dotnet_interactive": {
     "language": "javascript"
    },
    "polyglot_notebook": {
     "kernelName": "javascript"
    },
    "vscode": {
     "languageId": "polyglot-notebook"
    }
   },
   "outputs": [],
   "source": [
    "(script = document.createElement(\"script\")).src = \"https://xembook.github.io/nem2-browserify/symbol-sdk-pack-2.0.3.js\";\n",
    "document.getElementsByTagName(\"head\")[0].appendChild(script);"
   ]
  },
  {
   "attachments": {},
   "cell_type": "markdown",
   "metadata": {
    "dotnet_interactive": {
     "language": "javascript"
    },
    "polyglot_notebook": {
     "kernelName": "javascript"
    }
   },
   "source": [
    "<span style=\"color:red\">\n",
    "\n",
    "## 2.Symbol用の共通設定 </span>"
   ]
  },
  {
   "cell_type": "code",
   "execution_count": null,
   "metadata": {
    "dotnet_interactive": {
     "language": "javascript"
    },
    "polyglot_notebook": {
     "kernelName": "javascript"
    },
    "vscode": {
     "languageId": "polyglot-notebook"
    }
   },
   "outputs": [],
   "source": [
    "NODE = 'https://sym-test-03.opening-line.jp:3001';\n",
    "sym = require(\"/node_modules/symbol-sdk\");\n",
    "repo = new sym.RepositoryFactoryHttp(NODE);\n",
    "txRepo = repo.createTransactionRepository();\n",
    "mosaicRepo = repo.createMosaicRepository();\n",
    "accountRepo = repo.createAccountRepository();\n",
    "(async () => {\n",
    "  networkType = await repo.getNetworkType().toPromise();\n",
    "  generationHash = await repo.getGenerationHash().toPromise();\n",
    "  epochAdjustment = await repo.getEpochAdjustment().toPromise();\n",
    "})();\n",
    "\n",
    "function clog(signedTx){\n",
    "    console.log(NODE + \"/transactionStatus/\" + signedTx.hash);\n",
    "    console.log(NODE + \"/transactions/confirmed/\" + signedTx.hash);\n",
    "    console.log(\"https://symbol.fyi/transactions/\" + signedTx.hash);\n",
    "    console.log(\"https://testnet.symbol.fyi/transactions/\" + signedTx.hash);\n",
    "}"
   ]
  },
  {
   "attachments": {},
   "cell_type": "markdown",
   "metadata": {
    "dotnet_interactive": {
     "language": "javascript"
    },
    "polyglot_notebook": {
     "kernelName": "javascript"
    }
   },
   "source": [
    "<span style=\"color:red\">\n",
    "\n",
    "## 3.aliceアカウントのリストア </span>"
   ]
  },
  {
   "cell_type": "code",
   "execution_count": null,
   "metadata": {
    "dotnet_interactive": {
     "language": "javascript"
    },
    "polyglot_notebook": {
     "kernelName": "javascript"
    },
    "vscode": {
     "languageId": "polyglot-notebook"
    }
   },
   "outputs": [],
   "source": [
    "alice = sym.Account.createFromPrivateKey(\n",
    "    \"1E9139CC1580B4AED6A1FE110085281D4982ED0D89CE07F3380EB83069B1****\", //🌟ここに3章で作成した秘密鍵を入力\n",
    "    networkType\n",
    ");"
   ]
  },
  {
   "attachments": {},
   "cell_type": "markdown",
   "metadata": {
    "dotnet_interactive": {
     "language": "javascript"
    },
    "polyglot_notebook": {
     "kernelName": "javascript"
    }
   },
   "source": [
    "<hr />"
   ]
  },
  {
   "attachments": {},
   "cell_type": "markdown",
   "metadata": {
    "dotnet_interactive": {
     "language": "javascript"
    },
    "polyglot_notebook": {
     "kernelName": "javascript"
    }
   },
   "source": [
    "# 5.モザイク\n",
    "\n",
    "本章ではモザイクの設定とその生成方法について解説します。\n",
    "Symbolではトークンのことをモザイクと表現します。\n",
    "\n",
    "> Wikipediaによると、トークンとは「紀元前8000年頃から紀元前3000年までのメソポタミアの地層から出土する直径が1cm前後の粘土で作られたさまざまな形状の物体」のことを指します。一方でモザイクとは「小片を寄せあわせ埋め込んで、絵（図像）や模様を表す装飾美術の技法。石、陶磁器（モザイクタイル）、有色無色のガラス、貝殻、木などが使用され、建築物の床や壁面、あるいは工芸品の装飾のために施される。」とあります。SymbolにおいてモザイクとはSymbolが作りなすエコシステムの様相を表すさまざまな構成要素、と考えることができます。\n",
    "## 5.1 モザイク生成\n",
    "\n",
    "モザイク生成には\n",
    "作成するモザイクを定義します。"
   ]
  },
  {
   "cell_type": "code",
   "execution_count": null,
   "metadata": {
    "dotnet_interactive": {
     "language": "javascript"
    },
    "polyglot_notebook": {
     "kernelName": "javascript"
    },
    "vscode": {
     "languageId": "polyglot-notebook"
    }
   },
   "outputs": [],
   "source": [
    "supplyMutable = true; //供給量変更の可否\n",
    "transferable = false; //第三者への譲渡可否\n",
    "restrictable = true; //制限設定の可否\n",
    "revokable = true; //発行者からの還収可否\n",
    "\n",
    "//モザイク定義\n",
    "nonce = sym.MosaicNonce.createRandom();\n",
    "mosaicDefTx = sym.MosaicDefinitionTransaction.create(\n",
    "    undefined, \n",
    "    nonce,\n",
    "    sym.MosaicId.createFromNonce(nonce, alice.address), //モザイクID\n",
    "    sym.MosaicFlags.create(supplyMutable, transferable, restrictable, revokable),\n",
    "    2,//divisibility:可分性\n",
    "    sym.UInt64.fromUint(0), //duration:有効期限\n",
    "    networkType\n",
    ");"
   ]
  },
  {
   "attachments": {},
   "cell_type": "markdown",
   "metadata": {
    "dotnet_interactive": {
     "language": "javascript"
    },
    "polyglot_notebook": {
     "kernelName": "javascript"
    }
   },
   "source": [
    "MosaicFlagsは以下の通りです。\n",
    "\n",
    "```js\n",
    "MosaicFlags {\n",
    "  supplyMutable: false, transferable: false, restrictable: false, revokable: false\n",
    "}\n",
    "```\n",
    "数量変更、第三者への譲渡、モザイクグローバル制限の適用、発行者からの還収の可否について指定します。\n",
    "この項目は後で変更することはできません。\n",
    "\n",
    "#### divisibility:可分性\n",
    "\n",
    "可分性は小数点第何位まで数量の単位とするかを決めます。データは整数値として保持されます。\n",
    "\n",
    "divisibility:0 = 1  \n",
    "divisibility:1 = 1.0  \n",
    "divisibility:2 = 1.00  \n",
    "\n",
    "#### duration:有効期限\n",
    "\n",
    "0を指定した場合、無期限に使用することができます。\n",
    "モザイク有効期限を設定した場合、期限が切れた後も消滅することはなくデータとしては残ります。\n",
    "アカウント1つにつき1000までしか所有することはできませんのでご注意ください。\n",
    "\n",
    "\n",
    "次に数量を変更します"
   ]
  },
  {
   "cell_type": "code",
   "execution_count": null,
   "metadata": {
    "dotnet_interactive": {
     "language": "javascript"
    },
    "polyglot_notebook": {
     "kernelName": "javascript"
    },
    "vscode": {
     "languageId": "polyglot-notebook"
    }
   },
   "outputs": [],
   "source": [
    "//モザイク変更\n",
    "mosaicChangeTx = sym.MosaicSupplyChangeTransaction.create(\n",
    "    undefined,\n",
    "    mosaicDefTx.mosaicId,\n",
    "    sym.MosaicSupplyChangeAction.Increase,\n",
    "    sym.UInt64.fromUint(1000000), //数量\n",
    "    networkType\n",
    ");"
   ]
  },
  {
   "attachments": {},
   "cell_type": "markdown",
   "metadata": {
    "dotnet_interactive": {
     "language": "javascript"
    },
    "polyglot_notebook": {
     "kernelName": "javascript"
    }
   },
   "source": [
    "supplyMutable:falseの場合、全モザイクが発行者にある場合だけ数量の変更が可能です。\n",
    "divisibility > 0 の場合は、最小単位を1として整数値で定義してください。\n",
    "（divisibility:2 で 1.00 作成したい場合は100と指定）\n",
    "\n",
    "MosaicSupplyChangeActionは以下の通りです。\n",
    "```js\n",
    "{0: 'Decrease', 1: 'Increase'}\n",
    "```\n",
    "増やしたい場合はIncreaseを指定します。\n",
    "上記2つのトランザクションをまとめてアグリゲートトランザクションを作成します。"
   ]
  },
  {
   "cell_type": "code",
   "execution_count": null,
   "metadata": {
    "dotnet_interactive": {
     "language": "javascript"
    },
    "polyglot_notebook": {
     "kernelName": "javascript"
    },
    "vscode": {
     "languageId": "polyglot-notebook"
    }
   },
   "outputs": [],
   "source": [
    "aggregateTx = sym.AggregateTransaction.createComplete(\n",
    "    sym.Deadline.create(epochAdjustment),\n",
    "    [\n",
    "      mosaicDefTx.toAggregate(alice.publicAccount),\n",
    "      mosaicChangeTx.toAggregate(alice.publicAccount),\n",
    "    ],\n",
    "    networkType,[],\n",
    ").setMaxFeeForAggregate(100, 0);\n",
    "signedTx = alice.sign(aggregateTx,generationHash);\n",
    "await txRepo.announce(signedTx).toPromise();"
   ]
  },
  {
   "attachments": {},
   "cell_type": "markdown",
   "metadata": {
    "dotnet_interactive": {
     "language": "javascript"
    },
    "polyglot_notebook": {
     "kernelName": "javascript"
    }
   },
   "source": [
    "<span style=\"color:red\">\n",
    "\n",
    "### 補足　TransactionsStatusの確認</span>  "
   ]
  },
  {
   "cell_type": "code",
   "execution_count": null,
   "metadata": {
    "dotnet_interactive": {
     "language": "javascript"
    },
    "polyglot_notebook": {
     "kernelName": "javascript"
    },
    "vscode": {
     "languageId": "polyglot-notebook"
    }
   },
   "outputs": [],
   "source": [
    "hash = signedTx.hash;\n",
    "tsRepo = repo.createTransactionStatusRepository();\n",
    "transactionStatus = await tsRepo.getTransactionStatus(hash).toPromise();\n",
    "console.log(transactionStatus);\n",
    "txInfo = await txRepo.getTransaction(hash,sym.TransactionGroup.Confirmed).toPromise();\n",
    "console.log(txInfo);\n",
    "console.log(`https://testnet.symbol.fyi/transactions/${hash}`) //ブラウザで確認を追加"
   ]
  },
  {
   "attachments": {},
   "cell_type": "markdown",
   "metadata": {
    "dotnet_interactive": {
     "language": "javascript"
    },
    "polyglot_notebook": {
     "kernelName": "javascript"
    }
   },
   "source": [
    "アグリゲートトランザクションの特徴として、\n",
    "まだ存在していないモザイクの数量を変更しようとしている点に注目してください。\n",
    "配列化した時に、矛盾点がなければ1つのブロック内で問題なく処理することができます。\n",
    "\n",
    "\n",
    "### 確認\n",
    "モザイク作成したアカウントが持つモザイク情報を確認します。"
   ]
  },
  {
   "cell_type": "code",
   "execution_count": null,
   "metadata": {
    "dotnet_interactive": {
     "language": "javascript"
    },
    "polyglot_notebook": {
     "kernelName": "javascript"
    },
    "vscode": {
     "languageId": "polyglot-notebook"
    }
   },
   "outputs": [],
   "source": [
    "mosaicRepo = repo.createMosaicRepository();\n",
    "accountInfo = await accountRepo.getAccountInfo(alice.address).toPromise(); //補足で追加\n",
    "for (let i = 0; i < accountInfo.mosaics.length; i++) { //forEarchをfor文に変更\n",
    "  mosaicInfo = await mosaicRepo.getMosaic(accountInfo.mosaics[i].id).toPromise();\n",
    "  console.log(mosaicInfo);\n",
    "}\n",
    "// accountInfo.mosaics.forEach(async mosaic => {\n",
    "//   mosaicInfo = await mosaicRepo.getMosaic(mosaic.id).toPromise();\n",
    "//   console.log(mosaicInfo);\n",
    "// });"
   ]
  },
  {
   "attachments": {},
   "cell_type": "markdown",
   "metadata": {
    "dotnet_interactive": {
     "language": "javascript"
    },
    "polyglot_notebook": {
     "kernelName": "javascript"
    }
   },
   "source": [
    "###### 出力例\n",
    "```js\n",
    "> MosaicInfo {version: 1, recordId: '622988B12A6128903FC10496', id: MosaicId, supply: UInt64, startHeight: UInt64, …}\n",
    "> MosaicInfo\n",
    "    divisibility: 2 //可分性\n",
    "    duration: UInt64 {lower: 0, higher: 0} //有効期限\n",
    "  > flags: MosaicFlags\n",
    "        restrictable: true //制限設定の可否\n",
    "        revokable: true //発行者からの還収可否\n",
    "        supplyMutable: true //供給量変更の可否\n",
    "        transferable: false //第三者への譲渡可否\n",
    "  > id: MosaicId\n",
    "        id: Id {lower: 207493124, higher: 890137608} //モザイクID\n",
    "    ownerAddress: Address {address: 'TBIL6D6RURP45YQRWV6Q7YVWIIPLQGLZQFHWFEQ', networkType: 152} //作成者アドレス\n",
    "    recordId: \"62626E3C741381859AFAD4D5\" \n",
    "    supply: UInt64 {lower: 1000000, higher: 0} //供給量\n",
    "```\n",
    "\n",
    "## 5.2 モザイク送信\n",
    "\n",
    "作成したモザイクを送信します。\n",
    "よく、ブロックチェーンに初めて触れる方は、\n",
    "モザイク送信について「クライアント端末に保存されたモザイクを別のクライアント端末へ送信」することとイメージされている人がいますが、\n",
    "モザイク情報はすべてのノードで常に共有・同期化されており、送信先に未知のモザイク情報を届けることではありません。\n",
    "正確にはブロックチェーンへ「トランザクションを送信」することにより、アカウント間でのトークン残量を組み替える操作のことを言います。\n"
   ]
  },
  {
   "cell_type": "code",
   "execution_count": null,
   "metadata": {
    "dotnet_interactive": {
     "language": "javascript"
    },
    "polyglot_notebook": {
     "kernelName": "javascript"
    },
    "vscode": {
     "languageId": "polyglot-notebook"
    }
   },
   "outputs": [],
   "source": [
    "//受信アカウント作成\n",
    "bob = sym.Account.generateNewAccount(networkType);\n",
    "tx = sym.TransferTransaction.create(\n",
    "    sym.Deadline.create(epochAdjustment),\n",
    "    bob.address,  //送信先アドレス\n",
    "    // 送信モザイクリスト\n",
    "    [ \n",
    "      new sym.Mosaic(\n",
    "        new sym.MosaicId(\"72C0212E67A08BCE\"), //テストネットXYM\n",
    "        sym.UInt64.fromUint(1000000) //1XYM(divisibility:6)\n",
    "      ),\n",
    "      new sym.Mosaic(\n",
    "        mosaicDefTx.mosaicId, // 5.1 で作成したモザイク\n",
    "        sym.UInt64.fromUint(1)  // 数量:0.01(divisibility:2 の場合)\n",
    "      )\n",
    "    ],\n",
    "    sym.EmptyMessage,\n",
    "    networkType\n",
    ").setMaxFee(100);\n",
    "signedTx = alice.sign(tx,generationHash);\n",
    "await txRepo.announce(signedTx).toPromise();"
   ]
  },
  {
   "attachments": {},
   "cell_type": "markdown",
   "metadata": {
    "dotnet_interactive": {
     "language": "javascript"
    },
    "polyglot_notebook": {
     "kernelName": "javascript"
    }
   },
   "source": [
    "##### 送信モザイクリスト\n",
    "\n",
    "複数のモザイクを一度に送信できます。\n",
    "XYMを送信するには以下のモザイクIDを指定します。\n",
    "- メインネット：6BED913FA20223F8\n",
    "- テストネット：72C0212E67A08BCE\n",
    "\n",
    "#### 送信量\n",
    "小数点もすべて整数にして指定します。\n",
    "XYMは可分性6なので、1XYM=1000000で指定します。\n",
    "\n",
    "### 送信確認"
   ]
  },
  {
   "cell_type": "code",
   "execution_count": null,
   "metadata": {
    "dotnet_interactive": {
     "language": "javascript"
    },
    "polyglot_notebook": {
     "kernelName": "javascript"
    },
    "vscode": {
     "languageId": "polyglot-notebook"
    }
   },
   "outputs": [],
   "source": [
    "txInfo = await txRepo.getTransaction(signedTx.hash,sym.TransactionGroup.Confirmed).toPromise();\n",
    "console.log(JSON.stringify(txInfo,null,2));\n",
    "console.log(JSON.stringify(txInfo.transactionInfo,null,2));"
   ]
  },
  {
   "attachments": {},
   "cell_type": "markdown",
   "metadata": {
    "dotnet_interactive": {
     "language": "javascript"
    },
    "polyglot_notebook": {
     "kernelName": "javascript"
    }
   },
   "source": [
    "\n",
    "###### 出力例\n",
    "```js\n",
    "> TransferTransaction\n",
    "    deadline: Deadline {adjustedValue: 12776690385}\n",
    "    maxFee: UInt64 {lower: 19200, higher: 0}\n",
    "    message: RawMessage {type: -1, payload: ''}\n",
    "  > mosaics: Array(2)\n",
    "      > 0: Mosaic\n",
    "            amount: UInt64 {lower: 1, higher: 0}\n",
    "          > id: MosaicId\n",
    "                id: Id {lower: 207493124, higher: 890137608}\n",
    "      > 1: Mosaic\n",
    "            amount: UInt64 {lower: 1000000, higher: 0}\n",
    "          > id: MosaicId\n",
    "                id: Id {lower: 760461000, higher: 981735131}\n",
    "    networkType: 152\n",
    "    payloadSize: 192\n",
    "    recipientAddress: Address {address: 'TAR6ERCSTDJJ7KCN4BJNJTK7LBBL5JPPVSHUNGY', networkType: 152}\n",
    "    signature: \"7C4E9E80D250C6D09352FB8EC80175719D59787DE67446896A73AABCFE6C420AF7DD707E6D4D2B2987B8BAD775F2989DCB6F738D39C48C1239FC8CC900A6740D\"\n",
    "    signer: PublicAccount {publicKey: '0E5C72B0D5946C1EFEE7E5317C5985F106B739BB0BC07E4F9A288417B3CD6D26', address: Address}\n",
    "  > transactionInfo: TransactionInfo\n",
    "        hash: \"DE479C001E9736976BDA55E560AB1A5DE526236D9E1BCE24941CF8ED8884289E\"\n",
    "        height: UInt64 {lower: 326922, higher: 0}\n",
    "        id: \"626270069F1D5202A10AE93E\"\n",
    "        index: 0\n",
    "        merkleComponentHash: \"DE479C001E9736976BDA55E560AB1A5DE526236D9E1BCE24941CF8ED8884289E\"\n",
    "    type: 16724\n",
    "    version: 1\n",
    "```\n",
    "TransferTransactionのmosaicsに2種類のモザイクが送信されていることが確認できます。また、TransactionInfoに承認されたブロックの情報が記載されています。\n",
    "\n",
    "## 5.3 現場で使えるヒント\n",
    "\n",
    "### 所有証明\n",
    "\n",
    "前章でトランザクションによる存在証明について説明しました。\n",
    "アカウントの作成した送信指示が消せない形で残せるので、絶対につじつまの合う台帳を作ることができます。\n",
    "すべてのアカウントの「絶対に消せない送信指示」の蓄積結果として、各アカウントは自分のモザイク所有を証明することができます。\n",
    "（本ドキュメントでは所有を「自分の意思で手放すことができる状態」とします。少し話題がそれますが、法律的にはデジタルデータに所有権が認められていないのも、一度知ってしまったデータは自分の意志では忘れたことを他人に証明することができない点に注目すると「手放すことができる状態」の意味に納得がいくかもしれません。ブロックチェーンによりそのデータの放棄を明確に示すことができるのですが、詳しくは法律の専門の方にお任せします。）\n",
    "\n",
    "#### NFT(non fungible token)\n",
    "\n",
    "発行枚数を1に限定し、supplyMutableをfalseに設定することで、1つだけしか存在しないトークンを発行できます。\n",
    "モザイクは作成したアカウントアドレスを改ざんできない情報として保有しているので、\n",
    "そのアカウントの送信トランザクションをメタ情報として利用できます。\n",
    "7章で説明するメタデータをモザイクに登録する方法もありますが、その方法は登録アカウントとモザイク作成者の連署によって更新可能なことにご注意ください。\n",
    "\n",
    "NFTの実現方法はいろいろありますが、その一例の処理概要を以下に例示します（実行するためにはnonceやフラグ情報を適切に設定してください）。\n",
    "\n",
    "```js\n",
    "supplyMutable = false; //供給量変更の可否\n",
    "//モザイク定義\n",
    "mosaicDefTx = sym.MosaicDefinitionTransaction.create(\n",
    "    undefined, nonce,mosaicId,\n",
    "    sym.MosaicFlags.create(supplyMutable, transferable, restrictable, revokable),\n",
    "    0,//divisibility:可分性\n",
    "    sym.UInt64.fromUint(0), //duration:無期限\n",
    "    networkType\n",
    ");\n",
    "//モザイク数量固定\n",
    "mosaicChangeTx = sym.MosaicSupplyChangeTransaction.create(\n",
    "    undefined,mosaicId,\n",
    "    sym.MosaicSupplyChangeAction.Increase, //増やす\n",
    "    sym.UInt64.fromUint(1), //数量1\n",
    "    networkType\n",
    ");\n",
    "//NFTデータ\n",
    "nftTx  = sym.TransferTransaction.create(\n",
    "    undefined, //Deadline:有効期限\n",
    "    alice.address, \n",
    "    [],\n",
    "    sym.PlainMessage.create(\"Hello Symbol!\"), //NFTデータ実体\n",
    "    networkType\n",
    ")\n",
    "//モザイクの生成とNFTデータをアグリゲートしてブロックに登録\n",
    "aggregateTx = sym.AggregateTransaction.createComplete(\n",
    "    sym.Deadline.create(epochAdjustment),\n",
    "    [\n",
    "      mosaicDefTx.toAggregate(alice.publicAccount),\n",
    "      mosaicChangeTx.toAggregate(alice.publicAccount),\n",
    "      nftTx.toAggregate(alice.publicAccount)\n",
    "    ],\n",
    "    networkType,[],\n",
    ").setMaxFeeForAggregate(100, 0);\n",
    "```"
   ]
  },
  {
   "attachments": {},
   "cell_type": "markdown",
   "metadata": {
    "dotnet_interactive": {
     "language": "javascript"
    },
    "polyglot_notebook": {
     "kernelName": "javascript"
    }
   },
   "source": [
    "<span style=\"color:red\">\n",
    "\n",
    "### 補足　NFTの作成</span>  "
   ]
  },
  {
   "cell_type": "code",
   "execution_count": null,
   "metadata": {
    "dotnet_interactive": {
     "language": "javascript"
    },
    "polyglot_notebook": {
     "kernelName": "javascript"
    },
    "vscode": {
     "languageId": "polyglot-notebook"
    }
   },
   "outputs": [],
   "source": [
    "supplyMutable = false; //供給量変更の可否\n",
    "transferable = true; //第三者への譲渡可否\n",
    "restrictable = false; //制限設定の可否\n",
    "revokable = false; //発行者からの還収可否\n",
    "nonce = sym.MosaicNonce.createRandom();\n",
    "mosaicDefTx = sym.MosaicDefinitionTransaction.create(\n",
    "    undefined, \n",
    "    nonce,\n",
    "    sym.MosaicId.createFromNonce(nonce, alice.address), //モザイクID\n",
    "    sym.MosaicFlags.create(supplyMutable, transferable, restrictable, revokable),\n",
    "    0, //divisibility:可分性を0にして整数にする\n",
    "    sym.UInt64.fromUint(0), //duration:有効期限0にして無期限にする\n",
    "    networkType\n",
    ");\n",
    "mosaicChangeTx = sym.MosaicSupplyChangeTransaction.create(\n",
    "    undefined,\n",
    "    mosaicDefTx.mosaicId,\n",
    "    sym.MosaicSupplyChangeAction.Increase,\n",
    "    sym.UInt64.fromUint(1), //数量を1に（供給量変更も不可なので世界に１枚になる）\n",
    "    networkType\n",
    ");\n",
    "//NFTデータ\n",
    "nftTx  = sym.TransferTransaction.create(\n",
    "    undefined, //Deadline:有効期限\n",
    "    alice.address, \n",
    "    [],\n",
    "    sym.PlainMessage.create(\"Hello Symbol!\"), //NFTデータ実体\n",
    "    networkType\n",
    ");\n",
    "aggregateTx = sym.AggregateTransaction.createComplete(\n",
    "    sym.Deadline.create(epochAdjustment),\n",
    "    [\n",
    "      mosaicDefTx.toAggregate(alice.publicAccount),\n",
    "      mosaicChangeTx.toAggregate(alice.publicAccount),\n",
    "      nftTx.toAggregate(alice.publicAccount)\n",
    "    ],\n",
    "    networkType,[],\n",
    ").setMaxFeeForAggregate(100, 0);\n",
    "signedTx = alice.sign(aggregateTx,generationHash);\n",
    "await txRepo.announce(signedTx).toPromise();\n"
   ]
  },
  {
   "cell_type": "code",
   "execution_count": null,
   "metadata": {
    "dotnet_interactive": {
     "language": "javascript"
    },
    "polyglot_notebook": {
     "kernelName": "javascript"
    },
    "vscode": {
     "languageId": "polyglot-notebook"
    }
   },
   "outputs": [],
   "source": [
    "hash = signedTx.hash;\n",
    "tsRepo = repo.createTransactionStatusRepository();\n",
    "transactionStatus = await tsRepo.getTransactionStatus(hash).toPromise();\n",
    "console.log(transactionStatus);\n",
    "txInfo = await txRepo.getTransaction(hash,sym.TransactionGroup.Confirmed).toPromise();\n",
    "console.log(txInfo);\n",
    "console.log(`https://testnet.symbol.fyi/transactions/${hash}`) //ブラウザで確認を追加"
   ]
  },
  {
   "attachments": {},
   "cell_type": "markdown",
   "metadata": {
    "dotnet_interactive": {
     "language": "javascript"
    },
    "polyglot_notebook": {
     "kernelName": "javascript"
    }
   },
   "source": [
    "##### 注意事項\n",
    "モザイクの作成者が全数量を所有している場合、供給量を変更することが可能です。\n",
    "またトランザクションに分割してデータを記録した場合、改ざんできませんがデータの追記は可能です。\n",
    "NFTを運用する場合はモザイク作成者の秘密鍵を厳重に管理・あるいは破棄するなど、適切な運用にご注意ください。\n",
    "\n",
    "\n",
    "#### 回収可能なポイント運用\n",
    "\n",
    "transferableをfalseに設定することで転売が制限されるため、資金決済法の影響を受けにくいポイントを定義することができます。\n",
    "またrevokableをtrueに設定することで、ユーザ側が秘密鍵を管理しなくても使用分を回収できるような中央管理型のポイント運用を行うことができます。\n",
    "\n",
    "```js\n",
    "transferable = false; //第三者への譲渡可否\n",
    "revokable = true; //発行者からの還収可否\n",
    "```\n"
   ]
  }
 ],
 "metadata": {
  "kernelspec": {
   "display_name": ".NET (C#)",
   "language": "C#",
   "name": ".net-csharp"
  },
  "polyglot_notebook": {
   "kernelInfo": {
    "defaultKernelName": "javascript",
    "items": [
     {
      "aliases": [
       "js"
      ],
      "languageName": "JavaScript",
      "name": "javascript"
     },
     {
      "aliases": [
       "frontend"
      ],
      "name": "vscode"
     },
     {
      "aliases": [],
      "name": ".NET"
     },
     {
      "aliases": [
       "c#",
       "C#"
      ],
      "languageName": "C#",
      "name": "csharp"
     },
     {
      "aliases": [
       "f#",
       "F#"
      ],
      "languageName": "F#",
      "name": "fsharp"
     },
     {
      "aliases": [],
      "languageName": "HTML",
      "name": "html"
     },
     {
      "aliases": [],
      "languageName": "KQL",
      "name": "kql"
     },
     {
      "aliases": [],
      "languageName": "Mermaid",
      "name": "mermaid"
     },
     {
      "aliases": [
       "powershell"
      ],
      "languageName": "PowerShell",
      "name": "pwsh"
     },
     {
      "aliases": [],
      "languageName": "SQL",
      "name": "sql"
     },
     {
      "aliases": [],
      "name": "value"
     },
     {
      "aliases": [],
      "name": "webview"
     }
    ]
   }
  }
 },
 "nbformat": 4,
 "nbformat_minor": 2
}
