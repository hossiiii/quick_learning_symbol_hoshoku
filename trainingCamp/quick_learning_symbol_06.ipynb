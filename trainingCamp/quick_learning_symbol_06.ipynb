{
 "cells": [
  {
   "attachments": {},
   "cell_type": "markdown",
   "metadata": {
    "dotnet_interactive": {
     "language": "javascript"
    },
    "polyglot_notebook": {
     "kernelName": "javascript"
    }
   },
   "source": [
    "<hr />\n",
    "\n",
    "### NoteBookの見方\n",
    "コード以外の情報 \n",
    "<span >白/黒での記載は速習Symbol</span>  \n",
    "<span style=\"color:red\">赤色での記載は補足情報</span>  \n",
    "<span >コード内で🌟マークがある場所は自分の情報に書き換えが必要</span>\n",
    "\n",
    "<hr />"
   ]
  },
  {
   "attachments": {},
   "cell_type": "markdown",
   "metadata": {
    "dotnet_interactive": {
     "language": "javascript"
    },
    "polyglot_notebook": {
     "kernelName": "javascript"
    }
   },
   "source": [
    "<span style=\"color:red\">\n",
    "\n",
    "# 環境構築\n",
    "</span>\n",
    "<span style=\"color:red\">\n",
    "\n",
    "## 1.Symbol SDKの読み込み </span>"
   ]
  },
  {
   "cell_type": "code",
   "execution_count": null,
   "metadata": {
    "dotnet_interactive": {
     "language": "javascript"
    },
    "polyglot_notebook": {
     "kernelName": "javascript"
    },
    "vscode": {
     "languageId": "polyglot-notebook"
    }
   },
   "outputs": [],
   "source": [
    "(script = document.createElement(\"script\")).src = \"https://xembook.github.io/nem2-browserify/symbol-sdk-pack-2.0.3.js\";\n",
    "document.getElementsByTagName(\"head\")[0].appendChild(script);"
   ]
  },
  {
   "attachments": {},
   "cell_type": "markdown",
   "metadata": {
    "dotnet_interactive": {
     "language": "javascript"
    },
    "polyglot_notebook": {
     "kernelName": "javascript"
    }
   },
   "source": [
    "<span style=\"color:red\">\n",
    "\n",
    "## 2.Symbol用の共通設定 </span>"
   ]
  },
  {
   "cell_type": "code",
   "execution_count": null,
   "metadata": {
    "dotnet_interactive": {
     "language": "javascript"
    },
    "polyglot_notebook": {
     "kernelName": "javascript"
    },
    "vscode": {
     "languageId": "polyglot-notebook"
    }
   },
   "outputs": [],
   "source": [
    "NODE = 'https://sym-test-03.opening-line.jp:3001';\n",
    "sym = require(\"/node_modules/symbol-sdk\");\n",
    "repo = new sym.RepositoryFactoryHttp(NODE);\n",
    "txRepo = repo.createTransactionRepository();\n",
    "mosaicRepo = repo.createMosaicRepository();\n",
    "accountRepo = repo.createAccountRepository();\n",
    "(async () => {\n",
    "  networkType = await repo.getNetworkType().toPromise();\n",
    "  generationHash = await repo.getGenerationHash().toPromise();\n",
    "  epochAdjustment = await repo.getEpochAdjustment().toPromise();\n",
    "})();\n",
    "\n",
    "function clog(signedTx){\n",
    "    console.log(NODE + \"/transactionStatus/\" + signedTx.hash);\n",
    "    console.log(NODE + \"/transactions/confirmed/\" + signedTx.hash);\n",
    "    console.log(\"https://symbol.fyi/transactions/\" + signedTx.hash);\n",
    "    console.log(\"https://testnet.symbol.fyi/transactions/\" + signedTx.hash);\n",
    "}"
   ]
  },
  {
   "attachments": {},
   "cell_type": "markdown",
   "metadata": {
    "dotnet_interactive": {
     "language": "javascript"
    },
    "polyglot_notebook": {
     "kernelName": "javascript"
    }
   },
   "source": [
    "<span style=\"color:red\">\n",
    "\n",
    "## 3.aliceアカウントのリストア </span>"
   ]
  },
  {
   "cell_type": "code",
   "execution_count": null,
   "metadata": {
    "dotnet_interactive": {
     "language": "javascript"
    },
    "polyglot_notebook": {
     "kernelName": "javascript"
    },
    "vscode": {
     "languageId": "polyglot-notebook"
    }
   },
   "outputs": [],
   "source": [
    "alice = sym.Account.createFromPrivateKey(\n",
    "    \"1E9139CC1580B4AED6A1FE110085281D4982ED0D89CE07F3380EB83069B1****\", //🌟ここに3章で作成した秘密鍵を入力\n",
    "    networkType\n",
    ");"
   ]
  },
  {
   "attachments": {},
   "cell_type": "markdown",
   "metadata": {
    "dotnet_interactive": {
     "language": "javascript"
    },
    "polyglot_notebook": {
     "kernelName": "javascript"
    }
   },
   "source": [
    "# 6.ネームスペース\n",
    "\n",
    "Symbolブロックチェーンではネームスペースをレンタルしてアドレスやモザイクに視認性の高い単語をリンクさせることができます。\n",
    "ネームスペースは最大64文字、利用可能な文字は a, b, c, …, z, 0, 1, 2, …, 9, _ , - です。\n",
    "\n",
    "## 6.1 手数料の計算\n",
    "\n",
    "ネームスペースのレンタルにはネットワーク手数料とは別にレンタル手数料が発生します。\n",
    "ネットワークの活性度に比例して価格が変動しますので、取得前に確認するようにしてください。\n",
    "\n",
    "ルートネームスペースを365日レンタルする場合の手数料を計算します。\n"
   ]
  },
  {
   "cell_type": "code",
   "execution_count": null,
   "metadata": {
    "dotnet_interactive": {
     "language": "javascript"
    },
    "polyglot_notebook": {
     "kernelName": "javascript"
    },
    "vscode": {
     "languageId": "polyglot-notebook"
    }
   },
   "outputs": [],
   "source": [
    "nwRepo = repo.createNetworkRepository();\n",
    "rentalFees = await nwRepo.getRentalFees().toPromise();\n",
    "rootNsperBlock = rentalFees.effectiveRootNamespaceRentalFeePerBlock.compact();\n",
    "rentalDays = 365;\n",
    "rentalBlock = rentalDays * 24 * 60 * 60 / 30;\n",
    "rootNsRenatalFeeTotal = rentalBlock * rootNsperBlock;\n",
    "console.log(\"rentalBlock:\" + rentalBlock);\n",
    "console.log(\"rootNsRenatalFeeTotal:\" + rootNsRenatalFeeTotal);\n"
   ]
  },
  {
   "attachments": {},
   "cell_type": "markdown",
   "metadata": {
    "dotnet_interactive": {
     "language": "javascript"
    },
    "polyglot_notebook": {
     "kernelName": "javascript"
    }
   },
   "source": [
    "###### 出力例\n",
    "```js\n",
    "> rentalBlock:1051200\n",
    "> rootNsRenatalFeeTotal:210240000 //約210XYM\n",
    "```\n",
    "\n",
    "期間はブロック数で指定します。1ブロックを30秒として計算しました。\n",
    "最低で30日分はレンタルする必要があります（最大で1825日分）。\n",
    "\n",
    "サブネームスペースの取得手数料を計算します。\n"
   ]
  },
  {
   "cell_type": "code",
   "execution_count": null,
   "metadata": {
    "dotnet_interactive": {
     "language": "javascript"
    },
    "polyglot_notebook": {
     "kernelName": "javascript"
    },
    "vscode": {
     "languageId": "polyglot-notebook"
    }
   },
   "outputs": [],
   "source": [
    "childNamespaceRentalFee = rentalFees.effectiveChildNamespaceRentalFee.compact()\n",
    "console.log(childNamespaceRentalFee);\n"
   ]
  },
  {
   "attachments": {},
   "cell_type": "markdown",
   "metadata": {
    "dotnet_interactive": {
     "language": "javascript"
    },
    "polyglot_notebook": {
     "kernelName": "javascript"
    }
   },
   "source": [
    "###### 出力例\n",
    "```js\n",
    "> 10000000 //10XYM\n",
    "```\n",
    "\n",
    "サブネームスペースに期間指定はありません。ルートネームスペースをレンタルしている限り使用できます。\n",
    "\n",
    "## 6.2 レンタル\n",
    "\n",
    "ルートネームスペースをレンタルします(例:xembook)\n"
   ]
  },
  {
   "cell_type": "code",
   "execution_count": null,
   "metadata": {
    "dotnet_interactive": {
     "language": "javascript"
    },
    "polyglot_notebook": {
     "kernelName": "javascript"
    },
    "vscode": {
     "languageId": "polyglot-notebook"
    }
   },
   "outputs": [],
   "source": [
    "tx = sym.NamespaceRegistrationTransaction.createRootNamespace(\n",
    "    sym.Deadline.create(epochAdjustment),\n",
    "    \"xembook\", //🌟ここに自分用のネームスペースを考え書き換える\n",
    "    sym.UInt64.fromUint(86400),\n",
    "    networkType\n",
    ").setMaxFee(100);\n",
    "signedTx = alice.sign(tx,generationHash);\n",
    "await txRepo.announce(signedTx).toPromise();"
   ]
  },
  {
   "attachments": {},
   "cell_type": "markdown",
   "metadata": {
    "dotnet_interactive": {
     "language": "javascript"
    },
    "polyglot_notebook": {
     "kernelName": "javascript"
    }
   },
   "source": [
    "<span style=\"color:red\">トランザクションステータスの確認</span>  "
   ]
  },
  {
   "cell_type": "code",
   "execution_count": null,
   "metadata": {
    "dotnet_interactive": {
     "language": "javascript"
    },
    "polyglot_notebook": {
     "kernelName": "javascript"
    },
    "vscode": {
     "languageId": "polyglot-notebook"
    }
   },
   "outputs": [],
   "source": [
    "hash = signedTx.hash;\n",
    "tsRepo = repo.createTransactionStatusRepository();\n",
    "transactionStatus = await tsRepo.getTransactionStatus(hash).toPromise();\n",
    "console.log(transactionStatus);\n",
    "txInfo = await txRepo.getTransaction(hash,sym.TransactionGroup.Confirmed).toPromise();\n",
    "console.log(txInfo);\n",
    "console.log(`https://testnet.symbol.fyi/transactions/${hash}`) //ブラウザで確認を追加"
   ]
  },
  {
   "attachments": {},
   "cell_type": "markdown",
   "metadata": {
    "dotnet_interactive": {
     "language": "javascript"
    },
    "polyglot_notebook": {
     "kernelName": "javascript"
    }
   },
   "source": [
    "サブネームスペースをレンタルします(例:xembook.tomato)"
   ]
  },
  {
   "cell_type": "code",
   "execution_count": null,
   "metadata": {
    "dotnet_interactive": {
     "language": "javascript"
    },
    "polyglot_notebook": {
     "kernelName": "javascript"
    },
    "vscode": {
     "languageId": "polyglot-notebook"
    }
   },
   "outputs": [],
   "source": [
    "subNamespaceTx = sym.NamespaceRegistrationTransaction.createSubNamespace(\n",
    "    sym.Deadline.create(epochAdjustment),\n",
    "    \"tomato\",  //サブネームスペースを指定\n",
    "    \"xembook\", //🌟ここに先ほど指定したルートネームスペースを指定\n",
    "    networkType,\n",
    ").setMaxFee(100);\n",
    "signedTx = alice.sign(subNamespaceTx,generationHash);\n",
    "await txRepo.announce(signedTx).toPromise();\n"
   ]
  },
  {
   "cell_type": "code",
   "execution_count": null,
   "metadata": {
    "dotnet_interactive": {
     "language": "javascript"
    },
    "polyglot_notebook": {
     "kernelName": "javascript"
    },
    "vscode": {
     "languageId": "polyglot-notebook"
    }
   },
   "outputs": [],
   "source": [
    "hash = signedTx.hash;\n",
    "tsRepo = repo.createTransactionStatusRepository();\n",
    "transactionStatus = await tsRepo.getTransactionStatus(hash).toPromise();\n",
    "console.log(transactionStatus);\n",
    "txInfo = await txRepo.getTransaction(hash,sym.TransactionGroup.Confirmed).toPromise();\n",
    "console.log(txInfo);\n",
    "console.log(`https://testnet.symbol.fyi/transactions/${hash}`) //ブラウザで確認を追加"
   ]
  },
  {
   "attachments": {},
   "cell_type": "markdown",
   "metadata": {
    "dotnet_interactive": {
     "language": "javascript"
    },
    "polyglot_notebook": {
     "kernelName": "javascript"
    }
   },
   "source": [
    "2階層目のサブネームスペースを作成したい場合は\n",
    "例えば、xembook.tomato.morningを定義したい場合は以下のようにします。\n",
    "\n",
    "```js\n",
    "subNamespaceTx = sym.NamespaceRegistrationTransaction.createSubNamespace(\n",
    "    ,\n",
    "    \"morning\",  //作成するサブネームスペース\n",
    "    \"xembook.tomato\", //紐づけたいルートネームスペース\n",
    "    ,\n",
    ")\n",
    "```"
   ]
  },
  {
   "attachments": {},
   "cell_type": "markdown",
   "metadata": {
    "dotnet_interactive": {
     "language": "javascript"
    },
    "polyglot_notebook": {
     "kernelName": "javascript"
    }
   },
   "source": [
    "<span style=\"color:red\">\n",
    "\n",
    "### 補足　２階層目のサブスペースを作成</span>  "
   ]
  },
  {
   "cell_type": "code",
   "execution_count": null,
   "metadata": {
    "dotnet_interactive": {
     "language": "javascript"
    },
    "polyglot_notebook": {
     "kernelName": "javascript"
    },
    "vscode": {
     "languageId": "polyglot-notebook"
    }
   },
   "outputs": [],
   "source": [
    "subNamespaceTx = sym.NamespaceRegistrationTransaction.createSubNamespace(\n",
    "    sym.Deadline.create(epochAdjustment),\n",
    "    \"morning\",  //サブネームスペースを指定\n",
    "    \"xembook.tomato\", //🌟ここに先ほど指定したサブネームスペースを指定\n",
    "    networkType,\n",
    ").setMaxFee(100);\n",
    "signedTx = alice.sign(subNamespaceTx,generationHash);\n",
    "await txRepo.announce(signedTx).toPromise();\n"
   ]
  },
  {
   "cell_type": "code",
   "execution_count": null,
   "metadata": {
    "dotnet_interactive": {
     "language": "javascript"
    },
    "polyglot_notebook": {
     "kernelName": "javascript"
    },
    "vscode": {
     "languageId": "polyglot-notebook"
    }
   },
   "outputs": [],
   "source": [
    "hash = signedTx.hash;\n",
    "tsRepo = repo.createTransactionStatusRepository();\n",
    "transactionStatus = await tsRepo.getTransactionStatus(hash).toPromise();\n",
    "console.log(transactionStatus);\n",
    "txInfo = await txRepo.getTransaction(hash,sym.TransactionGroup.Confirmed).toPromise();\n",
    "console.log(txInfo);\n",
    "console.log(`https://testnet.symbol.fyi/transactions/${hash}`) //ブラウザで確認を追加"
   ]
  },
  {
   "attachments": {},
   "cell_type": "markdown",
   "metadata": {
    "dotnet_interactive": {
     "language": "javascript"
    },
    "polyglot_notebook": {
     "kernelName": "javascript"
    }
   },
   "source": [
    "### 有効期限の計算\n",
    "\n",
    "レンタル済みルートネームスペースの有効期限を計算します。"
   ]
  },
  {
   "cell_type": "code",
   "execution_count": 72,
   "metadata": {
    "dotnet_interactive": {
     "language": "javascript"
    },
    "polyglot_notebook": {
     "kernelName": "javascript"
    },
    "vscode": {
     "languageId": "polyglot-notebook"
    }
   },
   "outputs": [
    {
     "data": {
      "application/json": "2024-04-14T12:09:51.023Z"
     },
     "metadata": {},
     "output_type": "display_data"
    }
   ],
   "source": [
    "nsRepo = repo.createNamespaceRepository();\n",
    "chainRepo = repo.createChainRepository();\n",
    "blockRepo = repo.createBlockRepository();\n",
    "namespaceId = new sym.NamespaceId(\"xembook\");\n",
    "nsInfo = await nsRepo.getNamespace(namespaceId).toPromise();\n",
    "lastHeight = (await chainRepo.getChainInfo().toPromise()).height;\n",
    "lastBlock = await blockRepo.getBlockByHeight(lastHeight).toPromise();\n",
    "remainHeight = nsInfo.endHeight.compact() - lastHeight.compact();\n",
    "endDate = new Date(lastBlock.timestamp.compact() + remainHeight * 30000 + epochAdjustment * 1000)\n",
    "console.log(endDate);\n"
   ]
  },
  {
   "attachments": {},
   "cell_type": "markdown",
   "metadata": {
    "dotnet_interactive": {
     "language": "javascript"
    },
    "polyglot_notebook": {
     "kernelName": "javascript"
    }
   },
   "source": [
    "ネームスペース情報の終了ブロックを取得し、現在のブロック高から差し引いた残ブロック数に30秒(平均ブロック生成間隔)を掛け合わせた日時を出力します。\n",
    "テストネットでは設定した有効期限よりも1日程度更新期限が猶予されます。メインネットはこの値が30日となっていますのでご留意ください\n",
    "\n",
    "###### 出力例\n",
    "```js\n",
    "> Tue Mar 29 2022 18:17:06 GMT+0900 (日本標準時)\n",
    "```\n",
    "## 6.3 リンク\n",
    "\n",
    "### アカウントへのリンク"
   ]
  },
  {
   "cell_type": "code",
   "execution_count": 76,
   "metadata": {
    "dotnet_interactive": {
     "language": "javascript"
    },
    "polyglot_notebook": {
     "kernelName": "javascript"
    },
    "vscode": {
     "languageId": "polyglot-notebook"
    }
   },
   "outputs": [],
   "source": [
    "namespaceId = new sym.NamespaceId(\"xembook\"); //🌟ここに先ほど指定したルートネームスペースを指定\n",
    "address = sym.Address.createFromRawAddress(alice.address.plain()); //🌟ここに自分のアドレスを入力\n",
    "tx = sym.AliasTransaction.createForAddress(\n",
    "    sym.Deadline.create(epochAdjustment),\n",
    "    sym.AliasAction.Link,\n",
    "    namespaceId,\n",
    "    address,\n",
    "    networkType\n",
    ").setMaxFee(100);\n",
    "signedTx = alice.sign(tx,generationHash);\n",
    "await txRepo.announce(signedTx).toPromise();\n"
   ]
  },
  {
   "cell_type": "code",
   "execution_count": 77,
   "metadata": {
    "dotnet_interactive": {
     "language": "javascript"
    },
    "polyglot_notebook": {
     "kernelName": "javascript"
    },
    "vscode": {
     "languageId": "polyglot-notebook"
    }
   },
   "outputs": [
    {
     "data": {
      "application/json": {
       "code": "Failure_Namespace_Alias_Already_Exists",
       "deadline": {
        "adjustedValue": 14691554280
       },
       "group": "failed",
       "hash": "8E53FD9E9F6BFCB9C34EA4A75E2CDAE84529EF4B06263CDABE369431C03E3573"
      }
     },
     "metadata": {},
     "output_type": "display_data"
    },
    {
     "ename": "Error",
     "evalue": "{\"statusCode\":404,\"statusMessage\":\"Unknown Error\",\"body\":\"{\\\"code\\\":\\\"ResourceNotFound\\\",\\\"message\\\":\\\"no resource exists with id '8E53FD9E9F6BFCB9C34EA4A75E2CDAE84529EF4B06263CDABE369431C03E3573'\\\"}\"}",
     "output_type": "error",
     "traceback": [
      "{\"statusCode\":404,\"statusMessage\":\"Unknown Error\",\"body\":\"{\\\"code\\\":\\\"ResourceNotFound\\\",\\\"message\\\":\\\"no resource exists with id '8E53FD9E9F6BFCB9C34EA4A75E2CDAE84529EF4B06263CDABE369431C03E3573'\\\"}\"}"
     ]
    }
   ],
   "source": [
    "hash = signedTx.hash;\n",
    "tsRepo = repo.createTransactionStatusRepository();\n",
    "transactionStatus = await tsRepo.getTransactionStatus(hash).toPromise();\n",
    "console.log(transactionStatus);\n",
    "txInfo = await txRepo.getTransaction(hash,sym.TransactionGroup.Confirmed).toPromise();\n",
    "console.log(txInfo);\n",
    "console.log(`https://testnet.symbol.fyi/transactions/${hash}`) //ブラウザで確認を追加"
   ]
  },
  {
   "attachments": {},
   "cell_type": "markdown",
   "metadata": {
    "dotnet_interactive": {
     "language": "javascript"
    },
    "polyglot_notebook": {
     "kernelName": "javascript"
    }
   },
   "source": [
    "リンク先のアドレスは自分が所有していなくても問題ありません。\n",
    "\n",
    "### モザイクへリンク"
   ]
  },
  {
   "cell_type": "code",
   "execution_count": 78,
   "metadata": {
    "dotnet_interactive": {
     "language": "javascript"
    },
    "polyglot_notebook": {
     "kernelName": "javascript"
    },
    "vscode": {
     "languageId": "polyglot-notebook"
    }
   },
   "outputs": [],
   "source": [
    "namespaceId = new sym.NamespaceId(\"xembook.tomato\"); //🌟ここに先ほど指定したサブネームスペースを指定\n",
    "mosaicId = new sym.MosaicId(\"3A8416DB2D53xxxx\"); //🌟ここに5章で作成したNFT（発行数1の）モザイクIDを入力\n",
    "tx = sym.AliasTransaction.createForMosaic(\n",
    "    sym.Deadline.create(epochAdjustment),\n",
    "    sym.AliasAction.Link,\n",
    "    namespaceId,\n",
    "    mosaicId,\n",
    "    networkType\n",
    ").setMaxFee(100);\n",
    "signedTx = alice.sign(tx,generationHash);\n",
    "await txRepo.announce(signedTx).toPromise();"
   ]
  },
  {
   "cell_type": "code",
   "execution_count": 79,
   "metadata": {
    "dotnet_interactive": {
     "language": "javascript"
    },
    "polyglot_notebook": {
     "kernelName": "javascript"
    },
    "vscode": {
     "languageId": "polyglot-notebook"
    }
   },
   "outputs": [
    {
     "data": {
      "application/json": {
       "code": "Failure_Namespace_Alias_Already_Exists",
       "deadline": {
        "adjustedValue": 14691745487
       },
       "group": "failed",
       "hash": "062CE86C5991C325FE10BB968FC0FB032AE781A9E6F2D6C1417D82B7BAA91F57"
      }
     },
     "metadata": {},
     "output_type": "display_data"
    },
    {
     "ename": "Error",
     "evalue": "{\"statusCode\":404,\"statusMessage\":\"Unknown Error\",\"body\":\"{\\\"code\\\":\\\"ResourceNotFound\\\",\\\"message\\\":\\\"no resource exists with id '062CE86C5991C325FE10BB968FC0FB032AE781A9E6F2D6C1417D82B7BAA91F57'\\\"}\"}",
     "output_type": "error",
     "traceback": [
      "{\"statusCode\":404,\"statusMessage\":\"Unknown Error\",\"body\":\"{\\\"code\\\":\\\"ResourceNotFound\\\",\\\"message\\\":\\\"no resource exists with id '062CE86C5991C325FE10BB968FC0FB032AE781A9E6F2D6C1417D82B7BAA91F57'\\\"}\"}"
     ]
    }
   ],
   "source": [
    "hash = signedTx.hash;\n",
    "tsRepo = repo.createTransactionStatusRepository();\n",
    "transactionStatus = await tsRepo.getTransactionStatus(hash).toPromise();\n",
    "console.log(transactionStatus);\n",
    "txInfo = await txRepo.getTransaction(hash,sym.TransactionGroup.Confirmed).toPromise();\n",
    "console.log(txInfo);\n",
    "console.log(`https://testnet.symbol.fyi/transactions/${hash}`) //ブラウザで確認を追加"
   ]
  },
  {
   "attachments": {},
   "cell_type": "markdown",
   "metadata": {
    "dotnet_interactive": {
     "language": "javascript"
    },
    "polyglot_notebook": {
     "kernelName": "javascript"
    }
   },
   "source": [
    "モザイクを作成したアドレスと同一の場合のみリンクできるようです。\n",
    "\n",
    "\n",
    "## 6.4 未解決で使用\n",
    "\n",
    "送信先にUnresolvedAccountとして指定して、アドレスを特定しないままトランザクションを署名・アナウンスします。\n",
    "チェーン側で解決されたアカウントに対しての送信が実施されます。\n"
   ]
  },
  {
   "cell_type": "code",
   "execution_count": 86,
   "metadata": {
    "dotnet_interactive": {
     "language": "javascript"
    },
    "polyglot_notebook": {
     "kernelName": "javascript"
    },
    "vscode": {
     "languageId": "polyglot-notebook"
    }
   },
   "outputs": [],
   "source": [
    "namespaceId = new sym.NamespaceId(\"xembook\"); //🌟ここに先ほど指定したルートネームスペースを指定\n",
    "tx = sym.TransferTransaction.create(\n",
    "    sym.Deadline.create(epochAdjustment),\n",
    "    namespaceId, //UnresolvedAccount:未解決アカウントアドレス\n",
    "    [],\n",
    "    sym.EmptyMessage,\n",
    "    networkType\n",
    ").setMaxFee(100);\n",
    "signedTx = alice.sign(tx,generationHash);\n",
    "await txRepo.announce(signedTx).toPromise();"
   ]
  },
  {
   "cell_type": "code",
   "execution_count": 88,
   "metadata": {
    "dotnet_interactive": {
     "language": "javascript"
    },
    "polyglot_notebook": {
     "kernelName": "javascript"
    },
    "vscode": {
     "languageId": "polyglot-notebook"
    }
   },
   "outputs": [
    {
     "data": {
      "application/json": {
       "code": "Success",
       "deadline": {
        "adjustedValue": 14692016110
       },
       "group": "unconfirmed",
       "hash": "E52158085BA010A3BC307CB1545D51FC53D532225BC8B9437A4D1757755B56ED",
       "height": {
        "higher": 0,
        "lower": 0
       }
      }
     },
     "metadata": {},
     "output_type": "display_data"
    },
    {
     "ename": "Error",
     "evalue": "{\"statusCode\":404,\"statusMessage\":\"Unknown Error\",\"body\":\"{\\\"code\\\":\\\"ResourceNotFound\\\",\\\"message\\\":\\\"no resource exists with id 'E52158085BA010A3BC307CB1545D51FC53D532225BC8B9437A4D1757755B56ED'\\\"}\"}",
     "output_type": "error",
     "traceback": [
      "{\"statusCode\":404,\"statusMessage\":\"Unknown Error\",\"body\":\"{\\\"code\\\":\\\"ResourceNotFound\\\",\\\"message\\\":\\\"no resource exists with id 'E52158085BA010A3BC307CB1545D51FC53D532225BC8B9437A4D1757755B56ED'\\\"}\"}"
     ]
    }
   ],
   "source": [
    "hash = signedTx.hash;\n",
    "tsRepo = repo.createTransactionStatusRepository();\n",
    "transactionStatus = await tsRepo.getTransactionStatus(hash).toPromise();\n",
    "console.log(transactionStatus);\n",
    "txInfo = await txRepo.getTransaction(hash,sym.TransactionGroup.Confirmed).toPromise();\n",
    "console.log(txInfo);\n",
    "console.log(`https://testnet.symbol.fyi/transactions/${hash}`) //ブラウザで確認を追加"
   ]
  },
  {
   "attachments": {},
   "cell_type": "markdown",
   "metadata": {
    "dotnet_interactive": {
     "language": "javascript"
    },
    "polyglot_notebook": {
     "kernelName": "javascript"
    }
   },
   "source": [
    "送信モザイクにUnresolvedMosaicとして指定して、モザイクIDを特定しないままトランザクションを署名・アナウンスします。\n"
   ]
  },
  {
   "cell_type": "code",
   "execution_count": 89,
   "metadata": {
    "dotnet_interactive": {
     "language": "javascript"
    },
    "polyglot_notebook": {
     "kernelName": "javascript"
    },
    "vscode": {
     "languageId": "polyglot-notebook"
    }
   },
   "outputs": [],
   "source": [
    "namespaceId = new sym.NamespaceId(\"xembook123.tomato\");\n",
    "tx = sym.TransferTransaction.create(\n",
    "    sym.Deadline.create(epochAdjustment),\n",
    "    address, \n",
    "    [\n",
    "        new sym.Mosaic(\n",
    "          namespaceId,//UnresolvedMosaic:未解決モザイク\n",
    "          sym.UInt64.fromUint(1) //送信量\n",
    "        )\n",
    "    ],\n",
    "    sym.EmptyMessage,\n",
    "    networkType\n",
    ").setMaxFee(100);\n",
    "signedTx = alice.sign(tx,generationHash);\n",
    "await txRepo.announce(signedTx).toPromise();\n"
   ]
  },
  {
   "cell_type": "code",
   "execution_count": 90,
   "metadata": {
    "dotnet_interactive": {
     "language": "javascript"
    },
    "polyglot_notebook": {
     "kernelName": "javascript"
    },
    "vscode": {
     "languageId": "polyglot-notebook"
    }
   },
   "outputs": [
    {
     "data": {
      "application/json": {
       "code": "Success",
       "deadline": {
        "adjustedValue": 14692058271
       },
       "group": "confirmed",
       "hash": "20F7E533A4C9722884DC1AE762FC643C061A78BBFF3C64115DB8ED845B2798AA",
       "height": {
        "higher": 0,
        "lower": 394241
       }
      }
     },
     "metadata": {},
     "output_type": "display_data"
    },
    {
     "data": {
      "application/json": {
       "transaction": {
        "deadline": "14692058271",
        "maxFee": "17600",
        "mosaics": [
         {
          "amount": "1",
          "id": "92B43B64CF93B655"
         }
        ],
        "network": 152,
        "recipientAddress": {
         "address": "TAOP6YRVWUH6VMBAZASNLYHL2SEU7DLALXJN7EY",
         "networkType": 152
        },
        "signature": "D49C2AFF2718678E811DC6557BA36FF0333DE2386E3793326E36A9ADD6708C198A406C990D6E2F2B4AE0BB4D78A284188402E70AE807A211C55C9E7E371CD00E",
        "signerPublicKey": "70B0C6BDB2C291F1F30D9DA6CF7D1C6DBF54588285B040ADD762EACD853EE4E9",
        "type": 16724,
        "version": 1
       }
      }
     },
     "metadata": {},
     "output_type": "display_data"
    },
    {
     "data": {
      "text/plain": [
       "https://testnet.symbol.fyi/transactions/20F7E533A4C9722884DC1AE762FC643C061A78BBFF3C64115DB8ED845B2798AA"
      ]
     },
     "metadata": {},
     "output_type": "display_data"
    }
   ],
   "source": [
    "hash = signedTx.hash;\n",
    "tsRepo = repo.createTransactionStatusRepository();\n",
    "transactionStatus = await tsRepo.getTransactionStatus(hash).toPromise();\n",
    "console.log(transactionStatus);\n",
    "txInfo = await txRepo.getTransaction(hash,sym.TransactionGroup.Confirmed).toPromise();\n",
    "console.log(txInfo);\n",
    "console.log(`https://testnet.symbol.fyi/transactions/${hash}`) //ブラウザで確認を追加"
   ]
  },
  {
   "attachments": {},
   "cell_type": "markdown",
   "metadata": {
    "dotnet_interactive": {
     "language": "javascript"
    },
    "polyglot_notebook": {
     "kernelName": "javascript"
    }
   },
   "source": [
    "XYMをネームスペースで使用する場合は以下のように指定します。\n",
    "\n",
    "```js\n",
    "namespaceId = new sym.NamespaceId(\"symbol.xym\");\n",
    "```\n",
    "```js\n",
    "> NamespaceId {fullName: 'symbol.xym', id: Id}\n",
    "    fullName: \"symbol.xym\"\n",
    "    id: Id {lower: 1106554862, higher: 3880491450}\n",
    "```\n",
    "\n",
    "Idは内部ではUint64と呼ばれる数値 `{lower: 1106554862, higher: 3880491450}` で保持されています。\n",
    "\n",
    "## 6.5 参照\n",
    "\n",
    "アドレスへリンクしたネームスペースの参照します"
   ]
  },
  {
   "cell_type": "code",
   "execution_count": 94,
   "metadata": {
    "dotnet_interactive": {
     "language": "javascript"
    },
    "polyglot_notebook": {
     "kernelName": "javascript"
    },
    "vscode": {
     "languageId": "polyglot-notebook"
    }
   },
   "outputs": [
    {
     "data": {
      "application/json": {
       "active": true,
       "alias": {
        "address": {
         "address": "TAOP6YRVWUH6VMBAZASNLYHL2SEU7DLALXJN7EY",
         "networkType": 152
        },
        "type": 2
       },
       "depth": 1,
       "endHeight": {
        "higher": 0,
        "lower": 483493
       },
       "index": 0,
       "levels": [
        {
         "id": {
          "higher": 2603216605,
          "lower": 1702062713
         }
        }
       ],
       "ownerAddress": {
        "address": "TAOP6YRVWUH6VMBAZASNLYHL2SEU7DLALXJN7EY",
        "networkType": 152
       },
       "parentId": {
        "id": {
         "higher": 0,
         "lower": 0
        }
       },
       "recordId": "64404AAE57F5E76C3831AB16",
       "registrationType": 0,
       "startHeight": {
        "higher": 0,
        "lower": 394213
       },
       "version": 1
      }
     },
     "metadata": {},
     "output_type": "display_data"
    }
   ],
   "source": [
    "nsRepo = repo.createNamespaceRepository();\n",
    "namespaceInfo = await nsRepo.getNamespace(new sym.NamespaceId(\"xembook\")).toPromise(); //🌟ここに先ほど指定したルートネームスペースを指定\n",
    "console.log(namespaceInfo);"
   ]
  },
  {
   "attachments": {},
   "cell_type": "markdown",
   "metadata": {
    "dotnet_interactive": {
     "language": "javascript"
    },
    "polyglot_notebook": {
     "kernelName": "javascript"
    }
   },
   "source": [
    "###### 出力例\n",
    "```js\n",
    "NamespaceInfo\n",
    "    active: true\n",
    "  > alias: AddressAlias\n",
    "        address: Address {address: 'TBIL6D6RURP45YQRWV6Q7YVWIIPLQGLZQFHWFEQ', networkType: 152}\n",
    "        mosaicId: undefined\n",
    "        type: 2 //AliasType\n",
    "    depth: 1\n",
    "    endHeight: UInt64 {lower: 500545, higher: 0}\n",
    "    index: 1\n",
    "    levels: [NamespaceId]\n",
    "    ownerAddress: Address {address: 'TBIL6D6RURP45YQRWV6Q7YVWIIPLQGLZQFHWFEQ', networkType: 152}\n",
    "    parentId: NamespaceId {id: Id}\n",
    "    registrationType: 0 //NamespaceRegistrationType\n",
    "    startHeight: UInt64 {lower: 324865, higher: 0}\n",
    "```\n",
    "\n",
    "AliasTypeは以下の通りです。\n",
    "```js\n",
    "{0: 'None', 1: 'Mosaic', 2: 'Address'}\n",
    "```\n",
    "\n",
    "NamespaceRegistrationTypeは以下の通りです。\n",
    "```js\n",
    "{0: 'RootNamespace', 1: 'SubNamespace'}\n",
    "```\n",
    "\n",
    "モザイクへリンクしたネームスペースを参照します。\n"
   ]
  },
  {
   "cell_type": "code",
   "execution_count": 96,
   "metadata": {
    "dotnet_interactive": {
     "language": "javascript"
    },
    "polyglot_notebook": {
     "kernelName": "javascript"
    },
    "vscode": {
     "languageId": "polyglot-notebook"
    }
   },
   "outputs": [
    {
     "data": {
      "application/json": {
       "active": true,
       "alias": {
        "mosaicId": {
         "id": {
          "higher": 797673345,
          "lower": 3983560249
         }
        },
        "type": 1
       },
       "depth": 2,
       "endHeight": {
        "higher": 0,
        "lower": 483493
       },
       "index": 0,
       "levels": [
        {
         "id": {
          "higher": 2603216605,
          "lower": 1702062713
         }
        },
        {
         "id": {
          "higher": 2461285220,
          "lower": 3482564181
         }
        }
       ],
       "ownerAddress": {
        "address": "TAOP6YRVWUH6VMBAZASNLYHL2SEU7DLALXJN7EY",
        "networkType": 152
       },
       "parentId": {
        "id": {
         "higher": 2603216605,
         "lower": 1702062713
        }
       },
       "recordId": "64404AAE57F5E76C3831AB18",
       "registrationType": 1,
       "startHeight": {
        "higher": 0,
        "lower": 394213
       },
       "version": 1
      }
     },
     "metadata": {},
     "output_type": "display_data"
    }
   ],
   "source": [
    "nsRepo = repo.createNamespaceRepository();\n",
    "namespaceInfo = await nsRepo.getNamespace(new sym.NamespaceId(\"xembook.tomato\")).toPromise(); //🌟ここに先ほど指定したサブネームスペースを指定\n",
    "console.log(namespaceInfo);\n"
   ]
  },
  {
   "attachments": {},
   "cell_type": "markdown",
   "metadata": {
    "dotnet_interactive": {
     "language": "javascript"
    },
    "polyglot_notebook": {
     "kernelName": "javascript"
    }
   },
   "source": [
    "###### 出力例\n",
    "```js\n",
    "NamespaceInfo\n",
    "  > active: true\n",
    "    alias: MosaicAlias\n",
    "        address: undefined\n",
    "        mosaicId: MosaicId\n",
    "        id: Id {lower: 1360892257, higher: 309702839}\n",
    "        type: 1 //AliasType\n",
    "    depth: 2\n",
    "    endHeight: UInt64 {lower: 500545, higher: 0}\n",
    "    index: 1\n",
    "    levels: (2) [NamespaceId, NamespaceId]\n",
    "    ownerAddress: Address {address: 'TBIL6D6RURP45YQRWV6Q7YVWIIPLQGLZQFHWFEQ', networkType: 152}\n",
    "    parentId: NamespaceId {id: Id}\n",
    "    registrationType: 1 //NamespaceRegistrationType\n",
    "    startHeight: UInt64 {lower: 324865, higher: 0}\n",
    "```\n",
    "\n",
    "### 逆引き\n",
    "\n",
    "アドレスに紐づけられたネームスペースを全て調べます。\n"
   ]
  },
  {
   "cell_type": "code",
   "execution_count": 98,
   "metadata": {
    "dotnet_interactive": {
     "language": "javascript"
    },
    "polyglot_notebook": {
     "kernelName": "javascript"
    },
    "vscode": {
     "languageId": "polyglot-notebook"
    }
   },
   "outputs": [
    {
     "data": {
      "application/json": [
       {
        "fullName": "xembook123",
        "id": {
         "higher": 2603216605,
         "lower": 1702062713
        }
       },
       {
        "fullName": "yahooooooo",
        "id": {
         "higher": 4059364483,
         "lower": 3816416984
        }
       }
      ]
     },
     "metadata": {},
     "output_type": "display_data"
    }
   ],
   "source": [
    "nsRepo = repo.createNamespaceRepository();\n",
    "accountNames = await nsRepo.getAccountsNames(\n",
    "  [sym.Address.createFromRawAddress(alice.address.plain())]\n",
    ").toPromise();\n",
    "namespaceIds = accountNames[0].names.map(name=>{\n",
    "  return name.namespaceId;\n",
    "});\n",
    "console.log(namespaceIds);\n"
   ]
  },
  {
   "attachments": {},
   "cell_type": "markdown",
   "metadata": {
    "dotnet_interactive": {
     "language": "javascript"
    },
    "polyglot_notebook": {
     "kernelName": "javascript"
    }
   },
   "source": [
    "モザイクに紐づけられたネームスペースを全て調べます。\n"
   ]
  },
  {
   "cell_type": "code",
   "execution_count": 99,
   "metadata": {
    "dotnet_interactive": {
     "language": "javascript"
    },
    "polyglot_notebook": {
     "kernelName": "javascript"
    },
    "vscode": {
     "languageId": "polyglot-notebook"
    }
   },
   "outputs": [
    {
     "data": {
      "application/json": [
       {
        "fullName": "symbol.xym",
        "id": {
         "higher": 3880491450,
         "lower": 1106554862
        }
       }
      ]
     },
     "metadata": {},
     "output_type": "display_data"
    }
   ],
   "source": [
    "nsRepo = repo.createNamespaceRepository();\n",
    "mosaicNames = await nsRepo.getMosaicsNames(\n",
    "  [new sym.MosaicId(\"72C0212E67A08BCE\")]\n",
    ").toPromise();\n",
    "namespaceIds = mosaicNames[0].names.map(name=>{\n",
    "  return name.namespaceId;\n",
    "});\n",
    "console.log(namespaceIds);\n"
   ]
  },
  {
   "attachments": {},
   "cell_type": "markdown",
   "metadata": {
    "dotnet_interactive": {
     "language": "javascript"
    },
    "polyglot_notebook": {
     "kernelName": "javascript"
    }
   },
   "source": [
    "### レシートの参照\n",
    "\n",
    "トランザクションに使用されたネームスペースをブロックチェーン側がどう解決したかを確認します。\n"
   ]
  },
  {
   "cell_type": "code",
   "execution_count": 103,
   "metadata": {
    "dotnet_interactive": {
     "language": "javascript"
    },
    "polyglot_notebook": {
     "kernelName": "javascript"
    },
    "vscode": {
     "languageId": "polyglot-notebook"
    }
   },
   "outputs": [
    {
     "data": {
      "application/json": {
       "data": [
        {
         "height": {
          "higher": 0,
          "lower": 394240
         },
         "resolutionEntries": [
          {
           "resolved": {
            "address": "TAOP6YRVWUH6VMBAZASNLYHL2SEU7DLALXJN7EY",
            "networkType": 152
           },
           "source": {
            "primaryId": 1,
            "secondaryId": 0
           }
          }
         ],
         "resolutionType": 0,
         "unresolved": {
          "id": {
           "higher": 2603216605,
           "lower": 1702062713
          }
         }
        }
       ],
       "isLastPage": true,
       "pageNumber": 1,
       "pageSize": 20
      }
     },
     "metadata": {},
     "output_type": "display_data"
    }
   ],
   "source": [
    "receiptRepo = repo.createReceiptRepository();\n",
    "state = await receiptRepo.searchAddressResolutionStatements({height:394240}).toPromise(); //🌟ここに先ほどルートネームスペースを指定して送ったトランザクションのブロック高を指定\n",
    "console.log(state);\n"
   ]
  },
  {
   "attachments": {},
   "cell_type": "markdown",
   "metadata": {
    "dotnet_interactive": {
     "language": "javascript"
    },
    "polyglot_notebook": {
     "kernelName": "javascript"
    }
   },
   "source": [
    "###### 出力例\n",
    "```js\n",
    "data: Array(1)\n",
    "  0: ResolutionStatement\n",
    "    height: UInt64 {lower: 179401, higher: 0}\n",
    "    resolutionEntries: Array(1)\n",
    "      0: ResolutionEntry\n",
    "        resolved: Address {address: 'TBIL6D6RURP45YQRWV6Q7YVWIIPLQGLZQFHWFEQ', networkType: 152}\n",
    "        source: ReceiptSource {primaryId: 1, secondaryId: 0}\n",
    "    resolutionType: 0 //ResolutionType\n",
    "    unresolved: NamespaceId\n",
    "      id: Id {lower: 646738821, higher: 2754876907}\n",
    "```\n",
    "\n",
    "ResolutionTypeは以下の通りです。\n",
    "```js\n",
    "{0: 'Address', 1: 'Mosaic'}\n",
    "```\n",
    "\n",
    "#### 注意事項\n",
    "ネームスペースはレンタル制のため、過去のトランザクションで使用したネームスペースのリンク先と\n",
    "現在のネームスペースのリンク先が異なる可能性があります。\n",
    "過去のデータを参照する際などに、その時どのアカウントにリンクしていたかなどを知りたい場合は\n",
    "必ずレシートを参照するようにしてください。\n",
    "\n",
    "## 6.6 現場で使えるヒント\n",
    "\n",
    "### 外部ドメインとの相互リンク\n",
    "\n",
    "ネームスペースは重複取得がプロトコル上制限されているため、\n",
    "インターネットドメインや実世界で周知されている商標名と同一のネームスペースを取得し、\n",
    "外部(公式サイトや印刷物など)からネームスペース存在の認知を公表することで、\n",
    "Symbol上のアカウントのブランド価値を構築することができます\n",
    "(法的な効力については調整が必要です)。\n",
    "外部ドメイン側のハッキングあるいは、Symbol側でのネームスペース更新忘れにはご注意ください。\n",
    "\n",
    "\n",
    "#### ネームスペースを取得するアカウントについての注意\n",
    "ネームスペースはレンタル期限という概念をもつ機能です。\n",
    "今のところ、取得したネームスペースは放棄か延長の選択肢しかありません。\n",
    "運用譲渡などが発生する可能性のあるシステムでネームスペース活用を検討する場合は\n",
    "マルチシグ化(9章)したアカウントでネームスペースを取得することをおすすめします。\n"
   ]
  },
  {
   "cell_type": "code",
   "execution_count": null,
   "metadata": {
    "dotnet_interactive": {
     "language": "javascript"
    },
    "polyglot_notebook": {
     "kernelName": "javascript"
    },
    "vscode": {
     "languageId": "polyglot-notebook"
    }
   },
   "outputs": [],
   "source": []
  }
 ],
 "metadata": {
  "kernelspec": {
   "display_name": ".NET (C#)",
   "language": "C#",
   "name": ".net-csharp"
  },
  "polyglot_notebook": {
   "kernelInfo": {
    "defaultKernelName": "javascript",
    "items": [
     {
      "aliases": [
       "js"
      ],
      "languageName": null,
      "name": "javascript"
     },
     {
      "aliases": [
       "frontend"
      ],
      "languageName": null,
      "name": "vscode"
     },
     {
      "aliases": [],
      "languageName": null,
      "name": ".NET"
     },
     {
      "aliases": [
       "c#",
       "C#"
      ],
      "languageName": null,
      "name": "csharp"
     },
     {
      "aliases": [
       "f#",
       "F#"
      ],
      "languageName": null,
      "name": "fsharp"
     },
     {
      "aliases": [],
      "languageName": null,
      "name": "html"
     },
     {
      "aliases": [],
      "languageName": null,
      "name": "kql"
     },
     {
      "aliases": [],
      "languageName": null,
      "name": "mermaid"
     },
     {
      "aliases": [
       "powershell"
      ],
      "languageName": null,
      "name": "pwsh"
     },
     {
      "aliases": [],
      "languageName": null,
      "name": "sql"
     },
     {
      "aliases": [],
      "languageName": null,
      "name": "value"
     },
     {
      "aliases": [],
      "languageName": null,
      "name": "webview"
     }
    ]
   }
  }
 },
 "nbformat": 4,
 "nbformat_minor": 2
}
