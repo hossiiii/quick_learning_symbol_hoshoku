{
 "cells": [
  {
   "attachments": {},
   "cell_type": "markdown",
   "metadata": {
    "dotnet_interactive": {
     "language": "javascript"
    },
    "polyglot_notebook": {
     "kernelName": "javascript"
    }
   },
   "source": [
    "<hr />\n",
    "\n",
    "### NoteBookの見方\n",
    "コード以外の情報 \n",
    "<span >白/黒での記載は速習Symbol</span>  \n",
    "<span style=\"color:red\">赤色での記載は補足情報</span>  \n",
    "<span >コード内で🌟マークがある場所は自分の情報に書き換えが必要</span>\n",
    "\n",
    "<hr />"
   ]
  },
  {
   "attachments": {},
   "cell_type": "markdown",
   "metadata": {
    "dotnet_interactive": {
     "language": "javascript"
    },
    "polyglot_notebook": {
     "kernelName": "javascript"
    }
   },
   "source": [
    "<span style=\"color:red\">\n",
    "\n",
    "# 環境構築\n",
    "</span>\n",
    "<span style=\"color:red\">\n",
    "\n",
    "## 1.Symbol SDKの読み込み </span>"
   ]
  },
  {
   "cell_type": "code",
   "execution_count": null,
   "metadata": {
    "dotnet_interactive": {
     "language": "javascript"
    },
    "polyglot_notebook": {
     "kernelName": "javascript"
    },
    "vscode": {
     "languageId": "polyglot-notebook"
    }
   },
   "outputs": [],
   "source": [
    "(script = document.createElement(\"script\")).src = \"https://xembook.github.io/nem2-browserify/symbol-sdk-pack-2.0.3.js\";\n",
    "document.getElementsByTagName(\"head\")[0].appendChild(script);"
   ]
  },
  {
   "attachments": {},
   "cell_type": "markdown",
   "metadata": {
    "dotnet_interactive": {
     "language": "javascript"
    },
    "polyglot_notebook": {
     "kernelName": "javascript"
    }
   },
   "source": [
    "<span style=\"color:red\">\n",
    "\n",
    "## 2.Symbol用の共通設定 </span>"
   ]
  },
  {
   "cell_type": "code",
   "execution_count": null,
   "metadata": {
    "dotnet_interactive": {
     "language": "javascript"
    },
    "polyglot_notebook": {
     "kernelName": "javascript"
    },
    "vscode": {
     "languageId": "polyglot-notebook"
    }
   },
   "outputs": [],
   "source": [
    "NODE = 'https://sym-test-03.opening-line.jp:3001';\n",
    "sym = require(\"/node_modules/symbol-sdk\");\n",
    "repo = new sym.RepositoryFactoryHttp(NODE);\n",
    "txRepo = repo.createTransactionRepository();\n",
    "mosaicRepo = repo.createMosaicRepository();\n",
    "accountRepo = repo.createAccountRepository();\n",
    "(async () => {\n",
    "  networkType = await repo.getNetworkType().toPromise();\n",
    "  generationHash = await repo.getGenerationHash().toPromise();\n",
    "  epochAdjustment = await repo.getEpochAdjustment().toPromise();\n",
    "})();\n",
    "\n",
    "function clog(signedTx){\n",
    "    console.log(NODE + \"/transactionStatus/\" + signedTx.hash);\n",
    "    console.log(NODE + \"/transactions/confirmed/\" + signedTx.hash);\n",
    "    console.log(\"https://symbol.fyi/transactions/\" + signedTx.hash);\n",
    "    console.log(\"https://testnet.symbol.fyi/transactions/\" + signedTx.hash);\n",
    "}"
   ]
  },
  {
   "attachments": {},
   "cell_type": "markdown",
   "metadata": {
    "dotnet_interactive": {
     "language": "javascript"
    },
    "polyglot_notebook": {
     "kernelName": "javascript"
    }
   },
   "source": [
    "<span style=\"color:red\">\n",
    "\n",
    "## 3.aliceアカウントのリストア </span>"
   ]
  },
  {
   "cell_type": "code",
   "execution_count": 2,
   "metadata": {
    "dotnet_interactive": {
     "language": "javascript"
    },
    "polyglot_notebook": {
     "kernelName": "javascript"
    },
    "vscode": {
     "languageId": "polyglot-notebook"
    }
   },
   "outputs": [],
   "source": [
    "alice = sym.Account.createFromPrivateKey(\n",
    "    \"1E9139CC1580B4AED6A1FE110085281D4982ED0D89CE07F3380EB83069B1****\", //🌟ここに3章で作成した秘密鍵を入力\n",
    "    networkType\n",
    ");"
   ]
  },
  {
   "attachments": {},
   "cell_type": "markdown",
   "metadata": {
    "dotnet_interactive": {
     "language": "javascript"
    },
    "polyglot_notebook": {
     "kernelName": "javascript"
    }
   },
   "source": [
    "![image](https://user-images.githubusercontent.com/47712051/232868663-dfef36fd-ce36-4631-bf3e-d0d3d8b454f6.png)"
   ]
  },
  {
   "attachments": {},
   "cell_type": "markdown",
   "metadata": {
    "dotnet_interactive": {
     "language": "javascript"
    },
    "polyglot_notebook": {
     "kernelName": "javascript"
    }
   },
   "source": [
    "# 4.トランザクション\n",
    "ブロックチェーン上のデータ更新はトランザクションをネットワークにアナウンスすることによって行います。\n",
    "\n",
    "## 4.1 トランザクションのライフサイクル\n",
    "\n",
    "トランザクションを作成してから、改ざんが困難なデータとなるまでを順に説明します。\n",
    "\n",
    "- トランザクション作成\n",
    "  - ブロックチェーンが受理できるフォーマットでトランザクションを作成します。\n",
    "- 署名\n",
    "  - アカウントの秘密鍵でトランザクションを署名します。\n",
    "- アナウンス\n",
    "  - 任意のノードに署名済みトランザクションを通知します。\n",
    "- 未承認トランザクション\n",
    "  - ノードに受理されたトランザクションは、未承認トランザクションとして全ノードに伝播します\n",
    "    - トランザクションに設定した最大手数料が、各ノード毎に設定されている最低手数料を満たさない場合はそのノードへは伝播しません。\n",
    "- 承認済みトランザクション\n",
    "  - 約30秒に1度ごとに生成されるブロックに未承認トランザクションが取り込まれると、承認済みトランザクションとなります。\n",
    "- ロールバック\n",
    "  - ノード間の合意に達することができずロールバックされたブロックに含まれていたトランザクションは、未承認トランザクションに差し戻されます。\n",
    "    - 有効期限切れや、キャッシュからあふれたトランザクションは切り捨てられます。\n",
    "- ファイナライズ\n",
    "  - 投票ノードによるファイナライズプロセスによりブロックが確定するとトランザクションはロールバック不可なデータとして扱うことができます。\n",
    "\n",
    "### ブロックとは\n",
    "\n",
    "ブロックは約30秒ごとに生成され、高い手数料を支払ったトランザクションから優先に取り込まれ、ブロック単位で他のノードと同期します。\n",
    "同期に失敗するとロールバックして、ネットワークが全体で合意が取れるまでこの作業を繰り返します。\n",
    "\n",
    "## 4.2 トランザクション作成\n",
    "\n",
    "まずは最も基本的な転送トランザクションを作成してみます。\n",
    "\n",
    "### Bobへの転送トランザクション\n",
    "\n",
    "送信先のBobアドレスを作成しておきます。"
   ]
  },
  {
   "cell_type": "code",
   "execution_count": 3,
   "metadata": {
    "dotnet_interactive": {
     "language": "javascript"
    },
    "polyglot_notebook": {
     "kernelName": "javascript"
    },
    "vscode": {
     "languageId": "polyglot-notebook"
    }
   },
   "outputs": [
    {
     "data": {
      "application/json": {
       "address": "TBW4TPHD5NI5YHIFQ7RTVPQSQVTE7SHBXDHBDTY",
       "networkType": 152
      }
     },
     "metadata": {},
     "output_type": "display_data"
    }
   ],
   "source": [
    "bob = sym.Account.generateNewAccount(networkType);\n",
    "console.log(bob.address);"
   ]
  },
  {
   "attachments": {},
   "cell_type": "markdown",
   "metadata": {
    "dotnet_interactive": {
     "language": "javascript"
    },
    "polyglot_notebook": {
     "kernelName": "javascript"
    }
   },
   "source": [
    "トランザクションを作成します。\n"
   ]
  },
  {
   "cell_type": "code",
   "execution_count": 26,
   "metadata": {
    "dotnet_interactive": {
     "language": "javascript"
    },
    "polyglot_notebook": {
     "kernelName": "javascript"
    },
    "vscode": {
     "languageId": "polyglot-notebook"
    }
   },
   "outputs": [],
   "source": [
    "tx = sym.TransferTransaction.create(\n",
    "    sym.Deadline.create(epochAdjustment), //Deadline:有効期限\n",
    "    sym.Address.createFromRawAddress(\"TDWBA6L3CZ6VTZAZPAISL3RWM5VKMHM6J6IM3LY\"), \n",
    "    [],\n",
    "    sym.PlainMessage.create(\"Hello Symbol!\"), //メッセージ\n",
    "    networkType //テストネット・メインネット区分\n",
    ").setMaxFee(100); //手数料"
   ]
  },
  {
   "attachments": {},
   "cell_type": "markdown",
   "metadata": {
    "dotnet_interactive": {
     "language": "javascript"
    },
    "polyglot_notebook": {
     "kernelName": "javascript"
    }
   },
   "source": [
    "各設定項目について説明します。\n",
    "\n",
    "#### 有効期限\n",
    "sdkではデフォルトで2時間後に設定されます。\n",
    "最大6時間まで指定可能です。\n",
    "```js\n",
    "sym.Deadline.create(epochAdjustment,6)\n",
    "```\n",
    "\n",
    "#### メッセージ\n",
    "トランザクションに最大1023バイトのメッセージを添付することができます。\n",
    "バイナリデータであってもrawdataとして送信することが可能です。\n",
    "\n",
    "##### 空メッセージ\n",
    "```js\n",
    "sym.EmptyMessage\n",
    "```\n",
    "\n",
    "##### 平文メッセージ\n",
    "```js\n",
    "sym.PlainMessage.create(\"Hello Symbol!\")\n",
    "```\n",
    "\n",
    "##### 暗号文メッセージ\n",
    "```js\n",
    "sym.EncryptedMessage('294C8979156C0D941270BAC191F7C689E93371EDBC36ADD8B920CF494012A97BA2D1A3759F9A6D55D5957E9D');\n",
    "```\n",
    "\n",
    "EncryptedMessageを使用すると、「指定したメッセージが暗号化されています」という意味のフラグ（目印）がつきます。\n",
    "エクスプローラーやウォレットはそのフラグを参考にメッセージを無用にデコードしなかったり、非表示にしたりなどの処理を行います。\n",
    "このメソッドが暗号化をするわけではありません。\n",
    "\n",
    "##### 生データ\n",
    "```js\n",
    "sym.RawMessage.create(uint8Arrays[i])\n",
    "```\n",
    "\n",
    "#### 最大手数料\n",
    "\n",
    "ネットワーク手数料については、常に少し多めに払っておけば問題はないのですが、最低限の知識は持っておく必要があります。\n",
    "アカウントはトランザクションを作成するときに、ここまでは手数料として払ってもいいという最大手数料を指定します。\n",
    "一方で、ノードはその時々で最も高い手数料となるトランザクションのみブロックにまとめて収穫しようとします。\n",
    "つまり、多く払ってもいいというトランザクションが他に多く存在すると承認されるまでの時間が長くなります。\n",
    "逆に、より少なく払いたいというトランザクションが多く存在し、その総額が大きい場合は、設定した最大額に満たない手数料額で送信が実現します。\n",
    "\n",
    "トランザクションサイズ x feeMultiprilerというもので決定されます。\n",
    "176バイトだった場合 maxFee を100で設定すると 17600μXYM = 0.0176XYMを手数料として支払うことを許容します。\n",
    "feeMultiprier = 100として指定する方法とmaxFee = 17600 として指定する方法があります。\n",
    "\n",
    "##### feeMultiprier = 100として指定する方法\n",
    "```js\n",
    "tx = sym.TransferTransaction.create(\n",
    "  ,,,,\n",
    "  networkType\n",
    ").setMaxFee(100);\n",
    "```\n",
    "\n",
    "##### maxFee = 17600 として指定する方法\n",
    "```js\n",
    "tx = sym.TransferTransaction.create(\n",
    "  ,,,,\n",
    "  networkType,\n",
    "  sym.UInt64.fromUint(17600)\n",
    ");\n",
    "```\n",
    "\n",
    "本書では以後、feeMultiprier = 100として指定する方法で統一して説明します。\n",
    "\n",
    "## 4.3 署名とアナウンス\n",
    "\n",
    "作成したトランザクションを秘密鍵で署名して、任意のノードを通じてアナウンスします。\n",
    "\n",
    "### 署名"
   ]
  },
  {
   "cell_type": "code",
   "execution_count": 27,
   "metadata": {
    "dotnet_interactive": {
     "language": "javascript"
    },
    "polyglot_notebook": {
     "kernelName": "javascript"
    },
    "vscode": {
     "languageId": "polyglot-notebook"
    }
   },
   "outputs": [
    {
     "data": {
      "text/plain": [
       "{\n",
       "  \"payload\": \"AE0000000000000090C52C0269B6D2FB21728A17043DB645BB78B218F965C8506C91C8F4EFA987E38BE657C91A63132667620208E274EDA447A2A5F9C9D8611C23D42F341DDA9E0070B0C6BDB2C291F1F30D9DA6CF7D1C6DBF54588285B040ADD762EACD853EE4E90000000001985441F843000000000000B5BA3D660300000098EC10797B167D59E419781125EE36676AA61D9E4F90CDAF0E000000000000000048656C6C6F2053796D626F6C21\",\n",
       "  \"hash\": \"FEDDEDCA1C83A2C48E37CD235BEF5536C96CF3472B0C5D93FF75DFDFB5FDD277\",\n",
       "  \"signerPublicKey\": \"70B0C6BDB2C291F1F30D9DA6CF7D1C6DBF54588285B040ADD762EACD853EE4E9\",\n",
       "  \"type\": 16724,\n",
       "  \"networkType\": 152\n",
       "}"
      ]
     },
     "metadata": {},
     "output_type": "display_data"
    }
   ],
   "source": [
    "signedTx = alice.sign(tx,generationHash);\n",
    "console.log(JSON.stringify(signedTx,null,2));"
   ]
  },
  {
   "attachments": {},
   "cell_type": "markdown",
   "metadata": {
    "dotnet_interactive": {
     "language": "javascript"
    },
    "polyglot_notebook": {
     "kernelName": "javascript"
    }
   },
   "source": [
    "トランザクションの署名にはAccountクラスとgenerationHash値が必要です。\n",
    "\n",
    "generationHash\n",
    "- テストネット\n",
    "    - 7FCCD304802016BEBBCD342A332F91FF1F3BB5E902988B352697BE245F48E836\n",
    "- メインネット\n",
    "    - 57F7DA205008026C776CB6AED843393F04CD458E0AA2D9F1D5F31A402072B2D6\n",
    "\n",
    "generationHash値はそのブロックチェーンネットワークを一意に識別するための値です。\n",
    "同じ秘密鍵をもつ他のネットワークに使いまわされないようにそのネットワーク個別のハッシュ値を織り交ぜて署名済みトランザクションを作成します。\n",
    "\n",
    "### アナウンス"
   ]
  },
  {
   "cell_type": "code",
   "execution_count": 28,
   "metadata": {
    "dotnet_interactive": {
     "language": "javascript"
    },
    "polyglot_notebook": {
     "kernelName": "javascript"
    },
    "vscode": {
     "languageId": "polyglot-notebook"
    }
   },
   "outputs": [
    {
     "data": {
      "application/json": {
       "message": "packet 9 was pushed to the network via /transactions"
      }
     },
     "metadata": {},
     "output_type": "display_data"
    }
   ],
   "source": [
    "res = await txRepo.announce(signedTx).toPromise();\n",
    "console.log(res);"
   ]
  },
  {
   "attachments": {},
   "cell_type": "markdown",
   "metadata": {
    "dotnet_interactive": {
     "language": "javascript"
    },
    "polyglot_notebook": {
     "kernelName": "javascript"
    }
   },
   "source": [
    "```js\n",
    "> TransactionAnnounceResponse {message: 'packet 9 was pushed to the network via /transactions'}\n",
    "```\n",
    "\n",
    "上記のスクリプトのように `packet n was pushed to the network` というレスポンスがあれば、トランザクションはノードに受理されたことになります。\n",
    "これはトランザクションのフォーマット等に異常が無かった程度の意味しかありません。\n",
    "Symbolではノードの応答速度を極限に高めるため、トランザクションの内容を検証するまえに受信結果の応答を返し接続を切断します。\n",
    "レスポンス値はこの情報を受け取ったにすぎません。フォーマットに異常があった場合は以下のようなメッセージ応答があります。\n",
    "\n",
    "##### アナウンスに失敗した場合の応答例\n",
    "```js\n",
    "Uncaught Error: {\"statusCode\":409,\"statusMessage\":\"Unknown Error\",\"body\":\"{\\\"code\\\":\\\"InvalidArgument\\\",\\\"message\\\":\\\"payload has an invalid format\\\"}\"}\n",
    "```\n",
    "\n",
    "## 4.4 確認\n",
    "\n",
    "\n",
    "### ステータスの確認\n",
    "\n",
    "ノードに受理されたトランザクションのステータスを確認"
   ]
  },
  {
   "cell_type": "code",
   "execution_count": 10,
   "metadata": {
    "dotnet_interactive": {
     "language": "javascript"
    },
    "polyglot_notebook": {
     "kernelName": "javascript"
    },
    "vscode": {
     "languageId": "polyglot-notebook"
    }
   },
   "outputs": [
    {
     "data": {
      "text/plain": [
       "{\n",
       "  \"group\": \"confirmed\",\n",
       "  \"hash\": \"8BAD4B9E21212A5C1F5F3BA5F77CC0EE0AFCE5783D880DE788C14626E2A4E439\",\n",
       "  \"deadline\": {\n",
       "    \"adjustedValue\": 14599021233\n",
       "  },\n",
       "  \"code\": \"Success\",\n",
       "  \"height\": {\n",
       "    \"lower\": 391307,\n",
       "    \"higher\": 0\n",
       "  }\n",
       "}"
      ]
     },
     "metadata": {},
     "output_type": "display_data"
    }
   ],
   "source": [
    "tsRepo = repo.createTransactionStatusRepository();\n",
    "transactionStatus = await tsRepo.getTransactionStatus(signedTx.hash).toPromise();\n",
    "console.log(JSON.stringify(transactionStatus,null,2));"
   ]
  },
  {
   "attachments": {},
   "cell_type": "markdown",
   "metadata": {
    "dotnet_interactive": {
     "language": "javascript"
    },
    "polyglot_notebook": {
     "kernelName": "javascript"
    }
   },
   "source": [
    "###### 出力例\n",
    "```js\n",
    "> TransactionStatus\n",
    "    group: \"confirmed\"\n",
    "    code: \"Success\"\n",
    "    deadline: Deadline {adjustedValue: 11989512431}\n",
    "    hash: \"661360E61C37E156B0BE18E52C9F3ED1022DCE846A4609D72DF9FA8A5B667747\"\n",
    "    height: undefined\n",
    "```\n",
    "\n",
    "承認されると ` group: \"confirmed\"`となっています。\n",
    "\n",
    "受理されたものの、エラーが発生していた場合は以下のような出力となります。トランザクションを書き直して再度アナウンスしてみてください。\n",
    "\n",
    "```js\n",
    "> TransactionStatus\n",
    "    group: \"failed\"\n",
    "    code: \"Failure_Core_Insufficient_Balance\"\n",
    "    deadline: Deadline {adjustedValue: 11990156766}\n",
    "    hash: \"A82507C6C46DF444E36AC94391EA2D0D7DD1A218948DED465A7A4F9D1B53CA0E\"\n",
    "    height: undefined\n",
    "```\n",
    "\n",
    "以下のようにResourceNotFoundエラーが発生した場合はトランザクションが受理されていません。\n",
    "```js\n",
    "Uncaught Error: {\"statusCode\":404,\"statusMessage\":\"Unknown Error\",\"body\":\"{\\\"code\\\":\\\"ResourceNotFound\\\",\\\"message\\\":\\\"no resource exists with id '18AEBC9866CD1C15270F18738D577CB1BD4B2DF3EFB28F270B528E3FE583F42D'\\\"}\"}\n",
    "```\n",
    "\n",
    "考えられる可能性としては、トランザクションで指定した最大手数料が、ノードで設定された最低手数料に満たない場合や、\n",
    "アグリゲートトランザクションとしてアナウンスすることが求められているトランザクションを単体のトランザクションでアナウンスした場合に発生するようです。\n",
    "\n",
    "### 承認確認\n",
    "\n",
    "トランザクションがブロックに承認されるまでに30秒程度かかります。\n",
    "\n",
    "#### エクスプローラーで確認\n",
    "signedTx.hash で取得できるハッシュ値を使ってエクスプローラーで検索してみましょう。\n"
   ]
  },
  {
   "cell_type": "code",
   "execution_count": 13,
   "metadata": {
    "dotnet_interactive": {
     "language": "javascript"
    },
    "polyglot_notebook": {
     "kernelName": "javascript"
    },
    "vscode": {
     "languageId": "polyglot-notebook"
    }
   },
   "outputs": [
    {
     "data": {
      "text/plain": [
       "8BAD4B9E21212A5C1F5F3BA5F77CC0EE0AFCE5783D880DE788C14626E2A4E439"
      ]
     },
     "metadata": {},
     "output_type": "display_data"
    },
    {
     "data": {
      "text/plain": [
       "https://testnet.symbol.fyi/transactions/8BAD4B9E21212A5C1F5F3BA5F77CC0EE0AFCE5783D880DE788C14626E2A4E439"
      ]
     },
     "metadata": {},
     "output_type": "display_data"
    }
   ],
   "source": [
    "console.log(signedTx.hash);\n",
    "console.log(`https://testnet.symbol.fyi/transactions/${signedTx.hash}`)"
   ]
  },
  {
   "attachments": {},
   "cell_type": "markdown",
   "metadata": {
    "dotnet_interactive": {
     "language": "javascript"
    },
    "polyglot_notebook": {
     "kernelName": "javascript"
    }
   },
   "source": [
    "```js\n",
    "> \"661360E61C37E156B0BE18E52C9F3ED1022DCE846A4609D72DF9FA8A5B667747\"\n",
    "```\n",
    "\n",
    "- メインネット　\n",
    "  - https://symbol.fyi/transactions/661360E61C37E156B0BE18E52C9F3ED1022DCE846A4609D72DF9FA8A5B667747\n",
    "- テストネット　\n",
    "  - https://testnet.symbol.fyi/transactions/661360E61C37E156B0BE18E52C9F3ED1022DCE846A4609D72DF9FA8A5B667747\n",
    "\n",
    "#### SDKで確認"
   ]
  },
  {
   "cell_type": "code",
   "execution_count": 70,
   "metadata": {
    "dotnet_interactive": {
     "language": "javascript"
    },
    "polyglot_notebook": {
     "kernelName": "javascript"
    },
    "vscode": {
     "languageId": "polyglot-notebook"
    }
   },
   "outputs": [
    {
     "data": {
      "text/plain": [
       "{\n",
       "  \"transaction\": {\n",
       "    \"type\": 16724,\n",
       "    \"network\": 152,\n",
       "    \"version\": 1,\n",
       "    \"maxFee\": \"17400\",\n",
       "    \"deadline\": \"14600223413\",\n",
       "    \"signature\": \"90C52C0269B6D2FB21728A17043DB645BB78B218F965C8506C91C8F4EFA987E38BE657C91A63132667620208E274EDA447A2A5F9C9D8611C23D42F341DDA9E00\",\n",
       "    \"signerPublicKey\": \"70B0C6BDB2C291F1F30D9DA6CF7D1C6DBF54588285B040ADD762EACD853EE4E9\",\n",
       "    \"recipientAddress\": {\n",
       "      \"address\": \"TDWBA6L3CZ6VTZAZPAISL3RWM5VKMHM6J6IM3LY\",\n",
       "      \"networkType\": 152\n",
       "    },\n",
       "    \"mosaics\": [],\n",
       "    \"message\": \"0048656C6C6F2053796D626F6C21\"\n",
       "  }\n",
       "}"
      ]
     },
     "metadata": {},
     "output_type": "display_data"
    },
    {
     "data": {
      "text/plain": [
       "{\n",
       "  \"height\": {\n",
       "    \"lower\": 391338,\n",
       "    \"higher\": 0\n",
       "  },\n",
       "  \"index\": 2,\n",
       "  \"id\": \"643EE54557F5E76C38318DBC\",\n",
       "  \"timestamp\": {\n",
       "    \"lower\": 1708155896,\n",
       "    \"higher\": 3\n",
       "  },\n",
       "  \"feeMultiplier\": 100,\n",
       "  \"hash\": \"FEDDEDCA1C83A2C48E37CD235BEF5536C96CF3472B0C5D93FF75DFDFB5FDD277\",\n",
       "  \"merkleComponentHash\": \"FEDDEDCA1C83A2C48E37CD235BEF5536C96CF3472B0C5D93FF75DFDFB5FDD277\"\n",
       "}"
      ]
     },
     "metadata": {},
     "output_type": "display_data"
    }
   ],
   "source": [
    "txInfo = await txRepo.getTransaction(signedTx.hash,sym.TransactionGroup.Confirmed).toPromise();\n",
    "console.log(JSON.stringify(txInfo,null,2));\n",
    "console.log(JSON.stringify(txInfo.transactionInfo,null,2));"
   ]
  },
  {
   "attachments": {},
   "cell_type": "markdown",
   "metadata": {},
   "source": [
    "###### 出力例\n",
    "```js\n",
    "> TransferTransaction\n",
    "    deadline: Deadline {adjustedValue: 12883929118}\n",
    "    maxFee: UInt64 {lower: 17400, higher: 0}\n",
    "    message: PlainMessage {type: 0, payload: 'Hello Symbol!'}\n",
    "    mosaics: []\n",
    "    networkType: 152\n",
    "    payloadSize: 174\n",
    "    recipientAddress: Address {address: 'TDWBA6L3CZ6VTZAZPAISL3RWM5VKMHM6J6IM3LY', networkType: 152}\n",
    "    signature: \"7A3562DCD7FEE4EE9CB456E48EFEEC687647119DC053DE63581FD46CA9D16A829FA421B39179AABBF4DE0C1D987B58490E3F95C37327358E6E461832E3B3A60D\"\n",
    "    signer: PublicAccount {publicKey: '0E5C72B0D5946C1EFEE7E5317C5985F106B739BB0BC07E4F9A288417B3CD6D26', address: Address}\n",
    "  > transactionInfo: TransactionInfo\n",
    "        hash: \"DA4B672E68E6561EAE560FB89B144AFE1EF75D2BE0D9B6755D90388F8BCC4709\"\n",
    "        height: UInt64 {lower: 330012, higher: 0}\n",
    "        id: \"626413050A21EB5CD286E17D\"\n",
    "        index: 1\n",
    "        merkleComponentHash: \"DA4B672E68E6561EAE560FB89B144AFE1EF75D2BE0D9B6755D90388F8BCC4709\"\n",
    "    type: 16724\n",
    "    version: 1\n",
    "```\n",
    "##### 注意点\n",
    "\n",
    "トランザクションはブロックで承認されたとしても、ロールバックが発生するとトランザクションの承認が取り消される場合があります。\n",
    "ブロックが承認された後、数ブロックの承認が進むと、ロールバックの発生する確率は減少していきます。\n",
    "また、Votingノードの投票で実施されるファイナライズブロックを待つことで、記録されたデータは確実なものとなります。\n",
    "\n",
    "##### スクリプト例\n",
    "トランザクションをアナウンスした後は以下のようなスクリプトを流すと、チェーンの状態を把握しやすくて便利です。"
   ]
  },
  {
   "cell_type": "code",
   "execution_count": 71,
   "metadata": {
    "dotnet_interactive": {
     "language": "javascript"
    },
    "polyglot_notebook": {
     "kernelName": "javascript"
    },
    "vscode": {
     "languageId": "polyglot-notebook"
    }
   },
   "outputs": [
    {
     "data": {
      "application/json": {
       "code": "Success",
       "deadline": {
        "adjustedValue": 14600223413
       },
       "group": "confirmed",
       "hash": "FEDDEDCA1C83A2C48E37CD235BEF5536C96CF3472B0C5D93FF75DFDFB5FDD277",
       "height": {
        "higher": 0,
        "lower": 391338
       }
      }
     },
     "metadata": {},
     "output_type": "display_data"
    },
    {
     "data": {
      "application/json": {
       "transaction": {
        "deadline": "14600223413",
        "maxFee": "17400",
        "message": "0048656C6C6F2053796D626F6C21",
        "mosaics": [],
        "network": 152,
        "recipientAddress": {
         "address": "TDWBA6L3CZ6VTZAZPAISL3RWM5VKMHM6J6IM3LY",
         "networkType": 152
        },
        "signature": "90C52C0269B6D2FB21728A17043DB645BB78B218F965C8506C91C8F4EFA987E38BE657C91A63132667620208E274EDA447A2A5F9C9D8611C23D42F341DDA9E00",
        "signerPublicKey": "70B0C6BDB2C291F1F30D9DA6CF7D1C6DBF54588285B040ADD762EACD853EE4E9",
        "type": 16724,
        "version": 1
       }
      }
     },
     "metadata": {},
     "output_type": "display_data"
    },
    {
     "data": {
      "application/json": {
       "feeMultiplier": 100,
       "hash": "FEDDEDCA1C83A2C48E37CD235BEF5536C96CF3472B0C5D93FF75DFDFB5FDD277",
       "height": {
        "higher": 0,
        "lower": 391338
       },
       "id": "643EE54557F5E76C38318DBC",
       "index": 2,
       "merkleComponentHash": "FEDDEDCA1C83A2C48E37CD235BEF5536C96CF3472B0C5D93FF75DFDFB5FDD277",
       "timestamp": {
        "higher": 3,
        "lower": 1708155896
       }
      }
     },
     "metadata": {},
     "output_type": "display_data"
    }
   ],
   "source": [
    "hash = signedTx.hash;\n",
    "tsRepo = repo.createTransactionStatusRepository();\n",
    "transactionStatus = await tsRepo.getTransactionStatus(hash).toPromise();\n",
    "console.log(transactionStatus);\n",
    "txInfo = await txRepo.getTransaction(hash,sym.TransactionGroup.Confirmed).toPromise();\n",
    "console.log(txInfo);"
   ]
  },
  {
   "attachments": {},
   "cell_type": "markdown",
   "metadata": {
    "dotnet_interactive": {
     "language": "javascript"
    },
    "polyglot_notebook": {
     "kernelName": "javascript"
    }
   },
   "source": [
    "## 4.5トランザクション履歴\n",
    "\n",
    "Aliceが送受信したトランザクション履歴を一覧で取得します。"
   ]
  },
  {
   "cell_type": "code",
   "execution_count": 72,
   "metadata": {
    "dotnet_interactive": {
     "language": "javascript"
    },
    "polyglot_notebook": {
     "kernelName": "javascript"
    },
    "vscode": {
     "languageId": "polyglot-notebook"
    }
   },
   "outputs": [
    {
     "data": {
      "text/plain": [
       "{\n",
       "  \"transaction\": {\n",
       "    \"type\": 16724,\n",
       "    \"network\": 152,\n",
       "    \"version\": 1,\n",
       "    \"maxFee\": \"200000000\",\n",
       "    \"deadline\": \"14598730739\",\n",
       "    \"signature\": \"0C7AD8B9C88C704B3FE60D65BBA7D1568BB11DA19A16B0E8B5A8A34729F6CFC973455B045B21ACA9566E2B7FFADFCE09152322F33AEB399FC2AB8499F7F34809\",\n",
       "    \"signerPublicKey\": \"81EA7C15E7EC06261C9F654F54EAC4748CFCF00E09A8FE47779ACD14A7602004\",\n",
       "    \"recipientAddress\": {\n",
       "      \"address\": \"TAOP6YRVWUH6VMBAZASNLYHL2SEU7DLALXJN7EY\",\n",
       "      \"networkType\": 152\n",
       "    },\n",
       "    \"mosaics\": [\n",
       "      {\n",
       "        \"amount\": \"1000000000\",\n",
       "        \"id\": \"72C0212E67A08BCE\"\n",
       "      }\n",
       "    ]\n",
       "  }\n",
       "}"
      ]
     },
     "metadata": {},
     "output_type": "display_data"
    },
    {
     "data": {
      "text/plain": [
       "{\n",
       "  \"height\": {\n",
       "    \"lower\": 391290,\n",
       "    \"higher\": 0\n",
       "  },\n",
       "  \"index\": 0,\n",
       "  \"id\": \"643EDF5457F5E76C38318D4E\",\n",
       "  \"timestamp\": {\n",
       "    \"lower\": 1706635488,\n",
       "    \"higher\": 3\n",
       "  },\n",
       "  \"feeMultiplier\": 1136363,\n",
       "  \"hash\": \"20C75E64F95E1216D5B9A500F47E22B1D765704BB481AD46C609C099F8ECCED4\",\n",
       "  \"merkleComponentHash\": \"20C75E64F95E1216D5B9A500F47E22B1D765704BB481AD46C609C099F8ECCED4\"\n",
       "}"
      ]
     },
     "metadata": {},
     "output_type": "display_data"
    },
    {
     "data": {
      "text/plain": [
       "{\n",
       "  \"transaction\": {\n",
       "    \"type\": 16724,\n",
       "    \"network\": 152,\n",
       "    \"version\": 1,\n",
       "    \"maxFee\": \"17400\",\n",
       "    \"deadline\": \"14599021231\",\n",
       "    \"signature\": \"4A49D829D12DF1AF9B0991679DB7D5457A8FB8074A32229DD449405F29E1F53828FE19D66FB469606B8E3692D11B080FD4A12CD13D143602C3DC47AB2A3F600B\",\n",
       "    \"signerPublicKey\": \"70B0C6BDB2C291F1F30D9DA6CF7D1C6DBF54588285B040ADD762EACD853EE4E9\",\n",
       "    \"recipientAddress\": {\n",
       "      \"address\": \"TDWBA6L3CZ6VTZAZPAISL3RWM5VKMHM6J6IM3LY\",\n",
       "      \"networkType\": 152\n",
       "    },\n",
       "    \"mosaics\": [],\n",
       "    \"message\": \"0048656C6C6F2053796D626F6C21\"\n",
       "  }\n",
       "}"
      ]
     },
     "metadata": {},
     "output_type": "display_data"
    },
    {
     "data": {
      "text/plain": [
       "{\n",
       "  \"height\": {\n",
       "    \"lower\": 391307,\n",
       "    \"higher\": 0\n",
       "  },\n",
       "  \"index\": 0,\n",
       "  \"id\": \"643EE17B57F5E76C38318D75\",\n",
       "  \"timestamp\": {\n",
       "    \"lower\": 1707186467,\n",
       "    \"higher\": 3\n",
       "  },\n",
       "  \"feeMultiplier\": 100,\n",
       "  \"hash\": \"C58BF13FAE8D02D090D8D16FADAAFC922C264DCD801477F966505F3B074B0BBB\",\n",
       "  \"merkleComponentHash\": \"C58BF13FAE8D02D090D8D16FADAAFC922C264DCD801477F966505F3B074B0BBB\"\n",
       "}"
      ]
     },
     "metadata": {},
     "output_type": "display_data"
    },
    {
     "data": {
      "text/plain": [
       "{\n",
       "  \"transaction\": {\n",
       "    \"type\": 16724,\n",
       "    \"network\": 152,\n",
       "    \"version\": 1,\n",
       "    \"maxFee\": \"17400\",\n",
       "    \"deadline\": \"14599021225\",\n",
       "    \"signature\": \"57C6205A8012320468BBCFD84036707195C42A944F3A70DC8D40E42D56D870733B6E8CDD04ABB3E4B07D2F1879A8BA138021EF2683479CB1CF371866BDCD850D\",\n",
       "    \"signerPublicKey\": \"70B0C6BDB2C291F1F30D9DA6CF7D1C6DBF54588285B040ADD762EACD853EE4E9\",\n",
       "    \"recipientAddress\": {\n",
       "      \"address\": \"TDWBA6L3CZ6VTZAZPAISL3RWM5VKMHM6J6IM3LY\",\n",
       "      \"networkType\": 152\n",
       "    },\n",
       "    \"mosaics\": [],\n",
       "    \"message\": \"0048656C6C6F2053796D626F6C21\"\n",
       "  }\n",
       "}"
      ]
     },
     "metadata": {},
     "output_type": "display_data"
    },
    {
     "data": {
      "text/plain": [
       "{\n",
       "  \"height\": {\n",
       "    \"lower\": 391307,\n",
       "    \"higher\": 0\n",
       "  },\n",
       "  \"index\": 1,\n",
       "  \"id\": \"643EE17B57F5E76C38318D76\",\n",
       "  \"timestamp\": {\n",
       "    \"lower\": 1707186467,\n",
       "    \"higher\": 3\n",
       "  },\n",
       "  \"feeMultiplier\": 100,\n",
       "  \"hash\": \"9AB6E7924ABA9C8C823B4450FB1845BAB4BA7887BFE8822DA208A4D2E902C63B\",\n",
       "  \"merkleComponentHash\": \"9AB6E7924ABA9C8C823B4450FB1845BAB4BA7887BFE8822DA208A4D2E902C63B\"\n",
       "}"
      ]
     },
     "metadata": {},
     "output_type": "display_data"
    },
    {
     "data": {
      "text/plain": [
       "{\n",
       "  \"transaction\": {\n",
       "    \"type\": 16724,\n",
       "    \"network\": 152,\n",
       "    \"version\": 1,\n",
       "    \"maxFee\": \"17400\",\n",
       "    \"deadline\": \"14599021233\",\n",
       "    \"signature\": \"5D6D4ECA3CE538C203CFBAFABD9E8BB3CCAE8345CB820B5E84B2266129269A317D376659DC2522E37FFF86A0BF88EB3A51B18DC0A3CFEB78FC4BE2BB57D3730E\",\n",
       "    \"signerPublicKey\": \"70B0C6BDB2C291F1F30D9DA6CF7D1C6DBF54588285B040ADD762EACD853EE4E9\",\n",
       "    \"recipientAddress\": {\n",
       "      \"address\": \"TDWBA6L3CZ6VTZAZPAISL3RWM5VKMHM6J6IM3LY\",\n",
       "      \"networkType\": 152\n",
       "    },\n",
       "    \"mosaics\": [],\n",
       "    \"message\": \"0048656C6C6F2053796D626F6C21\"\n",
       "  }\n",
       "}"
      ]
     },
     "metadata": {},
     "output_type": "display_data"
    },
    {
     "data": {
      "text/plain": [
       "{\n",
       "  \"height\": {\n",
       "    \"lower\": 391307,\n",
       "    \"higher\": 0\n",
       "  },\n",
       "  \"index\": 2,\n",
       "  \"id\": \"643EE17B57F5E76C38318D77\",\n",
       "  \"timestamp\": {\n",
       "    \"lower\": 1707186467,\n",
       "    \"higher\": 3\n",
       "  },\n",
       "  \"feeMultiplier\": 100,\n",
       "  \"hash\": \"8BAD4B9E21212A5C1F5F3BA5F77CC0EE0AFCE5783D880DE788C14626E2A4E439\",\n",
       "  \"merkleComponentHash\": \"8BAD4B9E21212A5C1F5F3BA5F77CC0EE0AFCE5783D880DE788C14626E2A4E439\"\n",
       "}"
      ]
     },
     "metadata": {},
     "output_type": "display_data"
    },
    {
     "data": {
      "text/plain": [
       "{\n",
       "  \"transaction\": {\n",
       "    \"type\": 16724,\n",
       "    \"network\": 152,\n",
       "    \"version\": 1,\n",
       "    \"maxFee\": \"17400\",\n",
       "    \"deadline\": \"14599021230\",\n",
       "    \"signature\": \"66E39FE15BEC9C995C2936468CB4F9C4E76D2D5CDC0C2BC7E73E383C9C73428104A6F17E2BBB564FE079A367C5D251D174C97286DD350197D18990D0C48CFE05\",\n",
       "    \"signerPublicKey\": \"70B0C6BDB2C291F1F30D9DA6CF7D1C6DBF54588285B040ADD762EACD853EE4E9\",\n",
       "    \"recipientAddress\": {\n",
       "      \"address\": \"TDWBA6L3CZ6VTZAZPAISL3RWM5VKMHM6J6IM3LY\",\n",
       "      \"networkType\": 152\n",
       "    },\n",
       "    \"mosaics\": [],\n",
       "    \"message\": \"0048656C6C6F2053796D626F6C21\"\n",
       "  }\n",
       "}"
      ]
     },
     "metadata": {},
     "output_type": "display_data"
    },
    {
     "data": {
      "text/plain": [
       "{\n",
       "  \"height\": {\n",
       "    \"lower\": 391307,\n",
       "    \"higher\": 0\n",
       "  },\n",
       "  \"index\": 3,\n",
       "  \"id\": \"643EE17B57F5E76C38318D78\",\n",
       "  \"timestamp\": {\n",
       "    \"lower\": 1707186467,\n",
       "    \"higher\": 3\n",
       "  },\n",
       "  \"feeMultiplier\": 100,\n",
       "  \"hash\": \"8A493717441BE38D9F96FCFC2BBFEE36E292BFCFC47F1D7D63BCCBBB04759F43\",\n",
       "  \"merkleComponentHash\": \"8A493717441BE38D9F96FCFC2BBFEE36E292BFCFC47F1D7D63BCCBBB04759F43\"\n",
       "}"
      ]
     },
     "metadata": {},
     "output_type": "display_data"
    },
    {
     "data": {
      "text/plain": [
       "{\n",
       "  \"transaction\": {\n",
       "    \"type\": 16724,\n",
       "    \"network\": 152,\n",
       "    \"version\": 1,\n",
       "    \"maxFee\": \"17400\",\n",
       "    \"deadline\": \"14600223406\",\n",
       "    \"signature\": \"7D493FB4DC6958C5BA3AAB80D5ABB7AE3F9B703F81F15641000B0F897DB979EFD06B1E3D963B3AA96FC7F13176281B50A7D449186844D77C77DB846ACABA1508\",\n",
       "    \"signerPublicKey\": \"70B0C6BDB2C291F1F30D9DA6CF7D1C6DBF54588285B040ADD762EACD853EE4E9\",\n",
       "    \"recipientAddress\": {\n",
       "      \"address\": \"TDWBA6L3CZ6VTZAZPAISL3RWM5VKMHM6J6IM3LY\",\n",
       "      \"networkType\": 152\n",
       "    },\n",
       "    \"mosaics\": [],\n",
       "    \"message\": \"0048656C6C6F2053796D626F6C21\"\n",
       "  }\n",
       "}"
      ]
     },
     "metadata": {},
     "output_type": "display_data"
    },
    {
     "data": {
      "text/plain": [
       "{\n",
       "  \"height\": {\n",
       "    \"lower\": 391338,\n",
       "    \"higher\": 0\n",
       "  },\n",
       "  \"index\": 0,\n",
       "  \"id\": \"643EE54557F5E76C38318DBB\",\n",
       "  \"timestamp\": {\n",
       "    \"lower\": 1708155896,\n",
       "    \"higher\": 3\n",
       "  },\n",
       "  \"feeMultiplier\": 100,\n",
       "  \"hash\": \"E85E46C66CB207E24023D51B9B6F8D8C35F7535BF94EB00307AA44701051FAC1\",\n",
       "  \"merkleComponentHash\": \"E85E46C66CB207E24023D51B9B6F8D8C35F7535BF94EB00307AA44701051FAC1\"\n",
       "}"
      ]
     },
     "metadata": {},
     "output_type": "display_data"
    },
    {
     "data": {
      "text/plain": [
       "{\n",
       "  \"transaction\": {\n",
       "    \"type\": 16724,\n",
       "    \"network\": 152,\n",
       "    \"version\": 1,\n",
       "    \"maxFee\": \"17400\",\n",
       "    \"deadline\": \"14600223413\",\n",
       "    \"signature\": \"90C52C0269B6D2FB21728A17043DB645BB78B218F965C8506C91C8F4EFA987E38BE657C91A63132667620208E274EDA447A2A5F9C9D8611C23D42F341DDA9E00\",\n",
       "    \"signerPublicKey\": \"70B0C6BDB2C291F1F30D9DA6CF7D1C6DBF54588285B040ADD762EACD853EE4E9\",\n",
       "    \"recipientAddress\": {\n",
       "      \"address\": \"TDWBA6L3CZ6VTZAZPAISL3RWM5VKMHM6J6IM3LY\",\n",
       "      \"networkType\": 152\n",
       "    },\n",
       "    \"mosaics\": [],\n",
       "    \"message\": \"0048656C6C6F2053796D626F6C21\"\n",
       "  }\n",
       "}"
      ]
     },
     "metadata": {},
     "output_type": "display_data"
    },
    {
     "data": {
      "text/plain": [
       "{\n",
       "  \"height\": {\n",
       "    \"lower\": 391338,\n",
       "    \"higher\": 0\n",
       "  },\n",
       "  \"index\": 2,\n",
       "  \"id\": \"643EE54557F5E76C38318DBC\",\n",
       "  \"timestamp\": {\n",
       "    \"lower\": 1708155896,\n",
       "    \"higher\": 3\n",
       "  },\n",
       "  \"feeMultiplier\": 100,\n",
       "  \"hash\": \"FEDDEDCA1C83A2C48E37CD235BEF5536C96CF3472B0C5D93FF75DFDFB5FDD277\",\n",
       "  \"merkleComponentHash\": \"FEDDEDCA1C83A2C48E37CD235BEF5536C96CF3472B0C5D93FF75DFDFB5FDD277\"\n",
       "}"
      ]
     },
     "metadata": {},
     "output_type": "display_data"
    },
    {
     "data": {
      "text/plain": [
       "{\n",
       "  \"transaction\": {\n",
       "    \"type\": 16724,\n",
       "    \"network\": 152,\n",
       "    \"version\": 1,\n",
       "    \"maxFee\": \"17400\",\n",
       "    \"deadline\": \"14600223410\",\n",
       "    \"signature\": \"9CEE263AEDFDA1510A9A1B1962288AEB17953AAD3B59A870B4F03C7CA9E5C1608C38076B0E94B806ECD99E86D8ECEE83560837CDA448AAC89F3B65D98A333707\",\n",
       "    \"signerPublicKey\": \"70B0C6BDB2C291F1F30D9DA6CF7D1C6DBF54588285B040ADD762EACD853EE4E9\",\n",
       "    \"recipientAddress\": {\n",
       "      \"address\": \"TDWBA6L3CZ6VTZAZPAISL3RWM5VKMHM6J6IM3LY\",\n",
       "      \"networkType\": 152\n",
       "    },\n",
       "    \"mosaics\": [],\n",
       "    \"message\": \"0048656C6C6F2053796D626F6C21\"\n",
       "  }\n",
       "}"
      ]
     },
     "metadata": {},
     "output_type": "display_data"
    },
    {
     "data": {
      "text/plain": [
       "{\n",
       "  \"height\": {\n",
       "    \"lower\": 391338,\n",
       "    \"higher\": 0\n",
       "  },\n",
       "  \"index\": 1,\n",
       "  \"id\": \"643EE54557F5E76C38318DBD\",\n",
       "  \"timestamp\": {\n",
       "    \"lower\": 1708155896,\n",
       "    \"higher\": 3\n",
       "  },\n",
       "  \"feeMultiplier\": 100,\n",
       "  \"hash\": \"D5567D727874923B365E942258E71E503F8E2A913C3FF87977EDF0F6083F50AD\",\n",
       "  \"merkleComponentHash\": \"D5567D727874923B365E942258E71E503F8E2A913C3FF87977EDF0F6083F50AD\"\n",
       "}"
      ]
     },
     "metadata": {},
     "output_type": "display_data"
    },
    {
     "data": {
      "text/plain": [
       "{\n",
       "  \"transaction\": {\n",
       "    \"type\": 16724,\n",
       "    \"network\": 152,\n",
       "    \"version\": 1,\n",
       "    \"maxFee\": \"17400\",\n",
       "    \"deadline\": \"14600223412\",\n",
       "    \"signature\": \"FADA535AA6D2837DCEBE75E0AD549127B5000655CCE109AB35396C1FFD7E77CCD070D180D18378BAA1943406DCA4ED10000630FABD1EA38674C2EA54697B7F00\",\n",
       "    \"signerPublicKey\": \"70B0C6BDB2C291F1F30D9DA6CF7D1C6DBF54588285B040ADD762EACD853EE4E9\",\n",
       "    \"recipientAddress\": {\n",
       "      \"address\": \"TDWBA6L3CZ6VTZAZPAISL3RWM5VKMHM6J6IM3LY\",\n",
       "      \"networkType\": 152\n",
       "    },\n",
       "    \"mosaics\": [],\n",
       "    \"message\": \"0048656C6C6F2053796D626F6C21\"\n",
       "  }\n",
       "}"
      ]
     },
     "metadata": {},
     "output_type": "display_data"
    },
    {
     "data": {
      "text/plain": [
       "{\n",
       "  \"height\": {\n",
       "    \"lower\": 391338,\n",
       "    \"higher\": 0\n",
       "  },\n",
       "  \"index\": 3,\n",
       "  \"id\": \"643EE54557F5E76C38318DBE\",\n",
       "  \"timestamp\": {\n",
       "    \"lower\": 1708155896,\n",
       "    \"higher\": 3\n",
       "  },\n",
       "  \"feeMultiplier\": 100,\n",
       "  \"hash\": \"68AF5F1FD827737ADF00BC52F48718BC0EFD6549B7C4475D366EE9675793F7BB\",\n",
       "  \"merkleComponentHash\": \"68AF5F1FD827737ADF00BC52F48718BC0EFD6549B7C4475D366EE9675793F7BB\"\n",
       "}"
      ]
     },
     "metadata": {},
     "output_type": "display_data"
    }
   ],
   "source": [
    "result = await txRepo.search(\n",
    "    {\n",
    "      group:sym.TransactionGroup.Confirmed,\n",
    "      embedded:true,\n",
    "      address:alice.address\n",
    "    }\n",
    "  ).toPromise();\n",
    "  txes = result.data;\n",
    "  txes.forEach(tx => {\n",
    "    console.log(JSON.stringify(tx,null,2));\n",
    "    console.log(JSON.stringify(tx.transactionInfo,null,2));\n",
    "  })"
   ]
  },
  {
   "attachments": {},
   "cell_type": "markdown",
   "metadata": {
    "dotnet_interactive": {
     "language": "javascript"
    },
    "polyglot_notebook": {
     "kernelName": "javascript"
    }
   },
   "source": [
    "###### 出力例\n",
    "```js\n",
    "> TransferTransaction\n",
    "    type: 16724\n",
    "    networkType: 152\n",
    "    payloadSize: 176\n",
    "    deadline: Deadline {adjustedValue: 11905303680}\n",
    "    maxFee: UInt64 {lower: 200000000, higher: 0}\n",
    "    recipientAddress: Address {address: 'TBXUTAX6O6EUVPB6X7OBNX6UUXBMPPAFX7KE5TQ', networkType: 152}\n",
    "    signature: \"E5924A1EB653240A7220405A4DD4E221E71E43327B3BA691D267326FEE3F57458E8721907188DB33A3F2A9CB1D0293845B4D0F1D7A93C8A3389262D1603C7108\"\n",
    "    signer: PublicAccount {publicKey: 'BDFAF3B090270920A30460AA943F9D8D4FCFF6741C2CB58798DBF7A2ED6B75AB', address: Address}\n",
    "  > message: RawMessage\n",
    "      payload: \"\"\n",
    "      type: -1\n",
    "  > mosaics: Array(1)\n",
    "      0: Mosaic\n",
    "        amount: UInt64 {lower: 10000000, higher: 0}\n",
    "        id: MosaicId\n",
    "          id: Id {lower: 760461000, higher: 981735131}\n",
    "  > transactionInfo: TransactionInfo\n",
    "      hash: \"308472D34BE1A58B15A83B9684278010F2D69B59E39127518BE38A4D22EEF31D\"\n",
    "      height: UInt64 {lower: 301717, higher: 0}\n",
    "      id: \"6255242053E0E706653116F9\"\n",
    "      index: 0\n",
    "      merkleComponentHash: \"308472D34BE1A58B15A83B9684278010F2D69B59E39127518BE38A4D22EEF31D\"\n",
    "```\n",
    "\n",
    "TransactionTypeは以下の通りです。\n",
    "```js\n",
    "{0: 'RESERVED', 16705: 'AGGREGATE_COMPLETE', 16707: 'VOTING_KEY_LINK', 16708: 'ACCOUNT_METADATA', 16712: 'HASH_LOCK', 16716: 'ACCOUNT_KEY_LINK', 16717: 'MOSAIC_DEFINITION', 16718: 'NAMESPACE_REGISTRATION', 16720: 'ACCOUNT_ADDRESS_RESTRICTION', 16721: 'MOSAIC_GLOBAL_RESTRICTION', 16722: 'SECRET_LOCK', 16724: 'TRANSFER', 16725: 'MULTISIG_ACCOUNT_MODIFICATION', 16961: 'AGGREGATE_BONDED', 16963: 'VRF_KEY_LINK', 16964: 'MOSAIC_METADATA', 16972: 'NODE_KEY_LINK', 16973: 'MOSAIC_SUPPLY_CHANGE', 16974: 'ADDRESS_ALIAS', 16976: 'ACCOUNT_MOSAIC_RESTRICTION', 16977: 'MOSAIC_ADDRESS_RESTRICTION', 16978: 'SECRET_PROOF', 17220: 'NAMESPACE_METADATA', 17229: 'MOSAIC_SUPPLY_REVOCATION', 17230: 'MOSAIC_ALIAS', 17232: 'ACCOUNT_OPERATION_RESTRICTION'\n",
    "```\n",
    "MessageTypeは以下の通りです。\n",
    "```js\n",
    "{0: 'PlainMessage', 1: 'EncryptedMessage', 254: 'PersistentHarvestingDelegationMessage', -1: 'RawMessage'}\n",
    "```\n",
    "## 4.6 アグリゲートトランザクション\n",
    "Symbolでは複数のトランザクションを1ブロックにまとめてアナウンスすることができます。\n",
    "最大で100件のトランザクションをまとめることができます（連署者が異なる場合は25アカウントまでを連署指定可能）。\n",
    "以降の章で扱う内容にアグリゲートトランザクションへの理解が必要な機能が含まれますので、\n",
    "本章ではアグリゲートトランザクションのうち、簡単なものだけを紹介します。\n",
    "### 起案者の署名だけが必要な場合"
   ]
  },
  {
   "cell_type": "code",
   "execution_count": 73,
   "metadata": {
    "dotnet_interactive": {
     "language": "javascript"
    },
    "polyglot_notebook": {
     "kernelName": "javascript"
    },
    "vscode": {
     "languageId": "polyglot-notebook"
    }
   },
   "outputs": [],
   "source": [
    "bob = sym.Account.generateNewAccount(networkType);\n",
    "carol = sym.Account.generateNewAccount(networkType);\n",
    "innerTx1 = sym.TransferTransaction.create(\n",
    "    undefined, //Deadline\n",
    "    bob.address,  //送信先\n",
    "    [],\n",
    "    sym.PlainMessage.create(\"tx1\"),\n",
    "    networkType\n",
    ");\n",
    "innerTx2 = sym.TransferTransaction.create(\n",
    "    undefined, //Deadline\n",
    "    carol.address,  //送信先\n",
    "    [],\n",
    "    sym.PlainMessage.create(\"tx2\"),\n",
    "    networkType\n",
    ");\n",
    "aggregateTx = sym.AggregateTransaction.createComplete(\n",
    "    sym.Deadline.create(epochAdjustment),\n",
    "    [\n",
    "      innerTx1.toAggregate(alice.publicAccount), //送信元アカウントの公開鍵\n",
    "      innerTx2.toAggregate(alice.publicAccount)  //送信元アカウントの公開鍵\n",
    "    ],\n",
    "    networkType,\n",
    "    [],\n",
    "    sym.UInt64.fromUint(1000000)\n",
    ");\n",
    "signedTx = alice.sign(aggregateTx,generationHash);\n",
    "await txRepo.announce(signedTx).toPromise();"
   ]
  },
  {
   "attachments": {},
   "cell_type": "markdown",
   "metadata": {
    "dotnet_interactive": {
     "language": "javascript"
    },
    "polyglot_notebook": {
     "kernelName": "javascript"
    }
   },
   "source": [
    "まず、アグリゲートトランザクションに含めるトランザクションを作成します。\n",
    "このときDeadlineを指定する必要はありません。\n",
    "リスト化するときに、生成したトランザクションにtoAggregateを追加して送信元アカウントの公開鍵を指定します。\n",
    "ちなみに送信元アカウントと署名アカウントが **必ずしも一致するとは限りません** 。\n",
    "後の章での解説で「Bobの送信トランザクションをAliceが署名する」といった事が起こり得るためこのような書き方をします。\n",
    "これはSymbolブロックチェーンでトランザクションを扱ううえで最も重要な概念になります。\n",
    "なお、本章で扱うトランザクションは同じAliceですので、アグリゲートボンデッドトランザクションへの署名もAliceを指定します。"
   ]
  },
  {
   "attachments": {},
   "cell_type": "markdown",
   "metadata": {
    "dotnet_interactive": {
     "language": "javascript"
    },
    "polyglot_notebook": {
     "kernelName": "javascript"
    }
   },
   "source": [
    "<span style=\"color:red\">\n",
    "\n",
    "### 補足　TransactionsStatusの確認</span>  "
   ]
  },
  {
   "cell_type": "code",
   "execution_count": 77,
   "metadata": {
    "dotnet_interactive": {
     "language": "javascript"
    },
    "polyglot_notebook": {
     "kernelName": "javascript"
    },
    "vscode": {
     "languageId": "polyglot-notebook"
    }
   },
   "outputs": [
    {
     "data": {
      "application/json": {
       "code": "Success",
       "deadline": {
        "adjustedValue": 14602278891
       },
       "group": "confirmed",
       "hash": "3232322700491BA3F9FF49D29F8D73478EC97E3E4487C8545AB2328889CE3537",
       "height": {
        "higher": 0,
        "lower": 391401
       }
      }
     },
     "metadata": {},
     "output_type": "display_data"
    },
    {
     "data": {
      "application/json": {
       "transaction": {
        "cosignatures": [],
        "deadline": "14602278891",
        "maxFee": "1000000",
        "network": 152,
        "signature": "2C05C4253A82BB06281CA97039BFCC784C2D8DAA55826283641A2FEB3C72D867694A63179C3BE541713FE0B39732494A0921647B3440E753BCADAEE837EFDC0F",
        "signerPublicKey": "70B0C6BDB2C291F1F30D9DA6CF7D1C6DBF54588285B040ADD762EACD853EE4E9",
        "transactions": [
         {
          "transaction": {
           "deadline": "14602278891",
           "maxFee": "1000000",
           "message": "00747831",
           "mosaics": [],
           "network": 152,
           "recipientAddress": {
            "address": "TDC66IN3AKCFC2O7MFBXOKFGALHZNNOLS3NHQMI",
            "networkType": 152
           },
           "signature": "2C05C4253A82BB06281CA97039BFCC784C2D8DAA55826283641A2FEB3C72D867694A63179C3BE541713FE0B39732494A0921647B3440E753BCADAEE837EFDC0F",
           "signerPublicKey": "70B0C6BDB2C291F1F30D9DA6CF7D1C6DBF54588285B040ADD762EACD853EE4E9",
           "type": 16724,
           "version": 1
          }
         },
         {
          "transaction": {
           "deadline": "14602278891",
           "maxFee": "1000000",
           "message": "00747832",
           "mosaics": [],
           "network": 152,
           "recipientAddress": {
            "address": "TAWK2MIM546JG5ORKVULP5QRJEOU4EH6JCYU6IQ",
            "networkType": 152
           },
           "signature": "2C05C4253A82BB06281CA97039BFCC784C2D8DAA55826283641A2FEB3C72D867694A63179C3BE541713FE0B39732494A0921647B3440E753BCADAEE837EFDC0F",
           "signerPublicKey": "70B0C6BDB2C291F1F30D9DA6CF7D1C6DBF54588285B040ADD762EACD853EE4E9",
           "type": 16724,
           "version": 1
          }
         }
        ],
        "type": 16705,
        "version": 2
       }
      }
     },
     "metadata": {},
     "output_type": "display_data"
    },
    {
     "data": {
      "text/plain": [
       "https://testnet.symbol.fyi/transactions/3232322700491BA3F9FF49D29F8D73478EC97E3E4487C8545AB2328889CE3537"
      ]
     },
     "metadata": {},
     "output_type": "display_data"
    }
   ],
   "source": [
    "hash = signedTx.hash;\n",
    "tsRepo = repo.createTransactionStatusRepository();\n",
    "transactionStatus = await tsRepo.getTransactionStatus(hash).toPromise();\n",
    "console.log(transactionStatus);\n",
    "txInfo = await txRepo.getTransaction(hash,sym.TransactionGroup.Confirmed).toPromise();\n",
    "console.log(txInfo);\n",
    "console.log(`https://testnet.symbol.fyi/transactions/${hash}`) //ブラウザで確認を追加"
   ]
  },
  {
   "attachments": {},
   "cell_type": "markdown",
   "metadata": {
    "dotnet_interactive": {
     "language": "javascript"
    },
    "polyglot_notebook": {
     "kernelName": "javascript"
    }
   },
   "source": [
    "## 4.7 現場で使えるヒント\n",
    "### 存在証明\n",
    "アカウントの章でアカウントによるデータの署名と検証する方法について説明しました。\n",
    "このデータをトランザクションに載せてブロックチェーンが承認することで、\n",
    "アカウントがある時刻にあるデータの存在を認知したことを消すことができなくなります。\n",
    "タイムスタンプの刻印された電子署名を利害関係者間で所有することと同じ意味があると考えることもできます。\n",
    "（法律的な判断は他の方にお任せします）\n",
    "ブロックチェーンは、この消せない「アカウントが認知したという事実」の存在をもって送信などのデータ更新を行います。\n",
    "また、誰もがまだ知らないはずの事実を知っていたことの証明としてブロックチェーンを利用することもできます。\n",
    "ここでは、その存在が証明されたデータをトランザクションに載せる２つの方法について説明します。\n"
   ]
  },
  {
   "attachments": {},
   "cell_type": "markdown",
   "metadata": {
    "dotnet_interactive": {
     "language": "javascript"
    },
    "polyglot_notebook": {
     "kernelName": "javascript"
    }
   },
   "source": [
    "![image](https://user-images.githubusercontent.com/47712051/232884314-f691a99c-0f8e-4c0f-bf73-c9de24ecfbdf.png)"
   ]
  },
  {
   "attachments": {},
   "cell_type": "markdown",
   "metadata": {
    "dotnet_interactive": {
     "language": "javascript"
    },
    "polyglot_notebook": {
     "kernelName": "javascript"
    }
   },
   "source": [
    "#### デジタルデータのハッシュ値(SHA256)出力方法\n",
    "ファイルの要約値をブロックチェーンに記録することでそのファイルの存在を証明することができます。\n",
    "各OSごとのファイルのSHA256でハッシュ値を計算する方法は下記の通りです。\n",
    "```sh\n",
    "#Windows\n",
    "certutil -hashfile WINファイルパス SHA256\n",
    "#Mac\n",
    "shasum -a 256 MACファイルパス\n",
    "#Linux\n",
    "sha256sum Linuxファイルパス\n",
    "```"
   ]
  },
  {
   "attachments": {},
   "cell_type": "markdown",
   "metadata": {
    "dotnet_interactive": {
     "language": "javascript"
    },
    "polyglot_notebook": {
     "kernelName": "javascript"
    }
   },
   "source": [
    "<span style=\"color:red\">\n",
    "\n",
    "### 補足　ハッシュの作成とブロックチェーンへの記録</span>  "
   ]
  },
  {
   "attachments": {},
   "cell_type": "markdown",
   "metadata": {
    "dotnet_interactive": {
     "language": "javascript"
    },
    "polyglot_notebook": {
     "kernelName": "javascript"
    }
   },
   "source": [
    "実際にファイルのハッシュ値を作成しブロックチェーンに記録することで、存在証明を行ないます。  \n",
    "画面下部のターミナルから以下コマンドを実行し、ipynbファイルのハッシュ値を取得します。\n",
    "\n",
    "```sh\n",
    "#Windows\n",
    "certutil -hashfile trainingCamp/assets/quick_learning_symbol_04.image.png SHA256\n",
    "#Mac\n",
    "shasum -a 256 trainingCamp/assets/quick_learning_symbol_04.image.png\n",
    "```\n",
    "\n",
    "###### 出力例\n",
    "```sh\n",
    "6113cc7d8619a4fc27aafffd9fbc3cacdd19bfecda0b311240435616d3a724fb  trainingCamp/assets/quick_learning_symbol_04.image.png\n",
    "```"
   ]
  },
  {
   "attachments": {},
   "cell_type": "markdown",
   "metadata": {
    "dotnet_interactive": {
     "language": "javascript"
    },
    "polyglot_notebook": {
     "kernelName": "javascript"
    }
   },
   "source": [
    "出力されたハッシュ値をTxのメッセージとしてalice自身に送ることで、その時点でのファイルの存在証明を残す事ができます。"
   ]
  },
  {
   "cell_type": "code",
   "execution_count": 79,
   "metadata": {
    "dotnet_interactive": {
     "language": "javascript"
    },
    "polyglot_notebook": {
     "kernelName": "javascript"
    },
    "vscode": {
     "languageId": "polyglot-notebook"
    }
   },
   "outputs": [
    {
     "data": {
      "text/plain": [
       "{\n",
       "  \"payload\": \"C100000000000000DCDFB9B65D8E72D0D4ECFD79491A060A578179358D278F9FB53641990E7F6A51A882D315A24707533E975B3B56ECEFDC014F3BE3F3DFC19B85E9F6FD79DCD40370B0C6BDB2C291F1F30D9DA6CF7D1C6DBF54588285B040ADD762EACD853EE4E90000000001985441644B0000000000005721736603000000981CFF6235B50FEAB020C824D5E0EBD4894F8D605DD2DF93210000000000000000E3838FE38383E382B7E383A5E580A42020E38395E382A1E382A4E383ABE5908D\",\n",
       "  \"hash\": \"525457BF42E39A0F4F0B3DC018BC23F0D080B4EA19321D8D0994A71CEB2E8100\",\n",
       "  \"signerPublicKey\": \"70B0C6BDB2C291F1F30D9DA6CF7D1C6DBF54588285B040ADD762EACD853EE4E9\",\n",
       "  \"type\": 16724,\n",
       "  \"networkType\": 152\n",
       "}"
      ]
     },
     "metadata": {},
     "output_type": "display_data"
    },
    {
     "data": {
      "application/json": {
       "message": "packet 9 was pushed to the network via /transactions"
      }
     },
     "metadata": {},
     "output_type": "display_data"
    }
   ],
   "source": [
    "tx = sym.TransferTransaction.create(\n",
    "    sym.Deadline.create(epochAdjustment), //Deadline:有効期限\n",
    "    alice.address,  //自分自身に転送\n",
    "    [],\n",
    "    sym.PlainMessage.create(\"ハッシュ値  ファイル名\"), //🌟ここに出力されたハッシュ値とファイル名を入力\n",
    "    networkType //テストネット・メインネット区分\n",
    ").setMaxFee(100); //手数料\n",
    "signedTx = alice.sign(tx,generationHash);\n",
    "console.log(JSON.stringify(signedTx,null,2));\n",
    "res = await txRepo.announce(signedTx).toPromise();\n",
    "console.log(res);"
   ]
  },
  {
   "attachments": {},
   "cell_type": "markdown",
   "metadata": {
    "dotnet_interactive": {
     "language": "javascript"
    },
    "polyglot_notebook": {
     "kernelName": "javascript"
    }
   },
   "source": [
    "TransactionのStatusを確認します"
   ]
  },
  {
   "cell_type": "code",
   "execution_count": 80,
   "metadata": {
    "dotnet_interactive": {
     "language": "javascript"
    },
    "polyglot_notebook": {
     "kernelName": "javascript"
    },
    "vscode": {
     "languageId": "polyglot-notebook"
    }
   },
   "outputs": [
    {
     "data": {
      "application/json": {
       "code": "Success",
       "deadline": {
        "adjustedValue": 14603723095
       },
       "group": "confirmed",
       "hash": "525457BF42E39A0F4F0B3DC018BC23F0D080B4EA19321D8D0994A71CEB2E8100",
       "height": {
        "higher": 0,
        "lower": 391444
       }
      }
     },
     "metadata": {},
     "output_type": "display_data"
    },
    {
     "data": {
      "application/json": {
       "transaction": {
        "deadline": "14603723095",
        "maxFee": "19300",
        "message": "00E3838FE38383E382B7E383A5E580A42020E38395E382A1E382A4E383ABE5908D",
        "mosaics": [],
        "network": 152,
        "recipientAddress": {
         "address": "TAOP6YRVWUH6VMBAZASNLYHL2SEU7DLALXJN7EY",
         "networkType": 152
        },
        "signature": "DCDFB9B65D8E72D0D4ECFD79491A060A578179358D278F9FB53641990E7F6A51A882D315A24707533E975B3B56ECEFDC014F3BE3F3DFC19B85E9F6FD79DCD403",
        "signerPublicKey": "70B0C6BDB2C291F1F30D9DA6CF7D1C6DBF54588285B040ADD762EACD853EE4E9",
        "type": 16724,
        "version": 1
       }
      }
     },
     "metadata": {},
     "output_type": "display_data"
    },
    {
     "data": {
      "text/plain": [
       "https://testnet.symbol.fyi/transactions/525457BF42E39A0F4F0B3DC018BC23F0D080B4EA19321D8D0994A71CEB2E8100"
      ]
     },
     "metadata": {},
     "output_type": "display_data"
    }
   ],
   "source": [
    "hash = signedTx.hash;\n",
    "tsRepo = repo.createTransactionStatusRepository();\n",
    "transactionStatus = await tsRepo.getTransactionStatus(hash).toPromise();\n",
    "console.log(transactionStatus);\n",
    "txInfo = await txRepo.getTransaction(hash,sym.TransactionGroup.Confirmed).toPromise();\n",
    "console.log(txInfo);\n",
    "console.log(`https://testnet.symbol.fyi/transactions/${hash}`) //ブラウザで確認を追加"
   ]
  },
  {
   "attachments": {},
   "cell_type": "markdown",
   "metadata": {
    "dotnet_interactive": {
     "language": "javascript"
    },
    "polyglot_notebook": {
     "kernelName": "javascript"
    }
   },
   "source": [
    "![image](https://user-images.githubusercontent.com/47712051/232884294-13877a30-e09d-48d4-8630-f52eafd00121.png)"
   ]
  },
  {
   "attachments": {},
   "cell_type": "markdown",
   "metadata": {
    "dotnet_interactive": {
     "language": "javascript"
    },
    "polyglot_notebook": {
     "kernelName": "javascript"
    }
   },
   "source": [
    "#### 大きなデータの分割\n",
    "トランザクションのペイロードには1023バイトしか格納できないため、\n",
    "大きなデータは分割してペイロードに詰め込んでアグリゲートトランザクションにします。\n",
    "```js\n",
    "bigdata = 'C00200000000000093B0B985101C1BDD1BC2BF30D72F35E34265B3F381ECA464733E147A4F0A6B9353547E2E08189EF37E50D271BEB5F09B81CE5816BB34A153D2268520AF630A0A0E5C72B0D5946C1EFEE7E5317C5985F106B739BB0BC07E4F9A288417B3CD6D26000000000198414140770200000000002A769FB40000000076B455CFAE2CCDA9C282BF8556D3E9C9C0DE18B0CBE6660ACCF86EB54AC51B33B001000000000000DB000000000000000E5C72B0D5946C1EFEE7E5317C5985F106B739BB0BC07E4F9A288417B3CD6D26000000000198544198205C1A4CE06C45B3A896B1B2360E03633B9F36BF7F22338B000000000000000066653465353435393833444430383935303645394533424446434235313637433046394232384135344536463032413837364535303734423641303337414643414233303344383841303630353343353345354235413835323835443639434132364235343233343032364244444331443133343139464435353438323930334242453038423832304100000000006800000000000000B2D4FD84B2B63A96AA37C35FC6E0A2341CEC1FD19C8FFC8D93CCCA2B028D1E9D000000000198444198205C1A4CE06C45B3A896B1B2360E03633B9F36BF7F2233BC089179EBBE01A81400140035383435344434373631364336433635373237396800000000000000B2D4FD84B2B63A96AA37C35FC6E0A2341CEC1FD19C8FFC8D93CCCA2B028D1E9D000000000198444198205C1A4CE06C45B3A896B1B2360E03633B9F36BF7F223345ECB996EDDB9BEB1400140035383435344434373631364336433635373237390000000000000000B2D4FD84B2B63A96AA37C35FC6E0A2341CEC1FD19C8FFC8D93CCCA2B028D1E9D5A71EBA9C924EFA146897BE6C9BB3DACEFA26A07D687AC4A83C9B03087640E2D1DDAE952E9DDBC33312E2C8D021B4CC0435852C0756B1EBD983FCE221A981D02';\n",
    "let payloads = [];\n",
    "for (let i = 0; i < bigdata.length / 1023; i++) {\n",
    "    payloads.push(bigdata.substr(i * 1023, 1023));\n",
    "}\n",
    "console.log(payloads);\n",
    "```\n"
   ]
  },
  {
   "attachments": {},
   "cell_type": "markdown",
   "metadata": {
    "dotnet_interactive": {
     "language": "javascript"
    },
    "polyglot_notebook": {
     "kernelName": "javascript"
    }
   },
   "source": [
    "<span style=\"color:red\">\n",
    "\n",
    "### 補足　画像のBASE64化とブロックチェーンへの記録</span>  "
   ]
  },
  {
   "cell_type": "markdown",
   "metadata": {
    "dotnet_interactive": {
     "language": "javascript"
    },
    "polyglot_notebook": {
     "kernelName": "javascript"
    }
   },
   "source": []
  }
 ],
 "metadata": {
  "kernelspec": {
   "display_name": ".NET (C#)",
   "language": "C#",
   "name": ".net-csharp"
  },
  "polyglot_notebook": {
   "kernelInfo": {
    "defaultKernelName": "javascript",
    "items": [
     {
      "aliases": [
       "js"
      ],
      "languageName": "JavaScript",
      "name": "javascript"
     },
     {
      "aliases": [
       "frontend"
      ],
      "name": "vscode"
     },
     {
      "aliases": [],
      "name": ".NET"
     },
     {
      "aliases": [
       "c#",
       "C#"
      ],
      "languageName": "C#",
      "name": "csharp"
     },
     {
      "aliases": [
       "f#",
       "F#"
      ],
      "languageName": "F#",
      "name": "fsharp"
     },
     {
      "aliases": [],
      "languageName": "HTML",
      "name": "html"
     },
     {
      "aliases": [],
      "languageName": "KQL",
      "name": "kql"
     },
     {
      "aliases": [],
      "languageName": "Mermaid",
      "name": "mermaid"
     },
     {
      "aliases": [
       "powershell"
      ],
      "languageName": "PowerShell",
      "name": "pwsh"
     },
     {
      "aliases": [],
      "languageName": "SQL",
      "name": "sql"
     },
     {
      "aliases": [],
      "name": "value"
     },
     {
      "aliases": [],
      "name": "webview"
     }
    ]
   }
  }
 },
 "nbformat": 4,
 "nbformat_minor": 2
}
