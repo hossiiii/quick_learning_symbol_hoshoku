{
 "cells": [
  {
   "attachments": {},
   "cell_type": "markdown",
   "metadata": {
    "dotnet_interactive": {
     "language": "javascript"
    },
    "polyglot_notebook": {
     "kernelName": "javascript"
    }
   },
   "source": [
    "<hr />\n",
    "\n",
    "### NoteBookの見方\n",
    "コード以外の情報 \n",
    "<span >白/黒での記載は速習Symbol</span>  \n",
    "<span style=\"color:red\">赤色での記載は補足情報</span>  \n",
    "<span >コード内で🌟マークがある場所は自分の情報に書き換えが必要</span>\n",
    "\n",
    "<hr />"
   ]
  },
  {
   "attachments": {},
   "cell_type": "markdown",
   "metadata": {
    "dotnet_interactive": {
     "language": "javascript"
    },
    "polyglot_notebook": {
     "kernelName": "javascript"
    }
   },
   "source": [
    "<span style=\"color:red\">\n",
    "\n",
    "# 環境構築\n",
    "</span>\n",
    "<span style=\"color:red\">\n",
    "\n",
    "## 1.Symbol SDKの読み込み </span>"
   ]
  },
  {
   "cell_type": "code",
   "execution_count": null,
   "metadata": {
    "dotnet_interactive": {
     "language": "javascript"
    },
    "polyglot_notebook": {
     "kernelName": "javascript"
    },
    "vscode": {
     "languageId": "polyglot-notebook"
    }
   },
   "outputs": [],
   "source": [
    "(script = document.createElement(\"script\")).src = \"https://xembook.github.io/nem2-browserify/symbol-sdk-pack-2.0.3.js\";\n",
    "document.getElementsByTagName(\"head\")[0].appendChild(script);"
   ]
  },
  {
   "attachments": {},
   "cell_type": "markdown",
   "metadata": {
    "dotnet_interactive": {
     "language": "javascript"
    },
    "polyglot_notebook": {
     "kernelName": "javascript"
    }
   },
   "source": [
    "<span style=\"color:red\">\n",
    "\n",
    "## 2.Symbol用の共通設定 </span>"
   ]
  },
  {
   "cell_type": "code",
   "execution_count": null,
   "metadata": {
    "dotnet_interactive": {
     "language": "javascript"
    },
    "polyglot_notebook": {
     "kernelName": "javascript"
    },
    "vscode": {
     "languageId": "polyglot-notebook"
    }
   },
   "outputs": [],
   "source": [
    "NODE = 'https://sym-test-03.opening-line.jp:3001';\n",
    "sym = require(\"/node_modules/symbol-sdk\");\n",
    "repo = new sym.RepositoryFactoryHttp(NODE);\n",
    "txRepo = repo.createTransactionRepository();\n",
    "mosaicRepo = repo.createMosaicRepository();\n",
    "accountRepo = repo.createAccountRepository();\n",
    "(async () => {\n",
    "  networkType = await repo.getNetworkType().toPromise();\n",
    "  generationHash = await repo.getGenerationHash().toPromise();\n",
    "  epochAdjustment = await repo.getEpochAdjustment().toPromise();\n",
    "})();\n",
    "\n",
    "function clog(signedTx){\n",
    "    console.log(NODE + \"/transactionStatus/\" + signedTx.hash);\n",
    "    console.log(NODE + \"/transactions/confirmed/\" + signedTx.hash);\n",
    "    console.log(\"https://symbol.fyi/transactions/\" + signedTx.hash);\n",
    "    console.log(\"https://testnet.symbol.fyi/transactions/\" + signedTx.hash);\n",
    "}"
   ]
  },
  {
   "attachments": {},
   "cell_type": "markdown",
   "metadata": {
    "dotnet_interactive": {
     "language": "javascript"
    },
    "polyglot_notebook": {
     "kernelName": "javascript"
    }
   },
   "source": [
    "<span style=\"color:red\">\n",
    "\n",
    "## 3.aliceアカウントのリストア </span>"
   ]
  },
  {
   "cell_type": "code",
   "execution_count": null,
   "metadata": {
    "dotnet_interactive": {
     "language": "javascript"
    },
    "polyglot_notebook": {
     "kernelName": "javascript"
    },
    "vscode": {
     "languageId": "polyglot-notebook"
    }
   },
   "outputs": [],
   "source": [
    "alice = sym.Account.createFromPrivateKey(\n",
    "    \"1E9139CC1580B4AED6A1FE110085281D4982ED0D89CE07F3380EB83069B1****\", //🌟ここに3章で作成した秘密鍵を入力\n",
    "    networkType\n",
    ");"
   ]
  },
  {
   "attachments": {},
   "cell_type": "markdown",
   "metadata": {
    "dotnet_interactive": {
     "language": "javascript"
    },
    "polyglot_notebook": {
     "kernelName": "javascript"
    }
   },
   "source": [
    "<hr />"
   ]
  },
  {
   "attachments": {},
   "cell_type": "markdown",
   "metadata": {
    "dotnet_interactive": {
     "language": "javascript"
    },
    "polyglot_notebook": {
     "kernelName": "javascript"
    }
   },
   "source": [
    "# 7.メタデータ\n",
    "\n",
    "アカウント・モザイク・ネームスペースに対してKey-Value形式のデータを登録することができます。  \n",
    "Valueの最大値は1024バイトです。\n",
    "本章ではモザイク・ネームスペースの作成アカウントとメタデータの作成アカウントがどちらもAliceであることを前提に説明します。\n",
    "\n",
    "本章のサンプルスクリプトを実行する前に以下を実行して必要ライブラリを読み込んでおいてください。\n"
   ]
  },
  {
   "cell_type": "code",
   "execution_count": null,
   "metadata": {
    "dotnet_interactive": {
     "language": "javascript"
    },
    "polyglot_notebook": {
     "kernelName": "javascript"
    },
    "vscode": {
     "languageId": "polyglot-notebook"
    }
   },
   "outputs": [],
   "source": [
    "metaRepo = repo.createMetadataRepository();\n",
    "mosaicRepo = repo.createMosaicRepository();\n",
    "metaService = new sym.MetadataTransactionService(metaRepo);"
   ]
  },
  {
   "attachments": {},
   "cell_type": "markdown",
   "metadata": {
    "dotnet_interactive": {
     "language": "javascript"
    },
    "polyglot_notebook": {
     "kernelName": "javascript"
    }
   },
   "source": [
    "## 7.1 アカウントに登録\n",
    "\n",
    "アカウントに対して、Key-Value値を登録します。\n",
    "\n"
   ]
  },
  {
   "cell_type": "code",
   "execution_count": null,
   "metadata": {
    "dotnet_interactive": {
     "language": "javascript"
    },
    "polyglot_notebook": {
     "kernelName": "javascript"
    },
    "vscode": {
     "languageId": "polyglot-notebook"
    }
   },
   "outputs": [],
   "source": [
    "key = sym.KeyGenerator.generateUInt64Key(\"key_account\");\n",
    "value = \"test\";\n",
    "tx = await metaService.createAccountMetadataTransaction(\n",
    "    undefined,\n",
    "    networkType,\n",
    "    alice.address, //メタデータ記録先アドレス\n",
    "    key,value, //Key-Value値\n",
    "    alice.address //メタデータ作成者アドレス\n",
    ").toPromise();\n",
    "aggregateTx = sym.AggregateTransaction.createComplete(\n",
    "  sym.Deadline.create(epochAdjustment),\n",
    "  [tx.toAggregate(alice.publicAccount)],\n",
    "  networkType,[]\n",
    ").setMaxFeeForAggregate(100, 0);\n",
    "signedTx = alice.sign(aggregateTx,generationHash);\n",
    "await txRepo.announce(signedTx).toPromise();"
   ]
  },
  {
   "cell_type": "code",
   "execution_count": null,
   "metadata": {
    "dotnet_interactive": {
     "language": "javascript"
    },
    "polyglot_notebook": {
     "kernelName": "javascript"
    },
    "vscode": {
     "languageId": "polyglot-notebook"
    }
   },
   "outputs": [],
   "source": [
    "hash = signedTx.hash;\n",
    "tsRepo = repo.createTransactionStatusRepository();\n",
    "transactionStatus = await tsRepo.getTransactionStatus(hash).toPromise();\n",
    "console.log(transactionStatus);\n",
    "txInfo = await txRepo.getTransaction(hash,sym.TransactionGroup.Confirmed).toPromise();\n",
    "console.log(txInfo);\n",
    "console.log(`https://testnet.symbol.fyi/transactions/${hash}`) //ブラウザで確認を追加"
   ]
  },
  {
   "attachments": {},
   "cell_type": "markdown",
   "metadata": {
    "dotnet_interactive": {
     "language": "javascript"
    },
    "polyglot_notebook": {
     "kernelName": "javascript"
    }
   },
   "source": [
    "メタデータの登録には記録先アカウントが承諾を示す署名が必要です。\n",
    "また、記録先アカウントと記録者アカウントが同一でもアグリゲートトランザクションにする必要があります。\n",
    "\n",
    "異なるアカウントのメタデータに登録する場合は署名時に\n",
    "signTransactionWithCosignatoriesを使用します。\n",
    "\n",
    "```js\n",
    "tx = await metaService.createAccountMetadataTransaction(\n",
    "    undefined,\n",
    "    networkType,\n",
    "    bob.address, //メタデータ記録先アドレス\n",
    "    key,value, //Key-Value値\n",
    "    alice.address //メタデータ作成者アドレス\n",
    ").toPromise();\n",
    "aggregateTx = sym.AggregateTransaction.createComplete(\n",
    "  sym.Deadline.create(epochAdjustment),\n",
    "  [tx.toAggregate(alice.publicAccount)],\n",
    "  networkType,[]\n",
    ").setMaxFeeForAggregate(100, 1); // 第二引数に連署者の数:1\n",
    "signedTx = aggregateTx.signTransactionWithCosignatories(\n",
    "  alice,[bob],generationHash,// 第二引数に連署者\n",
    ");\n",
    "await txRepo.announce(signedTx).toPromise();\n",
    "```\n",
    "\n",
    "bobの秘密鍵が分からない場合はこの後の章で説明する\n",
    "アグリゲートボンデッドトランザクション、あるいはオフライン署名を使用する必要があります。\n",
    "\n",
    "## 7.2 モザイクに登録\n",
    "\n",
    "ターゲットとなるモザイクに対して、Key値・ソースアカウントの複合キーでValue値を登録します。\n",
    "登録・更新にはモザイクを作成したアカウントの署名が必要です。\n"
   ]
  },
  {
   "cell_type": "code",
   "execution_count": null,
   "metadata": {
    "dotnet_interactive": {
     "language": "javascript"
    },
    "polyglot_notebook": {
     "kernelName": "javascript"
    },
    "vscode": {
     "languageId": "polyglot-notebook"
    }
   },
   "outputs": [],
   "source": [
    "mosaicId = new sym.MosaicId(\"2F8B8781ED704E39\"); //🌟ここに5章で作成したNFT（発行数1の）モザイクIDを入力\n",
    "mosaicInfo = await mosaicRepo.getMosaic(mosaicId).toPromise();\n",
    "key = sym.KeyGenerator.generateUInt64Key('key_mosaic');\n",
    "value = 'test';\n",
    "tx = await metaService.createMosaicMetadataTransaction(\n",
    "  undefined,\n",
    "  networkType,\n",
    "  mosaicInfo.ownerAddress, //モザイク作成者アドレス\n",
    "  mosaicId,\n",
    "  key,value, //Key-Value値\n",
    "  alice.address\n",
    ").toPromise();\n",
    "aggregateTx = sym.AggregateTransaction.createComplete(\n",
    "    sym.Deadline.create(epochAdjustment),\n",
    "    [tx.toAggregate(alice.publicAccount)],\n",
    "    networkType,[]\n",
    ").setMaxFeeForAggregate(100, 0);\n",
    "signedTx = alice.sign(aggregateTx,generationHash);\n",
    "await txRepo.announce(signedTx).toPromise();\n"
   ]
  },
  {
   "cell_type": "code",
   "execution_count": null,
   "metadata": {
    "dotnet_interactive": {
     "language": "javascript"
    },
    "polyglot_notebook": {
     "kernelName": "javascript"
    },
    "vscode": {
     "languageId": "polyglot-notebook"
    }
   },
   "outputs": [],
   "source": [
    "hash = signedTx.hash;\n",
    "tsRepo = repo.createTransactionStatusRepository();\n",
    "transactionStatus = await tsRepo.getTransactionStatus(hash).toPromise();\n",
    "console.log(transactionStatus);\n",
    "txInfo = await txRepo.getTransaction(hash,sym.TransactionGroup.Confirmed).toPromise();\n",
    "console.log(txInfo);\n",
    "console.log(`https://testnet.symbol.fyi/transactions/${hash}`) //ブラウザで確認を追加"
   ]
  },
  {
   "attachments": {},
   "cell_type": "markdown",
   "metadata": {
    "dotnet_interactive": {
     "language": "javascript"
    },
    "polyglot_notebook": {
     "kernelName": "javascript"
    }
   },
   "source": [
    "## 7.3 ネームスペースに登録\n",
    "\n",
    "ネームスペースに対して、Key-Value値を登録します。\n",
    "登録・更新にはネームスペースを作成したアカウントの署名が必要です。"
   ]
  },
  {
   "cell_type": "code",
   "execution_count": null,
   "metadata": {
    "dotnet_interactive": {
     "language": "javascript"
    },
    "polyglot_notebook": {
     "kernelName": "javascript"
    },
    "vscode": {
     "languageId": "polyglot-notebook"
    }
   },
   "outputs": [],
   "source": [
    "nsRepo = repo.createNamespaceRepository();\n",
    "namespaceId = new sym.NamespaceId(\"xembook\"); //🌟ここに6章で作成したルートネームスペースIDを入力\n",
    "namespaceInfo = await nsRepo.getNamespace(namespaceId).toPromise();\n",
    "key = sym.KeyGenerator.generateUInt64Key('key_namespace');\n",
    "value = 'test';\n",
    "tx = await metaService.createNamespaceMetadataTransaction(\n",
    "    undefined,networkType,\n",
    "    namespaceInfo.ownerAddress, //ネームスペースの作成者アドレス\n",
    "    namespaceId,\n",
    "    key,value, //Key-Value値\n",
    "    alice.address //メタデータの登録者\n",
    ").toPromise();\n",
    "aggregateTx = sym.AggregateTransaction.createComplete(\n",
    "    sym.Deadline.create(epochAdjustment),\n",
    "    [tx.toAggregate(alice.publicAccount)],\n",
    "    networkType,[]\n",
    ").setMaxFeeForAggregate(100, 0);\n",
    "signedTx = alice.sign(aggregateTx,generationHash);\n",
    "await txRepo.announce(signedTx).toPromise();"
   ]
  },
  {
   "cell_type": "code",
   "execution_count": null,
   "metadata": {
    "dotnet_interactive": {
     "language": "javascript"
    },
    "polyglot_notebook": {
     "kernelName": "javascript"
    },
    "vscode": {
     "languageId": "polyglot-notebook"
    }
   },
   "outputs": [],
   "source": [
    "hash = signedTx.hash;\n",
    "tsRepo = repo.createTransactionStatusRepository();\n",
    "transactionStatus = await tsRepo.getTransactionStatus(hash).toPromise();\n",
    "console.log(transactionStatus);\n",
    "txInfo = await txRepo.getTransaction(hash,sym.TransactionGroup.Confirmed).toPromise();\n",
    "console.log(txInfo);\n",
    "console.log(`https://testnet.symbol.fyi/transactions/${hash}`) //ブラウザで確認を追加"
   ]
  },
  {
   "attachments": {},
   "cell_type": "markdown",
   "metadata": {
    "dotnet_interactive": {
     "language": "javascript"
    },
    "polyglot_notebook": {
     "kernelName": "javascript"
    }
   },
   "source": [
    "## 7.4 確認\n",
    "登録したメタデータを確認します。\n"
   ]
  },
  {
   "cell_type": "code",
   "execution_count": null,
   "metadata": {
    "dotnet_interactive": {
     "language": "javascript"
    },
    "polyglot_notebook": {
     "kernelName": "javascript"
    },
    "vscode": {
     "languageId": "polyglot-notebook"
    }
   },
   "outputs": [],
   "source": [
    "res = await metaRepo.search({\n",
    "    targetAddress:alice.address,\n",
    "    sourceAddress:alice.address}\n",
    "  ).toPromise();\n",
    "  console.log(res);\n",
    "  "
   ]
  },
  {
   "attachments": {},
   "cell_type": "markdown",
   "metadata": {
    "dotnet_interactive": {
     "language": "javascript"
    },
    "polyglot_notebook": {
     "kernelName": "javascript"
    }
   },
   "source": [
    "###### 出力例\n",
    "```js\n",
    "data: Array(3)\n",
    "  0: Metadata\n",
    "    id: \"62471DD2BF42F221DFD309D9\"\n",
    "    metadataEntry: MetadataEntry\n",
    "      compositeHash: \"617B0F9208753A1080F93C1CEE1A35ED740603CE7CFC21FBAE3859B7707A9063\"\n",
    "      metadataType: 0\n",
    "      scopedMetadataKey: UInt64 {lower: 92350423, higher: 2540877595}\n",
    "      sourceAddress: Address {address: 'TBIL6D6RURP45YQRWV6Q7YVWIIPLQGLZQFHWFEQ', networkType: 152}\n",
    "      targetAddress: Address {address: 'TBIL6D6RURP45YQRWV6Q7YVWIIPLQGLZQFHWFEQ', networkType: 152}\n",
    "      targetId: undefined\n",
    "      value: \"test\"\n",
    "  1: Metadata\n",
    "    id: \"62471F87BF42F221DFD30CC8\"\n",
    "    metadataEntry: MetadataEntry\n",
    "      compositeHash: \"D9E2019D7BD5BA58245320392A68B51752E35A35DA349B08E141DCE99AC3655A\"\n",
    "      metadataType: 1\n",
    "      scopedMetadataKey: UInt64 {lower: 1789141730, higher: 3475078673}\n",
    "      sourceAddress: Address {address: 'TBIL6D6RURP45YQRWV6Q7YVWIIPLQGLZQFHWFEQ', networkType: 152}\n",
    "      targetAddress: Address {address: 'TBIL6D6RURP45YQRWV6Q7YVWIIPLQGLZQFHWFEQ', networkType: 152}\n",
    "      targetId: MosaicId\n",
    "      id: Id {lower: 1360892257, higher: 309702839}\n",
    "      value: \"test\"\n",
    "  3: Metadata\n",
    "    id: \"62616372BF42F221DF00A88C\"\n",
    "    metadataEntry: MetadataEntry\n",
    "      compositeHash: \"D8E597C7B491BF7F9990367C1798B5C993E1D893222F6FC199F98915339D92D5\"\n",
    "      metadataType: 2\n",
    "      scopedMetadataKey: UInt64 {lower: 141807833, higher: 2339015223}\n",
    "      sourceAddress: Address {address: 'TBIL6D6RURP45YQRWV6Q7YVWIIPLQGLZQFHWFEQ', networkType: 152}\n",
    "      targetAddress: Address {address: 'TBIL6D6RURP45YQRWV6Q7YVWIIPLQGLZQFHWFEQ', networkType: 152}\n",
    "      targetId: NamespaceId\n",
    "      id: Id {lower: 646738821, higher: 2754876907}\n",
    "      value: \"test\"\n",
    "```\n",
    "metadataTypeは以下の通りです。\n",
    "```js\n",
    "sym.MetadataType\n",
    "{0: 'Account', 1: 'Mosaic', 2: 'Namespace'}\n",
    "```\n",
    "\n",
    "### 注意事項\n",
    "メタデータはキー値で素早く情報にアクセスできるというメリットがある一方で更新可能であることに注意しておく必要があります。\n",
    "更新には、発行者アカウントと登録先アカウントの署名が必要のため、それらのアカウントの管理状態が信用できる場合のみ使用するようにしてください。\n"
   ]
  },
  {
   "attachments": {},
   "cell_type": "markdown",
   "metadata": {
    "dotnet_interactive": {
     "language": "javascript"
    },
    "polyglot_notebook": {
     "kernelName": "javascript"
    }
   },
   "source": [
    "<span style=\"color:red\">\n",
    "\n",
    "### 補足 メタデータの検索 </span>"
   ]
  },
  {
   "attachments": {},
   "cell_type": "markdown",
   "metadata": {
    "dotnet_interactive": {
     "language": "javascript"
    },
    "polyglot_notebook": {
     "kernelName": "javascript"
    }
   },
   "source": [
    "メタデータのKEY値（Scoped Metadata Key）を指定して検索を行うことができます。  \n",
    "検索時にわかりやすいように、新たにアカウントに対して自分のニックネームを付与します"
   ]
  },
  {
   "cell_type": "code",
   "execution_count": null,
   "metadata": {
    "dotnet_interactive": {
     "language": "javascript"
    },
    "polyglot_notebook": {
     "kernelName": "javascript"
    },
    "vscode": {
     "languageId": "polyglot-notebook"
    }
   },
   "outputs": [],
   "source": [
    "key = sym.KeyGenerator.generateUInt64Key(\"mit_training_camp\");\n",
    "value = \"hossiiii\"; //🌟ここを自分のニックネームに書き換え\n",
    "tx = await metaService.createAccountMetadataTransaction(\n",
    "    undefined,\n",
    "    networkType,\n",
    "    alice.address, //メタデータ記録先アドレス\n",
    "    key,value, //Key-Value値\n",
    "    alice.address //メタデータ作成者アドレス\n",
    ").toPromise();\n",
    "aggregateTx = sym.AggregateTransaction.createComplete(\n",
    "  sym.Deadline.create(epochAdjustment),\n",
    "  [tx.toAggregate(alice.publicAccount)],\n",
    "  networkType,[]\n",
    ").setMaxFeeForAggregate(100, 0);\n",
    "signedTx = alice.sign(aggregateTx,generationHash);\n",
    "await txRepo.announce(signedTx).toPromise();"
   ]
  },
  {
   "cell_type": "code",
   "execution_count": null,
   "metadata": {
    "dotnet_interactive": {
     "language": "javascript"
    },
    "polyglot_notebook": {
     "kernelName": "javascript"
    },
    "vscode": {
     "languageId": "polyglot-notebook"
    }
   },
   "outputs": [],
   "source": [
    "hash = signedTx.hash;\n",
    "tsRepo = repo.createTransactionStatusRepository();\n",
    "transactionStatus = await tsRepo.getTransactionStatus(hash).toPromise();\n",
    "console.log(transactionStatus);\n",
    "txInfo = await txRepo.getTransaction(hash,sym.TransactionGroup.Confirmed).toPromise();\n",
    "console.log(txInfo);\n",
    "console.log(`https://testnet.symbol.fyi/transactions/${hash}`) //ブラウザで確認を追加"
   ]
  },
  {
   "attachments": {},
   "cell_type": "markdown",
   "metadata": {
    "dotnet_interactive": {
     "language": "javascript"
    },
    "polyglot_notebook": {
     "kernelName": "javascript"
    }
   },
   "source": [
    "次に”mit_training_camp”というKEYで指定されたメタデータ情報を取得します。"
   ]
  },
  {
   "cell_type": "code",
   "execution_count": null,
   "metadata": {
    "dotnet_interactive": {
     "language": "javascript"
    },
    "polyglot_notebook": {
     "kernelName": "javascript"
    },
    "vscode": {
     "languageId": "polyglot-notebook"
    }
   },
   "outputs": [],
   "source": [
    "scopedMetadataKey = sym.KeyGenerator.generateUInt64Key(\"mit_training_camp\").toHex() //mit_training_campを16進数文字列に変換\n",
    "followDict = {}\n",
    "metadataEntries = await metaRepo.search({\n",
    "    metadataType: sym.MetadataType.Account,\n",
    "    scopedMetadataKey: scopedMetadataKey,\n",
    "    pageNumber: 1,\n",
    "    pageSize: 1000\n",
    "}).toPromise()\n",
    "for (let index = 0; index < metadataEntries.data.length; index++) {\n",
    "    accountInfo = await accountRepo.getAccountInfo(sym.Address.createFromRawAddress(metadataEntries.data[index].metadataEntry.targetAddress.plain())).toPromise();\n",
    "    followDict[metadataEntries.data[index].metadataEntry.value] = {\n",
    "        \"address\": metadataEntries.data[index].metadataEntry.targetAddress.plain(),\n",
    "        \"pubkey\": accountInfo.publicAccount.publicKey,\n",
    "    }\n",
    "}\n",
    "followList = Object.keys(followDict)\n",
    "console.log(JSON.stringify(followDict,null,2));"
   ]
  },
  {
   "attachments": {},
   "cell_type": "markdown",
   "metadata": {
    "dotnet_interactive": {
     "language": "javascript"
    },
    "polyglot_notebook": {
     "kernelName": "javascript"
    }
   },
   "source": [
    "これで本日の合宿メンバーのアドレスと公開鍵のリストができました"
   ]
  },
  {
   "attachments": {},
   "cell_type": "markdown",
   "metadata": {
    "dotnet_interactive": {
     "language": "javascript"
    },
    "polyglot_notebook": {
     "kernelName": "javascript"
    }
   },
   "source": [
    "## 7.5 現場で使えるヒント\n",
    "\n",
    "### 有資格証明\n",
    "\n",
    "モザイクの章で所有証明、ネームスペースの章でドメインリンクの説明をしました。\n",
    "実社会で信頼性の高いドメインからリンクされたアカウントが発行したメタデータの付与を受けることで\n",
    "そのドメイン内での有資格情報の所有を証明することができます。\n",
    "\n",
    "#### DID\n",
    "\n",
    "分散型アイデンティティと呼ばれます。\n",
    "エコシステムは発行者、所有者、検証者に分かれ、例えば大学が発行した卒業証書を学生が所有し、\n",
    "企業は学生から提示された証明書を大学が公表している公開鍵をもとに検証します。\n",
    "このやりとりにプラットフォームに依存する情報はありません。\n",
    "メタデータを活用することで、大学は学生の所有するアカウントにメタデータを発行することができ、\n",
    "企業は大学の公開鍵と学生のモザイク(アカウント)所有証明でメタデータに記載された卒業証明を検証することができます。"
   ]
  },
  {
   "attachments": {},
   "cell_type": "markdown",
   "metadata": {
    "dotnet_interactive": {
     "language": "javascript"
    },
    "polyglot_notebook": {
     "kernelName": "javascript"
    }
   },
   "source": [
    "<span style=\"color:red\">\n",
    "\n",
    "#### データのグループ化、検索性の向上 </span>"
   ]
  },
  {
   "attachments": {},
   "cell_type": "markdown",
   "metadata": {
    "dotnet_interactive": {
     "language": "javascript"
    },
    "polyglot_notebook": {
     "kernelName": "javascript"
    }
   },
   "source": [
    "ブロックチェーンはデータの構造上、統計や検索が苦手です。  \n",
    "例えばコミュニティサイトでユーザにアカウントアドレスを持たせたり、トークンを相互に送りあう場合  \n",
    "一般的にはDBと連携させて集計機能を実装します。  \n",
    "しかし、このメタデータのKEYとVALUEを活用することで、DBを使わずとも統計や検索を行うことができます。"
   ]
  },
  {
   "cell_type": "markdown",
   "metadata": {
    "dotnet_interactive": {
     "language": "javascript"
    },
    "polyglot_notebook": {
     "kernelName": "javascript"
    }
   },
   "source": []
  }
 ],
 "metadata": {
  "kernelspec": {
   "display_name": ".NET (C#)",
   "language": "C#",
   "name": ".net-csharp"
  },
  "polyglot_notebook": {
   "kernelInfo": {
    "defaultKernelName": "javascript",
    "items": [
     {
      "aliases": [
       "js"
      ],
      "languageName": null,
      "name": "javascript"
     },
     {
      "aliases": [
       "frontend"
      ],
      "languageName": null,
      "name": "vscode"
     },
     {
      "aliases": [],
      "languageName": null,
      "name": ".NET"
     },
     {
      "aliases": [
       "c#",
       "C#"
      ],
      "languageName": null,
      "name": "csharp"
     },
     {
      "aliases": [
       "f#",
       "F#"
      ],
      "languageName": null,
      "name": "fsharp"
     },
     {
      "aliases": [],
      "languageName": null,
      "name": "html"
     },
     {
      "aliases": [],
      "languageName": null,
      "name": "kql"
     },
     {
      "aliases": [],
      "languageName": null,
      "name": "mermaid"
     },
     {
      "aliases": [
       "powershell"
      ],
      "languageName": null,
      "name": "pwsh"
     },
     {
      "aliases": [],
      "languageName": null,
      "name": "sql"
     },
     {
      "aliases": [],
      "languageName": null,
      "name": "value"
     },
     {
      "aliases": [],
      "languageName": null,
      "name": "webview"
     }
    ]
   }
  }
 },
 "nbformat": 4,
 "nbformat_minor": 2
}
