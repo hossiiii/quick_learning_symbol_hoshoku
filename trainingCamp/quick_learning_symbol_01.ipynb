{
 "cells": [
  {
   "attachments": {},
   "cell_type": "markdown",
   "metadata": {
    "dotnet_interactive": {
     "language": "csharp"
    },
    "polyglot_notebook": {
     "kernelName": "csharp"
    }
   },
   "source": [
    "### 今日から現場で使える\n",
    "# 速習Symbolブロックチェーン\n",
    "\n",
    "# はじめに\n",
    "\n",
    "## 本ドキュメントのねらい\n",
    "\n",
    "網羅的に技術全般を扱う一般的な公式ドキュメントとは異なり、本ドキュメントは、素早くSymbolブロックチェーンを活用する技術を身に着けていただくための解説書です。最初から読み進めていただければ、Symbolを活用したアプリ開発のための全体像を無理なく系統立てて学習できるように構成しています。  \n",
    "なお、ノードの構築方法やコンセンサスアルゴリズム、インセンティブ報酬などの説明はありません。  \n",
    "\n",
    "## 本書の対象者\n",
    "\n",
    "- ブロックチェーンを試してみたいけど、なにから勉強したらいいのかわからない方。\n",
    "- ブロックチェーンを覚えても、なにに使えるのかピンと来ない方。\n",
    "- Symbolの教材を作ろうとしてるけどどういう手順で教えたらいいのか悩んでいる方。\n",
    "- Symbolって簡単っていうけど、どういう感じで簡単なのかさくっと知りたい方。\n",
    "\n",
    "## 現場で使えるとは？\n",
    "\n",
    "ブロックチェーンを構成するデータの最小単位はお金ではなくタイムスタンプつき存在証明です。ここに注目すればブロックチェーンは認証やトレーサビリティなど、さらにその用途を広げることができます。 世の中を見渡せば、あらゆることが **信頼の数珠繋ぎ** で成り立っていることが分かります。その信頼を形にすることが困難なために、多くのことがお金に変換されて構築されてきました。\n",
    "\n",
    "今、ブロックチェーン技術によりその信頼をお金に変換することなく改ざん不可能な形で記録することができるようになりました。本ドキュメントは、金融だけではなくさらに多くのビジネスや文化の **「現場」** で活躍する人にブロックチェーンの力を活かすヒントを得てもらうために執筆しました。  \n",
    "\n",
    "## 「明日から」じゃなくて「今日から」使えるの意味\n",
    "昨今、IoTなどの開発現場では **「もはやPoCすら必要ない」** と表現されることがあります。ITを構成する部品化が進み、試しに作ってみた装置がそのまま実運用を始めてしまえるほどにモジュール化されつつあります。Symbolブロックチェーンもアプリケーションを構築するまでもなく、そして自分でノードを建てる必要もなく、設定したアカウントやトークンがコミュニティの提供するツール群でそのまま高セキュリティな情報基盤として活用できるプラットフォームとなっています。  \n",
    "\n",
    "ぜひ、本ドキュメントでその可能性を感じていただければと思います。なお、各章の最後に載せた「現場で使えるヒント」は各機能の横断的な知識が必要になりますので最初は読み飛ばしていただいても大丈夫です。（いくつかの章の現場で使えるヒントは「現在執筆中」とさせていただいております。）  \n",
    "\n",
    "## Symbolブロックチェーンでできないこと\n",
    "\n",
    "他のチェーンで開発されてきた方のために、すこしだけ説明しておきます。\n",
    "\n",
    "Symbolブロックチェーンにはコントラクトアカウントが存在しません。したがって、スマートコントラクトをデプロイするという発想がなく、すべてのスマートコントラクトは1回だけ実行されて、その効力を失います。そのため、デプロイレス・ワンタイムスマートコントラクトと表現されることもあります。  \n",
    "\n",
    "デプロイ不要なため、任意の言語でスマートコントラクトを記述することができ、また、1回限りの実行のため、不適切なループ制御などでネットワークのリソースを大量に消費したり、コントラクト内のロジックを再利用して悪用されるといった脆弱性を狙われることもありません。"
   ]
  },
  {
   "attachments": {},
   "cell_type": "markdown",
   "metadata": {
    "dotnet_interactive": {
     "language": "csharp"
    },
    "polyglot_notebook": {
     "kernelName": "csharp"
    }
   },
   "source": [
    "<span style=\"color:#87cefa\">\n",
    "\n",
    "# 補足\n",
    "</span>\n",
    "<span style=\"color:#87cefa\">\n",
    "\n",
    "・NEMの後継でハードフォーク（バージョンアップ）したブロックチェーン  \n",
    "・通貨はXYM（日本ではZaif、BitBankで上場、BitFlyer、コインチェックは配布はされたが上場は未定）    \n",
    "・社会実装を想定した多様で便利な機能がAPIで提供されている   \n",
    "　　・多様な機能をもつトークンを作成できる（譲渡不可、回収可能など）=>簡単にNFTやSBTが作れる  \n",
    "　　・マルチレベルマルチシグ（署名）が可能　=>選挙やDAOなど  \n",
    "　　・アグリゲートトランザクションで最大100件のトランザクションを不整合なく実行可能  \n",
    "　　・トークン送付時にメッセージ（最大1023バイト）をつける事が可能（暗号化も可能）=>フルオンチェーンが簡単に  \n",
    "・開発者フレンドリー（ APIで機能が提供されているため言語を問わず利用可能）  \n",
    "・各言語でAPIをさらに使いやすくするためのSDKが提供されている（公式ではjs、ts、java、python）有志がその他言語でほぼ網羅  </span>"
   ]
  },
  {
   "attachments": {},
   "cell_type": "markdown",
   "metadata": {
    "dotnet_interactive": {
     "language": "csharp"
    },
    "polyglot_notebook": {
     "kernelName": "csharp"
    }
   },
   "source": [
    "![image](https://user-images.githubusercontent.com/47712051/232588081-96060987-ab8f-49cd-bb97-f738456452f4.png)"
   ]
  },
  {
   "attachments": {},
   "cell_type": "markdown",
   "metadata": {
    "dotnet_interactive": {
     "language": "csharp"
    },
    "polyglot_notebook": {
     "kernelName": "csharp"
    }
   },
   "source": [
    "<span style=\"color:red\">\n",
    "\n",
    "### 面白い事例 フルオンチェーン NFT HTMLゲーム\n",
    "</span>\n",
    "\n",
    "[OpenSeaページへ](https://opensea.io/ja/assets/ethereum/0x2672772bd99ea229ce87cb7b169aa95d2e36e2dc/0)"
   ]
  },
  {
   "cell_type": "markdown",
   "metadata": {
    "dotnet_interactive": {
     "language": "csharp"
    },
    "polyglot_notebook": {
     "kernelName": "csharp"
    }
   },
   "source": []
  }
 ],
 "metadata": {
  "kernelspec": {
   "display_name": ".NET (C#)",
   "language": "C#",
   "name": ".net-csharp"
  },
  "polyglot_notebook": {
   "kernelInfo": {
    "defaultKernelName": "csharp",
    "items": [
     {
      "aliases": [
       "c#",
       "C#"
      ],
      "languageName": "C#",
      "name": "csharp"
     },
     {
      "aliases": [
       "frontend"
      ],
      "name": "vscode"
     },
     {
      "aliases": [],
      "name": ".NET"
     },
     {
      "aliases": [
       "f#",
       "F#"
      ],
      "languageName": "F#",
      "name": "fsharp"
     },
     {
      "aliases": [],
      "languageName": "HTML",
      "name": "html"
     },
     {
      "aliases": [
       "js"
      ],
      "languageName": "JavaScript",
      "name": "javascript"
     },
     {
      "aliases": [],
      "languageName": "KQL",
      "name": "kql"
     },
     {
      "aliases": [],
      "languageName": "Mermaid",
      "name": "mermaid"
     },
     {
      "aliases": [
       "powershell"
      ],
      "languageName": "PowerShell",
      "name": "pwsh"
     },
     {
      "aliases": [],
      "languageName": "SQL",
      "name": "sql"
     },
     {
      "aliases": [],
      "name": "value"
     },
     {
      "aliases": [],
      "name": "webview"
     }
    ]
   }
  }
 },
 "nbformat": 4,
 "nbformat_minor": 2
}
