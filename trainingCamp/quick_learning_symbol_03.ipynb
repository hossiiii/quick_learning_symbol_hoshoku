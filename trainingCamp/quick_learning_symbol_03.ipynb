{
 "cells": [
  {
   "attachments": {},
   "cell_type": "markdown",
   "metadata": {
    "dotnet_interactive": {
     "language": "javascript"
    },
    "polyglot_notebook": {
     "kernelName": "javascript"
    }
   },
   "source": [
    "<hr />\n",
    "\n",
    "### NoteBookの見方\n",
    "コード以外の情報 \n",
    "<span >白/黒での記載は速習Symbol</span>  \n",
    "<span style=\"color:red\">赤色での記載は補足情報</span>  \n",
    "<span >コード内で🌟マークがある場所は自分の情報に書き換えが必要</span>\n",
    "\n",
    "<hr />"
   ]
  },
  {
   "attachments": {},
   "cell_type": "markdown",
   "metadata": {
    "dotnet_interactive": {
     "language": "javascript"
    },
    "polyglot_notebook": {
     "kernelName": "javascript"
    }
   },
   "source": [
    "<span style=\"color:red\">\n",
    "\n",
    "# 環境構築\n",
    "</span>\n",
    "<span style=\"color:red\">\n",
    "\n",
    "## 1.Symbol SDKの読み込み </span>"
   ]
  },
  {
   "cell_type": "code",
   "execution_count": 1,
   "metadata": {
    "dotnet_interactive": {
     "language": "javascript"
    },
    "polyglot_notebook": {
     "kernelName": "javascript"
    },
    "vscode": {
     "languageId": "polyglot-notebook"
    }
   },
   "outputs": [],
   "source": [
    "(script = document.createElement(\"script\")).src = \"https://xembook.github.io/nem2-browserify/symbol-sdk-pack-2.0.3.js\";\n",
    "document.getElementsByTagName(\"head\")[0].appendChild(script);"
   ]
  },
  {
   "attachments": {},
   "cell_type": "markdown",
   "metadata": {
    "dotnet_interactive": {
     "language": "javascript"
    },
    "polyglot_notebook": {
     "kernelName": "javascript"
    }
   },
   "source": [
    "<span style=\"color:red\">\n",
    "\n",
    "## 2.Symbol用の共通設定 </span>"
   ]
  },
  {
   "cell_type": "code",
   "execution_count": 2,
   "metadata": {
    "dotnet_interactive": {
     "language": "javascript"
    },
    "polyglot_notebook": {
     "kernelName": "javascript"
    },
    "vscode": {
     "languageId": "polyglot-notebook"
    }
   },
   "outputs": [],
   "source": [
    "NODE = 'https://sym-test-03.opening-line.jp:3001';\n",
    "sym = require(\"/node_modules/symbol-sdk\");\n",
    "repo = new sym.RepositoryFactoryHttp(NODE);\n",
    "txRepo = repo.createTransactionRepository();\n",
    "mosaicRepo = repo.createMosaicRepository();\n",
    "accountRepo = repo.createAccountRepository();\n",
    "(async () => {\n",
    "  networkType = await repo.getNetworkType().toPromise();\n",
    "  generationHash = await repo.getGenerationHash().toPromise();\n",
    "  epochAdjustment = await repo.getEpochAdjustment().toPromise();\n",
    "})();\n",
    "\n",
    "function clog(signedTx){\n",
    "    console.log(NODE + \"/transactionStatus/\" + signedTx.hash);\n",
    "    console.log(NODE + \"/transactions/confirmed/\" + signedTx.hash);\n",
    "    console.log(\"https://symbol.fyi/transactions/\" + signedTx.hash);\n",
    "    console.log(\"https://testnet.symbol.fyi/transactions/\" + signedTx.hash);\n",
    "}"
   ]
  },
  {
   "attachments": {},
   "cell_type": "markdown",
   "metadata": {
    "dotnet_interactive": {
     "language": "javascript"
    },
    "polyglot_notebook": {
     "kernelName": "javascript"
    }
   },
   "source": [
    "<img width=\"800\" alt=\"スクリーンショット 2023-01-21 1 39 39\" src=\"https://user-images.githubusercontent.com/47712051/232594541-24c788ea-5981-4fee-9952-55d324f141fd.png\">"
   ]
  },
  {
   "attachments": {},
   "cell_type": "markdown",
   "metadata": {
    "dotnet_interactive": {
     "language": "javascript"
    },
    "polyglot_notebook": {
     "kernelName": "javascript"
    }
   },
   "source": [
    "<hr />"
   ]
  },
  {
   "attachments": {},
   "cell_type": "markdown",
   "metadata": {
    "dotnet_interactive": {
     "language": "javascript"
    },
    "polyglot_notebook": {
     "kernelName": "javascript"
    }
   },
   "source": [
    "# 3.アカウント\n",
    "\n",
    "アカウントは秘密鍵に紐づく情報が記録されたデータ構造体です。アカウントと関連づいた秘密鍵を使って署名することでのみブロックチェーンのデータを更新することができます。  \n",
    "\n",
    "## 3.1 アカウント生成\n",
    "\n",
    "アカウントには秘密鍵と公開鍵をセットにしたキーペア、アドレスなどの情報が含まれています。まずはランダムにアカウントを作成して、それらの情報を確認してみましょう。  \n",
    "\n",
    "### 新規生成"
   ]
  },
  {
   "cell_type": "code",
   "execution_count": 3,
   "metadata": {
    "dotnet_interactive": {
     "language": "javascript"
    },
    "polyglot_notebook": {
     "kernelName": "javascript"
    },
    "vscode": {
     "languageId": "polyglot-notebook"
    }
   },
   "outputs": [
    {
     "data": {
      "text/plain": [
       "{\n",
       "  \"address\": {\n",
       "    \"address\": \"TAOP6YRVWUH6VMBAZASNLYHL2SEU7DLALXJN7EY\",\n",
       "    \"networkType\": 152\n",
       "  },\n",
       "  \"keyPair\": {\n",
       "    \"privateKey\": {\n",
       "      \"0\": 95,\n",
       "      \"1\": 210,\n",
       "      \"2\": 241,\n",
       "      \"3\": 19,\n",
       "      \"4\": 219,\n",
       "      \"5\": 101,\n",
       "      \"6\": 140,\n",
       "      \"7\": 195,\n",
       "      \"8\": 152,\n",
       "      \"9\": 92,\n",
       "      \"10\": 243,\n",
       "      \"11\": 223,\n",
       "      \"12\": 244,\n",
       "      \"13\": 217,\n",
       "      \"14\": 52,\n",
       "      \"15\": 61,\n",
       "      \"16\": 230,\n",
       "      \"17\": 218,\n",
       "      \"18\": 40,\n",
       "      \"19\": 59,\n",
       "      \"20\": 56,\n",
       "      \"21\": 40,\n",
       "      \"22\": 252,\n",
       "      \"23\": 4,\n",
       "      \"24\": 74,\n",
       "      \"25\": 192,\n",
       "      \"26\": 221,\n",
       "      \"27\": 39,\n",
       "      \"28\": 220,\n",
       "      \"29\": 116,\n",
       "      \"30\": 252,\n",
       "      \"31\": 85\n",
       "    },\n",
       "    \"publicKey\": {\n",
       "      \"0\": 112,\n",
       "      \"1\": 176,\n",
       "      \"2\": 198,\n",
       "      \"3\": 189,\n",
       "      \"4\": 178,\n",
       "      \"5\": 194,\n",
       "      \"6\": 145,\n",
       "      \"7\": 241,\n",
       "      \"8\": 243,\n",
       "      \"9\": 13,\n",
       "      \"10\": 157,\n",
       "      \"11\": 166,\n",
       "      \"12\": 207,\n",
       "      \"13\": 125,\n",
       "      \"14\": 28,\n",
       "      \"15\": 109,\n",
       "      \"16\": 191,\n",
       "      \"17\": 84,\n",
       "      \"18\": 88,\n",
       "      \"19\": 130,\n",
       "      \"20\": 133,\n",
       "      \"21\": 176,\n",
       "      \"22\": 64,\n",
       "      \"23\": 173,\n",
       "      \"24\": 215,\n",
       "      \"25\": 98,\n",
       "      \"26\": 234,\n",
       "      \"27\": 205,\n",
       "      \"28\": 133,\n",
       "      \"29\": 62,\n",
       "      \"30\": 228,\n",
       "      \"31\": 233\n",
       "    }\n",
       "  }\n",
       "}"
      ]
     },
     "metadata": {},
     "output_type": "display_data"
    }
   ],
   "source": [
    "alice = sym.Account.generateNewAccount(networkType);\n",
    "console.log(JSON.stringify(alice,null,2));"
   ]
  },
  {
   "attachments": {},
   "cell_type": "markdown",
   "metadata": {
    "dotnet_interactive": {
     "language": "javascript"
    },
    "polyglot_notebook": {
     "kernelName": "javascript"
    }
   },
   "source": [
    "###### 出力例\n",
    "```js\n",
    "> Account\n",
    "    address: Address {address: 'TBXUTAX6O6EUVPB6X7OBNX6UUXBMPPAFX7KE5TQ', networkType: 152}\n",
    "    keyPair: {privateKey: Uint8Array(32), publicKey: Uint8Array(32)}\n",
    "```\n",
    "\n",
    "networkTypeは以下の通りです。\n",
    "```js\n",
    "{104: 'MAIN_NET', 152: 'TEST_NET'}\n",
    "```\n",
    "\n",
    "### 秘密鍵と公開鍵の導出"
   ]
  },
  {
   "cell_type": "code",
   "execution_count": 5,
   "metadata": {
    "dotnet_interactive": {
     "language": "javascript"
    },
    "polyglot_notebook": {
     "kernelName": "javascript"
    },
    "vscode": {
     "languageId": "polyglot-notebook"
    }
   },
   "outputs": [
    {
     "data": {
      "text/plain": [
       "5FD2F113DB658CC3985CF3DFF4D9343DE6DA283B3828FC044AC0DD27DC74FC55"
      ]
     },
     "metadata": {},
     "output_type": "display_data"
    },
    {
     "data": {
      "text/plain": [
       "70B0C6BDB2C291F1F30D9DA6CF7D1C6DBF54588285B040ADD762EACD853EE4E9"
      ]
     },
     "metadata": {},
     "output_type": "display_data"
    }
   ],
   "source": [
    "console.log(alice.privateKey);\n",
    "console.log(alice.publicKey);"
   ]
  },
  {
   "attachments": {},
   "cell_type": "markdown",
   "metadata": {
    "dotnet_interactive": {
     "language": "javascript"
    },
    "polyglot_notebook": {
     "kernelName": "javascript"
    }
   },
   "source": [
    "```\n",
    "> 1E9139CC1580B4AED6A1FE110085281D4982ED0D89CE07F3380EB83069B1****\n",
    "> D4933FC1E4C56F9DF9314E9E0533173E1AB727BDB2A04B59F048124E93BEFBD2\n",
    "```\n",
    "\n",
    "#### 注意事項\n",
    "秘密鍵を紛失するとそのアカウントに紐づけられたデータを操作することが出来なくなります。また、他人は知らないという秘密鍵の性質を利用してデータ操作の署名を行うので、秘密鍵を他人に教えてはいけません。組織のなかで秘密鍵を譲り受けて運用を続けるといった行為も控えましょう。\n",
    "一般的なWebサービスでは「アカウントID」に対してパスワードが割り振られるため、パスワードの変更が可能ですが、ブロックチェーンではパスワードにあたる秘密鍵に対して一意に決まるID(アドレス)が割り振られるため、アカウントに紐づく秘密鍵を変更するということはできません。  \n",
    "\n",
    "\n",
    "### アドレスの導出"
   ]
  },
  {
   "cell_type": "code",
   "execution_count": 4,
   "metadata": {
    "dotnet_interactive": {
     "language": "javascript"
    },
    "polyglot_notebook": {
     "kernelName": "javascript"
    },
    "vscode": {
     "languageId": "polyglot-notebook"
    }
   },
   "outputs": [
    {
     "data": {
      "text/plain": [
       "TAOP6YRVWUH6VMBAZASNLYHL2SEU7DLALXJN7EY"
      ]
     },
     "metadata": {},
     "output_type": "display_data"
    }
   ],
   "source": [
    "aliceRawAddress = alice.address.plain();\n",
    "console.log(aliceRawAddress);"
   ]
  },
  {
   "attachments": {},
   "cell_type": "markdown",
   "metadata": {
    "dotnet_interactive": {
     "language": "javascript"
    },
    "polyglot_notebook": {
     "kernelName": "javascript"
    }
   },
   "source": [
    "```js\n",
    "> TBXUTAX6O6EUVPB6X7OBNX6UUXBMPPAFX7KE5TQ\n",
    "```\n",
    "\n",
    "これらがブロックチェーンを操作するための最も基本的な情報となります。また、秘密鍵からアカウントを生成したり、公開鍵やアドレスのみを扱うクラスの生成方法も確認しておきましょう。  \n",
    "\n",
    "### 秘密鍵からアカウント生成"
   ]
  },
  {
   "cell_type": "code",
   "execution_count": null,
   "metadata": {
    "dotnet_interactive": {
     "language": "javascript"
    },
    "polyglot_notebook": {
     "kernelName": "javascript"
    },
    "vscode": {
     "languageId": "polyglot-notebook"
    }
   },
   "outputs": [],
   "source": [
    "alice = sym.Account.createFromPrivateKey(\n",
    "    \"1E9139CC1580B4AED6A1FE110085281D4982ED0D89CE07F3380EB83069B1****\", //🌟ここを先ほど導出したalice.privateKeyに置き換えて実行する\n",
    "    networkType\n",
    ");"
   ]
  },
  {
   "attachments": {},
   "cell_type": "markdown",
   "metadata": {
    "dotnet_interactive": {
     "language": "javascript"
    },
    "polyglot_notebook": {
     "kernelName": "javascript"
    }
   },
   "source": [
    "### 公開鍵クラスの生成"
   ]
  },
  {
   "cell_type": "code",
   "execution_count": null,
   "metadata": {
    "dotnet_interactive": {
     "language": "javascript"
    },
    "polyglot_notebook": {
     "kernelName": "javascript"
    },
    "vscode": {
     "languageId": "polyglot-notebook"
    }
   },
   "outputs": [],
   "source": [
    "alicePublicAccount = sym.PublicAccount.createFromPublicKey(\n",
    "    \"D4933FC1E4C56F9DF9314E9E0533173E1AB727BDB2A04B59F048124E9****\", //🌟ここを先ほど導出したalice.publicKeyに置き換えて実行する\n",
    "    networkType\n",
    ");\n",
    "console.log(JSON.stringify(alicePublicAccount,null,2));"
   ]
  },
  {
   "attachments": {},
   "cell_type": "markdown",
   "metadata": {
    "dotnet_interactive": {
     "language": "javascript"
    },
    "polyglot_notebook": {
     "kernelName": "javascript"
    }
   },
   "source": [
    "###### 出力例\n",
    "```js\n",
    "> PublicAccount\n",
    "    address: Address {address: 'TBXUTAX6O6EUVPB6X7OBNX6UUXBMPPAFX7KE5TQ', networkType: 152}\n",
    "    publicKey: \"D4933FC1E4C56F9DF9314E9E0533173E1AB727BDB2A04B59F048124E93BEFBD2\"\n",
    "```\n",
    "\n",
    "### アドレスクラスの生成"
   ]
  },
  {
   "cell_type": "code",
   "execution_count": null,
   "metadata": {
    "dotnet_interactive": {
     "language": "javascript"
    },
    "polyglot_notebook": {
     "kernelName": "javascript"
    },
    "vscode": {
     "languageId": "polyglot-notebook"
    }
   },
   "outputs": [],
   "source": [
    "aliceAddress = sym.Address.createFromRawAddress(\n",
    "    \"TBXUTAX6O6EUVPB6X7OBNX6UUXBMPPAFX7KE*******\" //🌟ここを先ほど導出したaliceRawAddressに置き換えて実行する\n",
    ");\n",
    "console.log(JSON.stringify(aliceAddress,null,2));"
   ]
  },
  {
   "attachments": {},
   "cell_type": "markdown",
   "metadata": {
    "dotnet_interactive": {
     "language": "javascript"
    },
    "polyglot_notebook": {
     "kernelName": "javascript"
    }
   },
   "source": [
    "###### 出力例\n",
    "```js\n",
    "> Address\n",
    "    address: \"TBXUTAX6O6EUVPB6X7OBNX6UUXBMPPAFX7KE5TQ\"\n",
    "    networkType: 152\n",
    "```\n",
    "\n",
    "## 3.2 アカウントへの送信\n",
    "\n",
    "アカウントを作成しただけでは、ブロックチェーンにデータを送信することはできません。  \n",
    "パブリックブロックチェーンはリソースを有効活用するためにデータ送信時に手数料を要求します。  \n",
    "Symbolブロックチェーンでは、この手数料をXYMという共通トークンで支払うことになります。  \n",
    "アカウントを生成したら、この後の章から説明するトランザクションを実行するために必要な手数料を送信しておきます。  \n",
    "\n",
    "### フォーセットから送信\n",
    "\n",
    "テストネットではフォーセット（蛇口）サービスから検証用のXYMを入手することができます。  \n",
    "メインネットの場合は取引所などでXYMを購入するか、投げ銭サービス(NEMLOG,QUEST)などを利用して寄付を募りましょう。  \n",
    "\n",
    "テストネット\n",
    "- FAUCET(蛇口)\n",
    "  - https://testnet.symbol.tools/\n",
    "\n",
    "メインネット\n",
    "- NEMLOG\n",
    "  - https://nemlog.nem.social/\n",
    "- QUEST\n",
    "  - https://quest-bc.com/\n",
    "\n",
    "\n",
    "\n",
    "### エクスプローラーで確認\n",
    "\n",
    "フォーセットから作成したアカウントへ送信が成功したらエクスプローラーで確認してみましょう。\n",
    "\n",
    "- テストネット\n",
    "  - https://testnet.symbol.fyi/\n",
    "- メインネット\n",
    "  - https://symbol.fyi/\n",
    "\n",
    "## 3.3 アカウント情報の確認\n",
    "\n",
    "ノードに保存されているアカウント情報を取得します。\n",
    "\n",
    "### 所有モザイク一覧の取得"
   ]
  },
  {
   "cell_type": "code",
   "execution_count": null,
   "metadata": {
    "dotnet_interactive": {
     "language": "javascript"
    },
    "polyglot_notebook": {
     "kernelName": "javascript"
    },
    "vscode": {
     "languageId": "polyglot-notebook"
    }
   },
   "outputs": [],
   "source": [
    "accountRepo = repo.createAccountRepository();\n",
    "accountInfo = await accountRepo.getAccountInfo(aliceAddress).toPromise();\n",
    "console.log(JSON.stringify(accountInfo,null,2));"
   ]
  },
  {
   "attachments": {},
   "cell_type": "markdown",
   "metadata": {
    "dotnet_interactive": {
     "language": "javascript"
    },
    "polyglot_notebook": {
     "kernelName": "javascript"
    }
   },
   "source": [
    "#### publicKey\n",
    "クライアント側で作成しただけで、ブロックチェーンでまだ利用されていないアカウント情報は記録されていません。宛先として指定されて受信することで初めてアカウント情報が記録され、署名したトランザクションを送信することで公開鍵の情報が記録されます。そのため、publicKeyは現在`00000...`表記となっています。\n",
    "\n",
    "#### UInt64\n",
    "JavaScriptでは大きすぎる数値はあふれてしまうため、idやamountはUInt64というsdkの独自フォーマットで管理されています。文字列に変換する場合は toString()、数値に変換する場合は compact()、16進数にする場合は toHex() で変換してください。"
   ]
  },
  {
   "cell_type": "code",
   "execution_count": null,
   "metadata": {
    "dotnet_interactive": {
     "language": "javascript"
    },
    "polyglot_notebook": {
     "kernelName": "javascript"
    },
    "vscode": {
     "languageId": "polyglot-notebook"
    }
   },
   "outputs": [],
   "source": [
    "console.log(\"addressHeight:\"); //アドレスが記録されたブロック高\n",
    "console.log(accountInfo.addressHeight.compact()); //数値\n",
    "accountInfo.mosaics.forEach(mosaic => {\n",
    "  console.log(\"id:\" + mosaic.id.toHex()); //16進数\n",
    "  console.log(\"amount:\" + mosaic.amount.toString()); //文字列\n",
    "});"
   ]
  },
  {
   "attachments": {},
   "cell_type": "markdown",
   "metadata": {
    "dotnet_interactive": {
     "language": "javascript"
    },
    "polyglot_notebook": {
     "kernelName": "javascript"
    }
   },
   "source": [
    "大きすぎるid値をcompactで数値変換するとエラーが発生することがあります。  \n",
    "`Compacted value is greater than Number.Max_Value.`\n",
    "\n",
    "\n",
    "#### 表示桁数の調整\n",
    "\n",
    "所有するトークンの量は誤差の発生を防ぐため、整数値で扱います。トークンの定義から可分性を取得することができるので、その値を使って正確な所有量を表示してみます。  "
   ]
  },
  {
   "cell_type": "code",
   "execution_count": null,
   "metadata": {
    "dotnet_interactive": {
     "language": "javascript"
    },
    "polyglot_notebook": {
     "kernelName": "javascript"
    },
    "vscode": {
     "languageId": "polyglot-notebook"
    }
   },
   "outputs": [],
   "source": [
    "mosaicRepo = repo.createMosaicRepository();\n",
    "mosaicAmount = accountInfo.mosaics[0].amount.toString();\n",
    "mosaicInfo = await mosaicRepo.getMosaic(accountInfo.mosaics[0].id).toPromise();\n",
    "divisibility = mosaicInfo.divisibility; //可分性\n",
    "if(divisibility > 0){\n",
    "  displayAmount = mosaicAmount.slice(0,mosaicAmount.length-divisibility)  \n",
    "  + \".\" + mosaicAmount.slice(-divisibility);\n",
    "}else{\n",
    "  displayAmount = mosaicAmount;\n",
    "}\n",
    "console.log(displayAmount);"
   ]
  },
  {
   "attachments": {},
   "cell_type": "markdown",
   "metadata": {
    "dotnet_interactive": {
     "language": "javascript"
    },
    "polyglot_notebook": {
     "kernelName": "javascript"
    }
   },
   "source": [
    "## 3.4 現場で使えるヒント\n",
    "### 暗号化と署名\n",
    "\n",
    "アカウントとして生成した秘密鍵や公開鍵は、そのまま従来の暗号化や電子署名として活用することができます。信頼性に問題点があるアプリケーションを使用する必要がある場合も、個人間（エンドツーエンド）でデータの秘匿性・正当性を検証することができます。  \n",
    "\n",
    "<img width=\"800\" alt=\"スクリーンショット 2023-01-21 1 39 39\" src=\"https://user-images.githubusercontent.com/47712051/232594570-a53e4329-b653-481b-83d3-bd8a9ce611db.png\"> \n",
    "\n",
    "<img width=\"800\" alt=\"スクリーンショット 2023-01-21 1 39 39\" src=\"https://user-images.githubusercontent.com/47712051/232594585-1552a006-ffdf-4bc2-a074-098f3dc07b00.png\">\n",
    "\n",
    "<img width=\"800\" alt=\"スクリーンショット 2023-01-21 1 39 39\" src=\"https://user-images.githubusercontent.com/47712051/232594678-38059798-a08d-471e-846a-0eaa35628e5b.png\">  \n",
    "\n",
    "#### 事前準備：対話のためのBobアカウントを生成"
   ]
  },
  {
   "cell_type": "code",
   "execution_count": null,
   "metadata": {
    "dotnet_interactive": {
     "language": "javascript"
    },
    "polyglot_notebook": {
     "kernelName": "javascript"
    },
    "vscode": {
     "languageId": "polyglot-notebook"
    }
   },
   "outputs": [],
   "source": [
    "bob = sym.Account.generateNewAccount(networkType);\n",
    "bobPublicAccount = bob.publicAccount;"
   ]
  },
  {
   "attachments": {},
   "cell_type": "markdown",
   "metadata": {
    "dotnet_interactive": {
     "language": "javascript"
    },
    "polyglot_notebook": {
     "kernelName": "javascript"
    }
   },
   "source": [
    "#### 暗号化\n",
    "\n",
    "Aliceの秘密鍵・Bobの公開鍵で暗号化し、Aliceの公開鍵・Bobの秘密鍵で復号します（AES-GCM形式）。"
   ]
  },
  {
   "cell_type": "code",
   "execution_count": null,
   "metadata": {
    "dotnet_interactive": {
     "language": "javascript"
    },
    "polyglot_notebook": {
     "kernelName": "javascript"
    },
    "vscode": {
     "languageId": "polyglot-notebook"
    }
   },
   "outputs": [],
   "source": [
    "message = 'Hello Symol!';\n",
    "encryptedMessage = alice.encryptMessage(message ,bob.publicAccount);\n",
    "console.log(encryptedMessage);"
   ]
  },
  {
   "attachments": {},
   "cell_type": "markdown",
   "metadata": {
    "dotnet_interactive": {
     "language": "javascript"
    },
    "polyglot_notebook": {
     "kernelName": "javascript"
    }
   },
   "source": [
    "```js\n",
    "> 294C8979156C0D941270BAC191F7C689E93371EDBC36ADD8B920CF494012A97BA2D1A3759F9A6D55D5957E9D\n",
    "```\n",
    "\n",
    "#### 復号化"
   ]
  },
  {
   "cell_type": "code",
   "execution_count": null,
   "metadata": {
    "dotnet_interactive": {
     "language": "javascript"
    },
    "polyglot_notebook": {
     "kernelName": "javascript"
    },
    "vscode": {
     "languageId": "polyglot-notebook"
    }
   },
   "outputs": [],
   "source": [
    "decryptMessage = bob.decryptMessage(\n",
    "    new sym.EncryptedMessage(\n",
    "      \"294C8979156C0D941270BAC191F7C689E93371EDBC36ADD8B920CF494012A97BA2D1A3759F9A6D55D5957E9D\" //🌟ここを先ほど導出したencryptedMessageのpayloadに置き換えて実行する\n",
    "    ),\n",
    "    alice.publicAccount\n",
    "  ).payload\n",
    "  console.log(decryptMessage);  "
   ]
  },
  {
   "attachments": {},
   "cell_type": "markdown",
   "metadata": {
    "dotnet_interactive": {
     "language": "javascript"
    },
    "polyglot_notebook": {
     "kernelName": "javascript"
    }
   },
   "source": [
    "```js\n",
    "> \"Hello Symol!\"\n",
    "```\n",
    "\n",
    "<span style=\"color:red\">\n",
    "\n",
    "### 補足　別のアカウントでは復号化可能か検証</span>  "
   ]
  },
  {
   "cell_type": "code",
   "execution_count": null,
   "metadata": {
    "dotnet_interactive": {
     "language": "javascript"
    },
    "polyglot_notebook": {
     "kernelName": "javascript"
    },
    "vscode": {
     "languageId": "polyglot-notebook"
    }
   },
   "outputs": [],
   "source": [
    "carol = sym.Account.generateNewAccount(networkType);\n",
    "\n",
    "decryptMessage = carol.decryptMessage(\n",
    "    new sym.EncryptedMessage(\n",
    "      \"294C8979156C0D941270BAC191F7C689E93371EDBC36ADD8B920CF494012A97BA2D1A3759F9A6D55D5957E9D\" //🌟ここを先ほど導出したencryptedMessageのpayloadに置き換えて実行する\n",
    "    ),\n",
    "    alice.publicAccount\n",
    "  ).payload\n",
    "  console.log(decryptMessage);"
   ]
  },
  {
   "attachments": {},
   "cell_type": "markdown",
   "metadata": {
    "dotnet_interactive": {
     "language": "javascript"
    },
    "polyglot_notebook": {
     "kernelName": "javascript"
    }
   },
   "source": [
    "#### 署名\n",
    "\n",
    "Aliceの秘密鍵でメッセージを署名し、Aliceの公開鍵と署名でメッセージを検証します。"
   ]
  },
  {
   "cell_type": "code",
   "execution_count": null,
   "metadata": {
    "dotnet_interactive": {
     "language": "javascript"
    },
    "polyglot_notebook": {
     "kernelName": "javascript"
    },
    "vscode": {
     "languageId": "polyglot-notebook"
    }
   },
   "outputs": [],
   "source": [
    "Buffer = require(\"/node_modules/buffer\").Buffer;\n",
    "payload = Buffer.from(\"Hello Symol!\", 'utf-8');\n",
    "signature = Buffer.from(sym.KeyPair.sign(alice.keyPair, payload)).toString(\"hex\").toUpperCase();\n",
    "console.log(signature);"
   ]
  },
  {
   "attachments": {},
   "cell_type": "markdown",
   "metadata": {
    "dotnet_interactive": {
     "language": "javascript"
    },
    "polyglot_notebook": {
     "kernelName": "javascript"
    }
   },
   "source": [
    "```\n",
    "> B8A9BCDE9246BB5780A8DED0F4D5DFC80020BBB7360B863EC1F9C62CAFA8686049F39A9F403CB4E66104754A6AEDEF8F6B4AC79E9416DEEDC176FDD24AFEC60E\n",
    "```\n",
    "\n",
    "#### 検証"
   ]
  },
  {
   "cell_type": "code",
   "execution_count": null,
   "metadata": {
    "dotnet_interactive": {
     "language": "javascript"
    },
    "polyglot_notebook": {
     "kernelName": "javascript"
    },
    "vscode": {
     "languageId": "polyglot-notebook"
    }
   },
   "outputs": [],
   "source": [
    "isVerified = sym.KeyPair.verify(\n",
    "    alice.keyPair.publicKey,\n",
    "    Buffer.from(\"Hello Symol!\", 'utf-8'),\n",
    "    Buffer.from(signature, 'hex')\n",
    ")\n",
    "console.log(isVerified);  "
   ]
  },
  {
   "attachments": {},
   "cell_type": "markdown",
   "metadata": {
    "dotnet_interactive": {
     "language": "javascript"
    },
    "polyglot_notebook": {
     "kernelName": "javascript"
    }
   },
   "source": [
    "```js\n",
    "> true\n",
    "```\n",
    "\n",
    "ブロックチェーンを使用しない署名は何度も再利用される可能性があることにご注意ください。\n",
    "\n",
    "<span style=\"color:red\">\n",
    "\n",
    "### 補足　KeyPairが異なった場合の挙動を検証</span>  "
   ]
  },
  {
   "cell_type": "code",
   "execution_count": null,
   "metadata": {
    "dotnet_interactive": {
     "language": "javascript"
    },
    "polyglot_notebook": {
     "kernelName": "javascript"
    },
    "vscode": {
     "languageId": "polyglot-notebook"
    }
   },
   "outputs": [],
   "source": [
    "isVerified = sym.KeyPair.verify(\n",
    "    bob.keyPair.publicKey,\n",
    "    Buffer.from(\"Hello Symol!\", 'utf-8'),\n",
    "    Buffer.from(signature, 'hex')\n",
    ")\n",
    "console.log(isVerified);  "
   ]
  },
  {
   "attachments": {},
   "cell_type": "markdown",
   "metadata": {
    "dotnet_interactive": {
     "language": "javascript"
    },
    "polyglot_notebook": {
     "kernelName": "javascript"
    }
   },
   "source": [
    "### アカウントの保管\n",
    "\n",
    "アカウントの管理方法について説明しておきます。  \n",
    "秘密鍵はそのままで保存しないようにしてください。symbol-qr-libraryを利用して秘密鍵をパスフレーズで暗号化して保存する方法を紹介します。  \n",
    "\n",
    "#### 秘密鍵の暗号化"
   ]
  },
  {
   "cell_type": "code",
   "execution_count": null,
   "metadata": {
    "dotnet_interactive": {
     "language": "javascript"
    },
    "polyglot_notebook": {
     "kernelName": "javascript"
    },
    "vscode": {
     "languageId": "polyglot-notebook"
    }
   },
   "outputs": [],
   "source": [
    "qr = require(\"/node_modules/symbol-qr-library\");\n",
    "//パスフレーズでロックされたアカウント生成\n",
    "signerQR = qr.QRCodeGenerator.createExportAccount(\n",
    "  alice.privateKey, networkType, generationHash, \"パスフレーズ\" //🌟このパスフレーズを自分のパスフレーズに置き換えて実行する\n",
    ");\n",
    "//QRコード表示\n",
    "signerQR.toBase64().subscribe(x =>{\n",
    "  //HTML body上にQRコードを表示する例\n",
    "  (tag= document.createElement('img')).src = x;\n",
    "  document.getElementsByTagName('body')[0].appendChild(tag);\n",
    "});\n",
    "//アカウントを暗号化したJSONデータとして表示\n",
    "jsonSignerQR = signerQR.toJSON();\n",
    "console.log(jsonSignerQR);"
   ]
  },
  {
   "attachments": {},
   "cell_type": "markdown",
   "metadata": {
    "dotnet_interactive": {
     "language": "javascript"
    },
    "polyglot_notebook": {
     "kernelName": "javascript"
    }
   },
   "source": [
    "###### 出力例\n",
    "```js\n",
    "> {\"v\":3,\"type\":2,\"network_id\":152,\"chain_id\":\"7FCCD304802016BEBBCD342A332F91FF1F3BB5E902988B352697BE245F48E836\",\"data\":{\"ciphertext\":\"e9e2f76cb482fd054bc13b7ca7c9d086E7VxeGS/N8n1WGTc5MwshNMxUiOpSV2CNagtc6dDZ7rVZcnHXrrESS06CtDTLdD7qrNZEZAi166ucDUgk4Yst0P/XJfesCpXRxlzzNgcK8Q=\",\"salt\":\"54de9318a44cc8990e01baba1bcb92fa111d5bcc0b02ffc6544d2816989dc0e9\"}}\n",
    "```\n",
    "このjsonSignerQRで出力されるQRコード、あるいはテキストを保存しておけばいつでも秘密鍵を復元することができます。\n",
    "\n",
    "#### 暗号化された秘密鍵の復号"
   ]
  },
  {
   "cell_type": "code",
   "execution_count": null,
   "metadata": {
    "dotnet_interactive": {
     "language": "javascript"
    },
    "polyglot_notebook": {
     "kernelName": "javascript"
    },
    "vscode": {
     "languageId": "polyglot-notebook"
    }
   },
   "outputs": [],
   "source": [
    "//🌟保存しておいたテキスト、あるいはQRコードスキャンで得られたテキストをjsonSignerQRに代入\n",
    "jsonSignerQR = '{\"v\":3,\"type\":2,\"network_id\":152,\"chain_id\":\"7FCCD304802016BEBBCD342A332F91FF1F3BB5E902988B352697BE245F48E836\",\"data\":{\"ciphertext\":\"e9e2f76cb482fd054bc13b7ca7c9d086E7VxeGS/N8n1WGTc5MwshNMxUiOpSV2CNagtc6dDZ7rVZcnHXrrESS06CtDTLdD7qrNZEZAi166ucDUgk4Yst0P/XJfesCpXRxlzzNgcK8Q=\",\"salt\":\"54de9318a44cc8990e01baba1bcb92fa111d5bcc0b02ffc6544d2816989dc0e9\"}}';\n",
    "qr = require(\"/node_modules/symbol-qr-library\");\n",
    "signerQR = qr.AccountQR.fromJSON(jsonSignerQR,\"パスフレーズ\"); //🌟このパスフレーズを自分のパスフレーズに置き換えて実行する\n",
    "console.log(signerQR.accountPrivateKey);"
   ]
  },
  {
   "attachments": {},
   "cell_type": "markdown",
   "metadata": {
    "dotnet_interactive": {
     "language": "javascript"
    },
    "polyglot_notebook": {
     "kernelName": "javascript"
    }
   },
   "source": [
    "###### 出力例\n",
    "```js\n",
    "> 1E9139CC1580B4AED6A1FE110085281D4982ED0D89CE07F3380EB83069B1****\n",
    "```"
   ]
  },
  {
   "attachments": {},
   "cell_type": "markdown",
   "metadata": {
    "dotnet_interactive": {
     "language": "javascript"
    },
    "polyglot_notebook": {
     "kernelName": "javascript"
    }
   },
   "source": [
    "<span style=\"color:red\">\n",
    "\n",
    "#### 以降の章ではこの章で作成した秘密鍵を使ってaliceアカウントをリストアして演習を行なっていきますので、以下の作成した秘密鍵合宿中無くさないようにメモ帳などに保存しておいて下さい。</span> "
   ]
  },
  {
   "cell_type": "code",
   "execution_count": null,
   "metadata": {
    "dotnet_interactive": {
     "language": "javascript"
    },
    "polyglot_notebook": {
     "kernelName": "javascript"
    },
    "vscode": {
     "languageId": "polyglot-notebook"
    }
   },
   "outputs": [],
   "source": [
    "console.log(alice.privateKey);"
   ]
  },
  {
   "cell_type": "markdown",
   "metadata": {
    "dotnet_interactive": {
     "language": "javascript"
    },
    "polyglot_notebook": {
     "kernelName": "javascript"
    }
   },
   "source": []
  }
 ],
 "metadata": {
  "kernelspec": {
   "display_name": ".NET (C#)",
   "language": "C#",
   "name": ".net-csharp"
  },
  "polyglot_notebook": {
   "kernelInfo": {
    "defaultKernelName": "javascript",
    "items": [
     {
      "aliases": [
       "js"
      ],
      "languageName": "JavaScript",
      "name": "javascript"
     },
     {
      "aliases": [
       "frontend"
      ],
      "name": "vscode"
     },
     {
      "aliases": [],
      "name": ".NET"
     },
     {
      "aliases": [
       "c#",
       "C#"
      ],
      "languageName": "C#",
      "name": "csharp"
     },
     {
      "aliases": [
       "f#",
       "F#"
      ],
      "languageName": "F#",
      "name": "fsharp"
     },
     {
      "aliases": [],
      "languageName": "HTML",
      "name": "html"
     },
     {
      "aliases": [],
      "languageName": "KQL",
      "name": "kql"
     },
     {
      "aliases": [],
      "languageName": "Mermaid",
      "name": "mermaid"
     },
     {
      "aliases": [
       "powershell"
      ],
      "languageName": "PowerShell",
      "name": "pwsh"
     },
     {
      "aliases": [],
      "languageName": "SQL",
      "name": "sql"
     },
     {
      "aliases": [],
      "name": "value"
     },
     {
      "aliases": [],
      "name": "webview"
     }
    ]
   }
  }
 },
 "nbformat": 4,
 "nbformat_minor": 2
}
