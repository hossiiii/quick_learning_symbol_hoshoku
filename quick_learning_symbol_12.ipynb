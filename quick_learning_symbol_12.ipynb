{
 "cells": [
  {
   "attachments": {},
   "cell_type": "markdown",
   "metadata": {
    "dotnet_interactive": {
     "language": "javascript"
    },
    "polyglot_notebook": {
     "kernelName": "javascript"
    }
   },
   "source": [
    "<hr />\n",
    "\n",
    "### NoteBookの見方\n",
    "コード以外の情報  \n",
    "<span style=\"color:#87cefa\">青色での記載は速習Symbol外の補足情報</span>  \n",
    "<span >白/黒での記載は速習Symbol</span>\n",
    "\n",
    "<hr />"
   ]
  },
  {
   "attachments": {},
   "cell_type": "markdown",
   "metadata": {
    "dotnet_interactive": {
     "language": "javascript"
    },
    "polyglot_notebook": {
     "kernelName": "javascript"
    }
   },
   "source": [
    "<span style=\"color:#87cefa\">\n",
    "\n",
    "# 環境構築\n",
    "</span>\n",
    "<span style=\"color:#87cefa\">\n",
    "\n",
    "### 1.Symbol SDKの読み込み </span>"
   ]
  },
  {
   "cell_type": "code",
   "execution_count": 25,
   "metadata": {
    "dotnet_interactive": {
     "language": "javascript"
    },
    "polyglot_notebook": {
     "kernelName": "javascript"
    },
    "vscode": {
     "languageId": "polyglot-notebook"
    }
   },
   "outputs": [],
   "source": [
    "(script = document.createElement(\"script\")).src = \"https://xembook.github.io/nem2-browserify/symbol-sdk-pack-2.0.3.js\";\n",
    "document.getElementsByTagName(\"head\")[0].appendChild(script);"
   ]
  },
  {
   "attachments": {},
   "cell_type": "markdown",
   "metadata": {
    "dotnet_interactive": {
     "language": "javascript"
    },
    "polyglot_notebook": {
     "kernelName": "javascript"
    }
   },
   "source": [
    "<span style=\"color:#87cefa\">\n",
    "\n",
    "### 2.Symbol用の共通設定 </span>"
   ]
  },
  {
   "cell_type": "code",
   "execution_count": 26,
   "metadata": {
    "dotnet_interactive": {
     "language": "javascript"
    },
    "polyglot_notebook": {
     "kernelName": "javascript"
    },
    "vscode": {
     "languageId": "polyglot-notebook"
    }
   },
   "outputs": [],
   "source": [
    "NODE = 'https://sym-test-04.opening-line.jp:3001';\n",
    "sym = require(\"/node_modules/symbol-sdk\");\n",
    "repo = new sym.RepositoryFactoryHttp(NODE);\n",
    "txRepo = repo.createTransactionRepository();\n",
    "mosaicRepo = repo.createMosaicRepository();\n",
    "accountRepo = repo.createAccountRepository();\n",
    "(async () => {\n",
    "  networkType = await repo.getNetworkType().toPromise();\n",
    "  generationHash = await repo.getGenerationHash().toPromise();\n",
    "  epochAdjustment = await repo.getEpochAdjustment().toPromise();\n",
    "})();"
   ]
  },
  {
   "attachments": {},
   "cell_type": "markdown",
   "metadata": {
    "dotnet_interactive": {
     "language": "javascript"
    },
    "polyglot_notebook": {
     "kernelName": "javascript"
    }
   },
   "source": [
    "<span style=\"color:#87cefa\">\n",
    "\n",
    "### 3.新規Aliceアカウントの作成 </span>"
   ]
  },
  {
   "cell_type": "code",
   "execution_count": 27,
   "metadata": {
    "dotnet_interactive": {
     "language": "javascript"
    },
    "polyglot_notebook": {
     "kernelName": "javascript"
    },
    "vscode": {
     "languageId": "polyglot-notebook"
    }
   },
   "outputs": [
    {
     "data": {
      "text/plain": [
       "https://testnet.symbol.tools/?amount=50&recipient=TCPHXEYTBAENSPPOLKMYTPULNAWKLYTW7CIOUFQ"
      ]
     },
     "metadata": {},
     "output_type": "display_data"
    }
   ],
   "source": [
    "alice = sym.Account.generateNewAccount(networkType);\n",
    "console.log(`https://testnet.symbol.tools/?amount=50&recipient=${alice.address.plain()}`) "
   ]
  },
  {
   "attachments": {},
   "cell_type": "markdown",
   "metadata": {
    "dotnet_interactive": {
     "language": "javascript"
    },
    "polyglot_notebook": {
     "kernelName": "javascript"
    }
   },
   "source": [
    "<span style=\"color:#87cefa\">aliceアカウントに手数料に必要なテスト用XYMを入金する。</span>  \n",
    "<span style=\"color:#87cefa\">上記リンクをクリックしてCLAIM！を実行.緑色のNotificationとして”View transaction in explorer.”と表示されたらタブを閉じる</span>"
   ]
  },
  {
   "cell_type": "code",
   "execution_count": 28,
   "metadata": {
    "dotnet_interactive": {
     "language": "javascript"
    },
    "polyglot_notebook": {
     "kernelName": "javascript"
    },
    "vscode": {
     "languageId": "polyglot-notebook"
    }
   },
   "outputs": [
    {
     "data": {
      "text/plain": [
       "https://testnet.symbol.fyi/accounts/TCPHXEYTBAENSPPOLKMYTPULNAWKLYTW7CIOUFQ"
      ]
     },
     "metadata": {},
     "output_type": "display_data"
    }
   ],
   "source": [
    "console.log(`https://testnet.symbol.fyi/accounts/${alice.address.plain()}`)"
   ]
  },
  {
   "attachments": {},
   "cell_type": "markdown",
   "metadata": {
    "dotnet_interactive": {
     "language": "javascript"
    },
    "polyglot_notebook": {
     "kernelName": "javascript"
    }
   },
   "source": [
    "<span style=\"color:#87cefa\">上記リンクをクリックしてaliceアカウントのエクスプローラーを表示させておく</span>    \n",
    "<span style=\"color:#87cefa\">エクスプローラーは何度も参照するので、閉じずにそのまま開いておく</span>"
   ]
  },
  {
   "attachments": {},
   "cell_type": "markdown",
   "metadata": {
    "dotnet_interactive": {
     "language": "javascript"
    },
    "polyglot_notebook": {
     "kernelName": "javascript"
    }
   },
   "source": [
    "<hr />"
   ]
  },
  {
   "attachments": {},
   "cell_type": "markdown",
   "metadata": {
    "dotnet_interactive": {
     "language": "javascript"
    },
    "polyglot_notebook": {
     "kernelName": "javascript"
    }
   },
   "source": [
    "# 12.オフライン署名\n",
    "\n",
    "ロック機構の章で、アナウンスしたトランザクションをハッシュ値指定でロックして、  \n",
    "複数の署名（オンライン署名）を集めるアグリゲートトランザクションを紹介しました。    \n",
    "この章では、トランザクションを事前に署名を集めてノードにアナウンスするオフライン署名について説明します。  \n",
    "\n",
    "## 手順\n",
    "\n",
    "Aliceが起案者となりトランザクションを作成し、署名します。  \n",
    "次にBobが署名してAliceに返します。  \n",
    "最後にAliceがトランザクションを結合してネットワークにアナウンスします。  \n",
    "\n",
    "\n",
    "## 12.1 トランザクション作成"
   ]
  },
  {
   "cell_type": "code",
   "execution_count": null,
   "metadata": {
    "dotnet_interactive": {
     "language": "javascript"
    },
    "polyglot_notebook": {
     "kernelName": "javascript"
    },
    "vscode": {
     "languageId": "polyglot-notebook"
    }
   },
   "outputs": [],
   "source": [
    "bob = sym.Account.generateNewAccount(networkType);\n",
    "innerTx1 = sym.TransferTransaction.create(\n",
    "    undefined,\n",
    "    bob.address, \n",
    "    [],\n",
    "    sym.PlainMessage.create(\"tx1\"),\n",
    "    networkType\n",
    ");\n",
    "innerTx2 = sym.TransferTransaction.create(\n",
    "    undefined,\n",
    "    alice.address, \n",
    "    [],\n",
    "    sym.PlainMessage.create(\"tx2\"),\n",
    "    networkType\n",
    ");\n",
    "aggregateTx = sym.AggregateTransaction.createComplete(\n",
    "    sym.Deadline.create(epochAdjustment),\n",
    "    [\n",
    "      innerTx1.toAggregate(alice.publicAccount),\n",
    "      innerTx2.toAggregate(bob.publicAccount)\n",
    "    ],\n",
    "    networkType,\n",
    "    [],\n",
    ").setMaxFeeForAggregate(100, 1);\n",
    "signedTx =  alice.sign(aggregateTx,generationHash);\n",
    "signedHash = signedTx.hash;\n",
    "signedPayload = signedTx.payload;\n",
    "console.log(signedPayload);"
   ]
  },
  {
   "attachments": {},
   "cell_type": "markdown",
   "metadata": {
    "dotnet_interactive": {
     "language": "javascript"
    },
    "polyglot_notebook": {
     "kernelName": "javascript"
    }
   },
   "source": [
    "###### 出力例\n",
    "```js\n",
    ">580100000000000039A6555133357524A8F4A832E1E596BDBA39297BC94CD1D0728572EE14F66AA71ACF5088DB6F0D1031FF65F2BBA7DA9EE3A8ECF242C2A0FE41B6A00A2EF4B9020E5C72B0D5946C1EFEE7E5317C5985F106B739BB0BC07E4F9A288417B3CD6D26000000000198414100AF000000000000D4641CD902000000306771D758886F1529F9B61664B0450ED138B27CC5E3AE579C16D550EDEE5791B00000000000000054000000000000000E5C72B0D5946C1EFEE7E5317C5985F106B739BB0BC07E4F9A288417B3CD6D26000000000198544198A1BE13194C0D18897DD88FE3BC4860B8EEF79C6BC8C8720400000000000000007478310000000054000000000000003C4ADF83264FF73B4EC1DD05B490723A8CFFAE1ABBD4D4190AC4CAC1E6505A5900000000019854419850BF0FD1A45FCEE211B57D0FE2B6421EB81979814F629204000000000000000074783200000000\n",
    "```\n",
    "\n",
    "署名を行い、signedHash,signedPayloadを出力します。  \n",
    "signedPayloadをBobに渡して署名を促します。  \n",
    "\n",
    "## 12.2 Bobによる連署\n",
    "\n",
    "\n",
    "Aliceから受け取ったsignedPayloadでトランザクションを復元します。\n"
   ]
  },
  {
   "cell_type": "code",
   "execution_count": null,
   "metadata": {
    "dotnet_interactive": {
     "language": "javascript"
    },
    "polyglot_notebook": {
     "kernelName": "javascript"
    },
    "vscode": {
     "languageId": "polyglot-notebook"
    }
   },
   "outputs": [],
   "source": [
    "tx = sym.TransactionMapping.createFromPayload(signedPayload);\n",
    "console.log(tx);\n"
   ]
  },
  {
   "attachments": {},
   "cell_type": "markdown",
   "metadata": {
    "dotnet_interactive": {
     "language": "javascript"
    },
    "polyglot_notebook": {
     "kernelName": "javascript"
    }
   },
   "source": [
    "###### 出力例\n",
    "```js\n",
    "> AggregateTransaction\n",
    "    cosignatures: []\n",
    "    deadline: Deadline {adjustedValue: 12197090355}\n",
    "  > innerTransactions: Array(2)\n",
    "      0: TransferTransaction {type: 16724, networkType: 152, version: 1, deadline: Deadline, maxFee: UInt64, …}\n",
    "      1: TransferTransaction {type: 16724, networkType: 152, version: 1, deadline: Deadline, maxFee: UInt64, …}\n",
    "    maxFee: UInt64 {lower: 44800, higher: 0}\n",
    "    networkType: 152\n",
    "    payloadSize: undefined\n",
    "    signature: \"4999A8437DA1C339280ED19BE0814965B73D60A1A6AF2F3856F69FBFF9C7123427757247A231EB89BB8844F37AC6F7559F859E2FDE39B8FA58A57F36DDB3B505\"\n",
    "    signer: PublicAccount\n",
    "      address: Address {address: 'TBXUTAX6O6EUVPB6X7OBNX6UUXBMPPAFX7KE5TQ', networkType: 152}\n",
    "      publicKey: \"D4933FC1E4C56F9DF9314E9E0533173E1AB727BDB2A04B59F048124E93BEFBD2\"\n",
    "    transactionInfo: undefined\n",
    "    type: 16705\n",
    "    version: 1\n",
    "```\n",
    "\n",
    "念のため、Aliceがすでに署名したトランザクション（ペイロード）かどうかを検証します。"
   ]
  },
  {
   "cell_type": "code",
   "execution_count": null,
   "metadata": {
    "dotnet_interactive": {
     "language": "javascript"
    },
    "polyglot_notebook": {
     "kernelName": "javascript"
    },
    "vscode": {
     "languageId": "polyglot-notebook"
    }
   },
   "outputs": [],
   "source": [
    "Buffer = require(\"/node_modules/buffer\").Buffer;\n",
    "res = tx.signer.verifySignature(\n",
    "    tx.getSigningBytes([...Buffer.from(signedPayload,'hex')],[...Buffer.from(generationHash,'hex')]),\n",
    "    tx.signature\n",
    ");\n",
    "console.log(res);"
   ]
  },
  {
   "attachments": {},
   "cell_type": "markdown",
   "metadata": {
    "dotnet_interactive": {
     "language": "javascript"
    },
    "polyglot_notebook": {
     "kernelName": "javascript"
    }
   },
   "source": [
    "###### 出力例\n",
    "```js\n",
    "> true\n",
    "```\n",
    "\n",
    "ペイロードがsigner、つまりAliceによって署名されたものであることが確認できました。\n",
    "次にBobが連署します。\n"
   ]
  },
  {
   "cell_type": "code",
   "execution_count": null,
   "metadata": {
    "dotnet_interactive": {
     "language": "javascript"
    },
    "polyglot_notebook": {
     "kernelName": "javascript"
    },
    "vscode": {
     "languageId": "polyglot-notebook"
    }
   },
   "outputs": [],
   "source": [
    "bobSignedTx = sym.CosignatureTransaction.signTransactionPayload(bob, signedPayload, generationHash);\n",
    "bobSignedTxSignature = bobSignedTx.signature;\n",
    "bobSignedTxSignerPublicKey = bobSignedTx.signerPublicKey;\n"
   ]
  },
  {
   "attachments": {},
   "cell_type": "markdown",
   "metadata": {
    "dotnet_interactive": {
     "language": "javascript"
    },
    "polyglot_notebook": {
     "kernelName": "javascript"
    }
   },
   "source": [
    "CosignatureTransactionで署名を行い、bobSignedTxSignature,bobSignedTxSignerPublicKeyを出力しAliceに返却します。  \n",
    "Bobが全ての署名を揃えられる場合は、Aliceに返却しなくてもBobがアナウンスすることも可能です。\n",
    "\n",
    "## 12.3 Aliceによるアナウンス\n",
    "\n",
    "AliceはBobからbobSignedTxSignature,bobSignedTxSignerPublicKeyを受け取ります。  \n",
    "また事前にAlice自身で作成したsignedPayloadを用意します。  "
   ]
  },
  {
   "cell_type": "code",
   "execution_count": null,
   "metadata": {
    "dotnet_interactive": {
     "language": "javascript"
    },
    "polyglot_notebook": {
     "kernelName": "javascript"
    },
    "vscode": {
     "languageId": "polyglot-notebook"
    }
   },
   "outputs": [],
   "source": [
    "signedHash = sym.Transaction.createTransactionHash(signedPayload,Buffer.from(generationHash, 'hex'));\n",
    "cosignSignedTxs = [\n",
    "    new sym.CosignatureSignedTransaction(signedHash,bobSignedTxSignature,bobSignedTxSignerPublicKey)\n",
    "];\n",
    "recreatedTx = sym.TransactionMapping.createFromPayload(signedPayload);\n",
    "cosignSignedTxs.forEach((cosignedTx) => {\n",
    "    signedPayload += cosignedTx.version.toHex() + cosignedTx.signerPublicKey + cosignedTx.signature;\n",
    "});\n",
    "size = `00000000${(signedPayload.length / 2).toString(16)}`;\n",
    "formatedSize = size.substr(size.length - 8, size.length);\n",
    "littleEndianSize = formatedSize.substr(6, 2) + formatedSize.substr(4, 2) + formatedSize.substr(2, 2) + formatedSize.substr(0, 2);\n",
    "signedPayload = littleEndianSize + signedPayload.substr(8, signedPayload.length - 8);\n",
    "signedTx = new sym.SignedTransaction(signedPayload, signedHash, alice.publicKey, recreatedTx.type, recreatedTx.networkType);\n",
    "await txRepo.announce(signedTx).toPromise();"
   ]
  },
  {
   "attachments": {},
   "cell_type": "markdown",
   "metadata": {
    "dotnet_interactive": {
     "language": "javascript"
    },
    "polyglot_notebook": {
     "kernelName": "javascript"
    }
   },
   "source": [
    "### <span style=\"color:#ff7f50\">補足</span>  \n",
    "トランザクションをアナウンスしたらノードにトランザクションの状態を確かめる"
   ]
  },
  {
   "cell_type": "code",
   "execution_count": null,
   "metadata": {
    "dotnet_interactive": {
     "language": "javascript"
    },
    "polyglot_notebook": {
     "kernelName": "javascript"
    },
    "vscode": {
     "languageId": "polyglot-notebook"
    }
   },
   "outputs": [],
   "source": [
    "transactionStatusUrl = NODE + \"/transactionStatus/\" + signedTx.hash\n",
    "console.log(transactionStatusUrl);"
   ]
  },
  {
   "attachments": {},
   "cell_type": "markdown",
   "metadata": {
    "dotnet_interactive": {
     "language": "javascript"
    },
    "polyglot_notebook": {
     "kernelName": "javascript"
    }
   },
   "source": [
    "\n",
    "後半部分の連署を追加する部分がPayload(サイズ値)を直接操作しているので少し難しいかもしれません。\n",
    "Aliceの秘密鍵で再度署名できる場合はcosignSignedTxsを生成した後、以下のように連署済みトランザクションを生成することも可能です。\n",
    "\n",
    "```js\n",
    "resignedTx = recreatedTx.signTransactionGivenSignatures(alice, cosignSignedTxs, generationHash);\n",
    "await txRepo.announce(resignedTx).toPromise();\n",
    "```\n",
    "\n",
    "## 12.4 現場で使えるヒント\n",
    "\n",
    "### マーケットプレイスレス\n",
    "ボンデッドトランザクションと異なりハッシュロックのための手数料(10XYM)を気にする必要がありません。    \n",
    "ペイロードを共有できる場が存在する場合、売り手は考えられるすべての買い手候補に対してペイロードを作成して交渉開始を待つことができます。\n",
    "（複数のトランザクションが個別に実行されないように、1つしか存在しない領収書NFTをアグリゲートトランザクションに混ぜ込むなどして排他制御をしてください）。\n",
    "この交渉に専用のマーケットプレイスを構築する必要はありません。\n",
    "SNSのタイムラインをマーケットプレイスにしたり、必要に応じて任意の時間や空間でワンタイムマーケットプレイスを展開することができます。  \n",
    "\n",
    "ただ、オフラインで署名を交換するため、なりすましのハッシュ署名要求には気を付けましょう。  \n",
    "（必ず検証可能なペイロードからハッシュを生成して署名するようにしてください）  "
   ]
  },
  {
   "cell_type": "markdown",
   "metadata": {
    "dotnet_interactive": {
     "language": "javascript"
    },
    "polyglot_notebook": {
     "kernelName": "javascript"
    }
   },
   "source": []
  }
 ],
 "metadata": {
  "kernelspec": {
   "display_name": ".NET (C#)",
   "language": "C#",
   "name": ".net-csharp"
  },
  "polyglot_notebook": {
   "kernelInfo": {
    "defaultKernelName": "javascript",
    "items": [
     {
      "aliases": [
       "js"
      ],
      "languageName": null,
      "name": "javascript"
     },
     {
      "aliases": [
       "frontend"
      ],
      "languageName": null,
      "name": "vscode"
     },
     {
      "aliases": [],
      "languageName": null,
      "name": ".NET"
     },
     {
      "aliases": [
       "c#",
       "C#"
      ],
      "languageName": null,
      "name": "csharp"
     },
     {
      "aliases": [
       "f#",
       "F#"
      ],
      "languageName": null,
      "name": "fsharp"
     },
     {
      "aliases": [],
      "languageName": null,
      "name": "html"
     },
     {
      "aliases": [],
      "languageName": null,
      "name": "kql"
     },
     {
      "aliases": [],
      "languageName": null,
      "name": "mermaid"
     },
     {
      "aliases": [
       "powershell"
      ],
      "languageName": null,
      "name": "pwsh"
     },
     {
      "aliases": [],
      "languageName": null,
      "name": "sql"
     },
     {
      "aliases": [],
      "languageName": null,
      "name": "value"
     },
     {
      "aliases": [],
      "languageName": null,
      "name": "webview"
     }
    ]
   }
  }
 },
 "nbformat": 4,
 "nbformat_minor": 2
}
